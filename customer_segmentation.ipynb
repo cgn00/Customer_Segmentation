{
 "cells": [
  {
   "cell_type": "markdown",
   "metadata": {},
   "source": [
    "## Importing Necessary packages"
   ]
  },
  {
   "cell_type": "code",
   "execution_count": 1,
   "metadata": {},
   "outputs": [],
   "source": [
    "# Import necessary libraries\n",
    "import os\n",
    "import pandas as pd\n",
    "import numpy as np\n",
    "\n",
    "import seaborn as sns # For visualizing data\n",
    "import matplotlib.pyplot as plt # For creating plots\n",
    "import plotly.express as px # For creating interactive plots\n",
    "import plotly.graph_objects as go # For creating interactive plots\n",
    "\n",
    "import datetime as dt # For working with dates and times\n",
    "\n",
    "from scipy.stats import iqr # For calculating interquartile range\n",
    "from sklearn.preprocessing import StandardScaler # For scaling data\n",
    "from sklearn.cluster import KMeans, OPTICS, DBSCAN # For clustering data\n",
    "from sklearn.neighbors import NearestNeighbors # For finding nearest neighbors\n",
    "from plotly.offline import iplot # For creating offline plotly plots\n",
    "from plotly.subplots import make_subplots # For creating subplots in plotly\n"
   ]
  },
  {
   "cell_type": "markdown",
   "metadata": {},
   "source": [
    "## Loading the data"
   ]
  },
  {
   "cell_type": "code",
   "execution_count": 2,
   "metadata": {},
   "outputs": [
    {
     "data": {
      "text/html": [
       "<div>\n",
       "<style scoped>\n",
       "    .dataframe tbody tr th:only-of-type {\n",
       "        vertical-align: middle;\n",
       "    }\n",
       "\n",
       "    .dataframe tbody tr th {\n",
       "        vertical-align: top;\n",
       "    }\n",
       "\n",
       "    .dataframe thead th {\n",
       "        text-align: right;\n",
       "    }\n",
       "</style>\n",
       "<table border=\"1\" class=\"dataframe\">\n",
       "  <thead>\n",
       "    <tr style=\"text-align: right;\">\n",
       "      <th></th>\n",
       "      <th>ORDERNUMBER</th>\n",
       "      <th>QUANTITYORDERED</th>\n",
       "      <th>PRICEEACH</th>\n",
       "      <th>ORDERLINENUMBER</th>\n",
       "      <th>SALES</th>\n",
       "      <th>ORDERDATE</th>\n",
       "      <th>STATUS</th>\n",
       "      <th>QTR_ID</th>\n",
       "      <th>MONTH_ID</th>\n",
       "      <th>YEAR_ID</th>\n",
       "      <th>...</th>\n",
       "      <th>ADDRESSLINE1</th>\n",
       "      <th>ADDRESSLINE2</th>\n",
       "      <th>CITY</th>\n",
       "      <th>STATE</th>\n",
       "      <th>POSTALCODE</th>\n",
       "      <th>COUNTRY</th>\n",
       "      <th>TERRITORY</th>\n",
       "      <th>CONTACTLASTNAME</th>\n",
       "      <th>CONTACTFIRSTNAME</th>\n",
       "      <th>DEALSIZE</th>\n",
       "    </tr>\n",
       "  </thead>\n",
       "  <tbody>\n",
       "    <tr>\n",
       "      <th>0</th>\n",
       "      <td>10107</td>\n",
       "      <td>30</td>\n",
       "      <td>95.70</td>\n",
       "      <td>2</td>\n",
       "      <td>2871.00</td>\n",
       "      <td>2003-02-24</td>\n",
       "      <td>Shipped</td>\n",
       "      <td>1</td>\n",
       "      <td>2</td>\n",
       "      <td>2003</td>\n",
       "      <td>...</td>\n",
       "      <td>897 Long Airport Avenue</td>\n",
       "      <td>NaN</td>\n",
       "      <td>NYC</td>\n",
       "      <td>NY</td>\n",
       "      <td>10022</td>\n",
       "      <td>USA</td>\n",
       "      <td>NaN</td>\n",
       "      <td>Yu</td>\n",
       "      <td>Kwai</td>\n",
       "      <td>Small</td>\n",
       "    </tr>\n",
       "    <tr>\n",
       "      <th>1</th>\n",
       "      <td>10121</td>\n",
       "      <td>34</td>\n",
       "      <td>81.35</td>\n",
       "      <td>5</td>\n",
       "      <td>2765.90</td>\n",
       "      <td>2003-05-07</td>\n",
       "      <td>Shipped</td>\n",
       "      <td>2</td>\n",
       "      <td>5</td>\n",
       "      <td>2003</td>\n",
       "      <td>...</td>\n",
       "      <td>59 rue de l'Abbaye</td>\n",
       "      <td>NaN</td>\n",
       "      <td>Reims</td>\n",
       "      <td>NaN</td>\n",
       "      <td>51100</td>\n",
       "      <td>France</td>\n",
       "      <td>EMEA</td>\n",
       "      <td>Henriot</td>\n",
       "      <td>Paul</td>\n",
       "      <td>Small</td>\n",
       "    </tr>\n",
       "    <tr>\n",
       "      <th>2</th>\n",
       "      <td>10134</td>\n",
       "      <td>41</td>\n",
       "      <td>94.74</td>\n",
       "      <td>2</td>\n",
       "      <td>3884.34</td>\n",
       "      <td>2003-07-01</td>\n",
       "      <td>Shipped</td>\n",
       "      <td>3</td>\n",
       "      <td>7</td>\n",
       "      <td>2003</td>\n",
       "      <td>...</td>\n",
       "      <td>27 rue du Colonel Pierre Avia</td>\n",
       "      <td>NaN</td>\n",
       "      <td>Paris</td>\n",
       "      <td>NaN</td>\n",
       "      <td>75508</td>\n",
       "      <td>France</td>\n",
       "      <td>EMEA</td>\n",
       "      <td>Da Cunha</td>\n",
       "      <td>Daniel</td>\n",
       "      <td>Medium</td>\n",
       "    </tr>\n",
       "    <tr>\n",
       "      <th>3</th>\n",
       "      <td>10145</td>\n",
       "      <td>45</td>\n",
       "      <td>83.26</td>\n",
       "      <td>6</td>\n",
       "      <td>3746.70</td>\n",
       "      <td>2003-08-25</td>\n",
       "      <td>Shipped</td>\n",
       "      <td>3</td>\n",
       "      <td>8</td>\n",
       "      <td>2003</td>\n",
       "      <td>...</td>\n",
       "      <td>78934 Hillside Dr.</td>\n",
       "      <td>NaN</td>\n",
       "      <td>Pasadena</td>\n",
       "      <td>CA</td>\n",
       "      <td>90003</td>\n",
       "      <td>USA</td>\n",
       "      <td>NaN</td>\n",
       "      <td>Young</td>\n",
       "      <td>Julie</td>\n",
       "      <td>Medium</td>\n",
       "    </tr>\n",
       "    <tr>\n",
       "      <th>4</th>\n",
       "      <td>10159</td>\n",
       "      <td>49</td>\n",
       "      <td>100.00</td>\n",
       "      <td>14</td>\n",
       "      <td>5205.27</td>\n",
       "      <td>2003-10-10</td>\n",
       "      <td>Shipped</td>\n",
       "      <td>4</td>\n",
       "      <td>10</td>\n",
       "      <td>2003</td>\n",
       "      <td>...</td>\n",
       "      <td>7734 Strong St.</td>\n",
       "      <td>NaN</td>\n",
       "      <td>San Francisco</td>\n",
       "      <td>CA</td>\n",
       "      <td>NaN</td>\n",
       "      <td>USA</td>\n",
       "      <td>NaN</td>\n",
       "      <td>Brown</td>\n",
       "      <td>Julie</td>\n",
       "      <td>Medium</td>\n",
       "    </tr>\n",
       "  </tbody>\n",
       "</table>\n",
       "<p>5 rows × 25 columns</p>\n",
       "</div>"
      ],
      "text/plain": [
       "   ORDERNUMBER  QUANTITYORDERED  PRICEEACH  ORDERLINENUMBER    SALES   \n",
       "0        10107               30      95.70                2  2871.00  \\\n",
       "1        10121               34      81.35                5  2765.90   \n",
       "2        10134               41      94.74                2  3884.34   \n",
       "3        10145               45      83.26                6  3746.70   \n",
       "4        10159               49     100.00               14  5205.27   \n",
       "\n",
       "   ORDERDATE   STATUS  QTR_ID  MONTH_ID  YEAR_ID  ...   \n",
       "0 2003-02-24  Shipped       1         2     2003  ...  \\\n",
       "1 2003-05-07  Shipped       2         5     2003  ...   \n",
       "2 2003-07-01  Shipped       3         7     2003  ...   \n",
       "3 2003-08-25  Shipped       3         8     2003  ...   \n",
       "4 2003-10-10  Shipped       4        10     2003  ...   \n",
       "\n",
       "                    ADDRESSLINE1  ADDRESSLINE2           CITY STATE   \n",
       "0        897 Long Airport Avenue           NaN            NYC    NY  \\\n",
       "1             59 rue de l'Abbaye           NaN          Reims   NaN   \n",
       "2  27 rue du Colonel Pierre Avia           NaN          Paris   NaN   \n",
       "3             78934 Hillside Dr.           NaN       Pasadena    CA   \n",
       "4                7734 Strong St.           NaN  San Francisco    CA   \n",
       "\n",
       "  POSTALCODE COUNTRY TERRITORY CONTACTLASTNAME CONTACTFIRSTNAME DEALSIZE  \n",
       "0      10022     USA       NaN              Yu             Kwai    Small  \n",
       "1      51100  France      EMEA         Henriot             Paul    Small  \n",
       "2      75508  France      EMEA        Da Cunha           Daniel   Medium  \n",
       "3      90003     USA       NaN           Young            Julie   Medium  \n",
       "4        NaN     USA       NaN           Brown            Julie   Medium  \n",
       "\n",
       "[5 rows x 25 columns]"
      ]
     },
     "execution_count": 2,
     "metadata": {},
     "output_type": "execute_result"
    }
   ],
   "source": [
    "data_path = os.path.join(os.getcwd(), 'data\\sales_data_sample.csv')\n",
    "sales_data = pd.read_csv(data_path, encoding='iso-8859-1')\n",
    "sales_data['ORDERDATE'] = pd.to_datetime(sales_data['ORDERDATE'])\n",
    "sales_data.head()"
   ]
  },
  {
   "cell_type": "code",
   "execution_count": 3,
   "metadata": {},
   "outputs": [
    {
     "name": "stdout",
     "output_type": "stream",
     "text": [
      "<class 'pandas.core.frame.DataFrame'>\n",
      "RangeIndex: 2823 entries, 0 to 2822\n",
      "Data columns (total 25 columns):\n",
      " #   Column            Non-Null Count  Dtype         \n",
      "---  ------            --------------  -----         \n",
      " 0   ORDERNUMBER       2823 non-null   int64         \n",
      " 1   QUANTITYORDERED   2823 non-null   int64         \n",
      " 2   PRICEEACH         2823 non-null   float64       \n",
      " 3   ORDERLINENUMBER   2823 non-null   int64         \n",
      " 4   SALES             2823 non-null   float64       \n",
      " 5   ORDERDATE         2823 non-null   datetime64[ns]\n",
      " 6   STATUS            2823 non-null   object        \n",
      " 7   QTR_ID            2823 non-null   int64         \n",
      " 8   MONTH_ID          2823 non-null   int64         \n",
      " 9   YEAR_ID           2823 non-null   int64         \n",
      " 10  PRODUCTLINE       2823 non-null   object        \n",
      " 11  MSRP              2823 non-null   int64         \n",
      " 12  PRODUCTCODE       2823 non-null   object        \n",
      " 13  CUSTOMERNAME      2823 non-null   object        \n",
      " 14  PHONE             2823 non-null   object        \n",
      " 15  ADDRESSLINE1      2823 non-null   object        \n",
      " 16  ADDRESSLINE2      302 non-null    object        \n",
      " 17  CITY              2823 non-null   object        \n",
      " 18  STATE             1337 non-null   object        \n",
      " 19  POSTALCODE        2747 non-null   object        \n",
      " 20  COUNTRY           2823 non-null   object        \n",
      " 21  TERRITORY         1749 non-null   object        \n",
      " 22  CONTACTLASTNAME   2823 non-null   object        \n",
      " 23  CONTACTFIRSTNAME  2823 non-null   object        \n",
      " 24  DEALSIZE          2823 non-null   object        \n",
      "dtypes: datetime64[ns](1), float64(2), int64(7), object(15)\n",
      "memory usage: 551.5+ KB\n"
     ]
    }
   ],
   "source": [
    "sales_data.info()"
   ]
  },
  {
   "cell_type": "markdown",
   "metadata": {},
   "source": [
    "As can be seen in the above output the columns: ADDRESSLINE2, STATE, POSTALCODE and TERRITORY have null data, but these columns are not defining for the segmentation of the clusters"
   ]
  },
  {
   "cell_type": "markdown",
   "metadata": {},
   "source": [
    "# Cleanning\n"
   ]
  },
  {
   "cell_type": "markdown",
   "metadata": {},
   "source": [
    "Let's verify if there are duplicated data to remove from the dataset as can be seen in the following output there isn't any data duplicated."
   ]
  },
  {
   "cell_type": "code",
   "execution_count": 4,
   "metadata": {},
   "outputs": [
    {
     "data": {
      "text/plain": [
       "0"
      ]
     },
     "execution_count": 4,
     "metadata": {},
     "output_type": "execute_result"
    }
   ],
   "source": [
    "sales_data.duplicated().sum()"
   ]
  },
  {
   "cell_type": "code",
   "execution_count": 5,
   "metadata": {},
   "outputs": [
    {
     "name": "stdout",
     "output_type": "stream",
     "text": [
      "STATUS = ['Shipped' 'Disputed' 'In Process' 'Cancelled' 'On Hold' 'Resolved']\n"
     ]
    },
    {
     "data": {
      "text/html": [
       "<div>\n",
       "<style scoped>\n",
       "    .dataframe tbody tr th:only-of-type {\n",
       "        vertical-align: middle;\n",
       "    }\n",
       "\n",
       "    .dataframe tbody tr th {\n",
       "        vertical-align: top;\n",
       "    }\n",
       "\n",
       "    .dataframe thead th {\n",
       "        text-align: right;\n",
       "    }\n",
       "</style>\n",
       "<table border=\"1\" class=\"dataframe\">\n",
       "  <thead>\n",
       "    <tr style=\"text-align: right;\">\n",
       "      <th></th>\n",
       "      <th>ORDERNUMBER</th>\n",
       "      <th>QUANTITYORDERED</th>\n",
       "      <th>PRICEEACH</th>\n",
       "      <th>ORDERLINENUMBER</th>\n",
       "      <th>SALES</th>\n",
       "      <th>ORDERDATE</th>\n",
       "      <th>STATUS</th>\n",
       "      <th>QTR_ID</th>\n",
       "      <th>MONTH_ID</th>\n",
       "      <th>YEAR_ID</th>\n",
       "      <th>...</th>\n",
       "      <th>ADDRESSLINE1</th>\n",
       "      <th>ADDRESSLINE2</th>\n",
       "      <th>CITY</th>\n",
       "      <th>STATE</th>\n",
       "      <th>POSTALCODE</th>\n",
       "      <th>COUNTRY</th>\n",
       "      <th>TERRITORY</th>\n",
       "      <th>CONTACTLASTNAME</th>\n",
       "      <th>CONTACTFIRSTNAME</th>\n",
       "      <th>DEALSIZE</th>\n",
       "    </tr>\n",
       "  </thead>\n",
       "  <tbody>\n",
       "    <tr>\n",
       "      <th>0</th>\n",
       "      <td>10107</td>\n",
       "      <td>30</td>\n",
       "      <td>95.70</td>\n",
       "      <td>2</td>\n",
       "      <td>2871.00</td>\n",
       "      <td>2003-02-24</td>\n",
       "      <td>Shipped</td>\n",
       "      <td>1</td>\n",
       "      <td>2</td>\n",
       "      <td>2003</td>\n",
       "      <td>...</td>\n",
       "      <td>897 Long Airport Avenue</td>\n",
       "      <td>NaN</td>\n",
       "      <td>NYC</td>\n",
       "      <td>NY</td>\n",
       "      <td>10022</td>\n",
       "      <td>USA</td>\n",
       "      <td>NaN</td>\n",
       "      <td>Yu</td>\n",
       "      <td>Kwai</td>\n",
       "      <td>Small</td>\n",
       "    </tr>\n",
       "    <tr>\n",
       "      <th>1</th>\n",
       "      <td>10121</td>\n",
       "      <td>34</td>\n",
       "      <td>81.35</td>\n",
       "      <td>5</td>\n",
       "      <td>2765.90</td>\n",
       "      <td>2003-05-07</td>\n",
       "      <td>Shipped</td>\n",
       "      <td>2</td>\n",
       "      <td>5</td>\n",
       "      <td>2003</td>\n",
       "      <td>...</td>\n",
       "      <td>59 rue de l'Abbaye</td>\n",
       "      <td>NaN</td>\n",
       "      <td>Reims</td>\n",
       "      <td>NaN</td>\n",
       "      <td>51100</td>\n",
       "      <td>France</td>\n",
       "      <td>EMEA</td>\n",
       "      <td>Henriot</td>\n",
       "      <td>Paul</td>\n",
       "      <td>Small</td>\n",
       "    </tr>\n",
       "    <tr>\n",
       "      <th>2</th>\n",
       "      <td>10134</td>\n",
       "      <td>41</td>\n",
       "      <td>94.74</td>\n",
       "      <td>2</td>\n",
       "      <td>3884.34</td>\n",
       "      <td>2003-07-01</td>\n",
       "      <td>Shipped</td>\n",
       "      <td>3</td>\n",
       "      <td>7</td>\n",
       "      <td>2003</td>\n",
       "      <td>...</td>\n",
       "      <td>27 rue du Colonel Pierre Avia</td>\n",
       "      <td>NaN</td>\n",
       "      <td>Paris</td>\n",
       "      <td>NaN</td>\n",
       "      <td>75508</td>\n",
       "      <td>France</td>\n",
       "      <td>EMEA</td>\n",
       "      <td>Da Cunha</td>\n",
       "      <td>Daniel</td>\n",
       "      <td>Medium</td>\n",
       "    </tr>\n",
       "    <tr>\n",
       "      <th>3</th>\n",
       "      <td>10145</td>\n",
       "      <td>45</td>\n",
       "      <td>83.26</td>\n",
       "      <td>6</td>\n",
       "      <td>3746.70</td>\n",
       "      <td>2003-08-25</td>\n",
       "      <td>Shipped</td>\n",
       "      <td>3</td>\n",
       "      <td>8</td>\n",
       "      <td>2003</td>\n",
       "      <td>...</td>\n",
       "      <td>78934 Hillside Dr.</td>\n",
       "      <td>NaN</td>\n",
       "      <td>Pasadena</td>\n",
       "      <td>CA</td>\n",
       "      <td>90003</td>\n",
       "      <td>USA</td>\n",
       "      <td>NaN</td>\n",
       "      <td>Young</td>\n",
       "      <td>Julie</td>\n",
       "      <td>Medium</td>\n",
       "    </tr>\n",
       "    <tr>\n",
       "      <th>4</th>\n",
       "      <td>10159</td>\n",
       "      <td>49</td>\n",
       "      <td>100.00</td>\n",
       "      <td>14</td>\n",
       "      <td>5205.27</td>\n",
       "      <td>2003-10-10</td>\n",
       "      <td>Shipped</td>\n",
       "      <td>4</td>\n",
       "      <td>10</td>\n",
       "      <td>2003</td>\n",
       "      <td>...</td>\n",
       "      <td>7734 Strong St.</td>\n",
       "      <td>NaN</td>\n",
       "      <td>San Francisco</td>\n",
       "      <td>CA</td>\n",
       "      <td>NaN</td>\n",
       "      <td>USA</td>\n",
       "      <td>NaN</td>\n",
       "      <td>Brown</td>\n",
       "      <td>Julie</td>\n",
       "      <td>Medium</td>\n",
       "    </tr>\n",
       "    <tr>\n",
       "      <th>...</th>\n",
       "      <td>...</td>\n",
       "      <td>...</td>\n",
       "      <td>...</td>\n",
       "      <td>...</td>\n",
       "      <td>...</td>\n",
       "      <td>...</td>\n",
       "      <td>...</td>\n",
       "      <td>...</td>\n",
       "      <td>...</td>\n",
       "      <td>...</td>\n",
       "      <td>...</td>\n",
       "      <td>...</td>\n",
       "      <td>...</td>\n",
       "      <td>...</td>\n",
       "      <td>...</td>\n",
       "      <td>...</td>\n",
       "      <td>...</td>\n",
       "      <td>...</td>\n",
       "      <td>...</td>\n",
       "      <td>...</td>\n",
       "      <td>...</td>\n",
       "    </tr>\n",
       "    <tr>\n",
       "      <th>2815</th>\n",
       "      <td>10315</td>\n",
       "      <td>40</td>\n",
       "      <td>55.69</td>\n",
       "      <td>5</td>\n",
       "      <td>2227.60</td>\n",
       "      <td>2004-10-29</td>\n",
       "      <td>Shipped</td>\n",
       "      <td>4</td>\n",
       "      <td>10</td>\n",
       "      <td>2004</td>\n",
       "      <td>...</td>\n",
       "      <td>67, rue des Cinquante Otages</td>\n",
       "      <td>NaN</td>\n",
       "      <td>Nantes</td>\n",
       "      <td>NaN</td>\n",
       "      <td>44000</td>\n",
       "      <td>France</td>\n",
       "      <td>EMEA</td>\n",
       "      <td>Labrune</td>\n",
       "      <td>Janine</td>\n",
       "      <td>Small</td>\n",
       "    </tr>\n",
       "    <tr>\n",
       "      <th>2817</th>\n",
       "      <td>10337</td>\n",
       "      <td>42</td>\n",
       "      <td>97.16</td>\n",
       "      <td>5</td>\n",
       "      <td>4080.72</td>\n",
       "      <td>2004-11-21</td>\n",
       "      <td>Shipped</td>\n",
       "      <td>4</td>\n",
       "      <td>11</td>\n",
       "      <td>2004</td>\n",
       "      <td>...</td>\n",
       "      <td>5905 Pompton St.</td>\n",
       "      <td>Suite 750</td>\n",
       "      <td>NYC</td>\n",
       "      <td>NY</td>\n",
       "      <td>10022</td>\n",
       "      <td>USA</td>\n",
       "      <td>NaN</td>\n",
       "      <td>Hernandez</td>\n",
       "      <td>Maria</td>\n",
       "      <td>Medium</td>\n",
       "    </tr>\n",
       "    <tr>\n",
       "      <th>2818</th>\n",
       "      <td>10350</td>\n",
       "      <td>20</td>\n",
       "      <td>100.00</td>\n",
       "      <td>15</td>\n",
       "      <td>2244.40</td>\n",
       "      <td>2004-12-02</td>\n",
       "      <td>Shipped</td>\n",
       "      <td>4</td>\n",
       "      <td>12</td>\n",
       "      <td>2004</td>\n",
       "      <td>...</td>\n",
       "      <td>C/ Moralzarzal, 86</td>\n",
       "      <td>NaN</td>\n",
       "      <td>Madrid</td>\n",
       "      <td>NaN</td>\n",
       "      <td>28034</td>\n",
       "      <td>Spain</td>\n",
       "      <td>EMEA</td>\n",
       "      <td>Freyre</td>\n",
       "      <td>Diego</td>\n",
       "      <td>Small</td>\n",
       "    </tr>\n",
       "    <tr>\n",
       "      <th>2819</th>\n",
       "      <td>10373</td>\n",
       "      <td>29</td>\n",
       "      <td>100.00</td>\n",
       "      <td>1</td>\n",
       "      <td>3978.51</td>\n",
       "      <td>2005-01-31</td>\n",
       "      <td>Shipped</td>\n",
       "      <td>1</td>\n",
       "      <td>1</td>\n",
       "      <td>2005</td>\n",
       "      <td>...</td>\n",
       "      <td>Torikatu 38</td>\n",
       "      <td>NaN</td>\n",
       "      <td>Oulu</td>\n",
       "      <td>NaN</td>\n",
       "      <td>90110</td>\n",
       "      <td>Finland</td>\n",
       "      <td>EMEA</td>\n",
       "      <td>Koskitalo</td>\n",
       "      <td>Pirkko</td>\n",
       "      <td>Medium</td>\n",
       "    </tr>\n",
       "    <tr>\n",
       "      <th>2821</th>\n",
       "      <td>10397</td>\n",
       "      <td>34</td>\n",
       "      <td>62.24</td>\n",
       "      <td>1</td>\n",
       "      <td>2116.16</td>\n",
       "      <td>2005-03-28</td>\n",
       "      <td>Shipped</td>\n",
       "      <td>1</td>\n",
       "      <td>3</td>\n",
       "      <td>2005</td>\n",
       "      <td>...</td>\n",
       "      <td>1 rue Alsace-Lorraine</td>\n",
       "      <td>NaN</td>\n",
       "      <td>Toulouse</td>\n",
       "      <td>NaN</td>\n",
       "      <td>31000</td>\n",
       "      <td>France</td>\n",
       "      <td>EMEA</td>\n",
       "      <td>Roulet</td>\n",
       "      <td>Annette</td>\n",
       "      <td>Small</td>\n",
       "    </tr>\n",
       "  </tbody>\n",
       "</table>\n",
       "<p>2617 rows × 25 columns</p>\n",
       "</div>"
      ],
      "text/plain": [
       "      ORDERNUMBER  QUANTITYORDERED  PRICEEACH  ORDERLINENUMBER    SALES   \n",
       "0           10107               30      95.70                2  2871.00  \\\n",
       "1           10121               34      81.35                5  2765.90   \n",
       "2           10134               41      94.74                2  3884.34   \n",
       "3           10145               45      83.26                6  3746.70   \n",
       "4           10159               49     100.00               14  5205.27   \n",
       "...           ...              ...        ...              ...      ...   \n",
       "2815        10315               40      55.69                5  2227.60   \n",
       "2817        10337               42      97.16                5  4080.72   \n",
       "2818        10350               20     100.00               15  2244.40   \n",
       "2819        10373               29     100.00                1  3978.51   \n",
       "2821        10397               34      62.24                1  2116.16   \n",
       "\n",
       "      ORDERDATE   STATUS  QTR_ID  MONTH_ID  YEAR_ID  ...   \n",
       "0    2003-02-24  Shipped       1         2     2003  ...  \\\n",
       "1    2003-05-07  Shipped       2         5     2003  ...   \n",
       "2    2003-07-01  Shipped       3         7     2003  ...   \n",
       "3    2003-08-25  Shipped       3         8     2003  ...   \n",
       "4    2003-10-10  Shipped       4        10     2003  ...   \n",
       "...         ...      ...     ...       ...      ...  ...   \n",
       "2815 2004-10-29  Shipped       4        10     2004  ...   \n",
       "2817 2004-11-21  Shipped       4        11     2004  ...   \n",
       "2818 2004-12-02  Shipped       4        12     2004  ...   \n",
       "2819 2005-01-31  Shipped       1         1     2005  ...   \n",
       "2821 2005-03-28  Shipped       1         3     2005  ...   \n",
       "\n",
       "                       ADDRESSLINE1  ADDRESSLINE2           CITY STATE   \n",
       "0           897 Long Airport Avenue           NaN            NYC    NY  \\\n",
       "1                59 rue de l'Abbaye           NaN          Reims   NaN   \n",
       "2     27 rue du Colonel Pierre Avia           NaN          Paris   NaN   \n",
       "3                78934 Hillside Dr.           NaN       Pasadena    CA   \n",
       "4                   7734 Strong St.           NaN  San Francisco    CA   \n",
       "...                             ...           ...            ...   ...   \n",
       "2815   67, rue des Cinquante Otages           NaN         Nantes   NaN   \n",
       "2817               5905 Pompton St.     Suite 750            NYC    NY   \n",
       "2818             C/ Moralzarzal, 86           NaN         Madrid   NaN   \n",
       "2819                    Torikatu 38           NaN           Oulu   NaN   \n",
       "2821          1 rue Alsace-Lorraine           NaN       Toulouse   NaN   \n",
       "\n",
       "     POSTALCODE  COUNTRY TERRITORY CONTACTLASTNAME CONTACTFIRSTNAME DEALSIZE  \n",
       "0         10022      USA       NaN              Yu             Kwai    Small  \n",
       "1         51100   France      EMEA         Henriot             Paul    Small  \n",
       "2         75508   France      EMEA        Da Cunha           Daniel   Medium  \n",
       "3         90003      USA       NaN           Young            Julie   Medium  \n",
       "4           NaN      USA       NaN           Brown            Julie   Medium  \n",
       "...         ...      ...       ...             ...              ...      ...  \n",
       "2815      44000   France      EMEA         Labrune           Janine    Small  \n",
       "2817      10022      USA       NaN       Hernandez            Maria   Medium  \n",
       "2818      28034    Spain      EMEA          Freyre            Diego    Small  \n",
       "2819      90110  Finland      EMEA       Koskitalo           Pirkko   Medium  \n",
       "2821      31000   France      EMEA          Roulet          Annette    Small  \n",
       "\n",
       "[2617 rows x 25 columns]"
      ]
     },
     "execution_count": 5,
     "metadata": {},
     "output_type": "execute_result"
    }
   ],
   "source": [
    "print(f\"STATUS = {sales_data['STATUS'].unique()}\")\n",
    "sales_data = sales_data[sales_data['STATUS'] == \"Shipped\"]\n",
    "sales_data"
   ]
  },
  {
   "cell_type": "markdown",
   "metadata": {},
   "source": [
    "# Exploratory Data Analysis (EDA)"
   ]
  },
  {
   "cell_type": "markdown",
   "metadata": {},
   "source": [
    "## Univariate analysis"
   ]
  },
  {
   "cell_type": "code",
   "execution_count": 6,
   "metadata": {},
   "outputs": [
    {
     "data": {
      "text/plain": [
       "Text(0.5, 1.0, 'Distribution of the price of each solded product')"
      ]
     },
     "execution_count": 6,
     "metadata": {},
     "output_type": "execute_result"
    },
    {
     "data": {
      "image/png": "[encoded data removed]",
      "text/plain": [
       "<Figure size 640x480 with 1 Axes>"
      ]
     },
     "metadata": {},
     "output_type": "display_data"
    }
   ],
   "source": [
    "sns.histplot(data=sales_data, x=\"PRICEEACH\", bins=list(range(10,110,10)))\n",
    "plt.title(\"Distribution of the price of each solded product\")"
   ]
  },
  {
   "cell_type": "code",
   "execution_count": 7,
   "metadata": {},
   "outputs": [
    {
     "data": {
      "image/png": "[encoded data removed]",
      "text/plain": [
       "<Figure size 640x480 with 1 Axes>"
      ]
     },
     "metadata": {},
     "output_type": "display_data"
    }
   ],
   "source": [
    "sns.histplot(data=sales_data, x=\"DEALSIZE\")\n",
    "plt.title(\"Distribution of the DEALSIZE\")\n",
    "plt.show()"
   ]
  },
  {
   "cell_type": "code",
   "execution_count": 8,
   "metadata": {},
   "outputs": [
    {
     "data": {
      "image/png": "[encoded data removed]",
      "text/plain": [
       "<Figure size 640x480 with 1 Axes>"
      ]
     },
     "metadata": {},
     "output_type": "display_data"
    }
   ],
   "source": [
    "sns.histplot(data=sales_data, x=\"PRODUCTLINE\")\n",
    "plt.title(\"Distribution of purchased products\")\n",
    "plt.xticks(rotation=45, fontsize=10)\n",
    "plt.show()"
   ]
  },
  {
   "cell_type": "code",
   "execution_count": 9,
   "metadata": {},
   "outputs": [
    {
     "data": {
      "application/vnd.plotly.v1+json": {
       "config": {
        "plotlyServerURL": "https://plot.ly"
       },
       "data": [
        {
         "coloraxis": "coloraxis",
         "geo": "geo",
         "hovertemplate": "<b>%{hovertext}</b><br><br>COUNTRY=%{location}<br>ORDERSCOUNTS=%{z}<extra></extra>",
         "hovertext": [
          "Australia",
          "Austria",
          "Belgium",
          "Canada",
          "Denmark",
          "Finland",
          "France",
          "Germany",
          "Ireland",
          "Italy",
          "Japan",
          "Norway",
          "Philippines",
          "Singapore",
          "Spain",
          "Sweden",
          "Switzerland",
          "UK",
          "USA"
         ],
         "locationmode": "country names",
         "locations": [
          "Australia",
          "Austria",
          "Belgium",
          "Canada",
          "Denmark",
          "Finland",
          "France",
          "Germany",
          "Ireland",
          "Italy",
          "Japan",
          "Norway",
          "Philippines",
          "Singapore",
          "Spain",
          "Sweden",
          "Switzerland",
          "UK",
          "USA"
         ],
         "name": "",
         "type": "choropleth",
         "z": [
          167,
          47,
          28,
          70,
          52,
          92,
          301,
          62,
          16,
          113,
          52,
          85,
          26,
          79,
          296,
          35,
          31,
          130,
          935
         ]
        }
       ],
       "layout": {
        "coloraxis": {
         "colorbar": {
          "title": {
           "text": "ORDERSCOUNTS"
          }
         },
         "colorscale": [
          [
           0,
           "#0d0887"
          ],
          [
           0.1111111111111111,
           "#46039f"
          ],
          [
           0.2222222222222222,
           "#7201a8"
          ],
          [
           0.3333333333333333,
           "#9c179e"
          ],
          [
           0.4444444444444444,
           "#bd3786"
          ],
          [
           0.5555555555555556,
           "#d8576b"
          ],
          [
           0.6666666666666666,
           "#ed7953"
          ],
          [
           0.7777777777777778,
           "#fb9f3a"
          ],
          [
           0.8888888888888888,
           "#fdca26"
          ],
          [
           1,
           "#f0f921"
          ]
         ]
        },
        "geo": {
         "center": {},
         "domain": {
          "x": [
           0,
           1
          ],
          "y": [
           0,
           1
          ]
         },
         "projection": {
          "type": "natural earth"
         }
        },
        "legend": {
         "tracegroupgap": 0
        },
        "template": {
         "data": {
          "bar": [
           {
            "error_x": {
             "color": "#2a3f5f"
            },
            "error_y": {
             "color": "#2a3f5f"
            },
            "marker": {
             "line": {
              "color": "#E5ECF6",
              "width": 0.5
             },
             "pattern": {
              "fillmode": "overlay",
              "size": 10,
              "solidity": 0.2
             }
            },
            "type": "bar"
           }
          ],
          "barpolar": [
           {
            "marker": {
             "line": {
              "color": "#E5ECF6",
              "width": 0.5
             },
             "pattern": {
              "fillmode": "overlay",
              "size": 10,
              "solidity": 0.2
             }
            },
            "type": "barpolar"
           }
          ],
          "carpet": [
           {
            "aaxis": {
             "endlinecolor": "#2a3f5f",
             "gridcolor": "white",
             "linecolor": "white",
             "minorgridcolor": "white",
             "startlinecolor": "#2a3f5f"
            },
            "baxis": {
             "endlinecolor": "#2a3f5f",
             "gridcolor": "white",
             "linecolor": "white",
             "minorgridcolor": "white",
             "startlinecolor": "#2a3f5f"
            },
            "type": "carpet"
           }
          ],
          "choropleth": [
           {
            "colorbar": {
             "outlinewidth": 0,
             "ticks": ""
            },
            "type": "choropleth"
           }
          ],
          "contour": [
           {
            "colorbar": {
             "outlinewidth": 0,
             "ticks": ""
            },
            "colorscale": [
             [
              0,
              "#0d0887"
             ],
             [
              0.1111111111111111,
              "#46039f"
             ],
             [
              0.2222222222222222,
              "#7201a8"
             ],
             [
              0.3333333333333333,
              "#9c179e"
             ],
             [
              0.4444444444444444,
              "#bd3786"
             ],
             [
              0.5555555555555556,
              "#d8576b"
             ],
             [
              0.6666666666666666,
              "#ed7953"
             ],
             [
              0.7777777777777778,
              "#fb9f3a"
             ],
             [
              0.8888888888888888,
              "#fdca26"
             ],
             [
              1,
              "#f0f921"
             ]
            ],
            "type": "contour"
           }
          ],
          "contourcarpet": [
           {
            "colorbar": {
             "outlinewidth": 0,
             "ticks": ""
            },
            "type": "contourcarpet"
           }
          ],
          "heatmap": [
           {
            "colorbar": {
             "outlinewidth": 0,
             "ticks": ""
            },
            "colorscale": [
             [
              0,
              "#0d0887"
             ],
             [
              0.1111111111111111,
              "#46039f"
             ],
             [
              0.2222222222222222,
              "#7201a8"
             ],
             [
              0.3333333333333333,
              "#9c179e"
             ],
             [
              0.4444444444444444,
              "#bd3786"
             ],
             [
              0.5555555555555556,
              "#d8576b"
             ],
             [
              0.6666666666666666,
              "#ed7953"
             ],
             [
              0.7777777777777778,
              "#fb9f3a"
             ],
             [
              0.8888888888888888,
              "#fdca26"
             ],
             [
              1,
              "#f0f921"
             ]
            ],
            "type": "heatmap"
           }
          ],
          "heatmapgl": [
           {
            "colorbar": {
             "outlinewidth": 0,
             "ticks": ""
            },
            "colorscale": [
             [
              0,
              "#0d0887"
             ],
             [
              0.1111111111111111,
              "#46039f"
             ],
             [
              0.2222222222222222,
              "#7201a8"
             ],
             [
              0.3333333333333333,
              "#9c179e"
             ],
             [
              0.4444444444444444,
              "#bd3786"
             ],
             [
              0.5555555555555556,
              "#d8576b"
             ],
             [
              0.6666666666666666,
              "#ed7953"
             ],
             [
              0.7777777777777778,
              "#fb9f3a"
             ],
             [
              0.8888888888888888,
              "#fdca26"
             ],
             [
              1,
              "#f0f921"
             ]
            ],
            "type": "heatmapgl"
           }
          ],
          "histogram": [
           {
            "marker": {
             "pattern": {
              "fillmode": "overlay",
              "size": 10,
              "solidity": 0.2
             }
            },
            "type": "histogram"
           }
          ],
          "histogram2d": [
           {
            "colorbar": {
             "outlinewidth": 0,
             "ticks": ""
            },
            "colorscale": [
             [
              0,
              "#0d0887"
             ],
             [
              0.1111111111111111,
              "#46039f"
             ],
             [
              0.2222222222222222,
              "#7201a8"
             ],
             [
              0.3333333333333333,
              "#9c179e"
             ],
             [
              0.4444444444444444,
              "#bd3786"
             ],
             [
              0.5555555555555556,
              "#d8576b"
             ],
             [
              0.6666666666666666,
              "#ed7953"
             ],
             [
              0.7777777777777778,
              "#fb9f3a"
             ],
             [
              0.8888888888888888,
              "#fdca26"
             ],
             [
              1,
              "#f0f921"
             ]
            ],
            "type": "histogram2d"
           }
          ],
          "histogram2dcontour": [
           {
            "colorbar": {
             "outlinewidth": 0,
             "ticks": ""
            },
            "colorscale": [
             [
              0,
              "#0d0887"
             ],
             [
              0.1111111111111111,
              "#46039f"
             ],
             [
              0.2222222222222222,
              "#7201a8"
             ],
             [
              0.3333333333333333,
              "#9c179e"
             ],
             [
              0.4444444444444444,
              "#bd3786"
             ],
             [
              0.5555555555555556,
              "#d8576b"
             ],
             [
              0.6666666666666666,
              "#ed7953"
             ],
             [
              0.7777777777777778,
              "#fb9f3a"
             ],
             [
              0.8888888888888888,
              "#fdca26"
             ],
             [
              1,
              "#f0f921"
             ]
            ],
            "type": "histogram2dcontour"
           }
          ],
          "mesh3d": [
           {
            "colorbar": {
             "outlinewidth": 0,
             "ticks": ""
            },
            "type": "mesh3d"
           }
          ],
          "parcoords": [
           {
            "line": {
             "colorbar": {
              "outlinewidth": 0,
              "ticks": ""
             }
            },
            "type": "parcoords"
           }
          ],
          "pie": [
           {
            "automargin": true,
            "type": "pie"
           }
          ],
          "scatter": [
           {
            "fillpattern": {
             "fillmode": "overlay",
             "size": 10,
             "solidity": 0.2
            },
            "type": "scatter"
           }
          ],
          "scatter3d": [
           {
            "line": {
             "colorbar": {
              "outlinewidth": 0,
              "ticks": ""
             }
            },
            "marker": {
             "colorbar": {
              "outlinewidth": 0,
              "ticks": ""
             }
            },
            "type": "scatter3d"
           }
          ],
          "scattercarpet": [
           {
            "marker": {
             "colorbar": {
              "outlinewidth": 0,
              "ticks": ""
             }
            },
            "type": "scattercarpet"
           }
          ],
          "scattergeo": [
           {
            "marker": {
             "colorbar": {
              "outlinewidth": 0,
              "ticks": ""
             }
            },
            "type": "scattergeo"
           }
          ],
          "scattergl": [
           {
            "marker": {
             "colorbar": {
              "outlinewidth": 0,
              "ticks": ""
             }
            },
            "type": "scattergl"
           }
          ],
          "scattermapbox": [
           {
            "marker": {
             "colorbar": {
              "outlinewidth": 0,
              "ticks": ""
             }
            },
            "type": "scattermapbox"
           }
          ],
          "scatterpolar": [
           {
            "marker": {
             "colorbar": {
              "outlinewidth": 0,
              "ticks": ""
             }
            },
            "type": "scatterpolar"
           }
          ],
          "scatterpolargl": [
           {
            "marker": {
             "colorbar": {
              "outlinewidth": 0,
              "ticks": ""
             }
            },
            "type": "scatterpolargl"
           }
          ],
          "scatterternary": [
           {
            "marker": {
             "colorbar": {
              "outlinewidth": 0,
              "ticks": ""
             }
            },
            "type": "scatterternary"
           }
          ],
          "surface": [
           {
            "colorbar": {
             "outlinewidth": 0,
             "ticks": ""
            },
            "colorscale": [
             [
              0,
              "#0d0887"
             ],
             [
              0.1111111111111111,
              "#46039f"
             ],
             [
              0.2222222222222222,
              "#7201a8"
             ],
             [
              0.3333333333333333,
              "#9c179e"
             ],
             [
              0.4444444444444444,
              "#bd3786"
             ],
             [
              0.5555555555555556,
              "#d8576b"
             ],
             [
              0.6666666666666666,
              "#ed7953"
             ],
             [
              0.7777777777777778,
              "#fb9f3a"
             ],
             [
              0.8888888888888888,
              "#fdca26"
             ],
             [
              1,
              "#f0f921"
             ]
            ],
            "type": "surface"
           }
          ],
          "table": [
           {
            "cells": {
             "fill": {
              "color": "#EBF0F8"
             },
             "line": {
              "color": "white"
             }
            },
            "header": {
             "fill": {
              "color": "#C8D4E3"
             },
             "line": {
              "color": "white"
             }
            },
            "type": "table"
           }
          ]
         },
         "layout": {
          "annotationdefaults": {
           "arrowcolor": "#2a3f5f",
           "arrowhead": 0,
           "arrowwidth": 1
          },
          "autotypenumbers": "strict",
          "coloraxis": {
           "colorbar": {
            "outlinewidth": 0,
            "ticks": ""
           }
          },
          "colorscale": {
           "diverging": [
            [
             0,
             "#8e0152"
            ],
            [
             0.1,
             "#c51b7d"
            ],
            [
             0.2,
             "#de77ae"
            ],
            [
             0.3,
             "#f1b6da"
            ],
            [
             0.4,
             "#fde0ef"
            ],
            [
             0.5,
             "#f7f7f7"
            ],
            [
             0.6,
             "#e6f5d0"
            ],
            [
             0.7,
             "#b8e186"
            ],
            [
             0.8,
             "#7fbc41"
            ],
            [
             0.9,
             "#4d9221"
            ],
            [
             1,
             "#276419"
            ]
           ],
           "sequential": [
            [
             0,
             "#0d0887"
            ],
            [
             0.1111111111111111,
             "#46039f"
            ],
            [
             0.2222222222222222,
             "#7201a8"
            ],
            [
             0.3333333333333333,
             "#9c179e"
            ],
            [
             0.4444444444444444,
             "#bd3786"
            ],
            [
             0.5555555555555556,
             "#d8576b"
            ],
            [
             0.6666666666666666,
             "#ed7953"
            ],
            [
             0.7777777777777778,
             "#fb9f3a"
            ],
            [
             0.8888888888888888,
             "#fdca26"
            ],
            [
             1,
             "#f0f921"
            ]
           ],
           "sequentialminus": [
            [
             0,
             "#0d0887"
            ],
            [
             0.1111111111111111,
             "#46039f"
            ],
            [
             0.2222222222222222,
             "#7201a8"
            ],
            [
             0.3333333333333333,
             "#9c179e"
            ],
            [
             0.4444444444444444,
             "#bd3786"
            ],
            [
             0.5555555555555556,
             "#d8576b"
            ],
            [
             0.6666666666666666,
             "#ed7953"
            ],
            [
             0.7777777777777778,
             "#fb9f3a"
            ],
            [
             0.8888888888888888,
             "#fdca26"
            ],
            [
             1,
             "#f0f921"
            ]
           ]
          },
          "colorway": [
           "#636efa",
           "#EF553B",
           "#00cc96",
           "#ab63fa",
           "#FFA15A",
           "#19d3f3",
           "#FF6692",
           "#B6E880",
           "#FF97FF",
           "#FECB52"
          ],
          "font": {
           "color": "#2a3f5f"
          },
          "geo": {
           "bgcolor": "white",
           "lakecolor": "white",
           "landcolor": "#E5ECF6",
           "showlakes": true,
           "showland": true,
           "subunitcolor": "white"
          },
          "hoverlabel": {
           "align": "left"
          },
          "hovermode": "closest",
          "mapbox": {
           "style": "light"
          },
          "paper_bgcolor": "white",
          "plot_bgcolor": "#E5ECF6",
          "polar": {
           "angularaxis": {
            "gridcolor": "white",
            "linecolor": "white",
            "ticks": ""
           },
           "bgcolor": "#E5ECF6",
           "radialaxis": {
            "gridcolor": "white",
            "linecolor": "white",
            "ticks": ""
           }
          },
          "scene": {
           "xaxis": {
            "backgroundcolor": "#E5ECF6",
            "gridcolor": "white",
            "gridwidth": 2,
            "linecolor": "white",
            "showbackground": true,
            "ticks": "",
            "zerolinecolor": "white"
           },
           "yaxis": {
            "backgroundcolor": "#E5ECF6",
            "gridcolor": "white",
            "gridwidth": 2,
            "linecolor": "white",
            "showbackground": true,
            "ticks": "",
            "zerolinecolor": "white"
           },
           "zaxis": {
            "backgroundcolor": "#E5ECF6",
            "gridcolor": "white",
            "gridwidth": 2,
            "linecolor": "white",
            "showbackground": true,
            "ticks": "",
            "zerolinecolor": "white"
           }
          },
          "shapedefaults": {
           "line": {
            "color": "#2a3f5f"
           }
          },
          "ternary": {
           "aaxis": {
            "gridcolor": "white",
            "linecolor": "white",
            "ticks": ""
           },
           "baxis": {
            "gridcolor": "white",
            "linecolor": "white",
            "ticks": ""
           },
           "bgcolor": "#E5ECF6",
           "caxis": {
            "gridcolor": "white",
            "linecolor": "white",
            "ticks": ""
           }
          },
          "title": {
           "x": 0.05
          },
          "xaxis": {
           "automargin": true,
           "gridcolor": "white",
           "linecolor": "white",
           "ticks": "",
           "title": {
            "standoff": 15
           },
           "zerolinecolor": "white",
           "zerolinewidth": 2
          },
          "yaxis": {
           "automargin": true,
           "gridcolor": "white",
           "linecolor": "white",
           "ticks": "",
           "title": {
            "standoff": 15
           },
           "zerolinecolor": "white",
           "zerolinewidth": 2
          }
         }
        },
        "title": {
         "text": "Total Order Counts by Country"
        }
       }
      }
     },
     "metadata": {},
     "output_type": "display_data"
    }
   ],
   "source": [
    "# Create basic choropleth map\n",
    "# Aggregate the data by country\n",
    "grouped_data = sales_data[[\"ORDERNUMBER\", \"COUNTRY\"]].groupby('COUNTRY').count().reset_index()\n",
    "grouped_data.rename(columns={\"ORDERNUMBER\": \"ORDERSCOUNTS\"}, inplace=True)\n",
    "grouped_data\n",
    "# Create the choropleth map\n",
    "fig = px.choropleth(grouped_data, locations='COUNTRY', color='ORDERSCOUNTS',\n",
    "                    locationmode=\"country names\",\n",
    "                    hover_name='COUNTRY', projection='natural earth',\n",
    "                    title='Total Order Counts by Country')\n",
    "fig.show()\n"
   ]
  },
  {
   "cell_type": "code",
   "execution_count": 10,
   "metadata": {},
   "outputs": [
    {
     "data": {
      "image/png": "[encoded data removed]",
      "text/plain": [
       "<Figure size 640x480 with 1 Axes>"
      ]
     },
     "metadata": {},
     "output_type": "display_data"
    }
   ],
   "source": [
    "sns.histplot(data=sales_data, x=\"COUNTRY\")\n",
    "plt.title(\"Distribution of the country of each customer\")\n",
    "plt.xticks(rotation=90, fontsize=6)\n",
    "plt.show()"
   ]
  },
  {
   "cell_type": "code",
   "execution_count": 11,
   "metadata": {},
   "outputs": [
    {
     "data": {
      "image/png": "[encoded data removed]",
      "text/plain": [
       "<Figure size 640x480 with 1 Axes>"
      ]
     },
     "metadata": {},
     "output_type": "display_data"
    }
   ],
   "source": [
    "sns.histplot(data=sales_data, x=\"CITY\")\n",
    "plt.title(\"Distribution of the city of each customer\")\n",
    "plt.xticks(rotation=90, fontsize=6)\n",
    "plt.show()"
   ]
  },
  {
   "cell_type": "markdown",
   "metadata": {},
   "source": [
    "## Creating the Customer DataFrame \n"
   ]
  },
  {
   "cell_type": "markdown",
   "metadata": {},
   "source": [
    "The following code uses the `groupby()` method from the `pandas` library to group the `data` DataFrame by `CUSTOMERNAME`, and then applies an aggregation function to each group to create a new DataFrame called `customer_df`, this df contains information of interest of each customer\n",
    "\n",
    "The aggregation function uses a dictionary to specify the columns to include in `customer_df` and the corresponding function to apply to each column. In this case, the function used for each column is a lambda function that extracts the first value of the column (using the `to_list()` method) or the unique values of the `PRODUCTLINE` column (using the `unique()` method).\n",
    "\n",
    "Here's the resulting DataFrame:\n",
    "\n",
    "```python\n",
    "customer_df"
   ]
  },
  {
   "cell_type": "code",
   "execution_count": 12,
   "metadata": {},
   "outputs": [
    {
     "data": {
      "text/html": [
       "<div>\n",
       "<style scoped>\n",
       "    .dataframe tbody tr th:only-of-type {\n",
       "        vertical-align: middle;\n",
       "    }\n",
       "\n",
       "    .dataframe tbody tr th {\n",
       "        vertical-align: top;\n",
       "    }\n",
       "\n",
       "    .dataframe thead th {\n",
       "        text-align: right;\n",
       "    }\n",
       "</style>\n",
       "<table border=\"1\" class=\"dataframe\">\n",
       "  <thead>\n",
       "    <tr style=\"text-align: right;\">\n",
       "      <th></th>\n",
       "      <th>COUNTRY</th>\n",
       "      <th>CITY</th>\n",
       "      <th>PHONE</th>\n",
       "      <th>CONTACTLASTNAME</th>\n",
       "      <th>CONTACTFIRSTNAME</th>\n",
       "    </tr>\n",
       "    <tr>\n",
       "      <th>CUSTOMERNAME</th>\n",
       "      <th></th>\n",
       "      <th></th>\n",
       "      <th></th>\n",
       "      <th></th>\n",
       "      <th></th>\n",
       "    </tr>\n",
       "  </thead>\n",
       "  <tbody>\n",
       "    <tr>\n",
       "      <th>AV Stores, Co.</th>\n",
       "      <td>UK</td>\n",
       "      <td>Manchester</td>\n",
       "      <td>(171) 555-1555</td>\n",
       "      <td>Ashworth</td>\n",
       "      <td>Victoria</td>\n",
       "    </tr>\n",
       "    <tr>\n",
       "      <th>Alpha Cognac</th>\n",
       "      <td>France</td>\n",
       "      <td>Toulouse</td>\n",
       "      <td>61.77.6555</td>\n",
       "      <td>Roulet</td>\n",
       "      <td>Annette</td>\n",
       "    </tr>\n",
       "    <tr>\n",
       "      <th>Amica Models &amp; Co.</th>\n",
       "      <td>Italy</td>\n",
       "      <td>Torino</td>\n",
       "      <td>011-4988555</td>\n",
       "      <td>Accorti</td>\n",
       "      <td>Paolo</td>\n",
       "    </tr>\n",
       "    <tr>\n",
       "      <th>Anna's Decorations, Ltd</th>\n",
       "      <td>Australia</td>\n",
       "      <td>North Sydney</td>\n",
       "      <td>02 9936 8555</td>\n",
       "      <td>O'Hara</td>\n",
       "      <td>Anna</td>\n",
       "    </tr>\n",
       "    <tr>\n",
       "      <th>Atelier graphique</th>\n",
       "      <td>France</td>\n",
       "      <td>Nantes</td>\n",
       "      <td>40.32.2555</td>\n",
       "      <td>Schmitt</td>\n",
       "      <td>Carine</td>\n",
       "    </tr>\n",
       "    <tr>\n",
       "      <th>...</th>\n",
       "      <td>...</td>\n",
       "      <td>...</td>\n",
       "      <td>...</td>\n",
       "      <td>...</td>\n",
       "      <td>...</td>\n",
       "    </tr>\n",
       "    <tr>\n",
       "      <th>Vida Sport, Ltd</th>\n",
       "      <td>Switzerland</td>\n",
       "      <td>Gensve</td>\n",
       "      <td>0897-034555</td>\n",
       "      <td>Holz</td>\n",
       "      <td>Michael</td>\n",
       "    </tr>\n",
       "    <tr>\n",
       "      <th>Vitachrome Inc.</th>\n",
       "      <td>USA</td>\n",
       "      <td>NYC</td>\n",
       "      <td>2125551500</td>\n",
       "      <td>Frick</td>\n",
       "      <td>Michael</td>\n",
       "    </tr>\n",
       "    <tr>\n",
       "      <th>Volvo Model Replicas, Co</th>\n",
       "      <td>Sweden</td>\n",
       "      <td>Lule</td>\n",
       "      <td>0921-12 3555</td>\n",
       "      <td>Berglund</td>\n",
       "      <td>Christina</td>\n",
       "    </tr>\n",
       "    <tr>\n",
       "      <th>West Coast Collectables Co.</th>\n",
       "      <td>USA</td>\n",
       "      <td>Burbank</td>\n",
       "      <td>3105553722</td>\n",
       "      <td>Thompson</td>\n",
       "      <td>Steve</td>\n",
       "    </tr>\n",
       "    <tr>\n",
       "      <th>giftsbymail.co.uk</th>\n",
       "      <td>UK</td>\n",
       "      <td>Cowes</td>\n",
       "      <td>(198) 555-8888</td>\n",
       "      <td>Bennett</td>\n",
       "      <td>Helen</td>\n",
       "    </tr>\n",
       "  </tbody>\n",
       "</table>\n",
       "<p>92 rows × 5 columns</p>\n",
       "</div>"
      ],
      "text/plain": [
       "                                 COUNTRY          CITY           PHONE   \n",
       "CUSTOMERNAME                                                             \n",
       "AV Stores, Co.                        UK    Manchester  (171) 555-1555  \\\n",
       "Alpha Cognac                      France      Toulouse      61.77.6555   \n",
       "Amica Models & Co.                 Italy        Torino     011-4988555   \n",
       "Anna's Decorations, Ltd        Australia  North Sydney    02 9936 8555   \n",
       "Atelier graphique                 France        Nantes      40.32.2555   \n",
       "...                                  ...           ...             ...   \n",
       "Vida Sport, Ltd              Switzerland        Gensve     0897-034555   \n",
       "Vitachrome Inc.                      USA           NYC      2125551500   \n",
       "Volvo Model Replicas, Co          Sweden          Lule    0921-12 3555   \n",
       "West Coast Collectables Co.          USA       Burbank      3105553722   \n",
       "giftsbymail.co.uk                     UK         Cowes  (198) 555-8888   \n",
       "\n",
       "                            CONTACTLASTNAME CONTACTFIRSTNAME  \n",
       "CUSTOMERNAME                                                  \n",
       "AV Stores, Co.                     Ashworth         Victoria  \n",
       "Alpha Cognac                         Roulet          Annette  \n",
       "Amica Models & Co.                  Accorti            Paolo  \n",
       "Anna's Decorations, Ltd              O'Hara             Anna  \n",
       "Atelier graphique                   Schmitt           Carine  \n",
       "...                                     ...              ...  \n",
       "Vida Sport, Ltd                        Holz          Michael  \n",
       "Vitachrome Inc.                       Frick          Michael  \n",
       "Volvo Model Replicas, Co           Berglund        Christina  \n",
       "West Coast Collectables Co.        Thompson            Steve  \n",
       "giftsbymail.co.uk                   Bennett            Helen  \n",
       "\n",
       "[92 rows x 5 columns]"
      ]
     },
     "execution_count": 12,
     "metadata": {},
     "output_type": "execute_result"
    }
   ],
   "source": [
    "customer_df = sales_data.groupby(by='CUSTOMERNAME').agg({\"COUNTRY\": lambda var: var.to_list()[0],\n",
    "                                                   \"CITY\": lambda var: var.to_list()[0],\n",
    "                                                   \"PHONE\": lambda var: var.to_list()[0],\n",
    "                                                   \"CONTACTLASTNAME\": lambda var: var.to_list()[0],\n",
    "                                                   \"CONTACTFIRSTNAME\": lambda var: var.to_list()[0],\n",
    "                                                #    \"PRODUCTLINE\": lambda var: var.unique()\n",
    "                                                  })\n",
    "\n",
    "customer_df"
   ]
  },
  {
   "cell_type": "markdown",
   "metadata": {},
   "source": [
    "## Creating the Product Line DataFrame\n"
   ]
  },
  {
   "cell_type": "code",
   "execution_count": 13,
   "metadata": {},
   "outputs": [
    {
     "data": {
      "text/html": [
       "<div>\n",
       "<style scoped>\n",
       "    .dataframe tbody tr th:only-of-type {\n",
       "        vertical-align: middle;\n",
       "    }\n",
       "\n",
       "    .dataframe tbody tr th {\n",
       "        vertical-align: top;\n",
       "    }\n",
       "\n",
       "    .dataframe thead th {\n",
       "        text-align: right;\n",
       "    }\n",
       "</style>\n",
       "<table border=\"1\" class=\"dataframe\">\n",
       "  <thead>\n",
       "    <tr style=\"text-align: right;\">\n",
       "      <th></th>\n",
       "      <th>Motorcycles</th>\n",
       "      <th>Classic Cars</th>\n",
       "      <th>Trucks and Buses</th>\n",
       "      <th>Vintage Cars</th>\n",
       "      <th>Planes</th>\n",
       "      <th>Ships</th>\n",
       "      <th>Trains</th>\n",
       "    </tr>\n",
       "    <tr>\n",
       "      <th>CUSTOMERNAME</th>\n",
       "      <th></th>\n",
       "      <th></th>\n",
       "      <th></th>\n",
       "      <th></th>\n",
       "      <th></th>\n",
       "      <th></th>\n",
       "      <th></th>\n",
       "    </tr>\n",
       "  </thead>\n",
       "  <tbody>\n",
       "    <tr>\n",
       "      <th>AV Stores, Co.</th>\n",
       "      <td>0</td>\n",
       "      <td>628</td>\n",
       "      <td>0</td>\n",
       "      <td>773</td>\n",
       "      <td>0</td>\n",
       "      <td>257</td>\n",
       "      <td>120</td>\n",
       "    </tr>\n",
       "    <tr>\n",
       "      <th>Alpha Cognac</th>\n",
       "      <td>0</td>\n",
       "      <td>126</td>\n",
       "      <td>0</td>\n",
       "      <td>96</td>\n",
       "      <td>218</td>\n",
       "      <td>247</td>\n",
       "      <td>0</td>\n",
       "    </tr>\n",
       "    <tr>\n",
       "      <th>Amica Models &amp; Co.</th>\n",
       "      <td>0</td>\n",
       "      <td>149</td>\n",
       "      <td>24</td>\n",
       "      <td>566</td>\n",
       "      <td>0</td>\n",
       "      <td>82</td>\n",
       "      <td>22</td>\n",
       "    </tr>\n",
       "    <tr>\n",
       "      <th>Anna's Decorations, Ltd</th>\n",
       "      <td>219</td>\n",
       "      <td>744</td>\n",
       "      <td>286</td>\n",
       "      <td>220</td>\n",
       "      <td>0</td>\n",
       "      <td>0</td>\n",
       "      <td>0</td>\n",
       "    </tr>\n",
       "    <tr>\n",
       "      <th>Atelier graphique</th>\n",
       "      <td>71</td>\n",
       "      <td>156</td>\n",
       "      <td>0</td>\n",
       "      <td>43</td>\n",
       "      <td>0</td>\n",
       "      <td>0</td>\n",
       "      <td>0</td>\n",
       "    </tr>\n",
       "    <tr>\n",
       "      <th>...</th>\n",
       "      <td>...</td>\n",
       "      <td>...</td>\n",
       "      <td>...</td>\n",
       "      <td>...</td>\n",
       "      <td>...</td>\n",
       "      <td>...</td>\n",
       "      <td>...</td>\n",
       "    </tr>\n",
       "    <tr>\n",
       "      <th>Vida Sport, Ltd</th>\n",
       "      <td>0</td>\n",
       "      <td>1078</td>\n",
       "      <td>0</td>\n",
       "      <td>0</td>\n",
       "      <td>0</td>\n",
       "      <td>0</td>\n",
       "      <td>0</td>\n",
       "    </tr>\n",
       "    <tr>\n",
       "      <th>Vitachrome Inc.</th>\n",
       "      <td>239</td>\n",
       "      <td>239</td>\n",
       "      <td>158</td>\n",
       "      <td>151</td>\n",
       "      <td>0</td>\n",
       "      <td>0</td>\n",
       "      <td>0</td>\n",
       "    </tr>\n",
       "    <tr>\n",
       "      <th>Volvo Model Replicas, Co</th>\n",
       "      <td>0</td>\n",
       "      <td>184</td>\n",
       "      <td>0</td>\n",
       "      <td>134</td>\n",
       "      <td>0</td>\n",
       "      <td>80</td>\n",
       "      <td>32</td>\n",
       "    </tr>\n",
       "    <tr>\n",
       "      <th>West Coast Collectables Co.</th>\n",
       "      <td>0</td>\n",
       "      <td>35</td>\n",
       "      <td>46</td>\n",
       "      <td>344</td>\n",
       "      <td>86</td>\n",
       "      <td>0</td>\n",
       "      <td>0</td>\n",
       "    </tr>\n",
       "    <tr>\n",
       "      <th>giftsbymail.co.uk</th>\n",
       "      <td>0</td>\n",
       "      <td>33</td>\n",
       "      <td>0</td>\n",
       "      <td>222</td>\n",
       "      <td>299</td>\n",
       "      <td>293</td>\n",
       "      <td>48</td>\n",
       "    </tr>\n",
       "  </tbody>\n",
       "</table>\n",
       "<p>92 rows × 7 columns</p>\n",
       "</div>"
      ],
      "text/plain": [
       "                            Motorcycles Classic Cars Trucks and Buses   \n",
       "CUSTOMERNAME                                                            \n",
       "AV Stores, Co.                        0          628                0  \\\n",
       "Alpha Cognac                          0          126                0   \n",
       "Amica Models & Co.                    0          149               24   \n",
       "Anna's Decorations, Ltd             219          744              286   \n",
       "Atelier graphique                    71          156                0   \n",
       "...                                 ...          ...              ...   \n",
       "Vida Sport, Ltd                       0         1078                0   \n",
       "Vitachrome Inc.                     239          239              158   \n",
       "Volvo Model Replicas, Co              0          184                0   \n",
       "West Coast Collectables Co.           0           35               46   \n",
       "giftsbymail.co.uk                     0           33                0   \n",
       "\n",
       "                            Vintage Cars Planes Ships Trains  \n",
       "CUSTOMERNAME                                                  \n",
       "AV Stores, Co.                       773      0   257    120  \n",
       "Alpha Cognac                          96    218   247      0  \n",
       "Amica Models & Co.                   566      0    82     22  \n",
       "Anna's Decorations, Ltd              220      0     0      0  \n",
       "Atelier graphique                     43      0     0      0  \n",
       "...                                  ...    ...   ...    ...  \n",
       "Vida Sport, Ltd                        0      0     0      0  \n",
       "Vitachrome Inc.                      151      0     0      0  \n",
       "Volvo Model Replicas, Co             134      0    80     32  \n",
       "West Coast Collectables Co.          344     86     0      0  \n",
       "giftsbymail.co.uk                    222    299   293     48  \n",
       "\n",
       "[92 rows x 7 columns]"
      ]
     },
     "execution_count": 13,
     "metadata": {},
     "output_type": "execute_result"
    }
   ],
   "source": [
    "product_line_df = pd.DataFrame(index=customer_df.index, columns=sales_data[\"PRODUCTLINE\"].unique())\n",
    "\n",
    "customer_group = sales_data.groupby(by='CUSTOMERNAME')\n",
    "\n",
    "for customer_name, columns in customer_group:\n",
    "    for product in product_line_df.columns.values:\n",
    "        product_line_df.loc[customer_name, product] = columns[columns[\"PRODUCTLINE\"] == product][\"QUANTITYORDERED\"].sum()\n",
    "        \n",
    "product_line_df\n"
   ]
  },
  {
   "cell_type": "code",
   "execution_count": 14,
   "metadata": {},
   "outputs": [
    {
     "data": {
      "image/png": "[encoded data removed]",
      "text/plain": [
       "<Figure size 640x480 with 1 Axes>"
      ]
     },
     "metadata": {},
     "output_type": "display_data"
    }
   ],
   "source": [
    "product_line_scaled_array = StandardScaler().fit_transform(product_line_df)\n",
    "\n",
    "errors = []\n",
    "for k in range(1, 11):\n",
    "    kmeans_clustering = KMeans(n_clusters=k, random_state=42)\n",
    "    kmeans_clustering.fit(product_line_scaled_array)\n",
    "    errors.append(kmeans_clustering.inertia_)\n",
    "    \n",
    " \n",
    "plt.title('The Elbow Method')\n",
    "plt.xlabel('k'); plt.ylabel('Error of Cluster')\n",
    "sns.pointplot(x=np.arange(start=1, stop=11), y=errors)\n",
    "plt.show()"
   ]
  },
  {
   "cell_type": "code",
   "execution_count": 15,
   "metadata": {},
   "outputs": [
    {
     "data": {
      "application/vnd.plotly.v1+json": {
       "config": {
        "plotlyServerURL": "https://plot.ly"
       },
       "data": [
        {
         "hovertemplate": "Motorcycles=%{x}<br>Classic Cars=%{y}<br>Trucks and Buses=%{z}<br>Cluster=%{marker.color}<extra></extra>",
         "legendgroup": "",
         "marker": {
          "color": [
           3,
           3,
           4,
           0,
           4,
           4,
           2,
           4,
           4,
           0,
           4,
           0,
           2,
           4,
           4,
           3,
           4,
           4,
           4,
           3,
           4,
           3,
           4,
           0,
           4,
           0,
           0,
           3,
           0,
           4,
           4,
           3,
           3,
           1,
           0,
           0,
           2,
           0,
           4,
           4,
           0,
           4,
           2,
           4,
           2,
           0,
           0,
           4,
           0,
           4,
           0,
           4,
           4,
           2,
           3,
           1,
           0,
           0,
           4,
           2,
           4,
           0,
           2,
           3,
           3,
           3,
           2,
           2,
           3,
           4,
           2,
           3,
           4,
           4,
           4,
           2,
           3,
           4,
           4,
           2,
           0,
           2,
           3,
           4,
           2,
           0,
           0,
           4,
           0,
           4,
           4,
           3
          ],
          "coloraxis": "coloraxis",
          "size": 4,
          "symbol": "circle"
         },
         "mode": "markers",
         "name": "",
         "scene": "scene",
         "showlegend": false,
         "type": "scatter3d",
         "x": [
          0,
          0,
          0,
          219,
          71,
          0,
          490,
          121,
          0,
          633,
          0,
          212,
          0,
          0,
          0,
          0,
          0,
          0,
          0,
          0,
          58,
          0,
          0,
          369,
          0,
          241,
          627,
          0,
          291,
          0,
          0,
          44,
          110,
          411,
          157,
          307,
          93,
          186,
          0,
          0,
          272,
          0,
          77,
          38,
          454,
          491,
          253,
          114,
          429,
          0,
          201,
          0,
          0,
          159,
          66,
          360,
          214,
          161,
          0,
          0,
          0,
          208,
          173,
          0,
          0,
          0,
          214,
          0,
          41,
          0,
          197,
          0,
          133,
          0,
          0,
          46,
          0,
          146,
          0,
          353,
          216,
          63,
          136,
          121,
          301,
          468,
          371,
          0,
          239,
          0,
          0,
          0
         ],
         "y": [
          628,
          126,
          149,
          744,
          156,
          119,
          451,
          117,
          87,
          368,
          0,
          267,
          0,
          466,
          35,
          91,
          29,
          175,
          96,
          219,
          202,
          286,
          382,
          323,
          232,
          478,
          72,
          400,
          242,
          259,
          78,
          535,
          45,
          3720,
          490,
          417,
          29,
          91,
          508,
          670,
          522,
          196,
          737,
          431,
          45,
          423,
          135,
          534,
          231,
          270,
          134,
          142,
          602,
          187,
          215,
          2381,
          26,
          525,
          1271,
          369,
          671,
          319,
          115,
          296,
          30,
          256,
          461,
          62,
          25,
          117,
          735,
          343,
          278,
          64,
          611,
          99,
          174,
          660,
          242,
          99,
          0,
          64,
          199,
          815,
          328,
          0,
          165,
          1078,
          239,
          184,
          35,
          33
         ],
         "z": [
          0,
          0,
          24,
          286,
          0,
          0,
          166,
          91,
          164,
          0,
          0,
          308,
          0,
          81,
          0,
          0,
          32,
          351,
          132,
          73,
          37,
          0,
          0,
          103,
          358,
          0,
          0,
          0,
          289,
          311,
          0,
          415,
          0,
          929,
          0,
          0,
          0,
          0,
          473,
          73,
          0,
          275,
          23,
          267,
          0,
          153,
          46,
          0,
          271,
          0,
          0,
          0,
          0,
          165,
          0,
          1232,
          95,
          0,
          279,
          0,
          84,
          0,
          0,
          248,
          0,
          166,
          82,
          0,
          0,
          0,
          0,
          261,
          262,
          83,
          0,
          162,
          291,
          136,
          169,
          257,
          0,
          0,
          102,
          0,
          0,
          0,
          0,
          0,
          158,
          0,
          46,
          0
         ]
        },
        {
         "hovertemplate": "Vintage Cars=%{x}<br>Planes=%{y}<br>Ships=%{z}<br>Cluster=%{marker.color}<extra></extra>",
         "legendgroup": "",
         "marker": {
          "color": [
           3,
           3,
           4,
           0,
           4,
           4,
           2,
           4,
           4,
           0,
           4,
           0,
           2,
           4,
           4,
           3,
           4,
           4,
           4,
           3,
           4,
           3,
           4,
           0,
           4,
           0,
           0,
           3,
           0,
           4,
           4,
           3,
           3,
           1,
           0,
           0,
           2,
           0,
           4,
           4,
           0,
           4,
           2,
           4,
           2,
           0,
           0,
           4,
           0,
           4,
           0,
           4,
           4,
           2,
           3,
           1,
           0,
           0,
           4,
           2,
           4,
           0,
           2,
           3,
           3,
           3,
           2,
           2,
           3,
           4,
           2,
           3,
           4,
           4,
           4,
           2,
           3,
           4,
           4,
           2,
           0,
           2,
           3,
           4,
           2,
           0,
           0,
           4,
           0,
           4,
           4,
           3
          ],
          "coloraxis": "coloraxis",
          "size": 4,
          "symbol": "circle"
         },
         "mode": "markers",
         "name": "",
         "scene": "scene2",
         "showlegend": false,
         "type": "scatter3d",
         "x": [
          773,
          96,
          566,
          220,
          43,
          422,
          400,
          95,
          386,
          0,
          104,
          223,
          101,
          175,
          31,
          103,
          204,
          177,
          277,
          233,
          28,
          181,
          276,
          575,
          573,
          27,
          0,
          220,
          44,
          80,
          141,
          182,
          220,
          1295,
          131,
          0,
          109,
          46,
          255,
          20,
          150,
          70,
          63,
          48,
          219,
          0,
          205,
          156,
          0,
          78,
          46,
          102,
          177,
          93,
          232,
          1678,
          357,
          44,
          150,
          122,
          493,
          0,
          82,
          152,
          270,
          77,
          150,
          674,
          222,
          65,
          197,
          475,
          136,
          367,
          318,
          495,
          149,
          0,
          94,
          108,
          40,
          432,
          231,
          0,
          100,
          0,
          81,
          0,
          151,
          134,
          344,
          222
         ],
         "y": [
          0,
          218,
          0,
          0,
          0,
          0,
          419,
          88,
          0,
          0,
          120,
          0,
          245,
          0,
          0,
          0,
          52,
          0,
          98,
          0,
          115,
          240,
          113,
          0,
          0,
          215,
          0,
          0,
          81,
          0,
          82,
          0,
          183,
          235,
          96,
          104,
          413,
          0,
          0,
          0,
          29,
          0,
          320,
          0,
          503,
          44,
          0,
          0,
          45,
          91,
          0,
          0,
          0,
          292,
          248,
          0,
          0,
          0,
          0,
          296,
          0,
          0,
          322,
          175,
          0,
          0,
          415,
          802,
          317,
          41,
          200,
          0,
          0,
          0,
          0,
          243,
          98,
          0,
          0,
          362,
          0,
          450,
          225,
          0,
          246,
          123,
          0,
          0,
          0,
          0,
          86,
          299
         ],
         "z": [
          257,
          247,
          82,
          0,
          0,
          0,
          0,
          0,
          0,
          0,
          63,
          0,
          55,
          0,
          36,
          245,
          40,
          0,
          65,
          174,
          0,
          247,
          24,
          77,
          0,
          0,
          0,
          230,
          0,
          0,
          56,
          174,
          324,
          522,
          29,
          0,
          22,
          104,
          0,
          23,
          0,
          0,
          0,
          0,
          184,
          0,
          0,
          0,
          0,
          61,
          0,
          0,
          0,
          0,
          310,
          371,
          0,
          0,
          0,
          0,
          0,
          45,
          0,
          239,
          315,
          218,
          64,
          112,
          268,
          28,
          113,
          271,
          0,
          0,
          0,
          24,
          225,
          0,
          50,
          0,
          65,
          76,
          208,
          0,
          76,
          0,
          0,
          0,
          0,
          80,
          0,
          293
         ]
        }
       ],
       "layout": {
        "scene": {
         "domain": {
          "x": [
           0,
           0.45
          ],
          "y": [
           0,
           1
          ]
         },
         "xaxis": {
          "title": {
           "text": "Motorcycles"
          }
         },
         "yaxis": {
          "title": {
           "text": "Classic Cars"
          }
         },
         "zaxis": {
          "title": {
           "text": "Trucks and Buses"
          }
         }
        },
        "scene2": {
         "domain": {
          "x": [
           0.55,
           1
          ],
          "y": [
           0,
           1
          ]
         },
         "xaxis": {
          "title": {
           "text": "Vintage Cars"
          }
         },
         "yaxis": {
          "title": {
           "text": "Planes"
          }
         },
         "zaxis": {
          "title": {
           "text": "Ships"
          }
         }
        },
        "template": {
         "data": {
          "bar": [
           {
            "error_x": {
             "color": "#2a3f5f"
            },
            "error_y": {
             "color": "#2a3f5f"
            },
            "marker": {
             "line": {
              "color": "#E5ECF6",
              "width": 0.5
             },
             "pattern": {
              "fillmode": "overlay",
              "size": 10,
              "solidity": 0.2
             }
            },
            "type": "bar"
           }
          ],
          "barpolar": [
           {
            "marker": {
             "line": {
              "color": "#E5ECF6",
              "width": 0.5
             },
             "pattern": {
              "fillmode": "overlay",
              "size": 10,
              "solidity": 0.2
             }
            },
            "type": "barpolar"
           }
          ],
          "carpet": [
           {
            "aaxis": {
             "endlinecolor": "#2a3f5f",
             "gridcolor": "white",
             "linecolor": "white",
             "minorgridcolor": "white",
             "startlinecolor": "#2a3f5f"
            },
            "baxis": {
             "endlinecolor": "#2a3f5f",
             "gridcolor": "white",
             "linecolor": "white",
             "minorgridcolor": "white",
             "startlinecolor": "#2a3f5f"
            },
            "type": "carpet"
           }
          ],
          "choropleth": [
           {
            "colorbar": {
             "outlinewidth": 0,
             "ticks": ""
            },
            "type": "choropleth"
           }
          ],
          "contour": [
           {
            "colorbar": {
             "outlinewidth": 0,
             "ticks": ""
            },
            "colorscale": [
             [
              0,
              "#0d0887"
             ],
             [
              0.1111111111111111,
              "#46039f"
             ],
             [
              0.2222222222222222,
              "#7201a8"
             ],
             [
              0.3333333333333333,
              "#9c179e"
             ],
             [
              0.4444444444444444,
              "#bd3786"
             ],
             [
              0.5555555555555556,
              "#d8576b"
             ],
             [
              0.6666666666666666,
              "#ed7953"
             ],
             [
              0.7777777777777778,
              "#fb9f3a"
             ],
             [
              0.8888888888888888,
              "#fdca26"
             ],
             [
              1,
              "#f0f921"
             ]
            ],
            "type": "contour"
           }
          ],
          "contourcarpet": [
           {
            "colorbar": {
             "outlinewidth": 0,
             "ticks": ""
            },
            "type": "contourcarpet"
           }
          ],
          "heatmap": [
           {
            "colorbar": {
             "outlinewidth": 0,
             "ticks": ""
            },
            "colorscale": [
             [
              0,
              "#0d0887"
             ],
             [
              0.1111111111111111,
              "#46039f"
             ],
             [
              0.2222222222222222,
              "#7201a8"
             ],
             [
              0.3333333333333333,
              "#9c179e"
             ],
             [
              0.4444444444444444,
              "#bd3786"
             ],
             [
              0.5555555555555556,
              "#d8576b"
             ],
             [
              0.6666666666666666,
              "#ed7953"
             ],
             [
              0.7777777777777778,
              "#fb9f3a"
             ],
             [
              0.8888888888888888,
              "#fdca26"
             ],
             [
              1,
              "#f0f921"
             ]
            ],
            "type": "heatmap"
           }
          ],
          "heatmapgl": [
           {
            "colorbar": {
             "outlinewidth": 0,
             "ticks": ""
            },
            "colorscale": [
             [
              0,
              "#0d0887"
             ],
             [
              0.1111111111111111,
              "#46039f"
             ],
             [
              0.2222222222222222,
              "#7201a8"
             ],
             [
              0.3333333333333333,
              "#9c179e"
             ],
             [
              0.4444444444444444,
              "#bd3786"
             ],
             [
              0.5555555555555556,
              "#d8576b"
             ],
             [
              0.6666666666666666,
              "#ed7953"
             ],
             [
              0.7777777777777778,
              "#fb9f3a"
             ],
             [
              0.8888888888888888,
              "#fdca26"
             ],
             [
              1,
              "#f0f921"
             ]
            ],
            "type": "heatmapgl"
           }
          ],
          "histogram": [
           {
            "marker": {
             "pattern": {
              "fillmode": "overlay",
              "size": 10,
              "solidity": 0.2
             }
            },
            "type": "histogram"
           }
          ],
          "histogram2d": [
           {
            "colorbar": {
             "outlinewidth": 0,
             "ticks": ""
            },
            "colorscale": [
             [
              0,
              "#0d0887"
             ],
             [
              0.1111111111111111,
              "#46039f"
             ],
             [
              0.2222222222222222,
              "#7201a8"
             ],
             [
              0.3333333333333333,
              "#9c179e"
             ],
             [
              0.4444444444444444,
              "#bd3786"
             ],
             [
              0.5555555555555556,
              "#d8576b"
             ],
             [
              0.6666666666666666,
              "#ed7953"
             ],
             [
              0.7777777777777778,
              "#fb9f3a"
             ],
             [
              0.8888888888888888,
              "#fdca26"
             ],
             [
              1,
              "#f0f921"
             ]
            ],
            "type": "histogram2d"
           }
          ],
          "histogram2dcontour": [
           {
            "colorbar": {
             "outlinewidth": 0,
             "ticks": ""
            },
            "colorscale": [
             [
              0,
              "#0d0887"
             ],
             [
              0.1111111111111111,
              "#46039f"
             ],
             [
              0.2222222222222222,
              "#7201a8"
             ],
             [
              0.3333333333333333,
              "#9c179e"
             ],
             [
              0.4444444444444444,
              "#bd3786"
             ],
             [
              0.5555555555555556,
              "#d8576b"
             ],
             [
              0.6666666666666666,
              "#ed7953"
             ],
             [
              0.7777777777777778,
              "#fb9f3a"
             ],
             [
              0.8888888888888888,
              "#fdca26"
             ],
             [
              1,
              "#f0f921"
             ]
            ],
            "type": "histogram2dcontour"
           }
          ],
          "mesh3d": [
           {
            "colorbar": {
             "outlinewidth": 0,
             "ticks": ""
            },
            "type": "mesh3d"
           }
          ],
          "parcoords": [
           {
            "line": {
             "colorbar": {
              "outlinewidth": 0,
              "ticks": ""
             }
            },
            "type": "parcoords"
           }
          ],
          "pie": [
           {
            "automargin": true,
            "type": "pie"
           }
          ],
          "scatter": [
           {
            "fillpattern": {
             "fillmode": "overlay",
             "size": 10,
             "solidity": 0.2
            },
            "type": "scatter"
           }
          ],
          "scatter3d": [
           {
            "line": {
             "colorbar": {
              "outlinewidth": 0,
              "ticks": ""
             }
            },
            "marker": {
             "colorbar": {
              "outlinewidth": 0,
              "ticks": ""
             }
            },
            "type": "scatter3d"
           }
          ],
          "scattercarpet": [
           {
            "marker": {
             "colorbar": {
              "outlinewidth": 0,
              "ticks": ""
             }
            },
            "type": "scattercarpet"
           }
          ],
          "scattergeo": [
           {
            "marker": {
             "colorbar": {
              "outlinewidth": 0,
              "ticks": ""
             }
            },
            "type": "scattergeo"
           }
          ],
          "scattergl": [
           {
            "marker": {
             "colorbar": {
              "outlinewidth": 0,
              "ticks": ""
             }
            },
            "type": "scattergl"
           }
          ],
          "scattermapbox": [
           {
            "marker": {
             "colorbar": {
              "outlinewidth": 0,
              "ticks": ""
             }
            },
            "type": "scattermapbox"
           }
          ],
          "scatterpolar": [
           {
            "marker": {
             "colorbar": {
              "outlinewidth": 0,
              "ticks": ""
             }
            },
            "type": "scatterpolar"
           }
          ],
          "scatterpolargl": [
           {
            "marker": {
             "colorbar": {
              "outlinewidth": 0,
              "ticks": ""
             }
            },
            "type": "scatterpolargl"
           }
          ],
          "scatterternary": [
           {
            "marker": {
             "colorbar": {
              "outlinewidth": 0,
              "ticks": ""
             }
            },
            "type": "scatterternary"
           }
          ],
          "surface": [
           {
            "colorbar": {
             "outlinewidth": 0,
             "ticks": ""
            },
            "colorscale": [
             [
              0,
              "#0d0887"
             ],
             [
              0.1111111111111111,
              "#46039f"
             ],
             [
              0.2222222222222222,
              "#7201a8"
             ],
             [
              0.3333333333333333,
              "#9c179e"
             ],
             [
              0.4444444444444444,
              "#bd3786"
             ],
             [
              0.5555555555555556,
              "#d8576b"
             ],
             [
              0.6666666666666666,
              "#ed7953"
             ],
             [
              0.7777777777777778,
              "#fb9f3a"
             ],
             [
              0.8888888888888888,
              "#fdca26"
             ],
             [
              1,
              "#f0f921"
             ]
            ],
            "type": "surface"
           }
          ],
          "table": [
           {
            "cells": {
             "fill": {
              "color": "#EBF0F8"
             },
             "line": {
              "color": "white"
             }
            },
            "header": {
             "fill": {
              "color": "#C8D4E3"
             },
             "line": {
              "color": "white"
             }
            },
            "type": "table"
           }
          ]
         },
         "layout": {
          "annotationdefaults": {
           "arrowcolor": "#2a3f5f",
           "arrowhead": 0,
           "arrowwidth": 1
          },
          "autotypenumbers": "strict",
          "coloraxis": {
           "colorbar": {
            "outlinewidth": 0,
            "ticks": ""
           }
          },
          "colorscale": {
           "diverging": [
            [
             0,
             "#8e0152"
            ],
            [
             0.1,
             "#c51b7d"
            ],
            [
             0.2,
             "#de77ae"
            ],
            [
             0.3,
             "#f1b6da"
            ],
            [
             0.4,
             "#fde0ef"
            ],
            [
             0.5,
             "#f7f7f7"
            ],
            [
             0.6,
             "#e6f5d0"
            ],
            [
             0.7,
             "#b8e186"
            ],
            [
             0.8,
             "#7fbc41"
            ],
            [
             0.9,
             "#4d9221"
            ],
            [
             1,
             "#276419"
            ]
           ],
           "sequential": [
            [
             0,
             "#0d0887"
            ],
            [
             0.1111111111111111,
             "#46039f"
            ],
            [
             0.2222222222222222,
             "#7201a8"
            ],
            [
             0.3333333333333333,
             "#9c179e"
            ],
            [
             0.4444444444444444,
             "#bd3786"
            ],
            [
             0.5555555555555556,
             "#d8576b"
            ],
            [
             0.6666666666666666,
             "#ed7953"
            ],
            [
             0.7777777777777778,
             "#fb9f3a"
            ],
            [
             0.8888888888888888,
             "#fdca26"
            ],
            [
             1,
             "#f0f921"
            ]
           ],
           "sequentialminus": [
            [
             0,
             "#0d0887"
            ],
            [
             0.1111111111111111,
             "#46039f"
            ],
            [
             0.2222222222222222,
             "#7201a8"
            ],
            [
             0.3333333333333333,
             "#9c179e"
            ],
            [
             0.4444444444444444,
             "#bd3786"
            ],
            [
             0.5555555555555556,
             "#d8576b"
            ],
            [
             0.6666666666666666,
             "#ed7953"
            ],
            [
             0.7777777777777778,
             "#fb9f3a"
            ],
            [
             0.8888888888888888,
             "#fdca26"
            ],
            [
             1,
             "#f0f921"
            ]
           ]
          },
          "colorway": [
           "#636efa",
           "#EF553B",
           "#00cc96",
           "#ab63fa",
           "#FFA15A",
           "#19d3f3",
           "#FF6692",
           "#B6E880",
           "#FF97FF",
           "#FECB52"
          ],
          "font": {
           "color": "#2a3f5f"
          },
          "geo": {
           "bgcolor": "white",
           "lakecolor": "white",
           "landcolor": "#E5ECF6",
           "showlakes": true,
           "showland": true,
           "subunitcolor": "white"
          },
          "hoverlabel": {
           "align": "left"
          },
          "hovermode": "closest",
          "mapbox": {
           "style": "light"
          },
          "paper_bgcolor": "white",
          "plot_bgcolor": "#E5ECF6",
          "polar": {
           "angularaxis": {
            "gridcolor": "white",
            "linecolor": "white",
            "ticks": ""
           },
           "bgcolor": "#E5ECF6",
           "radialaxis": {
            "gridcolor": "white",
            "linecolor": "white",
            "ticks": ""
           }
          },
          "scene": {
           "xaxis": {
            "backgroundcolor": "#E5ECF6",
            "gridcolor": "white",
            "gridwidth": 2,
            "linecolor": "white",
            "showbackground": true,
            "ticks": "",
            "zerolinecolor": "white"
           },
           "yaxis": {
            "backgroundcolor": "#E5ECF6",
            "gridcolor": "white",
            "gridwidth": 2,
            "linecolor": "white",
            "showbackground": true,
            "ticks": "",
            "zerolinecolor": "white"
           },
           "zaxis": {
            "backgroundcolor": "#E5ECF6",
            "gridcolor": "white",
            "gridwidth": 2,
            "linecolor": "white",
            "showbackground": true,
            "ticks": "",
            "zerolinecolor": "white"
           }
          },
          "shapedefaults": {
           "line": {
            "color": "#2a3f5f"
           }
          },
          "ternary": {
           "aaxis": {
            "gridcolor": "white",
            "linecolor": "white",
            "ticks": ""
           },
           "baxis": {
            "gridcolor": "white",
            "linecolor": "white",
            "ticks": ""
           },
           "bgcolor": "#E5ECF6",
           "caxis": {
            "gridcolor": "white",
            "linecolor": "white",
            "ticks": ""
           }
          },
          "title": {
           "x": 0.05
          },
          "xaxis": {
           "automargin": true,
           "gridcolor": "white",
           "linecolor": "white",
           "ticks": "",
           "title": {
            "standoff": 15
           },
           "zerolinecolor": "white",
           "zerolinewidth": 2
          },
          "yaxis": {
           "automargin": true,
           "gridcolor": "white",
           "linecolor": "white",
           "ticks": "",
           "title": {
            "standoff": 15
           },
           "zerolinecolor": "white",
           "zerolinewidth": 2
          }
         }
        }
       }
      }
     },
     "metadata": {},
     "output_type": "display_data"
    },
    {
     "data": {
      "text/html": [
       "<div>\n",
       "<style scoped>\n",
       "    .dataframe tbody tr th:only-of-type {\n",
       "        vertical-align: middle;\n",
       "    }\n",
       "\n",
       "    .dataframe tbody tr th {\n",
       "        vertical-align: top;\n",
       "    }\n",
       "\n",
       "    .dataframe thead th {\n",
       "        text-align: right;\n",
       "    }\n",
       "</style>\n",
       "<table border=\"1\" class=\"dataframe\">\n",
       "  <thead>\n",
       "    <tr style=\"text-align: right;\">\n",
       "      <th></th>\n",
       "      <th>Motorcycles</th>\n",
       "      <th>Classic Cars</th>\n",
       "      <th>Trucks and Buses</th>\n",
       "      <th>Vintage Cars</th>\n",
       "      <th>Planes</th>\n",
       "      <th>Ships</th>\n",
       "      <th>Trains</th>\n",
       "      <th>CustomersCount</th>\n",
       "    </tr>\n",
       "    <tr>\n",
       "      <th>Cluster</th>\n",
       "      <th></th>\n",
       "      <th></th>\n",
       "      <th></th>\n",
       "      <th></th>\n",
       "      <th></th>\n",
       "      <th></th>\n",
       "      <th></th>\n",
       "      <th></th>\n",
       "    </tr>\n",
       "  </thead>\n",
       "  <tbody>\n",
       "    <tr>\n",
       "      <th>0</th>\n",
       "      <td>247.0</td>\n",
       "      <td>254.5</td>\n",
       "      <td>0.0</td>\n",
       "      <td>45.0</td>\n",
       "      <td>0.0</td>\n",
       "      <td>0.0</td>\n",
       "      <td>0.0</td>\n",
       "      <td>22</td>\n",
       "    </tr>\n",
       "    <tr>\n",
       "      <th>1</th>\n",
       "      <td>385.5</td>\n",
       "      <td>3050.5</td>\n",
       "      <td>1080.5</td>\n",
       "      <td>1486.5</td>\n",
       "      <td>117.5</td>\n",
       "      <td>446.5</td>\n",
       "      <td>350.5</td>\n",
       "      <td>2</td>\n",
       "    </tr>\n",
       "    <tr>\n",
       "      <th>2</th>\n",
       "      <td>159.0</td>\n",
       "      <td>115.0</td>\n",
       "      <td>0.0</td>\n",
       "      <td>122.0</td>\n",
       "      <td>322.0</td>\n",
       "      <td>24.0</td>\n",
       "      <td>0.0</td>\n",
       "      <td>15</td>\n",
       "    </tr>\n",
       "    <tr>\n",
       "      <th>3</th>\n",
       "      <td>0.0</td>\n",
       "      <td>215.0</td>\n",
       "      <td>0.0</td>\n",
       "      <td>220.0</td>\n",
       "      <td>98.0</td>\n",
       "      <td>247.0</td>\n",
       "      <td>29.0</td>\n",
       "      <td>17</td>\n",
       "    </tr>\n",
       "    <tr>\n",
       "      <th>4</th>\n",
       "      <td>0.0</td>\n",
       "      <td>217.0</td>\n",
       "      <td>41.5</td>\n",
       "      <td>138.5</td>\n",
       "      <td>0.0</td>\n",
       "      <td>0.0</td>\n",
       "      <td>0.0</td>\n",
       "      <td>36</td>\n",
       "    </tr>\n",
       "  </tbody>\n",
       "</table>\n",
       "</div>"
      ],
      "text/plain": [
       "        Motorcycles Classic Cars Trucks and Buses Vintage Cars Planes  Ships   \n",
       "Cluster                                                                        \n",
       "0             247.0        254.5              0.0         45.0    0.0    0.0  \\\n",
       "1             385.5       3050.5           1080.5       1486.5  117.5  446.5   \n",
       "2             159.0        115.0              0.0        122.0  322.0   24.0   \n",
       "3               0.0        215.0              0.0        220.0   98.0  247.0   \n",
       "4               0.0        217.0             41.5        138.5    0.0    0.0   \n",
       "\n",
       "        Trains  CustomersCount  \n",
       "Cluster                         \n",
       "0          0.0              22  \n",
       "1        350.5               2  \n",
       "2          0.0              15  \n",
       "3         29.0              17  \n",
       "4          0.0              36  "
      ]
     },
     "execution_count": 15,
     "metadata": {},
     "output_type": "execute_result"
    }
   ],
   "source": [
    "kmeans_clustering = KMeans(n_clusters=5, random_state=42)\n",
    "kmeans_clustering.fit(product_line_scaled_array)\n",
    "product_line_df[\"Cluster\"] = kmeans_clustering.labels_\n",
    "\n",
    "fig1 = px.scatter_3d(\n",
    "    data_frame=product_line_df,\n",
    "    x= \"Motorcycles\",\n",
    "    y = \"Classic Cars\",\n",
    "    z= \"Trucks and Buses\",\n",
    "    title = \"\",\n",
    "    color = \"Cluster\",\n",
    "    height=500\n",
    ")\n",
    "fig1.update_traces(marker_size = 4)\n",
    "# fig1.show()\n",
    "\n",
    "fig2 = px.scatter_3d(\n",
    "    data_frame=product_line_df,\n",
    "    x= \"Vintage Cars\",\n",
    "    y = \"Planes\",\n",
    "    z= \"Ships\",\n",
    "    title = \" \",\n",
    "    color = \"Cluster\",\n",
    "    height=500\n",
    ")\n",
    "fig2.update_traces(marker_size = 4)\n",
    "# fig2.show()\n",
    "\n",
    "# Create a subplot with two 3D scatter plots side by side\n",
    "fig = make_subplots(rows=1, cols=2, specs=[[{'type': 'scatter3d'}, {'type': 'scatter3d'}]])\n",
    "\n",
    "fig.add_trace(fig1.data[0], row=1, col=1)\n",
    "fig.add_trace(fig2.data[0], row=1, col=2)\n",
    "\n",
    "fig.update_layout(scene1=dict(xaxis=dict(title='Motorcycles'),\n",
    "                              yaxis=dict(title='Classic Cars'),\n",
    "                              zaxis=dict(title='Trucks and Buses'),\n",
    "                              ),\n",
    "                  scene2=dict(xaxis=dict(title='Vintage Cars'),\n",
    "                              yaxis=dict(title='Planes'),\n",
    "                              zaxis=dict(title='Ships'),\n",
    "                              ))\n",
    "\n",
    "fig.show()\n",
    "\n",
    "product_line_summarize = product_line_df.groupby(\"Cluster\").median()\n",
    "product_line_summarize.assign(CustomersCount=np.bincount(product_line_df[\"Cluster\"]))\n"
   ]
  },
  {
   "cell_type": "code",
   "execution_count": 16,
   "metadata": {},
   "outputs": [],
   "source": [
    "# parallel_graph = px.parallel_coordinates(np.array(product_line_df), color=7)\n",
    "# parallel_graph.show()"
   ]
  },
  {
   "cell_type": "markdown",
   "metadata": {},
   "source": [
    "## RFM Analysis"
   ]
  },
  {
   "cell_type": "markdown",
   "metadata": {},
   "source": [
    "As the data is very old, the RFM analysis will work under the assumption that the current date is the date on which the last sale was made, so the actual year is 2005 and the last year for the frequency and monetary characteristics is 2004.\n",
    "The following code is computing the recency, frequency, and monetary value for each customer using the following steps:\n",
    "\n",
    "1. The `last_order_date` variable is set to the maximum value of the `ORDERDATE` column in the `data` DataFrame, which represents the date of the last order in the dataset.\n",
    "\n",
    "2. The `current_date` variable is set to the same value as `last_order_date`, which assumes that the current date is the date on which the last sale was made.\n",
    "\n",
    "3. The `last_year` variable is calculated as one year ago from the `current_date`, which is used to filter the data for the last year of sales in the dataset.\n",
    "\n",
    "4. Three new columns are created in the `data` DataFrame: `RECENCY_days`, `FREQUENCY_last_year`, and `MONETARY_last_year`. These columns will be used to store the recency, frequency, and monetary value for each customer, respectively.\n",
    "\n",
    "5. The `recency_quantity` variable is created by grouping the `data` DataFrame by `CUSTOMERNAME` and applying a lambda function to the `ORDERDATE` column that calculates the number of days between the `current_date` and the maximum order date for each customer(this says how long it has been since the customer placed their last order). This results in a DataFrame that contains the recency value for each customer.\n",
    "\n",
    "6. The `frecuency_monetary_ordered_last_year` variable is created by filtering the `data` DataFrame to include only the rows where the `ORDERDATE` is greater than or equal to `last_year`, grouping the resulting DataFrame by `CUSTOMERNAME`, and applying a lambda function to three columns: `FREQUENCY_last_year`, `MONETARY_last_year`, and `QUANTITYORDERED`. The `FREQUENCY_last_year` column is used to calculate the frequency of orders (i.e., the number of unique order numbers), the `MONETARY_last_year` column is used to calculate the monetary value of orders (i.e., the sum of sales), and the `QUANTITYORDERED` column is used to calculate the total quantity ordered in the last year.\n",
    "\n",
    "7. The `recency_quantity` and `frecuency_monetary_ordered_last_year` DataFrames are concatenated along the column axis using `pd.concat()` to create a new DataFrame called `rfm_data`. This DataFrame contains the recency, frequency, monetary value, and quantity ordered data for each customer.\n",
    "\n",
    "8. Any missing values in `rfm_data` are filled with 0 using the `fillna()` method. The missing values ​​are the product of the fact that some clients have not placed orders in the last year.\n",
    "\n",
    "The result of this cell is a DataFrame containning the RFM analysis of the data plus the `QUANTITYORDERED` characteristic that gives the meassurement of the total quantity ordered in the last year by each customer"
   ]
  },
  {
   "cell_type": "code",
   "execution_count": 17,
   "metadata": {},
   "outputs": [
    {
     "data": {
      "text/html": [
       "<div>\n",
       "<style scoped>\n",
       "    .dataframe tbody tr th:only-of-type {\n",
       "        vertical-align: middle;\n",
       "    }\n",
       "\n",
       "    .dataframe tbody tr th {\n",
       "        vertical-align: top;\n",
       "    }\n",
       "\n",
       "    .dataframe thead th {\n",
       "        text-align: right;\n",
       "    }\n",
       "</style>\n",
       "<table border=\"1\" class=\"dataframe\">\n",
       "  <thead>\n",
       "    <tr style=\"text-align: right;\">\n",
       "      <th></th>\n",
       "      <th>RECENCY_days</th>\n",
       "      <th>FREQUENCY_last_year</th>\n",
       "      <th>MONETARY_last_year</th>\n",
       "      <th>QUANTITYORDERED_last_year</th>\n",
       "    </tr>\n",
       "    <tr>\n",
       "      <th>CUSTOMERNAME</th>\n",
       "      <th></th>\n",
       "      <th></th>\n",
       "      <th></th>\n",
       "      <th></th>\n",
       "    </tr>\n",
       "  </thead>\n",
       "  <tbody>\n",
       "    <tr>\n",
       "      <th>AV Stores, Co.</th>\n",
       "      <td>181</td>\n",
       "      <td>2.0</td>\n",
       "      <td>106789.89</td>\n",
       "      <td>1208.0</td>\n",
       "    </tr>\n",
       "    <tr>\n",
       "      <th>Alpha Cognac</th>\n",
       "      <td>50</td>\n",
       "      <td>1.0</td>\n",
       "      <td>15139.12</td>\n",
       "      <td>172.0</td>\n",
       "    </tr>\n",
       "    <tr>\n",
       "      <th>Amica Models &amp; Co.</th>\n",
       "      <td>250</td>\n",
       "      <td>2.0</td>\n",
       "      <td>94117.26</td>\n",
       "      <td>843.0</td>\n",
       "    </tr>\n",
       "    <tr>\n",
       "      <th>Anna's Decorations, Ltd</th>\n",
       "      <td>69</td>\n",
       "      <td>2.0</td>\n",
       "      <td>65012.42</td>\n",
       "      <td>595.0</td>\n",
       "    </tr>\n",
       "    <tr>\n",
       "      <th>Atelier graphique</th>\n",
       "      <td>173</td>\n",
       "      <td>2.0</td>\n",
       "      <td>7619.66</td>\n",
       "      <td>114.0</td>\n",
       "    </tr>\n",
       "    <tr>\n",
       "      <th>...</th>\n",
       "      <td>...</td>\n",
       "      <td>...</td>\n",
       "      <td>...</td>\n",
       "      <td>...</td>\n",
       "    </tr>\n",
       "    <tr>\n",
       "      <th>Vida Sport, Ltd</th>\n",
       "      <td>260</td>\n",
       "      <td>1.0</td>\n",
       "      <td>67281.01</td>\n",
       "      <td>595.0</td>\n",
       "    </tr>\n",
       "    <tr>\n",
       "      <th>Vitachrome Inc.</th>\n",
       "      <td>193</td>\n",
       "      <td>1.0</td>\n",
       "      <td>56372.87</td>\n",
       "      <td>468.0</td>\n",
       "    </tr>\n",
       "    <tr>\n",
       "      <th>Volvo Model Replicas, Co</th>\n",
       "      <td>189</td>\n",
       "      <td>2.0</td>\n",
       "      <td>39745.67</td>\n",
       "      <td>378.0</td>\n",
       "    </tr>\n",
       "    <tr>\n",
       "      <th>West Coast Collectables Co.</th>\n",
       "      <td>474</td>\n",
       "      <td>0.0</td>\n",
       "      <td>0.00</td>\n",
       "      <td>0.0</td>\n",
       "    </tr>\n",
       "    <tr>\n",
       "      <th>giftsbymail.co.uk</th>\n",
       "      <td>197</td>\n",
       "      <td>1.0</td>\n",
       "      <td>51334.16</td>\n",
       "      <td>623.0</td>\n",
       "    </tr>\n",
       "  </tbody>\n",
       "</table>\n",
       "<p>92 rows × 4 columns</p>\n",
       "</div>"
      ],
      "text/plain": [
       "                             RECENCY_days  FREQUENCY_last_year   \n",
       "CUSTOMERNAME                                                     \n",
       "AV Stores, Co.                        181                  2.0  \\\n",
       "Alpha Cognac                           50                  1.0   \n",
       "Amica Models & Co.                    250                  2.0   \n",
       "Anna's Decorations, Ltd                69                  2.0   \n",
       "Atelier graphique                     173                  2.0   \n",
       "...                                   ...                  ...   \n",
       "Vida Sport, Ltd                       260                  1.0   \n",
       "Vitachrome Inc.                       193                  1.0   \n",
       "Volvo Model Replicas, Co              189                  2.0   \n",
       "West Coast Collectables Co.           474                  0.0   \n",
       "giftsbymail.co.uk                     197                  1.0   \n",
       "\n",
       "                             MONETARY_last_year  QUANTITYORDERED_last_year  \n",
       "CUSTOMERNAME                                                                \n",
       "AV Stores, Co.                        106789.89                     1208.0  \n",
       "Alpha Cognac                           15139.12                      172.0  \n",
       "Amica Models & Co.                     94117.26                      843.0  \n",
       "Anna's Decorations, Ltd                65012.42                      595.0  \n",
       "Atelier graphique                       7619.66                      114.0  \n",
       "...                                         ...                        ...  \n",
       "Vida Sport, Ltd                        67281.01                      595.0  \n",
       "Vitachrome Inc.                        56372.87                      468.0  \n",
       "Volvo Model Replicas, Co               39745.67                      378.0  \n",
       "West Coast Collectables Co.                0.00                        0.0  \n",
       "giftsbymail.co.uk                      51334.16                      623.0  \n",
       "\n",
       "[92 rows x 4 columns]"
      ]
     },
     "execution_count": 17,
     "metadata": {},
     "output_type": "execute_result"
    }
   ],
   "source": [
    "# Getting the last order date from the 'data' DataFrame\n",
    "last_order_date: dt.datetime = max(sales_data[\"ORDERDATE\"])\n",
    "\n",
    "# Assuming that the current date is the date on which the last sale was made\n",
    "current_date: dt.datetime = last_order_date\n",
    "\n",
    "# Calculating the date that was one year ago from the current date, this date will be used to filter the data from the current date to the last year to analyze the RFM\n",
    "last_year = current_date - dt.timedelta(days=365)\n",
    "\n",
    "# Creating new columns in the 'data' DataFrame for the RFM analysis\n",
    "sales_data[\"RECENCY_days\"] = sales_data[\"ORDERDATE\"].copy() \n",
    "sales_data[\"FREQUENCY_last_year\"] = sales_data[\"ORDERNUMBER\"].copy()\n",
    "sales_data[\"MONETARY_last_year\"] = sales_data[\"SALES\"].copy()\n",
    "\n",
    "# Calculating the recency for each customer\n",
    "recency_quantity = sales_data.groupby(by='CUSTOMERNAME').agg({\"RECENCY_days\": lambda order_dates: (current_date - order_dates.max()).days})\n",
    "\n",
    "# Calculating the frequency, monetary value, and quantity ordered in the last year for each customer\n",
    "frecuency_monetary_ordered_last_year = sales_data[sales_data[\"ORDERDATE\"] >= last_year].groupby('CUSTOMERNAME').agg({\"FREQUENCY_last_year\": lambda order_number: len(order_number.unique()),\n",
    "                                                                                                         \"MONETARY_last_year\": lambda sales: sales.sum(),\n",
    "                                                                                                         \"QUANTITYORDERED\": lambda quantity: int(quantity.sum())})\n",
    "\n",
    "# Renaming the 'QUANTITYORDERED' column to 'QUANTITYORDERED_last_year'\n",
    "frecuency_monetary_ordered_last_year.rename(columns={\"QUANTITYORDERED\": \"QUANTITYORDERED_last_year\"}, inplace=True)\n",
    "\n",
    "# Concatenating the recency, frequency, monetary, and quantity data into a single DataFrame for the RFM analysis\n",
    "rfm_df = pd.concat([recency_quantity, frecuency_monetary_ordered_last_year], axis=1)\n",
    "\n",
    "# Filling any missing values with 0\n",
    "rfm_df.fillna(0, inplace=True)\n",
    "rfm_df"
   ]
  },
  {
   "cell_type": "markdown",
   "metadata": {},
   "source": [
    "## Adding the RFM Analysis to the Customer DataFrame"
   ]
  },
  {
   "cell_type": "code",
   "execution_count": 18,
   "metadata": {},
   "outputs": [
    {
     "data": {
      "text/html": [
       "<div>\n",
       "<style scoped>\n",
       "    .dataframe tbody tr th:only-of-type {\n",
       "        vertical-align: middle;\n",
       "    }\n",
       "\n",
       "    .dataframe tbody tr th {\n",
       "        vertical-align: top;\n",
       "    }\n",
       "\n",
       "    .dataframe thead th {\n",
       "        text-align: right;\n",
       "    }\n",
       "</style>\n",
       "<table border=\"1\" class=\"dataframe\">\n",
       "  <thead>\n",
       "    <tr style=\"text-align: right;\">\n",
       "      <th></th>\n",
       "      <th>RECENCY_days</th>\n",
       "      <th>FREQUENCY_last_year</th>\n",
       "      <th>MONETARY_last_year</th>\n",
       "      <th>QUANTITYORDERED_last_year</th>\n",
       "      <th>COUNTRY</th>\n",
       "      <th>CITY</th>\n",
       "      <th>PHONE</th>\n",
       "      <th>CONTACTLASTNAME</th>\n",
       "      <th>CONTACTFIRSTNAME</th>\n",
       "    </tr>\n",
       "    <tr>\n",
       "      <th>CUSTOMERNAME</th>\n",
       "      <th></th>\n",
       "      <th></th>\n",
       "      <th></th>\n",
       "      <th></th>\n",
       "      <th></th>\n",
       "      <th></th>\n",
       "      <th></th>\n",
       "      <th></th>\n",
       "      <th></th>\n",
       "    </tr>\n",
       "  </thead>\n",
       "  <tbody>\n",
       "    <tr>\n",
       "      <th>AV Stores, Co.</th>\n",
       "      <td>181</td>\n",
       "      <td>2.0</td>\n",
       "      <td>106789.89</td>\n",
       "      <td>1208.0</td>\n",
       "      <td>UK</td>\n",
       "      <td>Manchester</td>\n",
       "      <td>(171) 555-1555</td>\n",
       "      <td>Ashworth</td>\n",
       "      <td>Victoria</td>\n",
       "    </tr>\n",
       "    <tr>\n",
       "      <th>Alpha Cognac</th>\n",
       "      <td>50</td>\n",
       "      <td>1.0</td>\n",
       "      <td>15139.12</td>\n",
       "      <td>172.0</td>\n",
       "      <td>France</td>\n",
       "      <td>Toulouse</td>\n",
       "      <td>61.77.6555</td>\n",
       "      <td>Roulet</td>\n",
       "      <td>Annette</td>\n",
       "    </tr>\n",
       "    <tr>\n",
       "      <th>Amica Models &amp; Co.</th>\n",
       "      <td>250</td>\n",
       "      <td>2.0</td>\n",
       "      <td>94117.26</td>\n",
       "      <td>843.0</td>\n",
       "      <td>Italy</td>\n",
       "      <td>Torino</td>\n",
       "      <td>011-4988555</td>\n",
       "      <td>Accorti</td>\n",
       "      <td>Paolo</td>\n",
       "    </tr>\n",
       "    <tr>\n",
       "      <th>Anna's Decorations, Ltd</th>\n",
       "      <td>69</td>\n",
       "      <td>2.0</td>\n",
       "      <td>65012.42</td>\n",
       "      <td>595.0</td>\n",
       "      <td>Australia</td>\n",
       "      <td>North Sydney</td>\n",
       "      <td>02 9936 8555</td>\n",
       "      <td>O'Hara</td>\n",
       "      <td>Anna</td>\n",
       "    </tr>\n",
       "    <tr>\n",
       "      <th>Atelier graphique</th>\n",
       "      <td>173</td>\n",
       "      <td>2.0</td>\n",
       "      <td>7619.66</td>\n",
       "      <td>114.0</td>\n",
       "      <td>France</td>\n",
       "      <td>Nantes</td>\n",
       "      <td>40.32.2555</td>\n",
       "      <td>Schmitt</td>\n",
       "      <td>Carine</td>\n",
       "    </tr>\n",
       "    <tr>\n",
       "      <th>...</th>\n",
       "      <td>...</td>\n",
       "      <td>...</td>\n",
       "      <td>...</td>\n",
       "      <td>...</td>\n",
       "      <td>...</td>\n",
       "      <td>...</td>\n",
       "      <td>...</td>\n",
       "      <td>...</td>\n",
       "      <td>...</td>\n",
       "    </tr>\n",
       "    <tr>\n",
       "      <th>Vida Sport, Ltd</th>\n",
       "      <td>260</td>\n",
       "      <td>1.0</td>\n",
       "      <td>67281.01</td>\n",
       "      <td>595.0</td>\n",
       "      <td>Switzerland</td>\n",
       "      <td>Gensve</td>\n",
       "      <td>0897-034555</td>\n",
       "      <td>Holz</td>\n",
       "      <td>Michael</td>\n",
       "    </tr>\n",
       "    <tr>\n",
       "      <th>Vitachrome Inc.</th>\n",
       "      <td>193</td>\n",
       "      <td>1.0</td>\n",
       "      <td>56372.87</td>\n",
       "      <td>468.0</td>\n",
       "      <td>USA</td>\n",
       "      <td>NYC</td>\n",
       "      <td>2125551500</td>\n",
       "      <td>Frick</td>\n",
       "      <td>Michael</td>\n",
       "    </tr>\n",
       "    <tr>\n",
       "      <th>Volvo Model Replicas, Co</th>\n",
       "      <td>189</td>\n",
       "      <td>2.0</td>\n",
       "      <td>39745.67</td>\n",
       "      <td>378.0</td>\n",
       "      <td>Sweden</td>\n",
       "      <td>Lule</td>\n",
       "      <td>0921-12 3555</td>\n",
       "      <td>Berglund</td>\n",
       "      <td>Christina</td>\n",
       "    </tr>\n",
       "    <tr>\n",
       "      <th>West Coast Collectables Co.</th>\n",
       "      <td>474</td>\n",
       "      <td>0.0</td>\n",
       "      <td>0.00</td>\n",
       "      <td>0.0</td>\n",
       "      <td>USA</td>\n",
       "      <td>Burbank</td>\n",
       "      <td>3105553722</td>\n",
       "      <td>Thompson</td>\n",
       "      <td>Steve</td>\n",
       "    </tr>\n",
       "    <tr>\n",
       "      <th>giftsbymail.co.uk</th>\n",
       "      <td>197</td>\n",
       "      <td>1.0</td>\n",
       "      <td>51334.16</td>\n",
       "      <td>623.0</td>\n",
       "      <td>UK</td>\n",
       "      <td>Cowes</td>\n",
       "      <td>(198) 555-8888</td>\n",
       "      <td>Bennett</td>\n",
       "      <td>Helen</td>\n",
       "    </tr>\n",
       "  </tbody>\n",
       "</table>\n",
       "<p>92 rows × 9 columns</p>\n",
       "</div>"
      ],
      "text/plain": [
       "                             RECENCY_days  FREQUENCY_last_year   \n",
       "CUSTOMERNAME                                                     \n",
       "AV Stores, Co.                        181                  2.0  \\\n",
       "Alpha Cognac                           50                  1.0   \n",
       "Amica Models & Co.                    250                  2.0   \n",
       "Anna's Decorations, Ltd                69                  2.0   \n",
       "Atelier graphique                     173                  2.0   \n",
       "...                                   ...                  ...   \n",
       "Vida Sport, Ltd                       260                  1.0   \n",
       "Vitachrome Inc.                       193                  1.0   \n",
       "Volvo Model Replicas, Co              189                  2.0   \n",
       "West Coast Collectables Co.           474                  0.0   \n",
       "giftsbymail.co.uk                     197                  1.0   \n",
       "\n",
       "                             MONETARY_last_year  QUANTITYORDERED_last_year   \n",
       "CUSTOMERNAME                                                                 \n",
       "AV Stores, Co.                        106789.89                     1208.0  \\\n",
       "Alpha Cognac                           15139.12                      172.0   \n",
       "Amica Models & Co.                     94117.26                      843.0   \n",
       "Anna's Decorations, Ltd                65012.42                      595.0   \n",
       "Atelier graphique                       7619.66                      114.0   \n",
       "...                                         ...                        ...   \n",
       "Vida Sport, Ltd                        67281.01                      595.0   \n",
       "Vitachrome Inc.                        56372.87                      468.0   \n",
       "Volvo Model Replicas, Co               39745.67                      378.0   \n",
       "West Coast Collectables Co.                0.00                        0.0   \n",
       "giftsbymail.co.uk                      51334.16                      623.0   \n",
       "\n",
       "                                 COUNTRY          CITY           PHONE   \n",
       "CUSTOMERNAME                                                             \n",
       "AV Stores, Co.                        UK    Manchester  (171) 555-1555  \\\n",
       "Alpha Cognac                      France      Toulouse      61.77.6555   \n",
       "Amica Models & Co.                 Italy        Torino     011-4988555   \n",
       "Anna's Decorations, Ltd        Australia  North Sydney    02 9936 8555   \n",
       "Atelier graphique                 France        Nantes      40.32.2555   \n",
       "...                                  ...           ...             ...   \n",
       "Vida Sport, Ltd              Switzerland        Gensve     0897-034555   \n",
       "Vitachrome Inc.                      USA           NYC      2125551500   \n",
       "Volvo Model Replicas, Co          Sweden          Lule    0921-12 3555   \n",
       "West Coast Collectables Co.          USA       Burbank      3105553722   \n",
       "giftsbymail.co.uk                     UK         Cowes  (198) 555-8888   \n",
       "\n",
       "                            CONTACTLASTNAME CONTACTFIRSTNAME  \n",
       "CUSTOMERNAME                                                  \n",
       "AV Stores, Co.                     Ashworth         Victoria  \n",
       "Alpha Cognac                         Roulet          Annette  \n",
       "Amica Models & Co.                  Accorti            Paolo  \n",
       "Anna's Decorations, Ltd              O'Hara             Anna  \n",
       "Atelier graphique                   Schmitt           Carine  \n",
       "...                                     ...              ...  \n",
       "Vida Sport, Ltd                        Holz          Michael  \n",
       "Vitachrome Inc.                       Frick          Michael  \n",
       "Volvo Model Replicas, Co           Berglund        Christina  \n",
       "West Coast Collectables Co.        Thompson            Steve  \n",
       "giftsbymail.co.uk                   Bennett            Helen  \n",
       "\n",
       "[92 rows x 9 columns]"
      ]
     },
     "execution_count": 18,
     "metadata": {},
     "output_type": "execute_result"
    }
   ],
   "source": [
    "customer_df = pd.concat([rfm_df, customer_df], axis=1)\n",
    "customer_df"
   ]
  },
  {
   "cell_type": "markdown",
   "metadata": {},
   "source": [
    "## Bivariate Analysis"
   ]
  },
  {
   "cell_type": "markdown",
   "metadata": {},
   "source": [
    "Bivariate analysis entails determining the correlation between two features.\n",
    "Let's check the relationship between the Recency and the Frequency"
   ]
  },
  {
   "cell_type": "code",
   "execution_count": 19,
   "metadata": {},
   "outputs": [
    {
     "data": {
      "application/vnd.plotly.v1+json": {
       "config": {
        "plotlyServerURL": "https://plot.ly"
       },
       "data": [
        {
         "hovertemplate": "RECENCY_days=%{x}<br>FREQUENCY_last_year=%{y}<extra></extra>",
         "legendgroup": "",
         "marker": {
          "color": "#636efa",
          "symbol": "circle"
         },
         "mode": "markers",
         "name": "",
         "orientation": "v",
         "showlegend": false,
         "type": "scatter",
         "x": [
          181,
          50,
          250,
          69,
          173,
          319,
          169,
          104,
          218,
          40,
          165,
          193,
          244,
          193,
          98,
          424,
          374,
          207,
          215,
          177,
          243,
          446,
          117,
          83,
          197,
          182,
          451,
          343,
          196,
          386,
          481,
          76,
          174,
          14,
          75,
          12,
          164,
          249,
          24,
          207,
          256,
          223,
          7,
          178,
          103,
          183,
          61,
          131,
          216,
          494,
          195,
          68,
          33,
          214,
          130,
          55,
          180,
          181,
          167,
          269,
          194,
          249,
          399,
          106,
          300,
          16,
          48,
          186,
          270,
          127,
          0,
          441,
          75,
          462,
          169,
          151,
          165,
          131,
          378,
          132,
          364,
          46,
          25,
          213,
          97,
          546,
          39,
          260,
          193,
          189,
          474,
          197
         ],
         "xaxis": "x",
         "y": [
          2,
          1,
          2,
          2,
          2,
          1,
          2,
          1,
          1,
          2,
          2,
          2,
          1,
          1,
          1,
          0,
          0,
          1,
          1,
          1,
          1,
          0,
          2,
          2,
          1,
          1,
          0,
          1,
          3,
          0,
          0,
          2,
          1,
          11,
          2,
          2,
          1,
          2,
          3,
          1,
          1,
          1,
          2,
          2,
          3,
          2,
          2,
          2,
          2,
          0,
          1,
          1,
          2,
          1,
          1,
          11,
          1,
          1,
          2,
          1,
          1,
          2,
          0,
          1,
          1,
          2,
          3,
          1,
          1,
          2,
          3,
          0,
          2,
          0,
          2,
          2,
          1,
          1,
          0,
          2,
          1,
          2,
          4,
          1,
          2,
          0,
          1,
          1,
          1,
          2,
          0,
          1
         ],
         "yaxis": "y"
        }
       ],
       "layout": {
        "height": 500,
        "legend": {
         "tracegroupgap": 0
        },
        "template": {
         "data": {
          "bar": [
           {
            "error_x": {
             "color": "#2a3f5f"
            },
            "error_y": {
             "color": "#2a3f5f"
            },
            "marker": {
             "line": {
              "color": "#E5ECF6",
              "width": 0.5
             },
             "pattern": {
              "fillmode": "overlay",
              "size": 10,
              "solidity": 0.2
             }
            },
            "type": "bar"
           }
          ],
          "barpolar": [
           {
            "marker": {
             "line": {
              "color": "#E5ECF6",
              "width": 0.5
             },
             "pattern": {
              "fillmode": "overlay",
              "size": 10,
              "solidity": 0.2
             }
            },
            "type": "barpolar"
           }
          ],
          "carpet": [
           {
            "aaxis": {
             "endlinecolor": "#2a3f5f",
             "gridcolor": "white",
             "linecolor": "white",
             "minorgridcolor": "white",
             "startlinecolor": "#2a3f5f"
            },
            "baxis": {
             "endlinecolor": "#2a3f5f",
             "gridcolor": "white",
             "linecolor": "white",
             "minorgridcolor": "white",
             "startlinecolor": "#2a3f5f"
            },
            "type": "carpet"
           }
          ],
          "choropleth": [
           {
            "colorbar": {
             "outlinewidth": 0,
             "ticks": ""
            },
            "type": "choropleth"
           }
          ],
          "contour": [
           {
            "colorbar": {
             "outlinewidth": 0,
             "ticks": ""
            },
            "colorscale": [
             [
              0,
              "#0d0887"
             ],
             [
              0.1111111111111111,
              "#46039f"
             ],
             [
              0.2222222222222222,
              "#7201a8"
             ],
             [
              0.3333333333333333,
              "#9c179e"
             ],
             [
              0.4444444444444444,
              "#bd3786"
             ],
             [
              0.5555555555555556,
              "#d8576b"
             ],
             [
              0.6666666666666666,
              "#ed7953"
             ],
             [
              0.7777777777777778,
              "#fb9f3a"
             ],
             [
              0.8888888888888888,
              "#fdca26"
             ],
             [
              1,
              "#f0f921"
             ]
            ],
            "type": "contour"
           }
          ],
          "contourcarpet": [
           {
            "colorbar": {
             "outlinewidth": 0,
             "ticks": ""
            },
            "type": "contourcarpet"
           }
          ],
          "heatmap": [
           {
            "colorbar": {
             "outlinewidth": 0,
             "ticks": ""
            },
            "colorscale": [
             [
              0,
              "#0d0887"
             ],
             [
              0.1111111111111111,
              "#46039f"
             ],
             [
              0.2222222222222222,
              "#7201a8"
             ],
             [
              0.3333333333333333,
              "#9c179e"
             ],
             [
              0.4444444444444444,
              "#bd3786"
             ],
             [
              0.5555555555555556,
              "#d8576b"
             ],
             [
              0.6666666666666666,
              "#ed7953"
             ],
             [
              0.7777777777777778,
              "#fb9f3a"
             ],
             [
              0.8888888888888888,
              "#fdca26"
             ],
             [
              1,
              "#f0f921"
             ]
            ],
            "type": "heatmap"
           }
          ],
          "heatmapgl": [
           {
            "colorbar": {
             "outlinewidth": 0,
             "ticks": ""
            },
            "colorscale": [
             [
              0,
              "#0d0887"
             ],
             [
              0.1111111111111111,
              "#46039f"
             ],
             [
              0.2222222222222222,
              "#7201a8"
             ],
             [
              0.3333333333333333,
              "#9c179e"
             ],
             [
              0.4444444444444444,
              "#bd3786"
             ],
             [
              0.5555555555555556,
              "#d8576b"
             ],
             [
              0.6666666666666666,
              "#ed7953"
             ],
             [
              0.7777777777777778,
              "#fb9f3a"
             ],
             [
              0.8888888888888888,
              "#fdca26"
             ],
             [
              1,
              "#f0f921"
             ]
            ],
            "type": "heatmapgl"
           }
          ],
          "histogram": [
           {
            "marker": {
             "pattern": {
              "fillmode": "overlay",
              "size": 10,
              "solidity": 0.2
             }
            },
            "type": "histogram"
           }
          ],
          "histogram2d": [
           {
            "colorbar": {
             "outlinewidth": 0,
             "ticks": ""
            },
            "colorscale": [
             [
              0,
              "#0d0887"
             ],
             [
              0.1111111111111111,
              "#46039f"
             ],
             [
              0.2222222222222222,
              "#7201a8"
             ],
             [
              0.3333333333333333,
              "#9c179e"
             ],
             [
              0.4444444444444444,
              "#bd3786"
             ],
             [
              0.5555555555555556,
              "#d8576b"
             ],
             [
              0.6666666666666666,
              "#ed7953"
             ],
             [
              0.7777777777777778,
              "#fb9f3a"
             ],
             [
              0.8888888888888888,
              "#fdca26"
             ],
             [
              1,
              "#f0f921"
             ]
            ],
            "type": "histogram2d"
           }
          ],
          "histogram2dcontour": [
           {
            "colorbar": {
             "outlinewidth": 0,
             "ticks": ""
            },
            "colorscale": [
             [
              0,
              "#0d0887"
             ],
             [
              0.1111111111111111,
              "#46039f"
             ],
             [
              0.2222222222222222,
              "#7201a8"
             ],
             [
              0.3333333333333333,
              "#9c179e"
             ],
             [
              0.4444444444444444,
              "#bd3786"
             ],
             [
              0.5555555555555556,
              "#d8576b"
             ],
             [
              0.6666666666666666,
              "#ed7953"
             ],
             [
              0.7777777777777778,
              "#fb9f3a"
             ],
             [
              0.8888888888888888,
              "#fdca26"
             ],
             [
              1,
              "#f0f921"
             ]
            ],
            "type": "histogram2dcontour"
           }
          ],
          "mesh3d": [
           {
            "colorbar": {
             "outlinewidth": 0,
             "ticks": ""
            },
            "type": "mesh3d"
           }
          ],
          "parcoords": [
           {
            "line": {
             "colorbar": {
              "outlinewidth": 0,
              "ticks": ""
             }
            },
            "type": "parcoords"
           }
          ],
          "pie": [
           {
            "automargin": true,
            "type": "pie"
           }
          ],
          "scatter": [
           {
            "fillpattern": {
             "fillmode": "overlay",
             "size": 10,
             "solidity": 0.2
            },
            "type": "scatter"
           }
          ],
          "scatter3d": [
           {
            "line": {
             "colorbar": {
              "outlinewidth": 0,
              "ticks": ""
             }
            },
            "marker": {
             "colorbar": {
              "outlinewidth": 0,
              "ticks": ""
             }
            },
            "type": "scatter3d"
           }
          ],
          "scattercarpet": [
           {
            "marker": {
             "colorbar": {
              "outlinewidth": 0,
              "ticks": ""
             }
            },
            "type": "scattercarpet"
           }
          ],
          "scattergeo": [
           {
            "marker": {
             "colorbar": {
              "outlinewidth": 0,
              "ticks": ""
             }
            },
            "type": "scattergeo"
           }
          ],
          "scattergl": [
           {
            "marker": {
             "colorbar": {
              "outlinewidth": 0,
              "ticks": ""
             }
            },
            "type": "scattergl"
           }
          ],
          "scattermapbox": [
           {
            "marker": {
             "colorbar": {
              "outlinewidth": 0,
              "ticks": ""
             }
            },
            "type": "scattermapbox"
           }
          ],
          "scatterpolar": [
           {
            "marker": {
             "colorbar": {
              "outlinewidth": 0,
              "ticks": ""
             }
            },
            "type": "scatterpolar"
           }
          ],
          "scatterpolargl": [
           {
            "marker": {
             "colorbar": {
              "outlinewidth": 0,
              "ticks": ""
             }
            },
            "type": "scatterpolargl"
           }
          ],
          "scatterternary": [
           {
            "marker": {
             "colorbar": {
              "outlinewidth": 0,
              "ticks": ""
             }
            },
            "type": "scatterternary"
           }
          ],
          "surface": [
           {
            "colorbar": {
             "outlinewidth": 0,
             "ticks": ""
            },
            "colorscale": [
             [
              0,
              "#0d0887"
             ],
             [
              0.1111111111111111,
              "#46039f"
             ],
             [
              0.2222222222222222,
              "#7201a8"
             ],
             [
              0.3333333333333333,
              "#9c179e"
             ],
             [
              0.4444444444444444,
              "#bd3786"
             ],
             [
              0.5555555555555556,
              "#d8576b"
             ],
             [
              0.6666666666666666,
              "#ed7953"
             ],
             [
              0.7777777777777778,
              "#fb9f3a"
             ],
             [
              0.8888888888888888,
              "#fdca26"
             ],
             [
              1,
              "#f0f921"
             ]
            ],
            "type": "surface"
           }
          ],
          "table": [
           {
            "cells": {
             "fill": {
              "color": "#EBF0F8"
             },
             "line": {
              "color": "white"
             }
            },
            "header": {
             "fill": {
              "color": "#C8D4E3"
             },
             "line": {
              "color": "white"
             }
            },
            "type": "table"
           }
          ]
         },
         "layout": {
          "annotationdefaults": {
           "arrowcolor": "#2a3f5f",
           "arrowhead": 0,
           "arrowwidth": 1
          },
          "autotypenumbers": "strict",
          "coloraxis": {
           "colorbar": {
            "outlinewidth": 0,
            "ticks": ""
           }
          },
          "colorscale": {
           "diverging": [
            [
             0,
             "#8e0152"
            ],
            [
             0.1,
             "#c51b7d"
            ],
            [
             0.2,
             "#de77ae"
            ],
            [
             0.3,
             "#f1b6da"
            ],
            [
             0.4,
             "#fde0ef"
            ],
            [
             0.5,
             "#f7f7f7"
            ],
            [
             0.6,
             "#e6f5d0"
            ],
            [
             0.7,
             "#b8e186"
            ],
            [
             0.8,
             "#7fbc41"
            ],
            [
             0.9,
             "#4d9221"
            ],
            [
             1,
             "#276419"
            ]
           ],
           "sequential": [
            [
             0,
             "#0d0887"
            ],
            [
             0.1111111111111111,
             "#46039f"
            ],
            [
             0.2222222222222222,
             "#7201a8"
            ],
            [
             0.3333333333333333,
             "#9c179e"
            ],
            [
             0.4444444444444444,
             "#bd3786"
            ],
            [
             0.5555555555555556,
             "#d8576b"
            ],
            [
             0.6666666666666666,
             "#ed7953"
            ],
            [
             0.7777777777777778,
             "#fb9f3a"
            ],
            [
             0.8888888888888888,
             "#fdca26"
            ],
            [
             1,
             "#f0f921"
            ]
           ],
           "sequentialminus": [
            [
             0,
             "#0d0887"
            ],
            [
             0.1111111111111111,
             "#46039f"
            ],
            [
             0.2222222222222222,
             "#7201a8"
            ],
            [
             0.3333333333333333,
             "#9c179e"
            ],
            [
             0.4444444444444444,
             "#bd3786"
            ],
            [
             0.5555555555555556,
             "#d8576b"
            ],
            [
             0.6666666666666666,
             "#ed7953"
            ],
            [
             0.7777777777777778,
             "#fb9f3a"
            ],
            [
             0.8888888888888888,
             "#fdca26"
            ],
            [
             1,
             "#f0f921"
            ]
           ]
          },
          "colorway": [
           "#636efa",
           "#EF553B",
           "#00cc96",
           "#ab63fa",
           "#FFA15A",
           "#19d3f3",
           "#FF6692",
           "#B6E880",
           "#FF97FF",
           "#FECB52"
          ],
          "font": {
           "color": "#2a3f5f"
          },
          "geo": {
           "bgcolor": "white",
           "lakecolor": "white",
           "landcolor": "#E5ECF6",
           "showlakes": true,
           "showland": true,
           "subunitcolor": "white"
          },
          "hoverlabel": {
           "align": "left"
          },
          "hovermode": "closest",
          "mapbox": {
           "style": "light"
          },
          "paper_bgcolor": "white",
          "plot_bgcolor": "#E5ECF6",
          "polar": {
           "angularaxis": {
            "gridcolor": "white",
            "linecolor": "white",
            "ticks": ""
           },
           "bgcolor": "#E5ECF6",
           "radialaxis": {
            "gridcolor": "white",
            "linecolor": "white",
            "ticks": ""
           }
          },
          "scene": {
           "xaxis": {
            "backgroundcolor": "#E5ECF6",
            "gridcolor": "white",
            "gridwidth": 2,
            "linecolor": "white",
            "showbackground": true,
            "ticks": "",
            "zerolinecolor": "white"
           },
           "yaxis": {
            "backgroundcolor": "#E5ECF6",
            "gridcolor": "white",
            "gridwidth": 2,
            "linecolor": "white",
            "showbackground": true,
            "ticks": "",
            "zerolinecolor": "white"
           },
           "zaxis": {
            "backgroundcolor": "#E5ECF6",
            "gridcolor": "white",
            "gridwidth": 2,
            "linecolor": "white",
            "showbackground": true,
            "ticks": "",
            "zerolinecolor": "white"
           }
          },
          "shapedefaults": {
           "line": {
            "color": "#2a3f5f"
           }
          },
          "ternary": {
           "aaxis": {
            "gridcolor": "white",
            "linecolor": "white",
            "ticks": ""
           },
           "baxis": {
            "gridcolor": "white",
            "linecolor": "white",
            "ticks": ""
           },
           "bgcolor": "#E5ECF6",
           "caxis": {
            "gridcolor": "white",
            "linecolor": "white",
            "ticks": ""
           }
          },
          "title": {
           "x": 0.05
          },
          "xaxis": {
           "automargin": true,
           "gridcolor": "white",
           "linecolor": "white",
           "ticks": "",
           "title": {
            "standoff": 15
           },
           "zerolinecolor": "white",
           "zerolinewidth": 2
          },
          "yaxis": {
           "automargin": true,
           "gridcolor": "white",
           "linecolor": "white",
           "ticks": "",
           "title": {
            "standoff": 15
           },
           "zerolinecolor": "white",
           "zerolinewidth": 2
          }
         }
        },
        "title": {
         "text": "Relationship between RECENCY VS FREQUENCY"
        },
        "xaxis": {
         "anchor": "y",
         "domain": [
          0,
          1
         ],
         "title": {
          "text": "RECENCY_days"
         }
        },
        "yaxis": {
         "anchor": "x",
         "domain": [
          0,
          1
         ],
         "title": {
          "text": "FREQUENCY_last_year"
         }
        }
       }
      }
     },
     "metadata": {},
     "output_type": "display_data"
    }
   ],
   "source": [
    "fig = px.scatter(\n",
    "    data_frame=customer_df,\n",
    "    x = \"RECENCY_days\",\n",
    "    y= \"FREQUENCY_last_year\",\n",
    "    title = \"Relationship between RECENCY VS FREQUENCY\",\n",
    "    # color = \"COUNTRY\",\n",
    "    height=500\n",
    ")\n",
    "fig.show()"
   ]
  },
  {
   "cell_type": "markdown",
   "metadata": {},
   "source": [
    "In the above picture we can see that customers that have less Frequency (amount of orders in the last year) have a higher value of Recency (time since the last purchased)"
   ]
  },
  {
   "cell_type": "markdown",
   "metadata": {},
   "source": [
    "Let's check the relationship between the Recency and Monetary"
   ]
  },
  {
   "cell_type": "code",
   "execution_count": 20,
   "metadata": {},
   "outputs": [
    {
     "data": {
      "application/vnd.plotly.v1+json": {
       "config": {
        "plotlyServerURL": "https://plot.ly"
       },
       "data": [
        {
         "hovertemplate": "COUNTRY=UK<br>RECENCY_days=%{x}<br>MONETARY_last_year=%{y}<extra></extra>",
         "legendgroup": "UK",
         "marker": {
          "color": "#636efa",
          "symbol": "circle"
         },
         "mode": "markers",
         "name": "UK",
         "orientation": "v",
         "showlegend": true,
         "type": "scatter",
         "x": [
          181,
          481,
          165,
          39,
          197
         ],
         "xaxis": "x",
         "y": [
          106789.89000000001,
          0,
          13739.900000000001,
          40802.810000000005,
          51334.16
         ],
         "yaxis": "y"
        },
        {
         "hovertemplate": "COUNTRY=France<br>RECENCY_days=%{x}<br>MONETARY_last_year=%{y}<extra></extra>",
         "legendgroup": "France",
         "marker": {
          "color": "#EF553B",
          "symbol": "circle"
         },
         "mode": "markers",
         "name": "France",
         "orientation": "v",
         "showlegend": true,
         "type": "scatter",
         "x": [
          50,
          173,
          218,
          40,
          451,
          178,
          103,
          61,
          131,
          33,
          48,
          441
         ],
         "xaxis": "x",
         "y": [
          15139.119999999999,
          7619.66,
          59074.899999999994,
          41998.01,
          0,
          58986.270000000004,
          136340.21,
          52945.45999999999,
          22454.3,
          41097.25,
          100924.66,
          0
         ],
         "yaxis": "y"
        },
        {
         "hovertemplate": "COUNTRY=Italy<br>RECENCY_days=%{x}<br>MONETARY_last_year=%{y}<extra></extra>",
         "legendgroup": "Italy",
         "marker": {
          "color": "#00cc96",
          "symbol": "circle"
         },
         "mode": "markers",
         "name": "Italy",
         "orientation": "v",
         "showlegend": true,
         "type": "scatter",
         "x": [
          250,
          7,
          186
         ],
         "xaxis": "x",
         "y": [
          94117.26,
          97931.59000000001,
          41696.689999999995
         ],
         "yaxis": "y"
        },
        {
         "hovertemplate": "COUNTRY=Australia<br>RECENCY_days=%{x}<br>MONETARY_last_year=%{y}<extra></extra>",
         "legendgroup": "Australia",
         "marker": {
          "color": "#ab63fa",
          "symbol": "circle"
         },
         "mode": "markers",
         "name": "Australia",
         "orientation": "v",
         "showlegend": true,
         "type": "scatter",
         "x": [
          69,
          319,
          169,
          104,
          151
         ],
         "xaxis": "x",
         "y": [
          65012.420000000006,
          12334.82,
          91222,
          21730.03,
          79202.29000000001
         ],
         "yaxis": "y"
        },
        {
         "hovertemplate": "COUNTRY=USA<br>RECENCY_days=%{x}<br>MONETARY_last_year=%{y}<extra></extra>",
         "legendgroup": "USA",
         "marker": {
          "color": "#FFA15A",
          "symbol": "circle"
         },
         "mode": "markers",
         "name": "USA",
         "orientation": "v",
         "showlegend": true,
         "type": "scatter",
         "x": [
          165,
          98,
          374,
          215,
          177,
          446,
          117,
          83,
          196,
          386,
          75,
          12,
          164,
          249,
          183,
          216,
          494,
          195,
          214,
          130,
          55,
          180,
          181,
          167,
          194,
          249,
          462,
          169,
          378,
          132,
          364,
          46,
          546,
          193,
          474
         ],
         "xaxis": "x",
         "y": [
          19201.91,
          3987.2,
          0,
          27445.309999999998,
          27733.04,
          0,
          46585.579999999994,
          54203.619999999995,
          115971.34000000001,
          0,
          87062.04000000001,
          75778.99,
          29343.35,
          34892.99,
          92928.01999999999,
          103080.38000000002,
          0,
          31446.149999999998,
          46873.04,
          11021.3,
          413545.42,
          30348.72,
          48996.1,
          64958.700000000004,
          55570.6,
          57197.95999999999,
          0,
          48903.46000000001,
          0,
          16445.77,
          27987.07,
          53654.94,
          0,
          56372.87,
          0
         ],
         "yaxis": "y"
        },
        {
         "hovertemplate": "COUNTRY=Norway<br>RECENCY_days=%{x}<br>MONETARY_last_year=%{y}<extra></extra>",
         "legendgroup": "Norway",
         "marker": {
          "color": "#19d3f3",
          "symbol": "circle"
         },
         "mode": "markers",
         "name": "Norway",
         "orientation": "v",
         "showlegend": true,
         "type": "scatter",
         "x": [
          193,
          256,
          269
         ],
         "xaxis": "x",
         "y": [
          60422.530000000006,
          16363.1,
          34145.47
         ],
         "yaxis": "y"
        },
        {
         "hovertemplate": "COUNTRY=Germany<br>RECENCY_days=%{x}<br>MONETARY_last_year=%{y}<extra></extra>",
         "legendgroup": "Germany",
         "marker": {
          "color": "#FF6692",
          "symbol": "circle"
         },
         "mode": "markers",
         "name": "Germany",
         "orientation": "v",
         "showlegend": true,
         "type": "scatter",
         "x": [
          244,
          193,
          213
         ],
         "xaxis": "x",
         "y": [
          34993.92,
          9214.970000000001,
          68943.40000000001
         ],
         "yaxis": "y"
        },
        {
         "hovertemplate": "COUNTRY=Spain<br>RECENCY_days=%{x}<br>MONETARY_last_year=%{y}<extra></extra>",
         "legendgroup": "Spain",
         "marker": {
          "color": "#B6E880",
          "symbol": "circle"
         },
         "mode": "markers",
         "name": "Spain",
         "orientation": "v",
         "showlegend": true,
         "type": "scatter",
         "x": [
          424,
          197,
          174,
          14,
          223
         ],
         "xaxis": "x",
         "y": [
          0,
          34546.600000000006,
          30183.350000000002,
          396474.36000000004,
          3220.88
         ],
         "yaxis": "y"
        },
        {
         "hovertemplate": "COUNTRY=Canada<br>RECENCY_days=%{x}<br>MONETARY_last_year=%{y}<extra></extra>",
         "legendgroup": "Canada",
         "marker": {
          "color": "#FF97FF",
          "symbol": "circle"
         },
         "mode": "markers",
         "name": "Canada",
         "orientation": "v",
         "showlegend": true,
         "type": "scatter",
         "x": [
          207,
          16,
          270
         ],
         "xaxis": "x",
         "y": [
          36576.71000000001,
          58257.50000000001,
          43332.350000000006
         ],
         "yaxis": "y"
        },
        {
         "hovertemplate": "COUNTRY=Ireland<br>RECENCY_days=%{x}<br>MONETARY_last_year=%{y}<extra></extra>",
         "legendgroup": "Ireland",
         "marker": {
          "color": "#FECB52",
          "symbol": "circle"
         },
         "mode": "markers",
         "name": "Ireland",
         "orientation": "v",
         "showlegend": true,
         "type": "scatter",
         "x": [
          243
         ],
         "xaxis": "x",
         "y": [
          18971.96
         ],
         "yaxis": "y"
        },
        {
         "hovertemplate": "COUNTRY=Philippines<br>RECENCY_days=%{x}<br>MONETARY_last_year=%{y}<extra></extra>",
         "legendgroup": "Philippines",
         "marker": {
          "color": "#636efa",
          "symbol": "circle"
         },
         "mode": "markers",
         "name": "Philippines",
         "orientation": "v",
         "showlegend": true,
         "type": "scatter",
         "x": [
          182
         ],
         "xaxis": "x",
         "y": [
          15928.75
         ],
         "yaxis": "y"
        },
        {
         "hovertemplate": "COUNTRY=Denmark<br>RECENCY_days=%{x}<br>MONETARY_last_year=%{y}<extra></extra>",
         "legendgroup": "Denmark",
         "marker": {
          "color": "#EF553B",
          "symbol": "circle"
         },
         "mode": "markers",
         "name": "Denmark",
         "orientation": "v",
         "showlegend": true,
         "type": "scatter",
         "x": [
          343,
          207
         ],
         "xaxis": "x",
         "y": [
          4749.45,
          60273.939999999995
         ],
         "yaxis": "y"
        },
        {
         "hovertemplate": "COUNTRY=Singapore<br>RECENCY_days=%{x}<br>MONETARY_last_year=%{y}<extra></extra>",
         "legendgroup": "Singapore",
         "marker": {
          "color": "#00cc96",
          "symbol": "circle"
         },
         "mode": "markers",
         "name": "Singapore",
         "orientation": "v",
         "showlegend": true,
         "type": "scatter",
         "x": [
          76,
          24
         ],
         "xaxis": "x",
         "y": [
          7303.4800000000005,
          91279.14000000003
         ],
         "yaxis": "y"
        },
        {
         "hovertemplate": "COUNTRY=Austria<br>RECENCY_days=%{x}<br>MONETARY_last_year=%{y}<extra></extra>",
         "legendgroup": "Austria",
         "marker": {
          "color": "#ab63fa",
          "symbol": "circle"
         },
         "mode": "markers",
         "name": "Austria",
         "orientation": "v",
         "showlegend": true,
         "type": "scatter",
         "x": [
          68,
          0
         ],
         "xaxis": "x",
         "y": [
          8775.16,
          111169.48999999999
         ],
         "yaxis": "y"
        },
        {
         "hovertemplate": "COUNTRY=Japan<br>RECENCY_days=%{x}<br>MONETARY_last_year=%{y}<extra></extra>",
         "legendgroup": "Japan",
         "marker": {
          "color": "#FFA15A",
          "symbol": "circle"
         },
         "mode": "markers",
         "name": "Japan",
         "orientation": "v",
         "showlegend": true,
         "type": "scatter",
         "x": [
          399,
          25
         ],
         "xaxis": "x",
         "y": [
          0,
          120562.74
         ],
         "yaxis": "y"
        },
        {
         "hovertemplate": "COUNTRY=Finland<br>RECENCY_days=%{x}<br>MONETARY_last_year=%{y}<extra></extra>",
         "legendgroup": "Finland",
         "marker": {
          "color": "#19d3f3",
          "symbol": "circle"
         },
         "mode": "markers",
         "name": "Finland",
         "orientation": "v",
         "showlegend": true,
         "type": "scatter",
         "x": [
          106,
          131,
          97
         ],
         "xaxis": "x",
         "y": [
          49055.4,
          51373.490000000005,
          69166.87999999999
         ],
         "yaxis": "y"
        },
        {
         "hovertemplate": "COUNTRY=Belgium<br>RECENCY_days=%{x}<br>MONETARY_last_year=%{y}<extra></extra>",
         "legendgroup": "Belgium",
         "marker": {
          "color": "#FF6692",
          "symbol": "circle"
         },
         "mode": "markers",
         "name": "Belgium",
         "orientation": "v",
         "showlegend": true,
         "type": "scatter",
         "x": [
          300,
          127
         ],
         "xaxis": "x",
         "y": [
          47760.479999999996,
          30091.640000000003
         ],
         "yaxis": "y"
        },
        {
         "hovertemplate": "COUNTRY=Sweden<br>RECENCY_days=%{x}<br>MONETARY_last_year=%{y}<extra></extra>",
         "legendgroup": "Sweden",
         "marker": {
          "color": "#B6E880",
          "symbol": "circle"
         },
         "mode": "markers",
         "name": "Sweden",
         "orientation": "v",
         "showlegend": true,
         "type": "scatter",
         "x": [
          75,
          189
         ],
         "xaxis": "x",
         "y": [
          85548.41,
          39745.670000000006
         ],
         "yaxis": "y"
        },
        {
         "hovertemplate": "COUNTRY=Switzerland<br>RECENCY_days=%{x}<br>MONETARY_last_year=%{y}<extra></extra>",
         "legendgroup": "Switzerland",
         "marker": {
          "color": "#FF97FF",
          "symbol": "circle"
         },
         "mode": "markers",
         "name": "Switzerland",
         "orientation": "v",
         "showlegend": true,
         "type": "scatter",
         "x": [
          260
         ],
         "xaxis": "x",
         "y": [
          67281.01000000001
         ],
         "yaxis": "y"
        }
       ],
       "layout": {
        "height": 500,
        "legend": {
         "title": {
          "text": "COUNTRY"
         },
         "tracegroupgap": 0
        },
        "template": {
         "data": {
          "bar": [
           {
            "error_x": {
             "color": "#2a3f5f"
            },
            "error_y": {
             "color": "#2a3f5f"
            },
            "marker": {
             "line": {
              "color": "#E5ECF6",
              "width": 0.5
             },
             "pattern": {
              "fillmode": "overlay",
              "size": 10,
              "solidity": 0.2
             }
            },
            "type": "bar"
           }
          ],
          "barpolar": [
           {
            "marker": {
             "line": {
              "color": "#E5ECF6",
              "width": 0.5
             },
             "pattern": {
              "fillmode": "overlay",
              "size": 10,
              "solidity": 0.2
             }
            },
            "type": "barpolar"
           }
          ],
          "carpet": [
           {
            "aaxis": {
             "endlinecolor": "#2a3f5f",
             "gridcolor": "white",
             "linecolor": "white",
             "minorgridcolor": "white",
             "startlinecolor": "#2a3f5f"
            },
            "baxis": {
             "endlinecolor": "#2a3f5f",
             "gridcolor": "white",
             "linecolor": "white",
             "minorgridcolor": "white",
             "startlinecolor": "#2a3f5f"
            },
            "type": "carpet"
           }
          ],
          "choropleth": [
           {
            "colorbar": {
             "outlinewidth": 0,
             "ticks": ""
            },
            "type": "choropleth"
           }
          ],
          "contour": [
           {
            "colorbar": {
             "outlinewidth": 0,
             "ticks": ""
            },
            "colorscale": [
             [
              0,
              "#0d0887"
             ],
             [
              0.1111111111111111,
              "#46039f"
             ],
             [
              0.2222222222222222,
              "#7201a8"
             ],
             [
              0.3333333333333333,
              "#9c179e"
             ],
             [
              0.4444444444444444,
              "#bd3786"
             ],
             [
              0.5555555555555556,
              "#d8576b"
             ],
             [
              0.6666666666666666,
              "#ed7953"
             ],
             [
              0.7777777777777778,
              "#fb9f3a"
             ],
             [
              0.8888888888888888,
              "#fdca26"
             ],
             [
              1,
              "#f0f921"
             ]
            ],
            "type": "contour"
           }
          ],
          "contourcarpet": [
           {
            "colorbar": {
             "outlinewidth": 0,
             "ticks": ""
            },
            "type": "contourcarpet"
           }
          ],
          "heatmap": [
           {
            "colorbar": {
             "outlinewidth": 0,
             "ticks": ""
            },
            "colorscale": [
             [
              0,
              "#0d0887"
             ],
             [
              0.1111111111111111,
              "#46039f"
             ],
             [
              0.2222222222222222,
              "#7201a8"
             ],
             [
              0.3333333333333333,
              "#9c179e"
             ],
             [
              0.4444444444444444,
              "#bd3786"
             ],
             [
              0.5555555555555556,
              "#d8576b"
             ],
             [
              0.6666666666666666,
              "#ed7953"
             ],
             [
              0.7777777777777778,
              "#fb9f3a"
             ],
             [
              0.8888888888888888,
              "#fdca26"
             ],
             [
              1,
              "#f0f921"
             ]
            ],
            "type": "heatmap"
           }
          ],
          "heatmapgl": [
           {
            "colorbar": {
             "outlinewidth": 0,
             "ticks": ""
            },
            "colorscale": [
             [
              0,
              "#0d0887"
             ],
             [
              0.1111111111111111,
              "#46039f"
             ],
             [
              0.2222222222222222,
              "#7201a8"
             ],
             [
              0.3333333333333333,
              "#9c179e"
             ],
             [
              0.4444444444444444,
              "#bd3786"
             ],
             [
              0.5555555555555556,
              "#d8576b"
             ],
             [
              0.6666666666666666,
              "#ed7953"
             ],
             [
              0.7777777777777778,
              "#fb9f3a"
             ],
             [
              0.8888888888888888,
              "#fdca26"
             ],
             [
              1,
              "#f0f921"
             ]
            ],
            "type": "heatmapgl"
           }
          ],
          "histogram": [
           {
            "marker": {
             "pattern": {
              "fillmode": "overlay",
              "size": 10,
              "solidity": 0.2
             }
            },
            "type": "histogram"
           }
          ],
          "histogram2d": [
           {
            "colorbar": {
             "outlinewidth": 0,
             "ticks": ""
            },
            "colorscale": [
             [
              0,
              "#0d0887"
             ],
             [
              0.1111111111111111,
              "#46039f"
             ],
             [
              0.2222222222222222,
              "#7201a8"
             ],
             [
              0.3333333333333333,
              "#9c179e"
             ],
             [
              0.4444444444444444,
              "#bd3786"
             ],
             [
              0.5555555555555556,
              "#d8576b"
             ],
             [
              0.6666666666666666,
              "#ed7953"
             ],
             [
              0.7777777777777778,
              "#fb9f3a"
             ],
             [
              0.8888888888888888,
              "#fdca26"
             ],
             [
              1,
              "#f0f921"
             ]
            ],
            "type": "histogram2d"
           }
          ],
          "histogram2dcontour": [
           {
            "colorbar": {
             "outlinewidth": 0,
             "ticks": ""
            },
            "colorscale": [
             [
              0,
              "#0d0887"
             ],
             [
              0.1111111111111111,
              "#46039f"
             ],
             [
              0.2222222222222222,
              "#7201a8"
             ],
             [
              0.3333333333333333,
              "#9c179e"
             ],
             [
              0.4444444444444444,
              "#bd3786"
             ],
             [
              0.5555555555555556,
              "#d8576b"
             ],
             [
              0.6666666666666666,
              "#ed7953"
             ],
             [
              0.7777777777777778,
              "#fb9f3a"
             ],
             [
              0.8888888888888888,
              "#fdca26"
             ],
             [
              1,
              "#f0f921"
             ]
            ],
            "type": "histogram2dcontour"
           }
          ],
          "mesh3d": [
           {
            "colorbar": {
             "outlinewidth": 0,
             "ticks": ""
            },
            "type": "mesh3d"
           }
          ],
          "parcoords": [
           {
            "line": {
             "colorbar": {
              "outlinewidth": 0,
              "ticks": ""
             }
            },
            "type": "parcoords"
           }
          ],
          "pie": [
           {
            "automargin": true,
            "type": "pie"
           }
          ],
          "scatter": [
           {
            "fillpattern": {
             "fillmode": "overlay",
             "size": 10,
             "solidity": 0.2
            },
            "type": "scatter"
           }
          ],
          "scatter3d": [
           {
            "line": {
             "colorbar": {
              "outlinewidth": 0,
              "ticks": ""
             }
            },
            "marker": {
             "colorbar": {
              "outlinewidth": 0,
              "ticks": ""
             }
            },
            "type": "scatter3d"
           }
          ],
          "scattercarpet": [
           {
            "marker": {
             "colorbar": {
              "outlinewidth": 0,
              "ticks": ""
             }
            },
            "type": "scattercarpet"
           }
          ],
          "scattergeo": [
           {
            "marker": {
             "colorbar": {
              "outlinewidth": 0,
              "ticks": ""
             }
            },
            "type": "scattergeo"
           }
          ],
          "scattergl": [
           {
            "marker": {
             "colorbar": {
              "outlinewidth": 0,
              "ticks": ""
             }
            },
            "type": "scattergl"
           }
          ],
          "scattermapbox": [
           {
            "marker": {
             "colorbar": {
              "outlinewidth": 0,
              "ticks": ""
             }
            },
            "type": "scattermapbox"
           }
          ],
          "scatterpolar": [
           {
            "marker": {
             "colorbar": {
              "outlinewidth": 0,
              "ticks": ""
             }
            },
            "type": "scatterpolar"
           }
          ],
          "scatterpolargl": [
           {
            "marker": {
             "colorbar": {
              "outlinewidth": 0,
              "ticks": ""
             }
            },
            "type": "scatterpolargl"
           }
          ],
          "scatterternary": [
           {
            "marker": {
             "colorbar": {
              "outlinewidth": 0,
              "ticks": ""
             }
            },
            "type": "scatterternary"
           }
          ],
          "surface": [
           {
            "colorbar": {
             "outlinewidth": 0,
             "ticks": ""
            },
            "colorscale": [
             [
              0,
              "#0d0887"
             ],
             [
              0.1111111111111111,
              "#46039f"
             ],
             [
              0.2222222222222222,
              "#7201a8"
             ],
             [
              0.3333333333333333,
              "#9c179e"
             ],
             [
              0.4444444444444444,
              "#bd3786"
             ],
             [
              0.5555555555555556,
              "#d8576b"
             ],
             [
              0.6666666666666666,
              "#ed7953"
             ],
             [
              0.7777777777777778,
              "#fb9f3a"
             ],
             [
              0.8888888888888888,
              "#fdca26"
             ],
             [
              1,
              "#f0f921"
             ]
            ],
            "type": "surface"
           }
          ],
          "table": [
           {
            "cells": {
             "fill": {
              "color": "#EBF0F8"
             },
             "line": {
              "color": "white"
             }
            },
            "header": {
             "fill": {
              "color": "#C8D4E3"
             },
             "line": {
              "color": "white"
             }
            },
            "type": "table"
           }
          ]
         },
         "layout": {
          "annotationdefaults": {
           "arrowcolor": "#2a3f5f",
           "arrowhead": 0,
           "arrowwidth": 1
          },
          "autotypenumbers": "strict",
          "coloraxis": {
           "colorbar": {
            "outlinewidth": 0,
            "ticks": ""
           }
          },
          "colorscale": {
           "diverging": [
            [
             0,
             "#8e0152"
            ],
            [
             0.1,
             "#c51b7d"
            ],
            [
             0.2,
             "#de77ae"
            ],
            [
             0.3,
             "#f1b6da"
            ],
            [
             0.4,
             "#fde0ef"
            ],
            [
             0.5,
             "#f7f7f7"
            ],
            [
             0.6,
             "#e6f5d0"
            ],
            [
             0.7,
             "#b8e186"
            ],
            [
             0.8,
             "#7fbc41"
            ],
            [
             0.9,
             "#4d9221"
            ],
            [
             1,
             "#276419"
            ]
           ],
           "sequential": [
            [
             0,
             "#0d0887"
            ],
            [
             0.1111111111111111,
             "#46039f"
            ],
            [
             0.2222222222222222,
             "#7201a8"
            ],
            [
             0.3333333333333333,
             "#9c179e"
            ],
            [
             0.4444444444444444,
             "#bd3786"
            ],
            [
             0.5555555555555556,
             "#d8576b"
            ],
            [
             0.6666666666666666,
             "#ed7953"
            ],
            [
             0.7777777777777778,
             "#fb9f3a"
            ],
            [
             0.8888888888888888,
             "#fdca26"
            ],
            [
             1,
             "#f0f921"
            ]
           ],
           "sequentialminus": [
            [
             0,
             "#0d0887"
            ],
            [
             0.1111111111111111,
             "#46039f"
            ],
            [
             0.2222222222222222,
             "#7201a8"
            ],
            [
             0.3333333333333333,
             "#9c179e"
            ],
            [
             0.4444444444444444,
             "#bd3786"
            ],
            [
             0.5555555555555556,
             "#d8576b"
            ],
            [
             0.6666666666666666,
             "#ed7953"
            ],
            [
             0.7777777777777778,
             "#fb9f3a"
            ],
            [
             0.8888888888888888,
             "#fdca26"
            ],
            [
             1,
             "#f0f921"
            ]
           ]
          },
          "colorway": [
           "#636efa",
           "#EF553B",
           "#00cc96",
           "#ab63fa",
           "#FFA15A",
           "#19d3f3",
           "#FF6692",
           "#B6E880",
           "#FF97FF",
           "#FECB52"
          ],
          "font": {
           "color": "#2a3f5f"
          },
          "geo": {
           "bgcolor": "white",
           "lakecolor": "white",
           "landcolor": "#E5ECF6",
           "showlakes": true,
           "showland": true,
           "subunitcolor": "white"
          },
          "hoverlabel": {
           "align": "left"
          },
          "hovermode": "closest",
          "mapbox": {
           "style": "light"
          },
          "paper_bgcolor": "white",
          "plot_bgcolor": "#E5ECF6",
          "polar": {
           "angularaxis": {
            "gridcolor": "white",
            "linecolor": "white",
            "ticks": ""
           },
           "bgcolor": "#E5ECF6",
           "radialaxis": {
            "gridcolor": "white",
            "linecolor": "white",
            "ticks": ""
           }
          },
          "scene": {
           "xaxis": {
            "backgroundcolor": "#E5ECF6",
            "gridcolor": "white",
            "gridwidth": 2,
            "linecolor": "white",
            "showbackground": true,
            "ticks": "",
            "zerolinecolor": "white"
           },
           "yaxis": {
            "backgroundcolor": "#E5ECF6",
            "gridcolor": "white",
            "gridwidth": 2,
            "linecolor": "white",
            "showbackground": true,
            "ticks": "",
            "zerolinecolor": "white"
           },
           "zaxis": {
            "backgroundcolor": "#E5ECF6",
            "gridcolor": "white",
            "gridwidth": 2,
            "linecolor": "white",
            "showbackground": true,
            "ticks": "",
            "zerolinecolor": "white"
           }
          },
          "shapedefaults": {
           "line": {
            "color": "#2a3f5f"
           }
          },
          "ternary": {
           "aaxis": {
            "gridcolor": "white",
            "linecolor": "white",
            "ticks": ""
           },
           "baxis": {
            "gridcolor": "white",
            "linecolor": "white",
            "ticks": ""
           },
           "bgcolor": "#E5ECF6",
           "caxis": {
            "gridcolor": "white",
            "linecolor": "white",
            "ticks": ""
           }
          },
          "title": {
           "x": 0.05
          },
          "xaxis": {
           "automargin": true,
           "gridcolor": "white",
           "linecolor": "white",
           "ticks": "",
           "title": {
            "standoff": 15
           },
           "zerolinecolor": "white",
           "zerolinewidth": 2
          },
          "yaxis": {
           "automargin": true,
           "gridcolor": "white",
           "linecolor": "white",
           "ticks": "",
           "title": {
            "standoff": 15
           },
           "zerolinecolor": "white",
           "zerolinewidth": 2
          }
         }
        },
        "title": {
         "text": "Relationship between RECENCY VS MONETARY"
        },
        "xaxis": {
         "anchor": "y",
         "domain": [
          0,
          1
         ],
         "title": {
          "text": "RECENCY_days"
         }
        },
        "yaxis": {
         "anchor": "x",
         "domain": [
          0,
          1
         ],
         "title": {
          "text": "MONETARY_last_year"
         }
        }
       }
      }
     },
     "metadata": {},
     "output_type": "display_data"
    }
   ],
   "source": [
    "fig = px.scatter(\n",
    "    data_frame=customer_df,\n",
    "    x = \"RECENCY_days\",\n",
    "    y= \"MONETARY_last_year\",\n",
    "    title = \"Relationship between RECENCY VS MONETARY\",\n",
    "    color = \"COUNTRY\",\n",
    "    height=500\n",
    ")\n",
    "fig.show()"
   ]
  },
  {
   "cell_type": "code",
   "execution_count": 21,
   "metadata": {},
   "outputs": [
    {
     "data": {
      "application/vnd.plotly.v1+json": {
       "config": {
        "plotlyServerURL": "https://plot.ly"
       },
       "data": [
        {
         "hovertemplate": "QUANTITYORDERED_last_year=%{x}<br>MONETARY_last_year=%{y}<extra></extra>",
         "legendgroup": "",
         "marker": {
          "color": "#636efa",
          "symbol": "circle"
         },
         "mode": "markers",
         "name": "",
         "orientation": "v",
         "showlegend": false,
         "type": "scatter",
         "x": [
          1208,
          172,
          843,
          595,
          114,
          94,
          838,
          209,
          594,
          471,
          214,
          519,
          401,
          80,
          35,
          0,
          0,
          348,
          277,
          285,
          201,
          0,
          454,
          471,
          305,
          158,
          0,
          63,
          1035,
          0,
          0,
          72,
          343,
          4079,
          805,
          640,
          346,
          427,
          996,
          524,
          150,
          70,
          955,
          485,
          1405,
          948,
          457,
          259,
          976,
          0,
          335,
          102,
          397,
          544,
          96,
          3917,
          261,
          437,
          616,
          418,
          512,
          572,
          0,
          605,
          518,
          572,
          1110,
          495,
          483,
          231,
          1000,
          0,
          809,
          0,
          481,
          803,
          156,
          508,
          0,
          152,
          216,
          564,
          1150,
          619,
          597,
          0,
          371,
          595,
          468,
          378,
          0,
          623
         ],
         "xaxis": "x",
         "y": [
          106789.89000000001,
          15139.119999999999,
          94117.26,
          65012.420000000006,
          7619.66,
          12334.82,
          91222,
          21730.03,
          59074.899999999994,
          41998.01,
          19201.91,
          60422.530000000006,
          34993.92,
          9214.970000000001,
          3987.2,
          0,
          0,
          36576.71000000001,
          27445.309999999998,
          27733.04,
          18971.96,
          0,
          46585.579999999994,
          54203.619999999995,
          34546.600000000006,
          15928.75,
          0,
          4749.45,
          115971.34000000001,
          0,
          0,
          7303.4800000000005,
          30183.350000000002,
          396474.36000000004,
          87062.04000000001,
          75778.99,
          29343.35,
          34892.99,
          91279.14000000003,
          60273.939999999995,
          16363.1,
          3220.88,
          97931.59000000001,
          58986.270000000004,
          136340.21,
          92928.01999999999,
          52945.45999999999,
          22454.3,
          103080.38000000002,
          0,
          31446.149999999998,
          8775.16,
          41097.25,
          46873.04,
          11021.3,
          413545.42,
          30348.72,
          48996.1,
          64958.700000000004,
          34145.47,
          55570.6,
          57197.95999999999,
          0,
          49055.4,
          47760.479999999996,
          58257.50000000001,
          100924.66,
          41696.689999999995,
          43332.350000000006,
          30091.640000000003,
          111169.48999999999,
          0,
          85548.41,
          0,
          48903.46000000001,
          79202.29000000001,
          13739.900000000001,
          51373.490000000005,
          0,
          16445.77,
          27987.07,
          53654.94,
          120562.74,
          68943.40000000001,
          69166.87999999999,
          0,
          40802.810000000005,
          67281.01000000001,
          56372.87,
          39745.670000000006,
          0,
          51334.16
         ],
         "yaxis": "y"
        }
       ],
       "layout": {
        "height": 500,
        "legend": {
         "tracegroupgap": 0
        },
        "template": {
         "data": {
          "bar": [
           {
            "error_x": {
             "color": "#2a3f5f"
            },
            "error_y": {
             "color": "#2a3f5f"
            },
            "marker": {
             "line": {
              "color": "#E5ECF6",
              "width": 0.5
             },
             "pattern": {
              "fillmode": "overlay",
              "size": 10,
              "solidity": 0.2
             }
            },
            "type": "bar"
           }
          ],
          "barpolar": [
           {
            "marker": {
             "line": {
              "color": "#E5ECF6",
              "width": 0.5
             },
             "pattern": {
              "fillmode": "overlay",
              "size": 10,
              "solidity": 0.2
             }
            },
            "type": "barpolar"
           }
          ],
          "carpet": [
           {
            "aaxis": {
             "endlinecolor": "#2a3f5f",
             "gridcolor": "white",
             "linecolor": "white",
             "minorgridcolor": "white",
             "startlinecolor": "#2a3f5f"
            },
            "baxis": {
             "endlinecolor": "#2a3f5f",
             "gridcolor": "white",
             "linecolor": "white",
             "minorgridcolor": "white",
             "startlinecolor": "#2a3f5f"
            },
            "type": "carpet"
           }
          ],
          "choropleth": [
           {
            "colorbar": {
             "outlinewidth": 0,
             "ticks": ""
            },
            "type": "choropleth"
           }
          ],
          "contour": [
           {
            "colorbar": {
             "outlinewidth": 0,
             "ticks": ""
            },
            "colorscale": [
             [
              0,
              "#0d0887"
             ],
             [
              0.1111111111111111,
              "#46039f"
             ],
             [
              0.2222222222222222,
              "#7201a8"
             ],
             [
              0.3333333333333333,
              "#9c179e"
             ],
             [
              0.4444444444444444,
              "#bd3786"
             ],
             [
              0.5555555555555556,
              "#d8576b"
             ],
             [
              0.6666666666666666,
              "#ed7953"
             ],
             [
              0.7777777777777778,
              "#fb9f3a"
             ],
             [
              0.8888888888888888,
              "#fdca26"
             ],
             [
              1,
              "#f0f921"
             ]
            ],
            "type": "contour"
           }
          ],
          "contourcarpet": [
           {
            "colorbar": {
             "outlinewidth": 0,
             "ticks": ""
            },
            "type": "contourcarpet"
           }
          ],
          "heatmap": [
           {
            "colorbar": {
             "outlinewidth": 0,
             "ticks": ""
            },
            "colorscale": [
             [
              0,
              "#0d0887"
             ],
             [
              0.1111111111111111,
              "#46039f"
             ],
             [
              0.2222222222222222,
              "#7201a8"
             ],
             [
              0.3333333333333333,
              "#9c179e"
             ],
             [
              0.4444444444444444,
              "#bd3786"
             ],
             [
              0.5555555555555556,
              "#d8576b"
             ],
             [
              0.6666666666666666,
              "#ed7953"
             ],
             [
              0.7777777777777778,
              "#fb9f3a"
             ],
             [
              0.8888888888888888,
              "#fdca26"
             ],
             [
              1,
              "#f0f921"
             ]
            ],
            "type": "heatmap"
           }
          ],
          "heatmapgl": [
           {
            "colorbar": {
             "outlinewidth": 0,
             "ticks": ""
            },
            "colorscale": [
             [
              0,
              "#0d0887"
             ],
             [
              0.1111111111111111,
              "#46039f"
             ],
             [
              0.2222222222222222,
              "#7201a8"
             ],
             [
              0.3333333333333333,
              "#9c179e"
             ],
             [
              0.4444444444444444,
              "#bd3786"
             ],
             [
              0.5555555555555556,
              "#d8576b"
             ],
             [
              0.6666666666666666,
              "#ed7953"
             ],
             [
              0.7777777777777778,
              "#fb9f3a"
             ],
             [
              0.8888888888888888,
              "#fdca26"
             ],
             [
              1,
              "#f0f921"
             ]
            ],
            "type": "heatmapgl"
           }
          ],
          "histogram": [
           {
            "marker": {
             "pattern": {
              "fillmode": "overlay",
              "size": 10,
              "solidity": 0.2
             }
            },
            "type": "histogram"
           }
          ],
          "histogram2d": [
           {
            "colorbar": {
             "outlinewidth": 0,
             "ticks": ""
            },
            "colorscale": [
             [
              0,
              "#0d0887"
             ],
             [
              0.1111111111111111,
              "#46039f"
             ],
             [
              0.2222222222222222,
              "#7201a8"
             ],
             [
              0.3333333333333333,
              "#9c179e"
             ],
             [
              0.4444444444444444,
              "#bd3786"
             ],
             [
              0.5555555555555556,
              "#d8576b"
             ],
             [
              0.6666666666666666,
              "#ed7953"
             ],
             [
              0.7777777777777778,
              "#fb9f3a"
             ],
             [
              0.8888888888888888,
              "#fdca26"
             ],
             [
              1,
              "#f0f921"
             ]
            ],
            "type": "histogram2d"
           }
          ],
          "histogram2dcontour": [
           {
            "colorbar": {
             "outlinewidth": 0,
             "ticks": ""
            },
            "colorscale": [
             [
              0,
              "#0d0887"
             ],
             [
              0.1111111111111111,
              "#46039f"
             ],
             [
              0.2222222222222222,
              "#7201a8"
             ],
             [
              0.3333333333333333,
              "#9c179e"
             ],
             [
              0.4444444444444444,
              "#bd3786"
             ],
             [
              0.5555555555555556,
              "#d8576b"
             ],
             [
              0.6666666666666666,
              "#ed7953"
             ],
             [
              0.7777777777777778,
              "#fb9f3a"
             ],
             [
              0.8888888888888888,
              "#fdca26"
             ],
             [
              1,
              "#f0f921"
             ]
            ],
            "type": "histogram2dcontour"
           }
          ],
          "mesh3d": [
           {
            "colorbar": {
             "outlinewidth": 0,
             "ticks": ""
            },
            "type": "mesh3d"
           }
          ],
          "parcoords": [
           {
            "line": {
             "colorbar": {
              "outlinewidth": 0,
              "ticks": ""
             }
            },
            "type": "parcoords"
           }
          ],
          "pie": [
           {
            "automargin": true,
            "type": "pie"
           }
          ],
          "scatter": [
           {
            "fillpattern": {
             "fillmode": "overlay",
             "size": 10,
             "solidity": 0.2
            },
            "type": "scatter"
           }
          ],
          "scatter3d": [
           {
            "line": {
             "colorbar": {
              "outlinewidth": 0,
              "ticks": ""
             }
            },
            "marker": {
             "colorbar": {
              "outlinewidth": 0,
              "ticks": ""
             }
            },
            "type": "scatter3d"
           }
          ],
          "scattercarpet": [
           {
            "marker": {
             "colorbar": {
              "outlinewidth": 0,
              "ticks": ""
             }
            },
            "type": "scattercarpet"
           }
          ],
          "scattergeo": [
           {
            "marker": {
             "colorbar": {
              "outlinewidth": 0,
              "ticks": ""
             }
            },
            "type": "scattergeo"
           }
          ],
          "scattergl": [
           {
            "marker": {
             "colorbar": {
              "outlinewidth": 0,
              "ticks": ""
             }
            },
            "type": "scattergl"
           }
          ],
          "scattermapbox": [
           {
            "marker": {
             "colorbar": {
              "outlinewidth": 0,
              "ticks": ""
             }
            },
            "type": "scattermapbox"
           }
          ],
          "scatterpolar": [
           {
            "marker": {
             "colorbar": {
              "outlinewidth": 0,
              "ticks": ""
             }
            },
            "type": "scatterpolar"
           }
          ],
          "scatterpolargl": [
           {
            "marker": {
             "colorbar": {
              "outlinewidth": 0,
              "ticks": ""
             }
            },
            "type": "scatterpolargl"
           }
          ],
          "scatterternary": [
           {
            "marker": {
             "colorbar": {
              "outlinewidth": 0,
              "ticks": ""
             }
            },
            "type": "scatterternary"
           }
          ],
          "surface": [
           {
            "colorbar": {
             "outlinewidth": 0,
             "ticks": ""
            },
            "colorscale": [
             [
              0,
              "#0d0887"
             ],
             [
              0.1111111111111111,
              "#46039f"
             ],
             [
              0.2222222222222222,
              "#7201a8"
             ],
             [
              0.3333333333333333,
              "#9c179e"
             ],
             [
              0.4444444444444444,
              "#bd3786"
             ],
             [
              0.5555555555555556,
              "#d8576b"
             ],
             [
              0.6666666666666666,
              "#ed7953"
             ],
             [
              0.7777777777777778,
              "#fb9f3a"
             ],
             [
              0.8888888888888888,
              "#fdca26"
             ],
             [
              1,
              "#f0f921"
             ]
            ],
            "type": "surface"
           }
          ],
          "table": [
           {
            "cells": {
             "fill": {
              "color": "#EBF0F8"
             },
             "line": {
              "color": "white"
             }
            },
            "header": {
             "fill": {
              "color": "#C8D4E3"
             },
             "line": {
              "color": "white"
             }
            },
            "type": "table"
           }
          ]
         },
         "layout": {
          "annotationdefaults": {
           "arrowcolor": "#2a3f5f",
           "arrowhead": 0,
           "arrowwidth": 1
          },
          "autotypenumbers": "strict",
          "coloraxis": {
           "colorbar": {
            "outlinewidth": 0,
            "ticks": ""
           }
          },
          "colorscale": {
           "diverging": [
            [
             0,
             "#8e0152"
            ],
            [
             0.1,
             "#c51b7d"
            ],
            [
             0.2,
             "#de77ae"
            ],
            [
             0.3,
             "#f1b6da"
            ],
            [
             0.4,
             "#fde0ef"
            ],
            [
             0.5,
             "#f7f7f7"
            ],
            [
             0.6,
             "#e6f5d0"
            ],
            [
             0.7,
             "#b8e186"
            ],
            [
             0.8,
             "#7fbc41"
            ],
            [
             0.9,
             "#4d9221"
            ],
            [
             1,
             "#276419"
            ]
           ],
           "sequential": [
            [
             0,
             "#0d0887"
            ],
            [
             0.1111111111111111,
             "#46039f"
            ],
            [
             0.2222222222222222,
             "#7201a8"
            ],
            [
             0.3333333333333333,
             "#9c179e"
            ],
            [
             0.4444444444444444,
             "#bd3786"
            ],
            [
             0.5555555555555556,
             "#d8576b"
            ],
            [
             0.6666666666666666,
             "#ed7953"
            ],
            [
             0.7777777777777778,
             "#fb9f3a"
            ],
            [
             0.8888888888888888,
             "#fdca26"
            ],
            [
             1,
             "#f0f921"
            ]
           ],
           "sequentialminus": [
            [
             0,
             "#0d0887"
            ],
            [
             0.1111111111111111,
             "#46039f"
            ],
            [
             0.2222222222222222,
             "#7201a8"
            ],
            [
             0.3333333333333333,
             "#9c179e"
            ],
            [
             0.4444444444444444,
             "#bd3786"
            ],
            [
             0.5555555555555556,
             "#d8576b"
            ],
            [
             0.6666666666666666,
             "#ed7953"
            ],
            [
             0.7777777777777778,
             "#fb9f3a"
            ],
            [
             0.8888888888888888,
             "#fdca26"
            ],
            [
             1,
             "#f0f921"
            ]
           ]
          },
          "colorway": [
           "#636efa",
           "#EF553B",
           "#00cc96",
           "#ab63fa",
           "#FFA15A",
           "#19d3f3",
           "#FF6692",
           "#B6E880",
           "#FF97FF",
           "#FECB52"
          ],
          "font": {
           "color": "#2a3f5f"
          },
          "geo": {
           "bgcolor": "white",
           "lakecolor": "white",
           "landcolor": "#E5ECF6",
           "showlakes": true,
           "showland": true,
           "subunitcolor": "white"
          },
          "hoverlabel": {
           "align": "left"
          },
          "hovermode": "closest",
          "mapbox": {
           "style": "light"
          },
          "paper_bgcolor": "white",
          "plot_bgcolor": "#E5ECF6",
          "polar": {
           "angularaxis": {
            "gridcolor": "white",
            "linecolor": "white",
            "ticks": ""
           },
           "bgcolor": "#E5ECF6",
           "radialaxis": {
            "gridcolor": "white",
            "linecolor": "white",
            "ticks": ""
           }
          },
          "scene": {
           "xaxis": {
            "backgroundcolor": "#E5ECF6",
            "gridcolor": "white",
            "gridwidth": 2,
            "linecolor": "white",
            "showbackground": true,
            "ticks": "",
            "zerolinecolor": "white"
           },
           "yaxis": {
            "backgroundcolor": "#E5ECF6",
            "gridcolor": "white",
            "gridwidth": 2,
            "linecolor": "white",
            "showbackground": true,
            "ticks": "",
            "zerolinecolor": "white"
           },
           "zaxis": {
            "backgroundcolor": "#E5ECF6",
            "gridcolor": "white",
            "gridwidth": 2,
            "linecolor": "white",
            "showbackground": true,
            "ticks": "",
            "zerolinecolor": "white"
           }
          },
          "shapedefaults": {
           "line": {
            "color": "#2a3f5f"
           }
          },
          "ternary": {
           "aaxis": {
            "gridcolor": "white",
            "linecolor": "white",
            "ticks": ""
           },
           "baxis": {
            "gridcolor": "white",
            "linecolor": "white",
            "ticks": ""
           },
           "bgcolor": "#E5ECF6",
           "caxis": {
            "gridcolor": "white",
            "linecolor": "white",
            "ticks": ""
           }
          },
          "title": {
           "x": 0.05
          },
          "xaxis": {
           "automargin": true,
           "gridcolor": "white",
           "linecolor": "white",
           "ticks": "",
           "title": {
            "standoff": 15
           },
           "zerolinecolor": "white",
           "zerolinewidth": 2
          },
          "yaxis": {
           "automargin": true,
           "gridcolor": "white",
           "linecolor": "white",
           "ticks": "",
           "title": {
            "standoff": 15
           },
           "zerolinecolor": "white",
           "zerolinewidth": 2
          }
         }
        },
        "title": {
         "text": "Relationship between QUANTITYORDERED VS MONETARY"
        },
        "xaxis": {
         "anchor": "y",
         "domain": [
          0,
          1
         ],
         "title": {
          "text": "QUANTITYORDERED_last_year"
         }
        },
        "yaxis": {
         "anchor": "x",
         "domain": [
          0,
          1
         ],
         "title": {
          "text": "MONETARY_last_year"
         }
        }
       }
      }
     },
     "metadata": {},
     "output_type": "display_data"
    }
   ],
   "source": [
    "fig = px.scatter(\n",
    "    data_frame=customer_df,\n",
    "    x = \"QUANTITYORDERED_last_year\",\n",
    "    y= \"MONETARY_last_year\",\n",
    "    title = \"Relationship between QUANTITYORDERED VS MONETARY\",\n",
    "    # color = \"COUNTRY\",\n",
    "    height=500\n",
    ")\n",
    "fig.show()"
   ]
  },
  {
   "cell_type": "markdown",
   "metadata": {},
   "source": [
    "As can be seen in the above picture the features `QUANTITYORDERED_last_year` and `MONETARY_last_year` have a linear relationship so then one of both can be removed from the cluster analysis in order to reduce the dimmnencionality and simplify the analysis of the clusters. In this case `QUANTITYORDERED_last_year` feature will be removed.\n"
   ]
  },
  {
   "cell_type": "code",
   "execution_count": 22,
   "metadata": {},
   "outputs": [
    {
     "data": {
      "application/vnd.plotly.v1+json": {
       "config": {
        "plotlyServerURL": "https://plot.ly"
       },
       "data": [
        {
         "hovertemplate": "COUNTRY=UK<br>FREQUENCY_last_year=%{x}<br>MONETARY_last_year=%{y}<extra></extra>",
         "legendgroup": "UK",
         "marker": {
          "color": "#636efa",
          "symbol": "circle"
         },
         "mode": "markers",
         "name": "UK",
         "orientation": "v",
         "showlegend": true,
         "type": "scatter",
         "x": [
          2,
          0,
          1,
          1,
          1
         ],
         "xaxis": "x",
         "y": [
          106789.89000000001,
          0,
          13739.900000000001,
          40802.810000000005,
          51334.16
         ],
         "yaxis": "y"
        },
        {
         "hovertemplate": "COUNTRY=France<br>FREQUENCY_last_year=%{x}<br>MONETARY_last_year=%{y}<extra></extra>",
         "legendgroup": "France",
         "marker": {
          "color": "#EF553B",
          "symbol": "circle"
         },
         "mode": "markers",
         "name": "France",
         "orientation": "v",
         "showlegend": true,
         "type": "scatter",
         "x": [
          1,
          2,
          1,
          2,
          0,
          2,
          3,
          2,
          2,
          2,
          3,
          0
         ],
         "xaxis": "x",
         "y": [
          15139.119999999999,
          7619.66,
          59074.899999999994,
          41998.01,
          0,
          58986.270000000004,
          136340.21,
          52945.45999999999,
          22454.3,
          41097.25,
          100924.66,
          0
         ],
         "yaxis": "y"
        },
        {
         "hovertemplate": "COUNTRY=Italy<br>FREQUENCY_last_year=%{x}<br>MONETARY_last_year=%{y}<extra></extra>",
         "legendgroup": "Italy",
         "marker": {
          "color": "#00cc96",
          "symbol": "circle"
         },
         "mode": "markers",
         "name": "Italy",
         "orientation": "v",
         "showlegend": true,
         "type": "scatter",
         "x": [
          2,
          2,
          1
         ],
         "xaxis": "x",
         "y": [
          94117.26,
          97931.59000000001,
          41696.689999999995
         ],
         "yaxis": "y"
        },
        {
         "hovertemplate": "COUNTRY=Australia<br>FREQUENCY_last_year=%{x}<br>MONETARY_last_year=%{y}<extra></extra>",
         "legendgroup": "Australia",
         "marker": {
          "color": "#ab63fa",
          "symbol": "circle"
         },
         "mode": "markers",
         "name": "Australia",
         "orientation": "v",
         "showlegend": true,
         "type": "scatter",
         "x": [
          2,
          1,
          2,
          1,
          2
         ],
         "xaxis": "x",
         "y": [
          65012.420000000006,
          12334.82,
          91222,
          21730.03,
          79202.29000000001
         ],
         "yaxis": "y"
        },
        {
         "hovertemplate": "COUNTRY=USA<br>FREQUENCY_last_year=%{x}<br>MONETARY_last_year=%{y}<extra></extra>",
         "legendgroup": "USA",
         "marker": {
          "color": "#FFA15A",
          "symbol": "circle"
         },
         "mode": "markers",
         "name": "USA",
         "orientation": "v",
         "showlegend": true,
         "type": "scatter",
         "x": [
          2,
          1,
          0,
          1,
          1,
          0,
          2,
          2,
          3,
          0,
          2,
          2,
          1,
          2,
          2,
          2,
          0,
          1,
          1,
          1,
          11,
          1,
          1,
          2,
          1,
          2,
          0,
          2,
          0,
          2,
          1,
          2,
          0,
          1,
          0
         ],
         "xaxis": "x",
         "y": [
          19201.91,
          3987.2,
          0,
          27445.309999999998,
          27733.04,
          0,
          46585.579999999994,
          54203.619999999995,
          115971.34000000001,
          0,
          87062.04000000001,
          75778.99,
          29343.35,
          34892.99,
          92928.01999999999,
          103080.38000000002,
          0,
          31446.149999999998,
          46873.04,
          11021.3,
          413545.42,
          30348.72,
          48996.1,
          64958.700000000004,
          55570.6,
          57197.95999999999,
          0,
          48903.46000000001,
          0,
          16445.77,
          27987.07,
          53654.94,
          0,
          56372.87,
          0
         ],
         "yaxis": "y"
        },
        {
         "hovertemplate": "COUNTRY=Norway<br>FREQUENCY_last_year=%{x}<br>MONETARY_last_year=%{y}<extra></extra>",
         "legendgroup": "Norway",
         "marker": {
          "color": "#19d3f3",
          "symbol": "circle"
         },
         "mode": "markers",
         "name": "Norway",
         "orientation": "v",
         "showlegend": true,
         "type": "scatter",
         "x": [
          2,
          1,
          1
         ],
         "xaxis": "x",
         "y": [
          60422.530000000006,
          16363.1,
          34145.47
         ],
         "yaxis": "y"
        },
        {
         "hovertemplate": "COUNTRY=Germany<br>FREQUENCY_last_year=%{x}<br>MONETARY_last_year=%{y}<extra></extra>",
         "legendgroup": "Germany",
         "marker": {
          "color": "#FF6692",
          "symbol": "circle"
         },
         "mode": "markers",
         "name": "Germany",
         "orientation": "v",
         "showlegend": true,
         "type": "scatter",
         "x": [
          1,
          1,
          1
         ],
         "xaxis": "x",
         "y": [
          34993.92,
          9214.970000000001,
          68943.40000000001
         ],
         "yaxis": "y"
        },
        {
         "hovertemplate": "COUNTRY=Spain<br>FREQUENCY_last_year=%{x}<br>MONETARY_last_year=%{y}<extra></extra>",
         "legendgroup": "Spain",
         "marker": {
          "color": "#B6E880",
          "symbol": "circle"
         },
         "mode": "markers",
         "name": "Spain",
         "orientation": "v",
         "showlegend": true,
         "type": "scatter",
         "x": [
          0,
          1,
          1,
          11,
          1
         ],
         "xaxis": "x",
         "y": [
          0,
          34546.600000000006,
          30183.350000000002,
          396474.36000000004,
          3220.88
         ],
         "yaxis": "y"
        },
        {
         "hovertemplate": "COUNTRY=Canada<br>FREQUENCY_last_year=%{x}<br>MONETARY_last_year=%{y}<extra></extra>",
         "legendgroup": "Canada",
         "marker": {
          "color": "#FF97FF",
          "symbol": "circle"
         },
         "mode": "markers",
         "name": "Canada",
         "orientation": "v",
         "showlegend": true,
         "type": "scatter",
         "x": [
          1,
          2,
          1
         ],
         "xaxis": "x",
         "y": [
          36576.71000000001,
          58257.50000000001,
          43332.350000000006
         ],
         "yaxis": "y"
        },
        {
         "hovertemplate": "COUNTRY=Ireland<br>FREQUENCY_last_year=%{x}<br>MONETARY_last_year=%{y}<extra></extra>",
         "legendgroup": "Ireland",
         "marker": {
          "color": "#FECB52",
          "symbol": "circle"
         },
         "mode": "markers",
         "name": "Ireland",
         "orientation": "v",
         "showlegend": true,
         "type": "scatter",
         "x": [
          1
         ],
         "xaxis": "x",
         "y": [
          18971.96
         ],
         "yaxis": "y"
        },
        {
         "hovertemplate": "COUNTRY=Philippines<br>FREQUENCY_last_year=%{x}<br>MONETARY_last_year=%{y}<extra></extra>",
         "legendgroup": "Philippines",
         "marker": {
          "color": "#636efa",
          "symbol": "circle"
         },
         "mode": "markers",
         "name": "Philippines",
         "orientation": "v",
         "showlegend": true,
         "type": "scatter",
         "x": [
          1
         ],
         "xaxis": "x",
         "y": [
          15928.75
         ],
         "yaxis": "y"
        },
        {
         "hovertemplate": "COUNTRY=Denmark<br>FREQUENCY_last_year=%{x}<br>MONETARY_last_year=%{y}<extra></extra>",
         "legendgroup": "Denmark",
         "marker": {
          "color": "#EF553B",
          "symbol": "circle"
         },
         "mode": "markers",
         "name": "Denmark",
         "orientation": "v",
         "showlegend": true,
         "type": "scatter",
         "x": [
          1,
          1
         ],
         "xaxis": "x",
         "y": [
          4749.45,
          60273.939999999995
         ],
         "yaxis": "y"
        },
        {
         "hovertemplate": "COUNTRY=Singapore<br>FREQUENCY_last_year=%{x}<br>MONETARY_last_year=%{y}<extra></extra>",
         "legendgroup": "Singapore",
         "marker": {
          "color": "#00cc96",
          "symbol": "circle"
         },
         "mode": "markers",
         "name": "Singapore",
         "orientation": "v",
         "showlegend": true,
         "type": "scatter",
         "x": [
          2,
          3
         ],
         "xaxis": "x",
         "y": [
          7303.4800000000005,
          91279.14000000003
         ],
         "yaxis": "y"
        },
        {
         "hovertemplate": "COUNTRY=Austria<br>FREQUENCY_last_year=%{x}<br>MONETARY_last_year=%{y}<extra></extra>",
         "legendgroup": "Austria",
         "marker": {
          "color": "#ab63fa",
          "symbol": "circle"
         },
         "mode": "markers",
         "name": "Austria",
         "orientation": "v",
         "showlegend": true,
         "type": "scatter",
         "x": [
          1,
          3
         ],
         "xaxis": "x",
         "y": [
          8775.16,
          111169.48999999999
         ],
         "yaxis": "y"
        },
        {
         "hovertemplate": "COUNTRY=Japan<br>FREQUENCY_last_year=%{x}<br>MONETARY_last_year=%{y}<extra></extra>",
         "legendgroup": "Japan",
         "marker": {
          "color": "#FFA15A",
          "symbol": "circle"
         },
         "mode": "markers",
         "name": "Japan",
         "orientation": "v",
         "showlegend": true,
         "type": "scatter",
         "x": [
          0,
          4
         ],
         "xaxis": "x",
         "y": [
          0,
          120562.74
         ],
         "yaxis": "y"
        },
        {
         "hovertemplate": "COUNTRY=Finland<br>FREQUENCY_last_year=%{x}<br>MONETARY_last_year=%{y}<extra></extra>",
         "legendgroup": "Finland",
         "marker": {
          "color": "#19d3f3",
          "symbol": "circle"
         },
         "mode": "markers",
         "name": "Finland",
         "orientation": "v",
         "showlegend": true,
         "type": "scatter",
         "x": [
          1,
          1,
          2
         ],
         "xaxis": "x",
         "y": [
          49055.4,
          51373.490000000005,
          69166.87999999999
         ],
         "yaxis": "y"
        },
        {
         "hovertemplate": "COUNTRY=Belgium<br>FREQUENCY_last_year=%{x}<br>MONETARY_last_year=%{y}<extra></extra>",
         "legendgroup": "Belgium",
         "marker": {
          "color": "#FF6692",
          "symbol": "circle"
         },
         "mode": "markers",
         "name": "Belgium",
         "orientation": "v",
         "showlegend": true,
         "type": "scatter",
         "x": [
          1,
          2
         ],
         "xaxis": "x",
         "y": [
          47760.479999999996,
          30091.640000000003
         ],
         "yaxis": "y"
        },
        {
         "hovertemplate": "COUNTRY=Sweden<br>FREQUENCY_last_year=%{x}<br>MONETARY_last_year=%{y}<extra></extra>",
         "legendgroup": "Sweden",
         "marker": {
          "color": "#B6E880",
          "symbol": "circle"
         },
         "mode": "markers",
         "name": "Sweden",
         "orientation": "v",
         "showlegend": true,
         "type": "scatter",
         "x": [
          2,
          2
         ],
         "xaxis": "x",
         "y": [
          85548.41,
          39745.670000000006
         ],
         "yaxis": "y"
        },
        {
         "hovertemplate": "COUNTRY=Switzerland<br>FREQUENCY_last_year=%{x}<br>MONETARY_last_year=%{y}<extra></extra>",
         "legendgroup": "Switzerland",
         "marker": {
          "color": "#FF97FF",
          "symbol": "circle"
         },
         "mode": "markers",
         "name": "Switzerland",
         "orientation": "v",
         "showlegend": true,
         "type": "scatter",
         "x": [
          1
         ],
         "xaxis": "x",
         "y": [
          67281.01000000001
         ],
         "yaxis": "y"
        }
       ],
       "layout": {
        "height": 500,
        "legend": {
         "title": {
          "text": "COUNTRY"
         },
         "tracegroupgap": 0
        },
        "template": {
         "data": {
          "bar": [
           {
            "error_x": {
             "color": "#2a3f5f"
            },
            "error_y": {
             "color": "#2a3f5f"
            },
            "marker": {
             "line": {
              "color": "#E5ECF6",
              "width": 0.5
             },
             "pattern": {
              "fillmode": "overlay",
              "size": 10,
              "solidity": 0.2
             }
            },
            "type": "bar"
           }
          ],
          "barpolar": [
           {
            "marker": {
             "line": {
              "color": "#E5ECF6",
              "width": 0.5
             },
             "pattern": {
              "fillmode": "overlay",
              "size": 10,
              "solidity": 0.2
             }
            },
            "type": "barpolar"
           }
          ],
          "carpet": [
           {
            "aaxis": {
             "endlinecolor": "#2a3f5f",
             "gridcolor": "white",
             "linecolor": "white",
             "minorgridcolor": "white",
             "startlinecolor": "#2a3f5f"
            },
            "baxis": {
             "endlinecolor": "#2a3f5f",
             "gridcolor": "white",
             "linecolor": "white",
             "minorgridcolor": "white",
             "startlinecolor": "#2a3f5f"
            },
            "type": "carpet"
           }
          ],
          "choropleth": [
           {
            "colorbar": {
             "outlinewidth": 0,
             "ticks": ""
            },
            "type": "choropleth"
           }
          ],
          "contour": [
           {
            "colorbar": {
             "outlinewidth": 0,
             "ticks": ""
            },
            "colorscale": [
             [
              0,
              "#0d0887"
             ],
             [
              0.1111111111111111,
              "#46039f"
             ],
             [
              0.2222222222222222,
              "#7201a8"
             ],
             [
              0.3333333333333333,
              "#9c179e"
             ],
             [
              0.4444444444444444,
              "#bd3786"
             ],
             [
              0.5555555555555556,
              "#d8576b"
             ],
             [
              0.6666666666666666,
              "#ed7953"
             ],
             [
              0.7777777777777778,
              "#fb9f3a"
             ],
             [
              0.8888888888888888,
              "#fdca26"
             ],
             [
              1,
              "#f0f921"
             ]
            ],
            "type": "contour"
           }
          ],
          "contourcarpet": [
           {
            "colorbar": {
             "outlinewidth": 0,
             "ticks": ""
            },
            "type": "contourcarpet"
           }
          ],
          "heatmap": [
           {
            "colorbar": {
             "outlinewidth": 0,
             "ticks": ""
            },
            "colorscale": [
             [
              0,
              "#0d0887"
             ],
             [
              0.1111111111111111,
              "#46039f"
             ],
             [
              0.2222222222222222,
              "#7201a8"
             ],
             [
              0.3333333333333333,
              "#9c179e"
             ],
             [
              0.4444444444444444,
              "#bd3786"
             ],
             [
              0.5555555555555556,
              "#d8576b"
             ],
             [
              0.6666666666666666,
              "#ed7953"
             ],
             [
              0.7777777777777778,
              "#fb9f3a"
             ],
             [
              0.8888888888888888,
              "#fdca26"
             ],
             [
              1,
              "#f0f921"
             ]
            ],
            "type": "heatmap"
           }
          ],
          "heatmapgl": [
           {
            "colorbar": {
             "outlinewidth": 0,
             "ticks": ""
            },
            "colorscale": [
             [
              0,
              "#0d0887"
             ],
             [
              0.1111111111111111,
              "#46039f"
             ],
             [
              0.2222222222222222,
              "#7201a8"
             ],
             [
              0.3333333333333333,
              "#9c179e"
             ],
             [
              0.4444444444444444,
              "#bd3786"
             ],
             [
              0.5555555555555556,
              "#d8576b"
             ],
             [
              0.6666666666666666,
              "#ed7953"
             ],
             [
              0.7777777777777778,
              "#fb9f3a"
             ],
             [
              0.8888888888888888,
              "#fdca26"
             ],
             [
              1,
              "#f0f921"
             ]
            ],
            "type": "heatmapgl"
           }
          ],
          "histogram": [
           {
            "marker": {
             "pattern": {
              "fillmode": "overlay",
              "size": 10,
              "solidity": 0.2
             }
            },
            "type": "histogram"
           }
          ],
          "histogram2d": [
           {
            "colorbar": {
             "outlinewidth": 0,
             "ticks": ""
            },
            "colorscale": [
             [
              0,
              "#0d0887"
             ],
             [
              0.1111111111111111,
              "#46039f"
             ],
             [
              0.2222222222222222,
              "#7201a8"
             ],
             [
              0.3333333333333333,
              "#9c179e"
             ],
             [
              0.4444444444444444,
              "#bd3786"
             ],
             [
              0.5555555555555556,
              "#d8576b"
             ],
             [
              0.6666666666666666,
              "#ed7953"
             ],
             [
              0.7777777777777778,
              "#fb9f3a"
             ],
             [
              0.8888888888888888,
              "#fdca26"
             ],
             [
              1,
              "#f0f921"
             ]
            ],
            "type": "histogram2d"
           }
          ],
          "histogram2dcontour": [
           {
            "colorbar": {
             "outlinewidth": 0,
             "ticks": ""
            },
            "colorscale": [
             [
              0,
              "#0d0887"
             ],
             [
              0.1111111111111111,
              "#46039f"
             ],
             [
              0.2222222222222222,
              "#7201a8"
             ],
             [
              0.3333333333333333,
              "#9c179e"
             ],
             [
              0.4444444444444444,
              "#bd3786"
             ],
             [
              0.5555555555555556,
              "#d8576b"
             ],
             [
              0.6666666666666666,
              "#ed7953"
             ],
             [
              0.7777777777777778,
              "#fb9f3a"
             ],
             [
              0.8888888888888888,
              "#fdca26"
             ],
             [
              1,
              "#f0f921"
             ]
            ],
            "type": "histogram2dcontour"
           }
          ],
          "mesh3d": [
           {
            "colorbar": {
             "outlinewidth": 0,
             "ticks": ""
            },
            "type": "mesh3d"
           }
          ],
          "parcoords": [
           {
            "line": {
             "colorbar": {
              "outlinewidth": 0,
              "ticks": ""
             }
            },
            "type": "parcoords"
           }
          ],
          "pie": [
           {
            "automargin": true,
            "type": "pie"
           }
          ],
          "scatter": [
           {
            "fillpattern": {
             "fillmode": "overlay",
             "size": 10,
             "solidity": 0.2
            },
            "type": "scatter"
           }
          ],
          "scatter3d": [
           {
            "line": {
             "colorbar": {
              "outlinewidth": 0,
              "ticks": ""
             }
            },
            "marker": {
             "colorbar": {
              "outlinewidth": 0,
              "ticks": ""
             }
            },
            "type": "scatter3d"
           }
          ],
          "scattercarpet": [
           {
            "marker": {
             "colorbar": {
              "outlinewidth": 0,
              "ticks": ""
             }
            },
            "type": "scattercarpet"
           }
          ],
          "scattergeo": [
           {
            "marker": {
             "colorbar": {
              "outlinewidth": 0,
              "ticks": ""
             }
            },
            "type": "scattergeo"
           }
          ],
          "scattergl": [
           {
            "marker": {
             "colorbar": {
              "outlinewidth": 0,
              "ticks": ""
             }
            },
            "type": "scattergl"
           }
          ],
          "scattermapbox": [
           {
            "marker": {
             "colorbar": {
              "outlinewidth": 0,
              "ticks": ""
             }
            },
            "type": "scattermapbox"
           }
          ],
          "scatterpolar": [
           {
            "marker": {
             "colorbar": {
              "outlinewidth": 0,
              "ticks": ""
             }
            },
            "type": "scatterpolar"
           }
          ],
          "scatterpolargl": [
           {
            "marker": {
             "colorbar": {
              "outlinewidth": 0,
              "ticks": ""
             }
            },
            "type": "scatterpolargl"
           }
          ],
          "scatterternary": [
           {
            "marker": {
             "colorbar": {
              "outlinewidth": 0,
              "ticks": ""
             }
            },
            "type": "scatterternary"
           }
          ],
          "surface": [
           {
            "colorbar": {
             "outlinewidth": 0,
             "ticks": ""
            },
            "colorscale": [
             [
              0,
              "#0d0887"
             ],
             [
              0.1111111111111111,
              "#46039f"
             ],
             [
              0.2222222222222222,
              "#7201a8"
             ],
             [
              0.3333333333333333,
              "#9c179e"
             ],
             [
              0.4444444444444444,
              "#bd3786"
             ],
             [
              0.5555555555555556,
              "#d8576b"
             ],
             [
              0.6666666666666666,
              "#ed7953"
             ],
             [
              0.7777777777777778,
              "#fb9f3a"
             ],
             [
              0.8888888888888888,
              "#fdca26"
             ],
             [
              1,
              "#f0f921"
             ]
            ],
            "type": "surface"
           }
          ],
          "table": [
           {
            "cells": {
             "fill": {
              "color": "#EBF0F8"
             },
             "line": {
              "color": "white"
             }
            },
            "header": {
             "fill": {
              "color": "#C8D4E3"
             },
             "line": {
              "color": "white"
             }
            },
            "type": "table"
           }
          ]
         },
         "layout": {
          "annotationdefaults": {
           "arrowcolor": "#2a3f5f",
           "arrowhead": 0,
           "arrowwidth": 1
          },
          "autotypenumbers": "strict",
          "coloraxis": {
           "colorbar": {
            "outlinewidth": 0,
            "ticks": ""
           }
          },
          "colorscale": {
           "diverging": [
            [
             0,
             "#8e0152"
            ],
            [
             0.1,
             "#c51b7d"
            ],
            [
             0.2,
             "#de77ae"
            ],
            [
             0.3,
             "#f1b6da"
            ],
            [
             0.4,
             "#fde0ef"
            ],
            [
             0.5,
             "#f7f7f7"
            ],
            [
             0.6,
             "#e6f5d0"
            ],
            [
             0.7,
             "#b8e186"
            ],
            [
             0.8,
             "#7fbc41"
            ],
            [
             0.9,
             "#4d9221"
            ],
            [
             1,
             "#276419"
            ]
           ],
           "sequential": [
            [
             0,
             "#0d0887"
            ],
            [
             0.1111111111111111,
             "#46039f"
            ],
            [
             0.2222222222222222,
             "#7201a8"
            ],
            [
             0.3333333333333333,
             "#9c179e"
            ],
            [
             0.4444444444444444,
             "#bd3786"
            ],
            [
             0.5555555555555556,
             "#d8576b"
            ],
            [
             0.6666666666666666,
             "#ed7953"
            ],
            [
             0.7777777777777778,
             "#fb9f3a"
            ],
            [
             0.8888888888888888,
             "#fdca26"
            ],
            [
             1,
             "#f0f921"
            ]
           ],
           "sequentialminus": [
            [
             0,
             "#0d0887"
            ],
            [
             0.1111111111111111,
             "#46039f"
            ],
            [
             0.2222222222222222,
             "#7201a8"
            ],
            [
             0.3333333333333333,
             "#9c179e"
            ],
            [
             0.4444444444444444,
             "#bd3786"
            ],
            [
             0.5555555555555556,
             "#d8576b"
            ],
            [
             0.6666666666666666,
             "#ed7953"
            ],
            [
             0.7777777777777778,
             "#fb9f3a"
            ],
            [
             0.8888888888888888,
             "#fdca26"
            ],
            [
             1,
             "#f0f921"
            ]
           ]
          },
          "colorway": [
           "#636efa",
           "#EF553B",
           "#00cc96",
           "#ab63fa",
           "#FFA15A",
           "#19d3f3",
           "#FF6692",
           "#B6E880",
           "#FF97FF",
           "#FECB52"
          ],
          "font": {
           "color": "#2a3f5f"
          },
          "geo": {
           "bgcolor": "white",
           "lakecolor": "white",
           "landcolor": "#E5ECF6",
           "showlakes": true,
           "showland": true,
           "subunitcolor": "white"
          },
          "hoverlabel": {
           "align": "left"
          },
          "hovermode": "closest",
          "mapbox": {
           "style": "light"
          },
          "paper_bgcolor": "white",
          "plot_bgcolor": "#E5ECF6",
          "polar": {
           "angularaxis": {
            "gridcolor": "white",
            "linecolor": "white",
            "ticks": ""
           },
           "bgcolor": "#E5ECF6",
           "radialaxis": {
            "gridcolor": "white",
            "linecolor": "white",
            "ticks": ""
           }
          },
          "scene": {
           "xaxis": {
            "backgroundcolor": "#E5ECF6",
            "gridcolor": "white",
            "gridwidth": 2,
            "linecolor": "white",
            "showbackground": true,
            "ticks": "",
            "zerolinecolor": "white"
           },
           "yaxis": {
            "backgroundcolor": "#E5ECF6",
            "gridcolor": "white",
            "gridwidth": 2,
            "linecolor": "white",
            "showbackground": true,
            "ticks": "",
            "zerolinecolor": "white"
           },
           "zaxis": {
            "backgroundcolor": "#E5ECF6",
            "gridcolor": "white",
            "gridwidth": 2,
            "linecolor": "white",
            "showbackground": true,
            "ticks": "",
            "zerolinecolor": "white"
           }
          },
          "shapedefaults": {
           "line": {
            "color": "#2a3f5f"
           }
          },
          "ternary": {
           "aaxis": {
            "gridcolor": "white",
            "linecolor": "white",
            "ticks": ""
           },
           "baxis": {
            "gridcolor": "white",
            "linecolor": "white",
            "ticks": ""
           },
           "bgcolor": "#E5ECF6",
           "caxis": {
            "gridcolor": "white",
            "linecolor": "white",
            "ticks": ""
           }
          },
          "title": {
           "x": 0.05
          },
          "xaxis": {
           "automargin": true,
           "gridcolor": "white",
           "linecolor": "white",
           "ticks": "",
           "title": {
            "standoff": 15
           },
           "zerolinecolor": "white",
           "zerolinewidth": 2
          },
          "yaxis": {
           "automargin": true,
           "gridcolor": "white",
           "linecolor": "white",
           "ticks": "",
           "title": {
            "standoff": 15
           },
           "zerolinecolor": "white",
           "zerolinewidth": 2
          }
         }
        },
        "title": {
         "text": "Relationship between QUANTITYORDERED VS MONETARY"
        },
        "xaxis": {
         "anchor": "y",
         "domain": [
          0,
          1
         ],
         "title": {
          "text": "FREQUENCY_last_year"
         }
        },
        "yaxis": {
         "anchor": "x",
         "domain": [
          0,
          1
         ],
         "title": {
          "text": "MONETARY_last_year"
         }
        }
       }
      }
     },
     "metadata": {},
     "output_type": "display_data"
    }
   ],
   "source": [
    "fig = px.scatter(\n",
    "    data_frame=customer_df,\n",
    "    x = \"FREQUENCY_last_year\",\n",
    "    y= \"MONETARY_last_year\",\n",
    "    title = \"Relationship between QUANTITYORDERED VS MONETARY\",\n",
    "    color = \"COUNTRY\",\n",
    "    height=500\n",
    ")\n",
    "fig.show()"
   ]
  },
  {
   "cell_type": "markdown",
   "metadata": {},
   "source": [
    " # The Segmentation Model"
   ]
  },
  {
   "cell_type": "code",
   "execution_count": 23,
   "metadata": {},
   "outputs": [],
   "source": [
    "std_scaler = StandardScaler()\n",
    "rfm_array_scaled = std_scaler.fit_transform(rfm_df.iloc[:,0:4]) \n",
    "rfm_df_scaled = pd.DataFrame(rfm_array_scaled, columns=rfm_df.columns[0:4])\n"
   ]
  },
  {
   "cell_type": "code",
   "execution_count": 24,
   "metadata": {},
   "outputs": [
    {
     "data": {
      "image/png": "[encoded data removed]",
      "text/plain": [
       "<Figure size 640x480 with 1 Axes>"
      ]
     },
     "metadata": {},
     "output_type": "display_data"
    }
   ],
   "source": [
    "errors = []\n",
    "for k in range(1, 11):\n",
    "    kmeans_clustering = KMeans(n_clusters=k, random_state=42)\n",
    "    kmeans_clustering.fit(rfm_array_scaled)\n",
    "    errors.append(kmeans_clustering.inertia_)\n",
    "    \n",
    " \n",
    "plt.title('The Elbow Method')\n",
    "plt.xlabel('k'); plt.ylabel('Error of Cluster')\n",
    "sns.pointplot(x=np.arange(start=1, stop=11), y=errors)\n",
    "plt.show()"
   ]
  },
  {
   "cell_type": "code",
   "execution_count": 25,
   "metadata": {},
   "outputs": [
    {
     "data": {
      "text/html": [
       "<div>\n",
       "<style scoped>\n",
       "    .dataframe tbody tr th:only-of-type {\n",
       "        vertical-align: middle;\n",
       "    }\n",
       "\n",
       "    .dataframe tbody tr th {\n",
       "        vertical-align: top;\n",
       "    }\n",
       "\n",
       "    .dataframe thead th {\n",
       "        text-align: right;\n",
       "    }\n",
       "</style>\n",
       "<table border=\"1\" class=\"dataframe\">\n",
       "  <thead>\n",
       "    <tr style=\"text-align: right;\">\n",
       "      <th></th>\n",
       "      <th>RECENCY_days</th>\n",
       "      <th>FREQUENCY_last_year</th>\n",
       "      <th>MONETARY_last_year</th>\n",
       "      <th>QUANTITYORDERED_last_year</th>\n",
       "      <th>COUNTRY</th>\n",
       "      <th>CITY</th>\n",
       "      <th>PHONE</th>\n",
       "      <th>CONTACTLASTNAME</th>\n",
       "      <th>CONTACTFIRSTNAME</th>\n",
       "      <th>KMeansLabel</th>\n",
       "    </tr>\n",
       "    <tr>\n",
       "      <th>CUSTOMERNAME</th>\n",
       "      <th></th>\n",
       "      <th></th>\n",
       "      <th></th>\n",
       "      <th></th>\n",
       "      <th></th>\n",
       "      <th></th>\n",
       "      <th></th>\n",
       "      <th></th>\n",
       "      <th></th>\n",
       "      <th></th>\n",
       "    </tr>\n",
       "  </thead>\n",
       "  <tbody>\n",
       "    <tr>\n",
       "      <th>AV Stores, Co.</th>\n",
       "      <td>181</td>\n",
       "      <td>2.0</td>\n",
       "      <td>106789.89</td>\n",
       "      <td>1208.0</td>\n",
       "      <td>UK</td>\n",
       "      <td>Manchester</td>\n",
       "      <td>(171) 555-1555</td>\n",
       "      <td>Ashworth</td>\n",
       "      <td>Victoria</td>\n",
       "      <td>0</td>\n",
       "    </tr>\n",
       "    <tr>\n",
       "      <th>Alpha Cognac</th>\n",
       "      <td>50</td>\n",
       "      <td>1.0</td>\n",
       "      <td>15139.12</td>\n",
       "      <td>172.0</td>\n",
       "      <td>France</td>\n",
       "      <td>Toulouse</td>\n",
       "      <td>61.77.6555</td>\n",
       "      <td>Roulet</td>\n",
       "      <td>Annette</td>\n",
       "      <td>2</td>\n",
       "    </tr>\n",
       "    <tr>\n",
       "      <th>Amica Models &amp; Co.</th>\n",
       "      <td>250</td>\n",
       "      <td>2.0</td>\n",
       "      <td>94117.26</td>\n",
       "      <td>843.0</td>\n",
       "      <td>Italy</td>\n",
       "      <td>Torino</td>\n",
       "      <td>011-4988555</td>\n",
       "      <td>Accorti</td>\n",
       "      <td>Paolo</td>\n",
       "      <td>0</td>\n",
       "    </tr>\n",
       "    <tr>\n",
       "      <th>Anna's Decorations, Ltd</th>\n",
       "      <td>69</td>\n",
       "      <td>2.0</td>\n",
       "      <td>65012.42</td>\n",
       "      <td>595.0</td>\n",
       "      <td>Australia</td>\n",
       "      <td>North Sydney</td>\n",
       "      <td>02 9936 8555</td>\n",
       "      <td>O'Hara</td>\n",
       "      <td>Anna</td>\n",
       "      <td>0</td>\n",
       "    </tr>\n",
       "    <tr>\n",
       "      <th>Atelier graphique</th>\n",
       "      <td>173</td>\n",
       "      <td>2.0</td>\n",
       "      <td>7619.66</td>\n",
       "      <td>114.0</td>\n",
       "      <td>France</td>\n",
       "      <td>Nantes</td>\n",
       "      <td>40.32.2555</td>\n",
       "      <td>Schmitt</td>\n",
       "      <td>Carine</td>\n",
       "      <td>2</td>\n",
       "    </tr>\n",
       "    <tr>\n",
       "      <th>...</th>\n",
       "      <td>...</td>\n",
       "      <td>...</td>\n",
       "      <td>...</td>\n",
       "      <td>...</td>\n",
       "      <td>...</td>\n",
       "      <td>...</td>\n",
       "      <td>...</td>\n",
       "      <td>...</td>\n",
       "      <td>...</td>\n",
       "      <td>...</td>\n",
       "    </tr>\n",
       "    <tr>\n",
       "      <th>Vida Sport, Ltd</th>\n",
       "      <td>260</td>\n",
       "      <td>1.0</td>\n",
       "      <td>67281.01</td>\n",
       "      <td>595.0</td>\n",
       "      <td>Switzerland</td>\n",
       "      <td>Gensve</td>\n",
       "      <td>0897-034555</td>\n",
       "      <td>Holz</td>\n",
       "      <td>Michael</td>\n",
       "      <td>2</td>\n",
       "    </tr>\n",
       "    <tr>\n",
       "      <th>Vitachrome Inc.</th>\n",
       "      <td>193</td>\n",
       "      <td>1.0</td>\n",
       "      <td>56372.87</td>\n",
       "      <td>468.0</td>\n",
       "      <td>USA</td>\n",
       "      <td>NYC</td>\n",
       "      <td>2125551500</td>\n",
       "      <td>Frick</td>\n",
       "      <td>Michael</td>\n",
       "      <td>2</td>\n",
       "    </tr>\n",
       "    <tr>\n",
       "      <th>Volvo Model Replicas, Co</th>\n",
       "      <td>189</td>\n",
       "      <td>2.0</td>\n",
       "      <td>39745.67</td>\n",
       "      <td>378.0</td>\n",
       "      <td>Sweden</td>\n",
       "      <td>Lule</td>\n",
       "      <td>0921-12 3555</td>\n",
       "      <td>Berglund</td>\n",
       "      <td>Christina</td>\n",
       "      <td>2</td>\n",
       "    </tr>\n",
       "    <tr>\n",
       "      <th>West Coast Collectables Co.</th>\n",
       "      <td>474</td>\n",
       "      <td>0.0</td>\n",
       "      <td>0.00</td>\n",
       "      <td>0.0</td>\n",
       "      <td>USA</td>\n",
       "      <td>Burbank</td>\n",
       "      <td>3105553722</td>\n",
       "      <td>Thompson</td>\n",
       "      <td>Steve</td>\n",
       "      <td>3</td>\n",
       "    </tr>\n",
       "    <tr>\n",
       "      <th>giftsbymail.co.uk</th>\n",
       "      <td>197</td>\n",
       "      <td>1.0</td>\n",
       "      <td>51334.16</td>\n",
       "      <td>623.0</td>\n",
       "      <td>UK</td>\n",
       "      <td>Cowes</td>\n",
       "      <td>(198) 555-8888</td>\n",
       "      <td>Bennett</td>\n",
       "      <td>Helen</td>\n",
       "      <td>2</td>\n",
       "    </tr>\n",
       "  </tbody>\n",
       "</table>\n",
       "<p>92 rows × 10 columns</p>\n",
       "</div>"
      ],
      "text/plain": [
       "                             RECENCY_days  FREQUENCY_last_year   \n",
       "CUSTOMERNAME                                                     \n",
       "AV Stores, Co.                        181                  2.0  \\\n",
       "Alpha Cognac                           50                  1.0   \n",
       "Amica Models & Co.                    250                  2.0   \n",
       "Anna's Decorations, Ltd                69                  2.0   \n",
       "Atelier graphique                     173                  2.0   \n",
       "...                                   ...                  ...   \n",
       "Vida Sport, Ltd                       260                  1.0   \n",
       "Vitachrome Inc.                       193                  1.0   \n",
       "Volvo Model Replicas, Co              189                  2.0   \n",
       "West Coast Collectables Co.           474                  0.0   \n",
       "giftsbymail.co.uk                     197                  1.0   \n",
       "\n",
       "                             MONETARY_last_year  QUANTITYORDERED_last_year   \n",
       "CUSTOMERNAME                                                                 \n",
       "AV Stores, Co.                        106789.89                     1208.0  \\\n",
       "Alpha Cognac                           15139.12                      172.0   \n",
       "Amica Models & Co.                     94117.26                      843.0   \n",
       "Anna's Decorations, Ltd                65012.42                      595.0   \n",
       "Atelier graphique                       7619.66                      114.0   \n",
       "...                                         ...                        ...   \n",
       "Vida Sport, Ltd                        67281.01                      595.0   \n",
       "Vitachrome Inc.                        56372.87                      468.0   \n",
       "Volvo Model Replicas, Co               39745.67                      378.0   \n",
       "West Coast Collectables Co.                0.00                        0.0   \n",
       "giftsbymail.co.uk                      51334.16                      623.0   \n",
       "\n",
       "                                 COUNTRY          CITY           PHONE   \n",
       "CUSTOMERNAME                                                             \n",
       "AV Stores, Co.                        UK    Manchester  (171) 555-1555  \\\n",
       "Alpha Cognac                      France      Toulouse      61.77.6555   \n",
       "Amica Models & Co.                 Italy        Torino     011-4988555   \n",
       "Anna's Decorations, Ltd        Australia  North Sydney    02 9936 8555   \n",
       "Atelier graphique                 France        Nantes      40.32.2555   \n",
       "...                                  ...           ...             ...   \n",
       "Vida Sport, Ltd              Switzerland        Gensve     0897-034555   \n",
       "Vitachrome Inc.                      USA           NYC      2125551500   \n",
       "Volvo Model Replicas, Co          Sweden          Lule    0921-12 3555   \n",
       "West Coast Collectables Co.          USA       Burbank      3105553722   \n",
       "giftsbymail.co.uk                     UK         Cowes  (198) 555-8888   \n",
       "\n",
       "                            CONTACTLASTNAME CONTACTFIRSTNAME  KMeansLabel  \n",
       "CUSTOMERNAME                                                               \n",
       "AV Stores, Co.                     Ashworth         Victoria            0  \n",
       "Alpha Cognac                         Roulet          Annette            2  \n",
       "Amica Models & Co.                  Accorti            Paolo            0  \n",
       "Anna's Decorations, Ltd              O'Hara             Anna            0  \n",
       "Atelier graphique                   Schmitt           Carine            2  \n",
       "...                                     ...              ...          ...  \n",
       "Vida Sport, Ltd                        Holz          Michael            2  \n",
       "Vitachrome Inc.                       Frick          Michael            2  \n",
       "Volvo Model Replicas, Co           Berglund        Christina            2  \n",
       "West Coast Collectables Co.        Thompson            Steve            3  \n",
       "giftsbymail.co.uk                   Bennett            Helen            2  \n",
       "\n",
       "[92 rows x 10 columns]"
      ]
     },
     "execution_count": 25,
     "metadata": {},
     "output_type": "execute_result"
    }
   ],
   "source": [
    "kmeans_clustering = KMeans(n_clusters=4, random_state=42)\n",
    "kmeans_clustering.fit(rfm_array_scaled)\n",
    "\n",
    "customer_df = customer_df.assign(KMeansLabel=kmeans_clustering.labels_)\n",
    "customer_df"
   ]
  },
  {
   "cell_type": "code",
   "execution_count": 26,
   "metadata": {},
   "outputs": [
    {
     "data": {
      "application/vnd.plotly.v1+json": {
       "config": {
        "plotlyServerURL": "https://plot.ly"
       },
       "data": [
        {
         "hovertemplate": "RECENCY_days=%{x}<br>FREQUENCY_last_year=%{y}<br>MONETARY_last_year=%{z}<br>KMeansLabel=%{marker.color}<extra></extra>",
         "legendgroup": "",
         "marker": {
          "color": [
           0,
           2,
           0,
           0,
           2,
           3,
           0,
           2,
           2,
           0,
           2,
           2,
           2,
           2,
           2,
           3,
           3,
           2,
           2,
           2,
           2,
           3,
           2,
           0,
           2,
           2,
           3,
           3,
           0,
           3,
           3,
           2,
           2,
           1,
           0,
           0,
           2,
           2,
           0,
           2,
           2,
           2,
           0,
           2,
           0,
           0,
           0,
           2,
           0,
           3,
           2,
           2,
           0,
           2,
           2,
           1,
           2,
           2,
           0,
           2,
           2,
           2,
           3,
           2,
           2,
           0,
           0,
           2,
           2,
           2,
           0,
           3,
           0,
           3,
           2,
           0,
           2,
           2,
           3,
           2,
           3,
           0,
           0,
           2,
           0,
           3,
           2,
           2,
           2,
           2,
           3,
           2
          ],
          "coloraxis": "coloraxis",
          "size": 4,
          "symbol": "circle"
         },
         "mode": "markers",
         "name": "",
         "scene": "scene",
         "showlegend": false,
         "type": "scatter3d",
         "x": [
          181,
          50,
          250,
          69,
          173,
          319,
          169,
          104,
          218,
          40,
          165,
          193,
          244,
          193,
          98,
          424,
          374,
          207,
          215,
          177,
          243,
          446,
          117,
          83,
          197,
          182,
          451,
          343,
          196,
          386,
          481,
          76,
          174,
          14,
          75,
          12,
          164,
          249,
          24,
          207,
          256,
          223,
          7,
          178,
          103,
          183,
          61,
          131,
          216,
          494,
          195,
          68,
          33,
          214,
          130,
          55,
          180,
          181,
          167,
          269,
          194,
          249,
          399,
          106,
          300,
          16,
          48,
          186,
          270,
          127,
          0,
          441,
          75,
          462,
          169,
          151,
          165,
          131,
          378,
          132,
          364,
          46,
          25,
          213,
          97,
          546,
          39,
          260,
          193,
          189,
          474,
          197
         ],
         "y": [
          2,
          1,
          2,
          2,
          2,
          1,
          2,
          1,
          1,
          2,
          2,
          2,
          1,
          1,
          1,
          0,
          0,
          1,
          1,
          1,
          1,
          0,
          2,
          2,
          1,
          1,
          0,
          1,
          3,
          0,
          0,
          2,
          1,
          11,
          2,
          2,
          1,
          2,
          3,
          1,
          1,
          1,
          2,
          2,
          3,
          2,
          2,
          2,
          2,
          0,
          1,
          1,
          2,
          1,
          1,
          11,
          1,
          1,
          2,
          1,
          1,
          2,
          0,
          1,
          1,
          2,
          3,
          1,
          1,
          2,
          3,
          0,
          2,
          0,
          2,
          2,
          1,
          1,
          0,
          2,
          1,
          2,
          4,
          1,
          2,
          0,
          1,
          1,
          1,
          2,
          0,
          1
         ],
         "z": [
          106789.89000000001,
          15139.119999999999,
          94117.26,
          65012.420000000006,
          7619.66,
          12334.82,
          91222,
          21730.03,
          59074.899999999994,
          41998.01,
          19201.91,
          60422.530000000006,
          34993.92,
          9214.970000000001,
          3987.2,
          0,
          0,
          36576.71000000001,
          27445.309999999998,
          27733.04,
          18971.96,
          0,
          46585.579999999994,
          54203.619999999995,
          34546.600000000006,
          15928.75,
          0,
          4749.45,
          115971.34000000001,
          0,
          0,
          7303.4800000000005,
          30183.350000000002,
          396474.36000000004,
          87062.04000000001,
          75778.99,
          29343.35,
          34892.99,
          91279.14000000003,
          60273.939999999995,
          16363.1,
          3220.88,
          97931.59000000001,
          58986.270000000004,
          136340.21,
          92928.01999999999,
          52945.45999999999,
          22454.3,
          103080.38000000002,
          0,
          31446.149999999998,
          8775.16,
          41097.25,
          46873.04,
          11021.3,
          413545.42,
          30348.72,
          48996.1,
          64958.700000000004,
          34145.47,
          55570.6,
          57197.95999999999,
          0,
          49055.4,
          47760.479999999996,
          58257.50000000001,
          100924.66,
          41696.689999999995,
          43332.350000000006,
          30091.640000000003,
          111169.48999999999,
          0,
          85548.41,
          0,
          48903.46000000001,
          79202.29000000001,
          13739.900000000001,
          51373.490000000005,
          0,
          16445.77,
          27987.07,
          53654.94,
          120562.74,
          68943.40000000001,
          69166.87999999999,
          0,
          40802.810000000005,
          67281.01000000001,
          56372.87,
          39745.670000000006,
          0,
          51334.16
         ]
        },
        {
         "hovertemplate": "RECENCY_days=%{x}<br>QUANTITYORDERED_last_year=%{y}<br>MONETARY_last_year=%{z}<br>KMeansLabel=%{marker.color}<extra></extra>",
         "legendgroup": "",
         "marker": {
          "color": [
           0,
           2,
           0,
           0,
           2,
           3,
           0,
           2,
           2,
           0,
           2,
           2,
           2,
           2,
           2,
           3,
           3,
           2,
           2,
           2,
           2,
           3,
           2,
           0,
           2,
           2,
           3,
           3,
           0,
           3,
           3,
           2,
           2,
           1,
           0,
           0,
           2,
           2,
           0,
           2,
           2,
           2,
           0,
           2,
           0,
           0,
           0,
           2,
           0,
           3,
           2,
           2,
           0,
           2,
           2,
           1,
           2,
           2,
           0,
           2,
           2,
           2,
           3,
           2,
           2,
           0,
           0,
           2,
           2,
           2,
           0,
           3,
           0,
           3,
           2,
           0,
           2,
           2,
           3,
           2,
           3,
           0,
           0,
           2,
           0,
           3,
           2,
           2,
           2,
           2,
           3,
           2
          ],
          "coloraxis": "coloraxis",
          "size": 4,
          "symbol": "circle"
         },
         "mode": "markers",
         "name": "",
         "scene": "scene2",
         "showlegend": false,
         "type": "scatter3d",
         "x": [
          181,
          50,
          250,
          69,
          173,
          319,
          169,
          104,
          218,
          40,
          165,
          193,
          244,
          193,
          98,
          424,
          374,
          207,
          215,
          177,
          243,
          446,
          117,
          83,
          197,
          182,
          451,
          343,
          196,
          386,
          481,
          76,
          174,
          14,
          75,
          12,
          164,
          249,
          24,
          207,
          256,
          223,
          7,
          178,
          103,
          183,
          61,
          131,
          216,
          494,
          195,
          68,
          33,
          214,
          130,
          55,
          180,
          181,
          167,
          269,
          194,
          249,
          399,
          106,
          300,
          16,
          48,
          186,
          270,
          127,
          0,
          441,
          75,
          462,
          169,
          151,
          165,
          131,
          378,
          132,
          364,
          46,
          25,
          213,
          97,
          546,
          39,
          260,
          193,
          189,
          474,
          197
         ],
         "y": [
          1208,
          172,
          843,
          595,
          114,
          94,
          838,
          209,
          594,
          471,
          214,
          519,
          401,
          80,
          35,
          0,
          0,
          348,
          277,
          285,
          201,
          0,
          454,
          471,
          305,
          158,
          0,
          63,
          1035,
          0,
          0,
          72,
          343,
          4079,
          805,
          640,
          346,
          427,
          996,
          524,
          150,
          70,
          955,
          485,
          1405,
          948,
          457,
          259,
          976,
          0,
          335,
          102,
          397,
          544,
          96,
          3917,
          261,
          437,
          616,
          418,
          512,
          572,
          0,
          605,
          518,
          572,
          1110,
          495,
          483,
          231,
          1000,
          0,
          809,
          0,
          481,
          803,
          156,
          508,
          0,
          152,
          216,
          564,
          1150,
          619,
          597,
          0,
          371,
          595,
          468,
          378,
          0,
          623
         ],
         "z": [
          106789.89000000001,
          15139.119999999999,
          94117.26,
          65012.420000000006,
          7619.66,
          12334.82,
          91222,
          21730.03,
          59074.899999999994,
          41998.01,
          19201.91,
          60422.530000000006,
          34993.92,
          9214.970000000001,
          3987.2,
          0,
          0,
          36576.71000000001,
          27445.309999999998,
          27733.04,
          18971.96,
          0,
          46585.579999999994,
          54203.619999999995,
          34546.600000000006,
          15928.75,
          0,
          4749.45,
          115971.34000000001,
          0,
          0,
          7303.4800000000005,
          30183.350000000002,
          396474.36000000004,
          87062.04000000001,
          75778.99,
          29343.35,
          34892.99,
          91279.14000000003,
          60273.939999999995,
          16363.1,
          3220.88,
          97931.59000000001,
          58986.270000000004,
          136340.21,
          92928.01999999999,
          52945.45999999999,
          22454.3,
          103080.38000000002,
          0,
          31446.149999999998,
          8775.16,
          41097.25,
          46873.04,
          11021.3,
          413545.42,
          30348.72,
          48996.1,
          64958.700000000004,
          34145.47,
          55570.6,
          57197.95999999999,
          0,
          49055.4,
          47760.479999999996,
          58257.50000000001,
          100924.66,
          41696.689999999995,
          43332.350000000006,
          30091.640000000003,
          111169.48999999999,
          0,
          85548.41,
          0,
          48903.46000000001,
          79202.29000000001,
          13739.900000000001,
          51373.490000000005,
          0,
          16445.77,
          27987.07,
          53654.94,
          120562.74,
          68943.40000000001,
          69166.87999999999,
          0,
          40802.810000000005,
          67281.01000000001,
          56372.87,
          39745.670000000006,
          0,
          51334.16
         ]
        }
       ],
       "layout": {
        "scene": {
         "domain": {
          "x": [
           0,
           0.45
          ],
          "y": [
           0,
           1
          ]
         },
         "xaxis": {
          "title": {
           "text": "RECENCY_days"
          }
         },
         "yaxis": {
          "title": {
           "text": "FREQUENCY_last_year"
          }
         },
         "zaxis": {
          "title": {
           "text": "MONETARY_last_year"
          }
         }
        },
        "scene2": {
         "domain": {
          "x": [
           0.55,
           1
          ],
          "y": [
           0,
           1
          ]
         },
         "xaxis": {
          "title": {
           "text": "RECENCY_days"
          }
         },
         "yaxis": {
          "title": {
           "text": "QUANTITYORDERED_last_year"
          }
         },
         "zaxis": {
          "title": {
           "text": "MONETARY_last_year"
          }
         }
        },
        "template": {
         "data": {
          "bar": [
           {
            "error_x": {
             "color": "#2a3f5f"
            },
            "error_y": {
             "color": "#2a3f5f"
            },
            "marker": {
             "line": {
              "color": "#E5ECF6",
              "width": 0.5
             },
             "pattern": {
              "fillmode": "overlay",
              "size": 10,
              "solidity": 0.2
             }
            },
            "type": "bar"
           }
          ],
          "barpolar": [
           {
            "marker": {
             "line": {
              "color": "#E5ECF6",
              "width": 0.5
             },
             "pattern": {
              "fillmode": "overlay",
              "size": 10,
              "solidity": 0.2
             }
            },
            "type": "barpolar"
           }
          ],
          "carpet": [
           {
            "aaxis": {
             "endlinecolor": "#2a3f5f",
             "gridcolor": "white",
             "linecolor": "white",
             "minorgridcolor": "white",
             "startlinecolor": "#2a3f5f"
            },
            "baxis": {
             "endlinecolor": "#2a3f5f",
             "gridcolor": "white",
             "linecolor": "white",
             "minorgridcolor": "white",
             "startlinecolor": "#2a3f5f"
            },
            "type": "carpet"
           }
          ],
          "choropleth": [
           {
            "colorbar": {
             "outlinewidth": 0,
             "ticks": ""
            },
            "type": "choropleth"
           }
          ],
          "contour": [
           {
            "colorbar": {
             "outlinewidth": 0,
             "ticks": ""
            },
            "colorscale": [
             [
              0,
              "#0d0887"
             ],
             [
              0.1111111111111111,
              "#46039f"
             ],
             [
              0.2222222222222222,
              "#7201a8"
             ],
             [
              0.3333333333333333,
              "#9c179e"
             ],
             [
              0.4444444444444444,
              "#bd3786"
             ],
             [
              0.5555555555555556,
              "#d8576b"
             ],
             [
              0.6666666666666666,
              "#ed7953"
             ],
             [
              0.7777777777777778,
              "#fb9f3a"
             ],
             [
              0.8888888888888888,
              "#fdca26"
             ],
             [
              1,
              "#f0f921"
             ]
            ],
            "type": "contour"
           }
          ],
          "contourcarpet": [
           {
            "colorbar": {
             "outlinewidth": 0,
             "ticks": ""
            },
            "type": "contourcarpet"
           }
          ],
          "heatmap": [
           {
            "colorbar": {
             "outlinewidth": 0,
             "ticks": ""
            },
            "colorscale": [
             [
              0,
              "#0d0887"
             ],
             [
              0.1111111111111111,
              "#46039f"
             ],
             [
              0.2222222222222222,
              "#7201a8"
             ],
             [
              0.3333333333333333,
              "#9c179e"
             ],
             [
              0.4444444444444444,
              "#bd3786"
             ],
             [
              0.5555555555555556,
              "#d8576b"
             ],
             [
              0.6666666666666666,
              "#ed7953"
             ],
             [
              0.7777777777777778,
              "#fb9f3a"
             ],
             [
              0.8888888888888888,
              "#fdca26"
             ],
             [
              1,
              "#f0f921"
             ]
            ],
            "type": "heatmap"
           }
          ],
          "heatmapgl": [
           {
            "colorbar": {
             "outlinewidth": 0,
             "ticks": ""
            },
            "colorscale": [
             [
              0,
              "#0d0887"
             ],
             [
              0.1111111111111111,
              "#46039f"
             ],
             [
              0.2222222222222222,
              "#7201a8"
             ],
             [
              0.3333333333333333,
              "#9c179e"
             ],
             [
              0.4444444444444444,
              "#bd3786"
             ],
             [
              0.5555555555555556,
              "#d8576b"
             ],
             [
              0.6666666666666666,
              "#ed7953"
             ],
             [
              0.7777777777777778,
              "#fb9f3a"
             ],
             [
              0.8888888888888888,
              "#fdca26"
             ],
             [
              1,
              "#f0f921"
             ]
            ],
            "type": "heatmapgl"
           }
          ],
          "histogram": [
           {
            "marker": {
             "pattern": {
              "fillmode": "overlay",
              "size": 10,
              "solidity": 0.2
             }
            },
            "type": "histogram"
           }
          ],
          "histogram2d": [
           {
            "colorbar": {
             "outlinewidth": 0,
             "ticks": ""
            },
            "colorscale": [
             [
              0,
              "#0d0887"
             ],
             [
              0.1111111111111111,
              "#46039f"
             ],
             [
              0.2222222222222222,
              "#7201a8"
             ],
             [
              0.3333333333333333,
              "#9c179e"
             ],
             [
              0.4444444444444444,
              "#bd3786"
             ],
             [
              0.5555555555555556,
              "#d8576b"
             ],
             [
              0.6666666666666666,
              "#ed7953"
             ],
             [
              0.7777777777777778,
              "#fb9f3a"
             ],
             [
              0.8888888888888888,
              "#fdca26"
             ],
             [
              1,
              "#f0f921"
             ]
            ],
            "type": "histogram2d"
           }
          ],
          "histogram2dcontour": [
           {
            "colorbar": {
             "outlinewidth": 0,
             "ticks": ""
            },
            "colorscale": [
             [
              0,
              "#0d0887"
             ],
             [
              0.1111111111111111,
              "#46039f"
             ],
             [
              0.2222222222222222,
              "#7201a8"
             ],
             [
              0.3333333333333333,
              "#9c179e"
             ],
             [
              0.4444444444444444,
              "#bd3786"
             ],
             [
              0.5555555555555556,
              "#d8576b"
             ],
             [
              0.6666666666666666,
              "#ed7953"
             ],
             [
              0.7777777777777778,
              "#fb9f3a"
             ],
             [
              0.8888888888888888,
              "#fdca26"
             ],
             [
              1,
              "#f0f921"
             ]
            ],
            "type": "histogram2dcontour"
           }
          ],
          "mesh3d": [
           {
            "colorbar": {
             "outlinewidth": 0,
             "ticks": ""
            },
            "type": "mesh3d"
           }
          ],
          "parcoords": [
           {
            "line": {
             "colorbar": {
              "outlinewidth": 0,
              "ticks": ""
             }
            },
            "type": "parcoords"
           }
          ],
          "pie": [
           {
            "automargin": true,
            "type": "pie"
           }
          ],
          "scatter": [
           {
            "fillpattern": {
             "fillmode": "overlay",
             "size": 10,
             "solidity": 0.2
            },
            "type": "scatter"
           }
          ],
          "scatter3d": [
           {
            "line": {
             "colorbar": {
              "outlinewidth": 0,
              "ticks": ""
             }
            },
            "marker": {
             "colorbar": {
              "outlinewidth": 0,
              "ticks": ""
             }
            },
            "type": "scatter3d"
           }
          ],
          "scattercarpet": [
           {
            "marker": {
             "colorbar": {
              "outlinewidth": 0,
              "ticks": ""
             }
            },
            "type": "scattercarpet"
           }
          ],
          "scattergeo": [
           {
            "marker": {
             "colorbar": {
              "outlinewidth": 0,
              "ticks": ""
             }
            },
            "type": "scattergeo"
           }
          ],
          "scattergl": [
           {
            "marker": {
             "colorbar": {
              "outlinewidth": 0,
              "ticks": ""
             }
            },
            "type": "scattergl"
           }
          ],
          "scattermapbox": [
           {
            "marker": {
             "colorbar": {
              "outlinewidth": 0,
              "ticks": ""
             }
            },
            "type": "scattermapbox"
           }
          ],
          "scatterpolar": [
           {
            "marker": {
             "colorbar": {
              "outlinewidth": 0,
              "ticks": ""
             }
            },
            "type": "scatterpolar"
           }
          ],
          "scatterpolargl": [
           {
            "marker": {
             "colorbar": {
              "outlinewidth": 0,
              "ticks": ""
             }
            },
            "type": "scatterpolargl"
           }
          ],
          "scatterternary": [
           {
            "marker": {
             "colorbar": {
              "outlinewidth": 0,
              "ticks": ""
             }
            },
            "type": "scatterternary"
           }
          ],
          "surface": [
           {
            "colorbar": {
             "outlinewidth": 0,
             "ticks": ""
            },
            "colorscale": [
             [
              0,
              "#0d0887"
             ],
             [
              0.1111111111111111,
              "#46039f"
             ],
             [
              0.2222222222222222,
              "#7201a8"
             ],
             [
              0.3333333333333333,
              "#9c179e"
             ],
             [
              0.4444444444444444,
              "#bd3786"
             ],
             [
              0.5555555555555556,
              "#d8576b"
             ],
             [
              0.6666666666666666,
              "#ed7953"
             ],
             [
              0.7777777777777778,
              "#fb9f3a"
             ],
             [
              0.8888888888888888,
              "#fdca26"
             ],
             [
              1,
              "#f0f921"
             ]
            ],
            "type": "surface"
           }
          ],
          "table": [
           {
            "cells": {
             "fill": {
              "color": "#EBF0F8"
             },
             "line": {
              "color": "white"
             }
            },
            "header": {
             "fill": {
              "color": "#C8D4E3"
             },
             "line": {
              "color": "white"
             }
            },
            "type": "table"
           }
          ]
         },
         "layout": {
          "annotationdefaults": {
           "arrowcolor": "#2a3f5f",
           "arrowhead": 0,
           "arrowwidth": 1
          },
          "autotypenumbers": "strict",
          "coloraxis": {
           "colorbar": {
            "outlinewidth": 0,
            "ticks": ""
           }
          },
          "colorscale": {
           "diverging": [
            [
             0,
             "#8e0152"
            ],
            [
             0.1,
             "#c51b7d"
            ],
            [
             0.2,
             "#de77ae"
            ],
            [
             0.3,
             "#f1b6da"
            ],
            [
             0.4,
             "#fde0ef"
            ],
            [
             0.5,
             "#f7f7f7"
            ],
            [
             0.6,
             "#e6f5d0"
            ],
            [
             0.7,
             "#b8e186"
            ],
            [
             0.8,
             "#7fbc41"
            ],
            [
             0.9,
             "#4d9221"
            ],
            [
             1,
             "#276419"
            ]
           ],
           "sequential": [
            [
             0,
             "#0d0887"
            ],
            [
             0.1111111111111111,
             "#46039f"
            ],
            [
             0.2222222222222222,
             "#7201a8"
            ],
            [
             0.3333333333333333,
             "#9c179e"
            ],
            [
             0.4444444444444444,
             "#bd3786"
            ],
            [
             0.5555555555555556,
             "#d8576b"
            ],
            [
             0.6666666666666666,
             "#ed7953"
            ],
            [
             0.7777777777777778,
             "#fb9f3a"
            ],
            [
             0.8888888888888888,
             "#fdca26"
            ],
            [
             1,
             "#f0f921"
            ]
           ],
           "sequentialminus": [
            [
             0,
             "#0d0887"
            ],
            [
             0.1111111111111111,
             "#46039f"
            ],
            [
             0.2222222222222222,
             "#7201a8"
            ],
            [
             0.3333333333333333,
             "#9c179e"
            ],
            [
             0.4444444444444444,
             "#bd3786"
            ],
            [
             0.5555555555555556,
             "#d8576b"
            ],
            [
             0.6666666666666666,
             "#ed7953"
            ],
            [
             0.7777777777777778,
             "#fb9f3a"
            ],
            [
             0.8888888888888888,
             "#fdca26"
            ],
            [
             1,
             "#f0f921"
            ]
           ]
          },
          "colorway": [
           "#636efa",
           "#EF553B",
           "#00cc96",
           "#ab63fa",
           "#FFA15A",
           "#19d3f3",
           "#FF6692",
           "#B6E880",
           "#FF97FF",
           "#FECB52"
          ],
          "font": {
           "color": "#2a3f5f"
          },
          "geo": {
           "bgcolor": "white",
           "lakecolor": "white",
           "landcolor": "#E5ECF6",
           "showlakes": true,
           "showland": true,
           "subunitcolor": "white"
          },
          "hoverlabel": {
           "align": "left"
          },
          "hovermode": "closest",
          "mapbox": {
           "style": "light"
          },
          "paper_bgcolor": "white",
          "plot_bgcolor": "#E5ECF6",
          "polar": {
           "angularaxis": {
            "gridcolor": "white",
            "linecolor": "white",
            "ticks": ""
           },
           "bgcolor": "#E5ECF6",
           "radialaxis": {
            "gridcolor": "white",
            "linecolor": "white",
            "ticks": ""
           }
          },
          "scene": {
           "xaxis": {
            "backgroundcolor": "#E5ECF6",
            "gridcolor": "white",
            "gridwidth": 2,
            "linecolor": "white",
            "showbackground": true,
            "ticks": "",
            "zerolinecolor": "white"
           },
           "yaxis": {
            "backgroundcolor": "#E5ECF6",
            "gridcolor": "white",
            "gridwidth": 2,
            "linecolor": "white",
            "showbackground": true,
            "ticks": "",
            "zerolinecolor": "white"
           },
           "zaxis": {
            "backgroundcolor": "#E5ECF6",
            "gridcolor": "white",
            "gridwidth": 2,
            "linecolor": "white",
            "showbackground": true,
            "ticks": "",
            "zerolinecolor": "white"
           }
          },
          "shapedefaults": {
           "line": {
            "color": "#2a3f5f"
           }
          },
          "ternary": {
           "aaxis": {
            "gridcolor": "white",
            "linecolor": "white",
            "ticks": ""
           },
           "baxis": {
            "gridcolor": "white",
            "linecolor": "white",
            "ticks": ""
           },
           "bgcolor": "#E5ECF6",
           "caxis": {
            "gridcolor": "white",
            "linecolor": "white",
            "ticks": ""
           }
          },
          "title": {
           "x": 0.05
          },
          "xaxis": {
           "automargin": true,
           "gridcolor": "white",
           "linecolor": "white",
           "ticks": "",
           "title": {
            "standoff": 15
           },
           "zerolinecolor": "white",
           "zerolinewidth": 2
          },
          "yaxis": {
           "automargin": true,
           "gridcolor": "white",
           "linecolor": "white",
           "ticks": "",
           "title": {
            "standoff": 15
           },
           "zerolinecolor": "white",
           "zerolinewidth": 2
          }
         }
        }
       }
      }
     },
     "metadata": {},
     "output_type": "display_data"
    },
    {
     "data": {
      "text/html": [
       "<div>\n",
       "<style scoped>\n",
       "    .dataframe tbody tr th:only-of-type {\n",
       "        vertical-align: middle;\n",
       "    }\n",
       "\n",
       "    .dataframe tbody tr th {\n",
       "        vertical-align: top;\n",
       "    }\n",
       "\n",
       "    .dataframe thead th {\n",
       "        text-align: right;\n",
       "    }\n",
       "</style>\n",
       "<table border=\"1\" class=\"dataframe\">\n",
       "  <thead>\n",
       "    <tr style=\"text-align: right;\">\n",
       "      <th></th>\n",
       "      <th>RECENCY_days</th>\n",
       "      <th>FREQUENCY_last_year</th>\n",
       "      <th>MONETARY_last_year</th>\n",
       "      <th>CustomersCount</th>\n",
       "    </tr>\n",
       "    <tr>\n",
       "      <th>KMeansLabel</th>\n",
       "      <th></th>\n",
       "      <th></th>\n",
       "      <th></th>\n",
       "      <th></th>\n",
       "    </tr>\n",
       "  </thead>\n",
       "  <tbody>\n",
       "    <tr>\n",
       "      <th>0</th>\n",
       "      <td>75.0</td>\n",
       "      <td>2.0</td>\n",
       "      <td>87062.04</td>\n",
       "      <td>25</td>\n",
       "    </tr>\n",
       "    <tr>\n",
       "      <th>1</th>\n",
       "      <td>34.5</td>\n",
       "      <td>11.0</td>\n",
       "      <td>405009.89</td>\n",
       "      <td>2</td>\n",
       "    </tr>\n",
       "    <tr>\n",
       "      <th>2</th>\n",
       "      <td>186.0</td>\n",
       "      <td>1.0</td>\n",
       "      <td>34546.60</td>\n",
       "      <td>49</td>\n",
       "    </tr>\n",
       "    <tr>\n",
       "      <th>3</th>\n",
       "      <td>432.5</td>\n",
       "      <td>0.0</td>\n",
       "      <td>0.00</td>\n",
       "      <td>16</td>\n",
       "    </tr>\n",
       "  </tbody>\n",
       "</table>\n",
       "</div>"
      ],
      "text/plain": [
       "             RECENCY_days  FREQUENCY_last_year  MONETARY_last_year   \n",
       "KMeansLabel                                                          \n",
       "0                    75.0                  2.0            87062.04  \\\n",
       "1                    34.5                 11.0           405009.89   \n",
       "2                   186.0                  1.0            34546.60   \n",
       "3                   432.5                  0.0                0.00   \n",
       "\n",
       "             CustomersCount  \n",
       "KMeansLabel                  \n",
       "0                        25  \n",
       "1                         2  \n",
       "2                        49  \n",
       "3                        16  "
      ]
     },
     "execution_count": 26,
     "metadata": {},
     "output_type": "execute_result"
    }
   ],
   "source": [
    "rfm_df_scaled = rfm_df_scaled.assign(KMeansLabel=kmeans_clustering.labels_)\n",
    "rfm_df = rfm_df.assign(KMeansLabel=kmeans_clustering.labels_)\n",
    "\n",
    "fig1 = px.scatter_3d(\n",
    "    data_frame=rfm_df,\n",
    "    x= \"RECENCY_days\",\n",
    "    y = \"FREQUENCY_last_year\",\n",
    "    z= \"MONETARY_last_year\",\n",
    "    title = \"Relationship between RECENCY VS FREQUENCY VS MONETARY based on KMeans customer cluster\",\n",
    "    color = \"KMeansLabel\",\n",
    "    height=500\n",
    ")\n",
    "fig1.update_traces(marker_size = 4)\n",
    "# fig1.show()\n",
    "\n",
    "fig2 = px.scatter_3d(\n",
    "    data_frame=rfm_df,\n",
    "    x= \"RECENCY_days\",\n",
    "    y = \"QUANTITYORDERED_last_year\",\n",
    "    z= \"MONETARY_last_year\",\n",
    "    title = \"Relationship between RECENCY VS QUANTITYORDERED VS MONETARY based on KMeans customer cluster\",\n",
    "    color = \"KMeansLabel\",\n",
    "    height=500\n",
    ")\n",
    "fig2.update_traces(marker_size = 4)\n",
    "# fig2.show()\n",
    "\n",
    "# Create a subplot with two 3D scatter plots side by side\n",
    "fig = make_subplots(rows=1, cols=2, specs=[[{'type': 'scatter3d'}, {'type': 'scatter3d'}]])\n",
    "\n",
    "fig.add_trace(fig1.data[0], row=1, col=1)\n",
    "fig.add_trace(fig2.data[0], row=1, col=2)\n",
    "\n",
    "fig.update_layout(scene1=dict(xaxis=dict(title='RECENCY_days'),\n",
    "                              yaxis=dict(title='FREQUENCY_last_year'),\n",
    "                              zaxis=dict(title='MONETARY_last_year'),\n",
    "                              ),\n",
    "                  scene2=dict(xaxis=dict(title='RECENCY_days'),\n",
    "                              yaxis=dict(title='QUANTITYORDERED_last_year'),\n",
    "                              zaxis=dict(title='MONETARY_last_year'),\n",
    "                              ))\n",
    "\n",
    "fig.show()\n",
    "\n",
    "customer_clusters_summarize = customer_df.groupby(\"KMeansLabel\")[[\"RECENCY_days\", \"FREQUENCY_last_year\", \"MONETARY_last_year\"]].median()\n",
    "customer_clusters_summarize.assign(CustomersCount=np.bincount(kmeans_clustering.labels_))"
   ]
  },
  {
   "cell_type": "code",
   "execution_count": 34,
   "metadata": {},
   "outputs": [
    {
     "data": {
      "application/vnd.plotly.v1+json": {
       "config": {
        "plotlyServerURL": "https://plot.ly"
       },
       "data": [
        {
         "hovertemplate": "RECENCY_days=%{x}<br>FREQUENCY_last_year=%{y}<br>MONETARY_last_year=%{z}<br>KMeansLabel=%{marker.color}<extra></extra>",
         "legendgroup": "",
         "marker": {
          "color": [
           0,
           2,
           0,
           0,
           2,
           3,
           0,
           2,
           2,
           0,
           2,
           2,
           2,
           2,
           2,
           4,
           4,
           2,
           2,
           2,
           2,
           4,
           2,
           0,
           2,
           2,
           4,
           3,
           0,
           4,
           4,
           2,
           2,
           1,
           0,
           0,
           2,
           2,
           0,
           2,
           2,
           2,
           0,
           2,
           0,
           0,
           0,
           2,
           0,
           4,
           2,
           2,
           0,
           2,
           2,
           1,
           2,
           2,
           0,
           2,
           2,
           2,
           4,
           2,
           2,
           0,
           0,
           2,
           2,
           2,
           0,
           4,
           0,
           4,
           2,
           0,
           2,
           2,
           4,
           2,
           3,
           0,
           0,
           2,
           0,
           4,
           2,
           2,
           2,
           2,
           4,
           2
          ],
          "coloraxis": "coloraxis",
          "size": 4,
          "symbol": "circle"
         },
         "mode": "markers",
         "name": "",
         "scene": "scene",
         "showlegend": false,
         "type": "scatter3d",
         "x": [
          181,
          50,
          250,
          69,
          173,
          319,
          169,
          104,
          218,
          40,
          165,
          193,
          244,
          193,
          98,
          424,
          374,
          207,
          215,
          177,
          243,
          446,
          117,
          83,
          197,
          182,
          451,
          343,
          196,
          386,
          481,
          76,
          174,
          14,
          75,
          12,
          164,
          249,
          24,
          207,
          256,
          223,
          7,
          178,
          103,
          183,
          61,
          131,
          216,
          494,
          195,
          68,
          33,
          214,
          130,
          55,
          180,
          181,
          167,
          269,
          194,
          249,
          399,
          106,
          300,
          16,
          48,
          186,
          270,
          127,
          0,
          441,
          75,
          462,
          169,
          151,
          165,
          131,
          378,
          132,
          364,
          46,
          25,
          213,
          97,
          546,
          39,
          260,
          193,
          189,
          474,
          197
         ],
         "y": [
          2,
          1,
          2,
          2,
          2,
          1,
          2,
          1,
          1,
          2,
          2,
          2,
          1,
          1,
          1,
          0,
          0,
          1,
          1,
          1,
          1,
          0,
          2,
          2,
          1,
          1,
          0,
          1,
          3,
          0,
          0,
          2,
          1,
          11,
          2,
          2,
          1,
          2,
          3,
          1,
          1,
          1,
          2,
          2,
          3,
          2,
          2,
          2,
          2,
          0,
          1,
          1,
          2,
          1,
          1,
          11,
          1,
          1,
          2,
          1,
          1,
          2,
          0,
          1,
          1,
          2,
          3,
          1,
          1,
          2,
          3,
          0,
          2,
          0,
          2,
          2,
          1,
          1,
          0,
          2,
          1,
          2,
          4,
          1,
          2,
          0,
          1,
          1,
          1,
          2,
          0,
          1
         ],
         "z": [
          106789.89000000001,
          15139.119999999999,
          94117.26,
          65012.420000000006,
          7619.66,
          12334.82,
          91222,
          21730.03,
          59074.899999999994,
          41998.01,
          19201.91,
          60422.530000000006,
          34993.92,
          9214.970000000001,
          3987.2,
          0,
          0,
          36576.71000000001,
          27445.309999999998,
          27733.04,
          18971.96,
          0,
          46585.579999999994,
          54203.619999999995,
          34546.600000000006,
          15928.75,
          0,
          4749.45,
          115971.34000000001,
          0,
          0,
          7303.4800000000005,
          30183.350000000002,
          396474.36000000004,
          87062.04000000001,
          75778.99,
          29343.35,
          34892.99,
          91279.14000000003,
          60273.939999999995,
          16363.1,
          3220.88,
          97931.59000000001,
          58986.270000000004,
          136340.21,
          92928.01999999999,
          52945.45999999999,
          22454.3,
          103080.38000000002,
          0,
          31446.149999999998,
          8775.16,
          41097.25,
          46873.04,
          11021.3,
          413545.42,
          30348.72,
          48996.1,
          64958.700000000004,
          34145.47,
          55570.6,
          57197.95999999999,
          0,
          49055.4,
          47760.479999999996,
          58257.50000000001,
          100924.66,
          41696.689999999995,
          43332.350000000006,
          30091.640000000003,
          111169.48999999999,
          0,
          85548.41,
          0,
          48903.46000000001,
          79202.29000000001,
          13739.900000000001,
          51373.490000000005,
          0,
          16445.77,
          27987.07,
          53654.94,
          120562.74,
          68943.40000000001,
          69166.87999999999,
          0,
          40802.810000000005,
          67281.01000000001,
          56372.87,
          39745.670000000006,
          0,
          51334.16
         ]
        },
        {
         "hovertemplate": "RECENCY_days=%{x}<br>QUANTITYORDERED_last_year=%{y}<br>MONETARY_last_year=%{z}<br>KMeansLabel=%{marker.color}<extra></extra>",
         "legendgroup": "",
         "marker": {
          "color": [
           0,
           2,
           0,
           0,
           2,
           3,
           0,
           2,
           2,
           0,
           2,
           2,
           2,
           2,
           2,
           4,
           4,
           2,
           2,
           2,
           2,
           4,
           2,
           0,
           2,
           2,
           4,
           3,
           0,
           4,
           4,
           2,
           2,
           1,
           0,
           0,
           2,
           2,
           0,
           2,
           2,
           2,
           0,
           2,
           0,
           0,
           0,
           2,
           0,
           4,
           2,
           2,
           0,
           2,
           2,
           1,
           2,
           2,
           0,
           2,
           2,
           2,
           4,
           2,
           2,
           0,
           0,
           2,
           2,
           2,
           0,
           4,
           0,
           4,
           2,
           0,
           2,
           2,
           4,
           2,
           3,
           0,
           0,
           2,
           0,
           4,
           2,
           2,
           2,
           2,
           4,
           2
          ],
          "coloraxis": "coloraxis",
          "size": 4,
          "symbol": "circle"
         },
         "mode": "markers",
         "name": "",
         "scene": "scene2",
         "showlegend": false,
         "type": "scatter3d",
         "x": [
          181,
          50,
          250,
          69,
          173,
          319,
          169,
          104,
          218,
          40,
          165,
          193,
          244,
          193,
          98,
          424,
          374,
          207,
          215,
          177,
          243,
          446,
          117,
          83,
          197,
          182,
          451,
          343,
          196,
          386,
          481,
          76,
          174,
          14,
          75,
          12,
          164,
          249,
          24,
          207,
          256,
          223,
          7,
          178,
          103,
          183,
          61,
          131,
          216,
          494,
          195,
          68,
          33,
          214,
          130,
          55,
          180,
          181,
          167,
          269,
          194,
          249,
          399,
          106,
          300,
          16,
          48,
          186,
          270,
          127,
          0,
          441,
          75,
          462,
          169,
          151,
          165,
          131,
          378,
          132,
          364,
          46,
          25,
          213,
          97,
          546,
          39,
          260,
          193,
          189,
          474,
          197
         ],
         "y": [
          1208,
          172,
          843,
          595,
          114,
          94,
          838,
          209,
          594,
          471,
          214,
          519,
          401,
          80,
          35,
          0,
          0,
          348,
          277,
          285,
          201,
          0,
          454,
          471,
          305,
          158,
          0,
          63,
          1035,
          0,
          0,
          72,
          343,
          4079,
          805,
          640,
          346,
          427,
          996,
          524,
          150,
          70,
          955,
          485,
          1405,
          948,
          457,
          259,
          976,
          0,
          335,
          102,
          397,
          544,
          96,
          3917,
          261,
          437,
          616,
          418,
          512,
          572,
          0,
          605,
          518,
          572,
          1110,
          495,
          483,
          231,
          1000,
          0,
          809,
          0,
          481,
          803,
          156,
          508,
          0,
          152,
          216,
          564,
          1150,
          619,
          597,
          0,
          371,
          595,
          468,
          378,
          0,
          623
         ],
         "z": [
          106789.89000000001,
          15139.119999999999,
          94117.26,
          65012.420000000006,
          7619.66,
          12334.82,
          91222,
          21730.03,
          59074.899999999994,
          41998.01,
          19201.91,
          60422.530000000006,
          34993.92,
          9214.970000000001,
          3987.2,
          0,
          0,
          36576.71000000001,
          27445.309999999998,
          27733.04,
          18971.96,
          0,
          46585.579999999994,
          54203.619999999995,
          34546.600000000006,
          15928.75,
          0,
          4749.45,
          115971.34000000001,
          0,
          0,
          7303.4800000000005,
          30183.350000000002,
          396474.36000000004,
          87062.04000000001,
          75778.99,
          29343.35,
          34892.99,
          91279.14000000003,
          60273.939999999995,
          16363.1,
          3220.88,
          97931.59000000001,
          58986.270000000004,
          136340.21,
          92928.01999999999,
          52945.45999999999,
          22454.3,
          103080.38000000002,
          0,
          31446.149999999998,
          8775.16,
          41097.25,
          46873.04,
          11021.3,
          413545.42,
          30348.72,
          48996.1,
          64958.700000000004,
          34145.47,
          55570.6,
          57197.95999999999,
          0,
          49055.4,
          47760.479999999996,
          58257.50000000001,
          100924.66,
          41696.689999999995,
          43332.350000000006,
          30091.640000000003,
          111169.48999999999,
          0,
          85548.41,
          0,
          48903.46000000001,
          79202.29000000001,
          13739.900000000001,
          51373.490000000005,
          0,
          16445.77,
          27987.07,
          53654.94,
          120562.74,
          68943.40000000001,
          69166.87999999999,
          0,
          40802.810000000005,
          67281.01000000001,
          56372.87,
          39745.670000000006,
          0,
          51334.16
         ]
        }
       ],
       "layout": {
        "scene": {
         "domain": {
          "x": [
           0,
           0.45
          ],
          "y": [
           0,
           1
          ]
         },
         "xaxis": {
          "title": {
           "text": "RECENCY_days"
          }
         },
         "yaxis": {
          "title": {
           "text": "FREQUENCY_last_year"
          }
         },
         "zaxis": {
          "title": {
           "text": "MONETARY_last_year"
          }
         }
        },
        "scene2": {
         "domain": {
          "x": [
           0.55,
           1
          ],
          "y": [
           0,
           1
          ]
         },
         "xaxis": {
          "title": {
           "text": "RECENCY_days"
          }
         },
         "yaxis": {
          "title": {
           "text": "QUANTITYORDERED_last_year"
          }
         },
         "zaxis": {
          "title": {
           "text": "MONETARY_last_year"
          }
         }
        },
        "template": {
         "data": {
          "bar": [
           {
            "error_x": {
             "color": "#2a3f5f"
            },
            "error_y": {
             "color": "#2a3f5f"
            },
            "marker": {
             "line": {
              "color": "#E5ECF6",
              "width": 0.5
             },
             "pattern": {
              "fillmode": "overlay",
              "size": 10,
              "solidity": 0.2
             }
            },
            "type": "bar"
           }
          ],
          "barpolar": [
           {
            "marker": {
             "line": {
              "color": "#E5ECF6",
              "width": 0.5
             },
             "pattern": {
              "fillmode": "overlay",
              "size": 10,
              "solidity": 0.2
             }
            },
            "type": "barpolar"
           }
          ],
          "carpet": [
           {
            "aaxis": {
             "endlinecolor": "#2a3f5f",
             "gridcolor": "white",
             "linecolor": "white",
             "minorgridcolor": "white",
             "startlinecolor": "#2a3f5f"
            },
            "baxis": {
             "endlinecolor": "#2a3f5f",
             "gridcolor": "white",
             "linecolor": "white",
             "minorgridcolor": "white",
             "startlinecolor": "#2a3f5f"
            },
            "type": "carpet"
           }
          ],
          "choropleth": [
           {
            "colorbar": {
             "outlinewidth": 0,
             "ticks": ""
            },
            "type": "choropleth"
           }
          ],
          "contour": [
           {
            "colorbar": {
             "outlinewidth": 0,
             "ticks": ""
            },
            "colorscale": [
             [
              0,
              "#0d0887"
             ],
             [
              0.1111111111111111,
              "#46039f"
             ],
             [
              0.2222222222222222,
              "#7201a8"
             ],
             [
              0.3333333333333333,
              "#9c179e"
             ],
             [
              0.4444444444444444,
              "#bd3786"
             ],
             [
              0.5555555555555556,
              "#d8576b"
             ],
             [
              0.6666666666666666,
              "#ed7953"
             ],
             [
              0.7777777777777778,
              "#fb9f3a"
             ],
             [
              0.8888888888888888,
              "#fdca26"
             ],
             [
              1,
              "#f0f921"
             ]
            ],
            "type": "contour"
           }
          ],
          "contourcarpet": [
           {
            "colorbar": {
             "outlinewidth": 0,
             "ticks": ""
            },
            "type": "contourcarpet"
           }
          ],
          "heatmap": [
           {
            "colorbar": {
             "outlinewidth": 0,
             "ticks": ""
            },
            "colorscale": [
             [
              0,
              "#0d0887"
             ],
             [
              0.1111111111111111,
              "#46039f"
             ],
             [
              0.2222222222222222,
              "#7201a8"
             ],
             [
              0.3333333333333333,
              "#9c179e"
             ],
             [
              0.4444444444444444,
              "#bd3786"
             ],
             [
              0.5555555555555556,
              "#d8576b"
             ],
             [
              0.6666666666666666,
              "#ed7953"
             ],
             [
              0.7777777777777778,
              "#fb9f3a"
             ],
             [
              0.8888888888888888,
              "#fdca26"
             ],
             [
              1,
              "#f0f921"
             ]
            ],
            "type": "heatmap"
           }
          ],
          "heatmapgl": [
           {
            "colorbar": {
             "outlinewidth": 0,
             "ticks": ""
            },
            "colorscale": [
             [
              0,
              "#0d0887"
             ],
             [
              0.1111111111111111,
              "#46039f"
             ],
             [
              0.2222222222222222,
              "#7201a8"
             ],
             [
              0.3333333333333333,
              "#9c179e"
             ],
             [
              0.4444444444444444,
              "#bd3786"
             ],
             [
              0.5555555555555556,
              "#d8576b"
             ],
             [
              0.6666666666666666,
              "#ed7953"
             ],
             [
              0.7777777777777778,
              "#fb9f3a"
             ],
             [
              0.8888888888888888,
              "#fdca26"
             ],
             [
              1,
              "#f0f921"
             ]
            ],
            "type": "heatmapgl"
           }
          ],
          "histogram": [
           {
            "marker": {
             "pattern": {
              "fillmode": "overlay",
              "size": 10,
              "solidity": 0.2
             }
            },
            "type": "histogram"
           }
          ],
          "histogram2d": [
           {
            "colorbar": {
             "outlinewidth": 0,
             "ticks": ""
            },
            "colorscale": [
             [
              0,
              "#0d0887"
             ],
             [
              0.1111111111111111,
              "#46039f"
             ],
             [
              0.2222222222222222,
              "#7201a8"
             ],
             [
              0.3333333333333333,
              "#9c179e"
             ],
             [
              0.4444444444444444,
              "#bd3786"
             ],
             [
              0.5555555555555556,
              "#d8576b"
             ],
             [
              0.6666666666666666,
              "#ed7953"
             ],
             [
              0.7777777777777778,
              "#fb9f3a"
             ],
             [
              0.8888888888888888,
              "#fdca26"
             ],
             [
              1,
              "#f0f921"
             ]
            ],
            "type": "histogram2d"
           }
          ],
          "histogram2dcontour": [
           {
            "colorbar": {
             "outlinewidth": 0,
             "ticks": ""
            },
            "colorscale": [
             [
              0,
              "#0d0887"
             ],
             [
              0.1111111111111111,
              "#46039f"
             ],
             [
              0.2222222222222222,
              "#7201a8"
             ],
             [
              0.3333333333333333,
              "#9c179e"
             ],
             [
              0.4444444444444444,
              "#bd3786"
             ],
             [
              0.5555555555555556,
              "#d8576b"
             ],
             [
              0.6666666666666666,
              "#ed7953"
             ],
             [
              0.7777777777777778,
              "#fb9f3a"
             ],
             [
              0.8888888888888888,
              "#fdca26"
             ],
             [
              1,
              "#f0f921"
             ]
            ],
            "type": "histogram2dcontour"
           }
          ],
          "mesh3d": [
           {
            "colorbar": {
             "outlinewidth": 0,
             "ticks": ""
            },
            "type": "mesh3d"
           }
          ],
          "parcoords": [
           {
            "line": {
             "colorbar": {
              "outlinewidth": 0,
              "ticks": ""
             }
            },
            "type": "parcoords"
           }
          ],
          "pie": [
           {
            "automargin": true,
            "type": "pie"
           }
          ],
          "scatter": [
           {
            "fillpattern": {
             "fillmode": "overlay",
             "size": 10,
             "solidity": 0.2
            },
            "type": "scatter"
           }
          ],
          "scatter3d": [
           {
            "line": {
             "colorbar": {
              "outlinewidth": 0,
              "ticks": ""
             }
            },
            "marker": {
             "colorbar": {
              "outlinewidth": 0,
              "ticks": ""
             }
            },
            "type": "scatter3d"
           }
          ],
          "scattercarpet": [
           {
            "marker": {
             "colorbar": {
              "outlinewidth": 0,
              "ticks": ""
             }
            },
            "type": "scattercarpet"
           }
          ],
          "scattergeo": [
           {
            "marker": {
             "colorbar": {
              "outlinewidth": 0,
              "ticks": ""
             }
            },
            "type": "scattergeo"
           }
          ],
          "scattergl": [
           {
            "marker": {
             "colorbar": {
              "outlinewidth": 0,
              "ticks": ""
             }
            },
            "type": "scattergl"
           }
          ],
          "scattermapbox": [
           {
            "marker": {
             "colorbar": {
              "outlinewidth": 0,
              "ticks": ""
             }
            },
            "type": "scattermapbox"
           }
          ],
          "scatterpolar": [
           {
            "marker": {
             "colorbar": {
              "outlinewidth": 0,
              "ticks": ""
             }
            },
            "type": "scatterpolar"
           }
          ],
          "scatterpolargl": [
           {
            "marker": {
             "colorbar": {
              "outlinewidth": 0,
              "ticks": ""
             }
            },
            "type": "scatterpolargl"
           }
          ],
          "scatterternary": [
           {
            "marker": {
             "colorbar": {
              "outlinewidth": 0,
              "ticks": ""
             }
            },
            "type": "scatterternary"
           }
          ],
          "surface": [
           {
            "colorbar": {
             "outlinewidth": 0,
             "ticks": ""
            },
            "colorscale": [
             [
              0,
              "#0d0887"
             ],
             [
              0.1111111111111111,
              "#46039f"
             ],
             [
              0.2222222222222222,
              "#7201a8"
             ],
             [
              0.3333333333333333,
              "#9c179e"
             ],
             [
              0.4444444444444444,
              "#bd3786"
             ],
             [
              0.5555555555555556,
              "#d8576b"
             ],
             [
              0.6666666666666666,
              "#ed7953"
             ],
             [
              0.7777777777777778,
              "#fb9f3a"
             ],
             [
              0.8888888888888888,
              "#fdca26"
             ],
             [
              1,
              "#f0f921"
             ]
            ],
            "type": "surface"
           }
          ],
          "table": [
           {
            "cells": {
             "fill": {
              "color": "#EBF0F8"
             },
             "line": {
              "color": "white"
             }
            },
            "header": {
             "fill": {
              "color": "#C8D4E3"
             },
             "line": {
              "color": "white"
             }
            },
            "type": "table"
           }
          ]
         },
         "layout": {
          "annotationdefaults": {
           "arrowcolor": "#2a3f5f",
           "arrowhead": 0,
           "arrowwidth": 1
          },
          "autotypenumbers": "strict",
          "coloraxis": {
           "colorbar": {
            "outlinewidth": 0,
            "ticks": ""
           }
          },
          "colorscale": {
           "diverging": [
            [
             0,
             "#8e0152"
            ],
            [
             0.1,
             "#c51b7d"
            ],
            [
             0.2,
             "#de77ae"
            ],
            [
             0.3,
             "#f1b6da"
            ],
            [
             0.4,
             "#fde0ef"
            ],
            [
             0.5,
             "#f7f7f7"
            ],
            [
             0.6,
             "#e6f5d0"
            ],
            [
             0.7,
             "#b8e186"
            ],
            [
             0.8,
             "#7fbc41"
            ],
            [
             0.9,
             "#4d9221"
            ],
            [
             1,
             "#276419"
            ]
           ],
           "sequential": [
            [
             0,
             "#0d0887"
            ],
            [
             0.1111111111111111,
             "#46039f"
            ],
            [
             0.2222222222222222,
             "#7201a8"
            ],
            [
             0.3333333333333333,
             "#9c179e"
            ],
            [
             0.4444444444444444,
             "#bd3786"
            ],
            [
             0.5555555555555556,
             "#d8576b"
            ],
            [
             0.6666666666666666,
             "#ed7953"
            ],
            [
             0.7777777777777778,
             "#fb9f3a"
            ],
            [
             0.8888888888888888,
             "#fdca26"
            ],
            [
             1,
             "#f0f921"
            ]
           ],
           "sequentialminus": [
            [
             0,
             "#0d0887"
            ],
            [
             0.1111111111111111,
             "#46039f"
            ],
            [
             0.2222222222222222,
             "#7201a8"
            ],
            [
             0.3333333333333333,
             "#9c179e"
            ],
            [
             0.4444444444444444,
             "#bd3786"
            ],
            [
             0.5555555555555556,
             "#d8576b"
            ],
            [
             0.6666666666666666,
             "#ed7953"
            ],
            [
             0.7777777777777778,
             "#fb9f3a"
            ],
            [
             0.8888888888888888,
             "#fdca26"
            ],
            [
             1,
             "#f0f921"
            ]
           ]
          },
          "colorway": [
           "#636efa",
           "#EF553B",
           "#00cc96",
           "#ab63fa",
           "#FFA15A",
           "#19d3f3",
           "#FF6692",
           "#B6E880",
           "#FF97FF",
           "#FECB52"
          ],
          "font": {
           "color": "#2a3f5f"
          },
          "geo": {
           "bgcolor": "white",
           "lakecolor": "white",
           "landcolor": "#E5ECF6",
           "showlakes": true,
           "showland": true,
           "subunitcolor": "white"
          },
          "hoverlabel": {
           "align": "left"
          },
          "hovermode": "closest",
          "mapbox": {
           "style": "light"
          },
          "paper_bgcolor": "white",
          "plot_bgcolor": "#E5ECF6",
          "polar": {
           "angularaxis": {
            "gridcolor": "white",
            "linecolor": "white",
            "ticks": ""
           },
           "bgcolor": "#E5ECF6",
           "radialaxis": {
            "gridcolor": "white",
            "linecolor": "white",
            "ticks": ""
           }
          },
          "scene": {
           "xaxis": {
            "backgroundcolor": "#E5ECF6",
            "gridcolor": "white",
            "gridwidth": 2,
            "linecolor": "white",
            "showbackground": true,
            "ticks": "",
            "zerolinecolor": "white"
           },
           "yaxis": {
            "backgroundcolor": "#E5ECF6",
            "gridcolor": "white",
            "gridwidth": 2,
            "linecolor": "white",
            "showbackground": true,
            "ticks": "",
            "zerolinecolor": "white"
           },
           "zaxis": {
            "backgroundcolor": "#E5ECF6",
            "gridcolor": "white",
            "gridwidth": 2,
            "linecolor": "white",
            "showbackground": true,
            "ticks": "",
            "zerolinecolor": "white"
           }
          },
          "shapedefaults": {
           "line": {
            "color": "#2a3f5f"
           }
          },
          "ternary": {
           "aaxis": {
            "gridcolor": "white",
            "linecolor": "white",
            "ticks": ""
           },
           "baxis": {
            "gridcolor": "white",
            "linecolor": "white",
            "ticks": ""
           },
           "bgcolor": "#E5ECF6",
           "caxis": {
            "gridcolor": "white",
            "linecolor": "white",
            "ticks": ""
           }
          },
          "title": {
           "x": 0.05
          },
          "xaxis": {
           "automargin": true,
           "gridcolor": "white",
           "linecolor": "white",
           "ticks": "",
           "title": {
            "standoff": 15
           },
           "zerolinecolor": "white",
           "zerolinewidth": 2
          },
          "yaxis": {
           "automargin": true,
           "gridcolor": "white",
           "linecolor": "white",
           "ticks": "",
           "title": {
            "standoff": 15
           },
           "zerolinecolor": "white",
           "zerolinewidth": 2
          }
         }
        }
       }
      }
     },
     "metadata": {},
     "output_type": "display_data"
    },
    {
     "data": {
      "text/html": [
       "<div>\n",
       "<style scoped>\n",
       "    .dataframe tbody tr th:only-of-type {\n",
       "        vertical-align: middle;\n",
       "    }\n",
       "\n",
       "    .dataframe tbody tr th {\n",
       "        vertical-align: top;\n",
       "    }\n",
       "\n",
       "    .dataframe thead th {\n",
       "        text-align: right;\n",
       "    }\n",
       "</style>\n",
       "<table border=\"1\" class=\"dataframe\">\n",
       "  <thead>\n",
       "    <tr style=\"text-align: right;\">\n",
       "      <th></th>\n",
       "      <th>RECENCY_days</th>\n",
       "      <th>FREQUENCY_last_year</th>\n",
       "      <th>MONETARY_last_year</th>\n",
       "      <th>QUANTITYORDERED_last_year</th>\n",
       "      <th>CustomersCount</th>\n",
       "    </tr>\n",
       "    <tr>\n",
       "      <th>KMeansLabel</th>\n",
       "      <th></th>\n",
       "      <th></th>\n",
       "      <th></th>\n",
       "      <th></th>\n",
       "      <th></th>\n",
       "    </tr>\n",
       "  </thead>\n",
       "  <tbody>\n",
       "    <tr>\n",
       "      <th>0</th>\n",
       "      <td>75.0</td>\n",
       "      <td>2.0</td>\n",
       "      <td>87062.04</td>\n",
       "      <td>809.0</td>\n",
       "      <td>25</td>\n",
       "    </tr>\n",
       "    <tr>\n",
       "      <th>1</th>\n",
       "      <td>34.5</td>\n",
       "      <td>11.0</td>\n",
       "      <td>405009.89</td>\n",
       "      <td>3998.0</td>\n",
       "      <td>2</td>\n",
       "    </tr>\n",
       "    <tr>\n",
       "      <th>2</th>\n",
       "      <td>186.0</td>\n",
       "      <td>1.0</td>\n",
       "      <td>34546.60</td>\n",
       "      <td>348.0</td>\n",
       "      <td>49</td>\n",
       "    </tr>\n",
       "    <tr>\n",
       "      <th>3</th>\n",
       "      <td>343.0</td>\n",
       "      <td>1.0</td>\n",
       "      <td>12334.82</td>\n",
       "      <td>94.0</td>\n",
       "      <td>3</td>\n",
       "    </tr>\n",
       "    <tr>\n",
       "      <th>4</th>\n",
       "      <td>446.0</td>\n",
       "      <td>0.0</td>\n",
       "      <td>0.00</td>\n",
       "      <td>0.0</td>\n",
       "      <td>13</td>\n",
       "    </tr>\n",
       "  </tbody>\n",
       "</table>\n",
       "</div>"
      ],
      "text/plain": [
       "             RECENCY_days  FREQUENCY_last_year  MONETARY_last_year   \n",
       "KMeansLabel                                                          \n",
       "0                    75.0                  2.0            87062.04  \\\n",
       "1                    34.5                 11.0           405009.89   \n",
       "2                   186.0                  1.0            34546.60   \n",
       "3                   343.0                  1.0            12334.82   \n",
       "4                   446.0                  0.0                0.00   \n",
       "\n",
       "             QUANTITYORDERED_last_year  CustomersCount  \n",
       "KMeansLabel                                             \n",
       "0                                809.0              25  \n",
       "1                               3998.0               2  \n",
       "2                                348.0              49  \n",
       "3                                 94.0               3  \n",
       "4                                  0.0              13  "
      ]
     },
     "execution_count": 34,
     "metadata": {},
     "output_type": "execute_result"
    }
   ],
   "source": [
    "customer_df.loc[customer_df[\"FREQUENCY_last_year\"] == 0, \"KMeansLabel\"] = 4\n",
    "rfm_df[\"KMeansLabel\"] = customer_df[\"KMeansLabel\"]\n",
    "fig1 = px.scatter_3d(\n",
    "    data_frame=rfm_df,\n",
    "    x= \"RECENCY_days\",\n",
    "    y = \"FREQUENCY_last_year\",\n",
    "    z= \"MONETARY_last_year\",\n",
    "    title = \"Relationship between RECENCY VS FREQUENCY VS MONETARY based on KMeans customer cluster\",\n",
    "    color = \"KMeansLabel\",\n",
    "    height=500\n",
    ")\n",
    "fig1.update_traces(marker_size = 4)\n",
    "# fig1.show()\n",
    "\n",
    "fig2 = px.scatter_3d(\n",
    "    data_frame=rfm_df,\n",
    "    x= \"RECENCY_days\",\n",
    "    y = \"QUANTITYORDERED_last_year\",\n",
    "    z= \"MONETARY_last_year\",\n",
    "    title = \"Relationship between RECENCY VS QUANTITYORDERED VS MONETARY based on KMeans customer cluster\",\n",
    "    color = \"KMeansLabel\",\n",
    "    height=500\n",
    ")\n",
    "fig2.update_traces(marker_size = 4)\n",
    "# fig2.show()\n",
    "\n",
    "# Create a subplot with two 3D scatter plots side by side\n",
    "fig = make_subplots(rows=1, cols=2, specs=[[{'type': 'scatter3d'}, {'type': 'scatter3d'}]])\n",
    "\n",
    "fig.add_trace(fig1.data[0], row=1, col=1)\n",
    "fig.add_trace(fig2.data[0], row=1, col=2)\n",
    "\n",
    "fig.update_layout(scene1=dict(xaxis=dict(title='RECENCY_days'),\n",
    "                              yaxis=dict(title='FREQUENCY_last_year'),\n",
    "                              zaxis=dict(title='MONETARY_last_year'),\n",
    "                              ),\n",
    "                  scene2=dict(xaxis=dict(title='RECENCY_days'),\n",
    "                              yaxis=dict(title='QUANTITYORDERED_last_year'),\n",
    "                              zaxis=dict(title='MONETARY_last_year'),\n",
    "                              ))\n",
    "\n",
    "fig.show()\n",
    "\n",
    "customer_clusters_summarize = customer_df.groupby(\"KMeansLabel\")[[\"RECENCY_days\", \"FREQUENCY_last_year\", \"MONETARY_last_year\", \"QUANTITYORDERED_last_year\"]].median()\n",
    "customer_clusters_summarize.assign(CustomersCount=np.unique(rfm_df[\"KMeansLabel\"], return_counts=True)[1])\n",
    "\n"
   ]
  },
  {
   "cell_type": "code",
   "execution_count": 35,
   "metadata": {},
   "outputs": [
    {
     "data": {
      "text/html": [
       "<div>\n",
       "<style scoped>\n",
       "    .dataframe tbody tr th:only-of-type {\n",
       "        vertical-align: middle;\n",
       "    }\n",
       "\n",
       "    .dataframe tbody tr th {\n",
       "        vertical-align: top;\n",
       "    }\n",
       "\n",
       "    .dataframe thead th {\n",
       "        text-align: right;\n",
       "    }\n",
       "</style>\n",
       "<table border=\"1\" class=\"dataframe\">\n",
       "  <thead>\n",
       "    <tr style=\"text-align: right;\">\n",
       "      <th></th>\n",
       "      <th>RECENCY_days</th>\n",
       "      <th>FREQUENCY_last_year</th>\n",
       "      <th>MONETARY_last_year</th>\n",
       "      <th>QUANTITYORDERED_last_year</th>\n",
       "    </tr>\n",
       "    <tr>\n",
       "      <th>KMeansLabel</th>\n",
       "      <th></th>\n",
       "      <th></th>\n",
       "      <th></th>\n",
       "      <th></th>\n",
       "    </tr>\n",
       "  </thead>\n",
       "  <tbody>\n",
       "    <tr>\n",
       "      <th>0</th>\n",
       "      <td>74.126536</td>\n",
       "      <td>0.541603</td>\n",
       "      <td>25471.215115</td>\n",
       "      <td>266.866708</td>\n",
       "    </tr>\n",
       "    <tr>\n",
       "      <th>1</th>\n",
       "      <td>28.991378</td>\n",
       "      <td>0.000000</td>\n",
       "      <td>12071.062288</td>\n",
       "      <td>114.551299</td>\n",
       "    </tr>\n",
       "    <tr>\n",
       "      <th>2</th>\n",
       "      <td>58.708644</td>\n",
       "      <td>0.446071</td>\n",
       "      <td>18321.353738</td>\n",
       "      <td>175.281499</td>\n",
       "    </tr>\n",
       "    <tr>\n",
       "      <th>3</th>\n",
       "      <td>22.516660</td>\n",
       "      <td>0.000000</td>\n",
       "      <td>11849.878701</td>\n",
       "      <td>80.884692</td>\n",
       "    </tr>\n",
       "    <tr>\n",
       "      <th>4</th>\n",
       "      <td>50.484575</td>\n",
       "      <td>0.000000</td>\n",
       "      <td>0.000000</td>\n",
       "      <td>0.000000</td>\n",
       "    </tr>\n",
       "  </tbody>\n",
       "</table>\n",
       "</div>"
      ],
      "text/plain": [
       "             RECENCY_days  FREQUENCY_last_year  MONETARY_last_year   \n",
       "KMeansLabel                                                          \n",
       "0               74.126536             0.541603        25471.215115  \\\n",
       "1               28.991378             0.000000        12071.062288   \n",
       "2               58.708644             0.446071        18321.353738   \n",
       "3               22.516660             0.000000        11849.878701   \n",
       "4               50.484575             0.000000            0.000000   \n",
       "\n",
       "             QUANTITYORDERED_last_year  \n",
       "KMeansLabel                             \n",
       "0                           266.866708  \n",
       "1                           114.551299  \n",
       "2                           175.281499  \n",
       "3                            80.884692  \n",
       "4                             0.000000  "
      ]
     },
     "execution_count": 35,
     "metadata": {},
     "output_type": "execute_result"
    }
   ],
   "source": [
    "customer_df.groupby(\"KMeansLabel\")[[\"RECENCY_days\", \"FREQUENCY_last_year\", \"MONETARY_last_year\", \"QUANTITYORDERED_last_year\"]].std()"
   ]
  },
  {
   "cell_type": "code",
   "execution_count": 29,
   "metadata": {},
   "outputs": [
    {
     "data": {
      "text/html": [
       "<div>\n",
       "<style scoped>\n",
       "    .dataframe tbody tr th:only-of-type {\n",
       "        vertical-align: middle;\n",
       "    }\n",
       "\n",
       "    .dataframe tbody tr th {\n",
       "        vertical-align: top;\n",
       "    }\n",
       "\n",
       "    .dataframe thead th {\n",
       "        text-align: right;\n",
       "    }\n",
       "</style>\n",
       "<table border=\"1\" class=\"dataframe\">\n",
       "  <thead>\n",
       "    <tr style=\"text-align: right;\">\n",
       "      <th></th>\n",
       "      <th>Motorcycles</th>\n",
       "      <th>Classic Cars</th>\n",
       "      <th>Trucks and Buses</th>\n",
       "      <th>Vintage Cars</th>\n",
       "      <th>Planes</th>\n",
       "      <th>Ships</th>\n",
       "      <th>Trains</th>\n",
       "      <th>Cluster</th>\n",
       "    </tr>\n",
       "    <tr>\n",
       "      <th>KMeansLabel</th>\n",
       "      <th></th>\n",
       "      <th></th>\n",
       "      <th></th>\n",
       "      <th></th>\n",
       "      <th></th>\n",
       "      <th></th>\n",
       "      <th></th>\n",
       "      <th></th>\n",
       "    </tr>\n",
       "  </thead>\n",
       "  <tbody>\n",
       "    <tr>\n",
       "      <th>0</th>\n",
       "      <td>210.4</td>\n",
       "      <td>407.36</td>\n",
       "      <td>115.48</td>\n",
       "      <td>223.84</td>\n",
       "      <td>135.64</td>\n",
       "      <td>56.32</td>\n",
       "      <td>25.88</td>\n",
       "      <td>1.800000</td>\n",
       "    </tr>\n",
       "    <tr>\n",
       "      <th>1</th>\n",
       "      <td>385.5</td>\n",
       "      <td>3050.5</td>\n",
       "      <td>1080.5</td>\n",
       "      <td>1486.5</td>\n",
       "      <td>117.5</td>\n",
       "      <td>446.5</td>\n",
       "      <td>350.5</td>\n",
       "      <td>1.000000</td>\n",
       "    </tr>\n",
       "    <tr>\n",
       "      <th>2</th>\n",
       "      <td>78.367347</td>\n",
       "      <td>270.755102</td>\n",
       "      <td>82.836735</td>\n",
       "      <td>160.836735</td>\n",
       "      <td>97.285714</td>\n",
       "      <td>65.836735</td>\n",
       "      <td>20.469388</td>\n",
       "      <td>2.734694</td>\n",
       "    </tr>\n",
       "    <tr>\n",
       "      <th>3</th>\n",
       "      <td>72.0</td>\n",
       "      <td>173.0</td>\n",
       "      <td>0.0</td>\n",
       "      <td>227.333333</td>\n",
       "      <td>0.0</td>\n",
       "      <td>98.333333</td>\n",
       "      <td>12.666667</td>\n",
       "      <td>2.333333</td>\n",
       "    </tr>\n",
       "    <tr>\n",
       "      <th>4</th>\n",
       "      <td>97.538462</td>\n",
       "      <td>144.923077</td>\n",
       "      <td>69.384615</td>\n",
       "      <td>165.307692</td>\n",
       "      <td>76.615385</td>\n",
       "      <td>74.615385</td>\n",
       "      <td>17.923077</td>\n",
       "      <td>3.000000</td>\n",
       "    </tr>\n",
       "  </tbody>\n",
       "</table>\n",
       "</div>"
      ],
      "text/plain": [
       "            Motorcycles Classic Cars Trucks and Buses Vintage Cars     Planes   \n",
       "KMeansLabel                                                                     \n",
       "0                 210.4       407.36           115.48       223.84     135.64  \\\n",
       "1                 385.5       3050.5           1080.5       1486.5      117.5   \n",
       "2             78.367347   270.755102        82.836735   160.836735  97.285714   \n",
       "3                  72.0        173.0              0.0   227.333333        0.0   \n",
       "4             97.538462   144.923077        69.384615   165.307692  76.615385   \n",
       "\n",
       "                 Ships     Trains   Cluster  \n",
       "KMeansLabel                                  \n",
       "0                56.32      25.88  1.800000  \n",
       "1                446.5      350.5  1.000000  \n",
       "2            65.836735  20.469388  2.734694  \n",
       "3            98.333333  12.666667  2.333333  \n",
       "4            74.615385  17.923077  3.000000  "
      ]
     },
     "execution_count": 29,
     "metadata": {},
     "output_type": "execute_result"
    }
   ],
   "source": [
    "product_line_df[\"KMeansLabel\"] = customer_df[\"KMeansLabel\"]\n",
    "product_line_df.groupby(by=\"KMeansLabel\").mean()"
   ]
  },
  {
   "cell_type": "code",
   "execution_count": 30,
   "metadata": {},
   "outputs": [
    {
     "data": {
      "image/png": "[encoded data removed]",
      "text/plain": [
       "<Figure size 640x480 with 1 Axes>"
      ]
     },
     "metadata": {},
     "output_type": "display_data"
    }
   ],
   "source": [
    "cluster_label = 2\n",
    "sns.histplot(data=product_line_df[product_line_df[\"KMeansLabel\"]==cluster_label], x=\"Classic Cars\")\n",
    "plt.title(f\"Distribution of the Motorcycles of cluster {cluster_label}\")\n",
    "plt.xticks(rotation=90, fontsize=6)\n",
    "plt.show()"
   ]
  },
  {
   "cell_type": "code",
   "execution_count": 31,
   "metadata": {},
   "outputs": [
    {
     "data": {
      "image/png": "[encoded data removed]",
      "text/plain": [
       "<Figure size 2000x1000 with 1 Axes>"
      ]
     },
     "metadata": {},
     "output_type": "display_data"
    }
   ],
   "source": [
    "neigh = NearestNeighbors(n_neighbors=2).fit(rfm_df_scaled)\n",
    "distances, indices = neigh.kneighbors(rfm_df_scaled)\n",
    "\n",
    "# Plotting K-distance Graph\n",
    "distances = np.sort(distances, axis=0)\n",
    "distances = distances[:,1]\n",
    "plt.figure(figsize=(20,10))\n",
    "plt.plot(distances)\n",
    "plt.title('K-distance Graph',fontsize=20)\n",
    "plt.xlabel('Data Points sorted by distance',fontsize=14)\n",
    "plt.ylabel('Epsilon',fontsize=14)\n",
    "plt.show()"
   ]
  },
  {
   "cell_type": "code",
   "execution_count": 32,
   "metadata": {},
   "outputs": [
    {
     "data": {
      "application/vnd.plotly.v1+json": {
       "config": {
        "plotlyServerURL": "https://plot.ly"
       },
       "data": [
        {
         "hovertemplate": "RECENCY_days=%{x}<br>FREQUENCY_last_year=%{y}<br>MONETARY_last_year=%{z}<br>DBSCANLabel=%{marker.color}<extra></extra>",
         "legendgroup": "",
         "marker": {
          "color": [
           3,
           1,
           3,
           0,
           0,
           -1,
           3,
           1,
           1,
           0,
           0,
           0,
           1,
           1,
           1,
           2,
           2,
           1,
           1,
           1,
           1,
           2,
           0,
           0,
           1,
           1,
           2,
           -1,
           -1,
           2,
           2,
           0,
           1,
           -1,
           0,
           0,
           1,
           0,
           -1,
           1,
           1,
           1,
           -1,
           0,
           -1,
           3,
           0,
           0,
           3,
           2,
           1,
           1,
           0,
           1,
           1,
           -1,
           1,
           1,
           0,
           1,
           1,
           0,
           2,
           1,
           1,
           0,
           -1,
           1,
           1,
           0,
           -1,
           2,
           0,
           2,
           0,
           0,
           1,
           1,
           2,
           0,
           -1,
           0,
           -1,
           1,
           0,
           2,
           -1,
           1,
           1,
           0,
           2,
           1
          ],
          "coloraxis": "coloraxis",
          "size": 4,
          "symbol": "circle"
         },
         "mode": "markers",
         "name": "",
         "scene": "scene",
         "showlegend": false,
         "type": "scatter3d",
         "x": [
          181,
          50,
          250,
          69,
          173,
          319,
          169,
          104,
          218,
          40,
          165,
          193,
          244,
          193,
          98,
          424,
          374,
          207,
          215,
          177,
          243,
          446,
          117,
          83,
          197,
          182,
          451,
          343,
          196,
          386,
          481,
          76,
          174,
          14,
          75,
          12,
          164,
          249,
          24,
          207,
          256,
          223,
          7,
          178,
          103,
          183,
          61,
          131,
          216,
          494,
          195,
          68,
          33,
          214,
          130,
          55,
          180,
          181,
          167,
          269,
          194,
          249,
          399,
          106,
          300,
          16,
          48,
          186,
          270,
          127,
          0,
          441,
          75,
          462,
          169,
          151,
          165,
          131,
          378,
          132,
          364,
          46,
          25,
          213,
          97,
          546,
          39,
          260,
          193,
          189,
          474,
          197
         ],
         "y": [
          2,
          1,
          2,
          2,
          2,
          1,
          2,
          1,
          1,
          2,
          2,
          2,
          1,
          1,
          1,
          0,
          0,
          1,
          1,
          1,
          1,
          0,
          2,
          2,
          1,
          1,
          0,
          1,
          3,
          0,
          0,
          2,
          1,
          11,
          2,
          2,
          1,
          2,
          3,
          1,
          1,
          1,
          2,
          2,
          3,
          2,
          2,
          2,
          2,
          0,
          1,
          1,
          2,
          1,
          1,
          11,
          1,
          1,
          2,
          1,
          1,
          2,
          0,
          1,
          1,
          2,
          3,
          1,
          1,
          2,
          3,
          0,
          2,
          0,
          2,
          2,
          1,
          1,
          0,
          2,
          1,
          2,
          4,
          1,
          2,
          0,
          1,
          1,
          1,
          2,
          0,
          1
         ],
         "z": [
          106789.89000000001,
          15139.119999999999,
          94117.26,
          65012.420000000006,
          7619.66,
          12334.82,
          91222,
          21730.03,
          59074.899999999994,
          41998.01,
          19201.91,
          60422.530000000006,
          34993.92,
          9214.970000000001,
          3987.2,
          0,
          0,
          36576.71000000001,
          27445.309999999998,
          27733.04,
          18971.96,
          0,
          46585.579999999994,
          54203.619999999995,
          34546.600000000006,
          15928.75,
          0,
          4749.45,
          115971.34000000001,
          0,
          0,
          7303.4800000000005,
          30183.350000000002,
          396474.36000000004,
          87062.04000000001,
          75778.99,
          29343.35,
          34892.99,
          91279.14000000003,
          60273.939999999995,
          16363.1,
          3220.88,
          97931.59000000001,
          58986.270000000004,
          136340.21,
          92928.01999999999,
          52945.45999999999,
          22454.3,
          103080.38000000002,
          0,
          31446.149999999998,
          8775.16,
          41097.25,
          46873.04,
          11021.3,
          413545.42,
          30348.72,
          48996.1,
          64958.700000000004,
          34145.47,
          55570.6,
          57197.95999999999,
          0,
          49055.4,
          47760.479999999996,
          58257.50000000001,
          100924.66,
          41696.689999999995,
          43332.350000000006,
          30091.640000000003,
          111169.48999999999,
          0,
          85548.41,
          0,
          48903.46000000001,
          79202.29000000001,
          13739.900000000001,
          51373.490000000005,
          0,
          16445.77,
          27987.07,
          53654.94,
          120562.74,
          68943.40000000001,
          69166.87999999999,
          0,
          40802.810000000005,
          67281.01000000001,
          56372.87,
          39745.670000000006,
          0,
          51334.16
         ]
        }
       ],
       "layout": {
        "coloraxis": {
         "colorbar": {
          "title": {
           "text": "DBSCANLabel"
          }
         },
         "colorscale": [
          [
           0,
           "#0d0887"
          ],
          [
           0.1111111111111111,
           "#46039f"
          ],
          [
           0.2222222222222222,
           "#7201a8"
          ],
          [
           0.3333333333333333,
           "#9c179e"
          ],
          [
           0.4444444444444444,
           "#bd3786"
          ],
          [
           0.5555555555555556,
           "#d8576b"
          ],
          [
           0.6666666666666666,
           "#ed7953"
          ],
          [
           0.7777777777777778,
           "#fb9f3a"
          ],
          [
           0.8888888888888888,
           "#fdca26"
          ],
          [
           1,
           "#f0f921"
          ]
         ]
        },
        "height": 500,
        "legend": {
         "tracegroupgap": 0
        },
        "scene": {
         "domain": {
          "x": [
           0,
           1
          ],
          "y": [
           0,
           1
          ]
         },
         "xaxis": {
          "title": {
           "text": "RECENCY_days"
          }
         },
         "yaxis": {
          "title": {
           "text": "FREQUENCY_last_year"
          }
         },
         "zaxis": {
          "title": {
           "text": "MONETARY_last_year"
          }
         }
        },
        "template": {
         "data": {
          "bar": [
           {
            "error_x": {
             "color": "#2a3f5f"
            },
            "error_y": {
             "color": "#2a3f5f"
            },
            "marker": {
             "line": {
              "color": "#E5ECF6",
              "width": 0.5
             },
             "pattern": {
              "fillmode": "overlay",
              "size": 10,
              "solidity": 0.2
             }
            },
            "type": "bar"
           }
          ],
          "barpolar": [
           {
            "marker": {
             "line": {
              "color": "#E5ECF6",
              "width": 0.5
             },
             "pattern": {
              "fillmode": "overlay",
              "size": 10,
              "solidity": 0.2
             }
            },
            "type": "barpolar"
           }
          ],
          "carpet": [
           {
            "aaxis": {
             "endlinecolor": "#2a3f5f",
             "gridcolor": "white",
             "linecolor": "white",
             "minorgridcolor": "white",
             "startlinecolor": "#2a3f5f"
            },
            "baxis": {
             "endlinecolor": "#2a3f5f",
             "gridcolor": "white",
             "linecolor": "white",
             "minorgridcolor": "white",
             "startlinecolor": "#2a3f5f"
            },
            "type": "carpet"
           }
          ],
          "choropleth": [
           {
            "colorbar": {
             "outlinewidth": 0,
             "ticks": ""
            },
            "type": "choropleth"
           }
          ],
          "contour": [
           {
            "colorbar": {
             "outlinewidth": 0,
             "ticks": ""
            },
            "colorscale": [
             [
              0,
              "#0d0887"
             ],
             [
              0.1111111111111111,
              "#46039f"
             ],
             [
              0.2222222222222222,
              "#7201a8"
             ],
             [
              0.3333333333333333,
              "#9c179e"
             ],
             [
              0.4444444444444444,
              "#bd3786"
             ],
             [
              0.5555555555555556,
              "#d8576b"
             ],
             [
              0.6666666666666666,
              "#ed7953"
             ],
             [
              0.7777777777777778,
              "#fb9f3a"
             ],
             [
              0.8888888888888888,
              "#fdca26"
             ],
             [
              1,
              "#f0f921"
             ]
            ],
            "type": "contour"
           }
          ],
          "contourcarpet": [
           {
            "colorbar": {
             "outlinewidth": 0,
             "ticks": ""
            },
            "type": "contourcarpet"
           }
          ],
          "heatmap": [
           {
            "colorbar": {
             "outlinewidth": 0,
             "ticks": ""
            },
            "colorscale": [
             [
              0,
              "#0d0887"
             ],
             [
              0.1111111111111111,
              "#46039f"
             ],
             [
              0.2222222222222222,
              "#7201a8"
             ],
             [
              0.3333333333333333,
              "#9c179e"
             ],
             [
              0.4444444444444444,
              "#bd3786"
             ],
             [
              0.5555555555555556,
              "#d8576b"
             ],
             [
              0.6666666666666666,
              "#ed7953"
             ],
             [
              0.7777777777777778,
              "#fb9f3a"
             ],
             [
              0.8888888888888888,
              "#fdca26"
             ],
             [
              1,
              "#f0f921"
             ]
            ],
            "type": "heatmap"
           }
          ],
          "heatmapgl": [
           {
            "colorbar": {
             "outlinewidth": 0,
             "ticks": ""
            },
            "colorscale": [
             [
              0,
              "#0d0887"
             ],
             [
              0.1111111111111111,
              "#46039f"
             ],
             [
              0.2222222222222222,
              "#7201a8"
             ],
             [
              0.3333333333333333,
              "#9c179e"
             ],
             [
              0.4444444444444444,
              "#bd3786"
             ],
             [
              0.5555555555555556,
              "#d8576b"
             ],
             [
              0.6666666666666666,
              "#ed7953"
             ],
             [
              0.7777777777777778,
              "#fb9f3a"
             ],
             [
              0.8888888888888888,
              "#fdca26"
             ],
             [
              1,
              "#f0f921"
             ]
            ],
            "type": "heatmapgl"
           }
          ],
          "histogram": [
           {
            "marker": {
             "pattern": {
              "fillmode": "overlay",
              "size": 10,
              "solidity": 0.2
             }
            },
            "type": "histogram"
           }
          ],
          "histogram2d": [
           {
            "colorbar": {
             "outlinewidth": 0,
             "ticks": ""
            },
            "colorscale": [
             [
              0,
              "#0d0887"
             ],
             [
              0.1111111111111111,
              "#46039f"
             ],
             [
              0.2222222222222222,
              "#7201a8"
             ],
             [
              0.3333333333333333,
              "#9c179e"
             ],
             [
              0.4444444444444444,
              "#bd3786"
             ],
             [
              0.5555555555555556,
              "#d8576b"
             ],
             [
              0.6666666666666666,
              "#ed7953"
             ],
             [
              0.7777777777777778,
              "#fb9f3a"
             ],
             [
              0.8888888888888888,
              "#fdca26"
             ],
             [
              1,
              "#f0f921"
             ]
            ],
            "type": "histogram2d"
           }
          ],
          "histogram2dcontour": [
           {
            "colorbar": {
             "outlinewidth": 0,
             "ticks": ""
            },
            "colorscale": [
             [
              0,
              "#0d0887"
             ],
             [
              0.1111111111111111,
              "#46039f"
             ],
             [
              0.2222222222222222,
              "#7201a8"
             ],
             [
              0.3333333333333333,
              "#9c179e"
             ],
             [
              0.4444444444444444,
              "#bd3786"
             ],
             [
              0.5555555555555556,
              "#d8576b"
             ],
             [
              0.6666666666666666,
              "#ed7953"
             ],
             [
              0.7777777777777778,
              "#fb9f3a"
             ],
             [
              0.8888888888888888,
              "#fdca26"
             ],
             [
              1,
              "#f0f921"
             ]
            ],
            "type": "histogram2dcontour"
           }
          ],
          "mesh3d": [
           {
            "colorbar": {
             "outlinewidth": 0,
             "ticks": ""
            },
            "type": "mesh3d"
           }
          ],
          "parcoords": [
           {
            "line": {
             "colorbar": {
              "outlinewidth": 0,
              "ticks": ""
             }
            },
            "type": "parcoords"
           }
          ],
          "pie": [
           {
            "automargin": true,
            "type": "pie"
           }
          ],
          "scatter": [
           {
            "fillpattern": {
             "fillmode": "overlay",
             "size": 10,
             "solidity": 0.2
            },
            "type": "scatter"
           }
          ],
          "scatter3d": [
           {
            "line": {
             "colorbar": {
              "outlinewidth": 0,
              "ticks": ""
             }
            },
            "marker": {
             "colorbar": {
              "outlinewidth": 0,
              "ticks": ""
             }
            },
            "type": "scatter3d"
           }
          ],
          "scattercarpet": [
           {
            "marker": {
             "colorbar": {
              "outlinewidth": 0,
              "ticks": ""
             }
            },
            "type": "scattercarpet"
           }
          ],
          "scattergeo": [
           {
            "marker": {
             "colorbar": {
              "outlinewidth": 0,
              "ticks": ""
             }
            },
            "type": "scattergeo"
           }
          ],
          "scattergl": [
           {
            "marker": {
             "colorbar": {
              "outlinewidth": 0,
              "ticks": ""
             }
            },
            "type": "scattergl"
           }
          ],
          "scattermapbox": [
           {
            "marker": {
             "colorbar": {
              "outlinewidth": 0,
              "ticks": ""
             }
            },
            "type": "scattermapbox"
           }
          ],
          "scatterpolar": [
           {
            "marker": {
             "colorbar": {
              "outlinewidth": 0,
              "ticks": ""
             }
            },
            "type": "scatterpolar"
           }
          ],
          "scatterpolargl": [
           {
            "marker": {
             "colorbar": {
              "outlinewidth": 0,
              "ticks": ""
             }
            },
            "type": "scatterpolargl"
           }
          ],
          "scatterternary": [
           {
            "marker": {
             "colorbar": {
              "outlinewidth": 0,
              "ticks": ""
             }
            },
            "type": "scatterternary"
           }
          ],
          "surface": [
           {
            "colorbar": {
             "outlinewidth": 0,
             "ticks": ""
            },
            "colorscale": [
             [
              0,
              "#0d0887"
             ],
             [
              0.1111111111111111,
              "#46039f"
             ],
             [
              0.2222222222222222,
              "#7201a8"
             ],
             [
              0.3333333333333333,
              "#9c179e"
             ],
             [
              0.4444444444444444,
              "#bd3786"
             ],
             [
              0.5555555555555556,
              "#d8576b"
             ],
             [
              0.6666666666666666,
              "#ed7953"
             ],
             [
              0.7777777777777778,
              "#fb9f3a"
             ],
             [
              0.8888888888888888,
              "#fdca26"
             ],
             [
              1,
              "#f0f921"
             ]
            ],
            "type": "surface"
           }
          ],
          "table": [
           {
            "cells": {
             "fill": {
              "color": "#EBF0F8"
             },
             "line": {
              "color": "white"
             }
            },
            "header": {
             "fill": {
              "color": "#C8D4E3"
             },
             "line": {
              "color": "white"
             }
            },
            "type": "table"
           }
          ]
         },
         "layout": {
          "annotationdefaults": {
           "arrowcolor": "#2a3f5f",
           "arrowhead": 0,
           "arrowwidth": 1
          },
          "autotypenumbers": "strict",
          "coloraxis": {
           "colorbar": {
            "outlinewidth": 0,
            "ticks": ""
           }
          },
          "colorscale": {
           "diverging": [
            [
             0,
             "#8e0152"
            ],
            [
             0.1,
             "#c51b7d"
            ],
            [
             0.2,
             "#de77ae"
            ],
            [
             0.3,
             "#f1b6da"
            ],
            [
             0.4,
             "#fde0ef"
            ],
            [
             0.5,
             "#f7f7f7"
            ],
            [
             0.6,
             "#e6f5d0"
            ],
            [
             0.7,
             "#b8e186"
            ],
            [
             0.8,
             "#7fbc41"
            ],
            [
             0.9,
             "#4d9221"
            ],
            [
             1,
             "#276419"
            ]
           ],
           "sequential": [
            [
             0,
             "#0d0887"
            ],
            [
             0.1111111111111111,
             "#46039f"
            ],
            [
             0.2222222222222222,
             "#7201a8"
            ],
            [
             0.3333333333333333,
             "#9c179e"
            ],
            [
             0.4444444444444444,
             "#bd3786"
            ],
            [
             0.5555555555555556,
             "#d8576b"
            ],
            [
             0.6666666666666666,
             "#ed7953"
            ],
            [
             0.7777777777777778,
             "#fb9f3a"
            ],
            [
             0.8888888888888888,
             "#fdca26"
            ],
            [
             1,
             "#f0f921"
            ]
           ],
           "sequentialminus": [
            [
             0,
             "#0d0887"
            ],
            [
             0.1111111111111111,
             "#46039f"
            ],
            [
             0.2222222222222222,
             "#7201a8"
            ],
            [
             0.3333333333333333,
             "#9c179e"
            ],
            [
             0.4444444444444444,
             "#bd3786"
            ],
            [
             0.5555555555555556,
             "#d8576b"
            ],
            [
             0.6666666666666666,
             "#ed7953"
            ],
            [
             0.7777777777777778,
             "#fb9f3a"
            ],
            [
             0.8888888888888888,
             "#fdca26"
            ],
            [
             1,
             "#f0f921"
            ]
           ]
          },
          "colorway": [
           "#636efa",
           "#EF553B",
           "#00cc96",
           "#ab63fa",
           "#FFA15A",
           "#19d3f3",
           "#FF6692",
           "#B6E880",
           "#FF97FF",
           "#FECB52"
          ],
          "font": {
           "color": "#2a3f5f"
          },
          "geo": {
           "bgcolor": "white",
           "lakecolor": "white",
           "landcolor": "#E5ECF6",
           "showlakes": true,
           "showland": true,
           "subunitcolor": "white"
          },
          "hoverlabel": {
           "align": "left"
          },
          "hovermode": "closest",
          "mapbox": {
           "style": "light"
          },
          "paper_bgcolor": "white",
          "plot_bgcolor": "#E5ECF6",
          "polar": {
           "angularaxis": {
            "gridcolor": "white",
            "linecolor": "white",
            "ticks": ""
           },
           "bgcolor": "#E5ECF6",
           "radialaxis": {
            "gridcolor": "white",
            "linecolor": "white",
            "ticks": ""
           }
          },
          "scene": {
           "xaxis": {
            "backgroundcolor": "#E5ECF6",
            "gridcolor": "white",
            "gridwidth": 2,
            "linecolor": "white",
            "showbackground": true,
            "ticks": "",
            "zerolinecolor": "white"
           },
           "yaxis": {
            "backgroundcolor": "#E5ECF6",
            "gridcolor": "white",
            "gridwidth": 2,
            "linecolor": "white",
            "showbackground": true,
            "ticks": "",
            "zerolinecolor": "white"
           },
           "zaxis": {
            "backgroundcolor": "#E5ECF6",
            "gridcolor": "white",
            "gridwidth": 2,
            "linecolor": "white",
            "showbackground": true,
            "ticks": "",
            "zerolinecolor": "white"
           }
          },
          "shapedefaults": {
           "line": {
            "color": "#2a3f5f"
           }
          },
          "ternary": {
           "aaxis": {
            "gridcolor": "white",
            "linecolor": "white",
            "ticks": ""
           },
           "baxis": {
            "gridcolor": "white",
            "linecolor": "white",
            "ticks": ""
           },
           "bgcolor": "#E5ECF6",
           "caxis": {
            "gridcolor": "white",
            "linecolor": "white",
            "ticks": ""
           }
          },
          "title": {
           "x": 0.05
          },
          "xaxis": {
           "automargin": true,
           "gridcolor": "white",
           "linecolor": "white",
           "ticks": "",
           "title": {
            "standoff": 15
           },
           "zerolinecolor": "white",
           "zerolinewidth": 2
          },
          "yaxis": {
           "automargin": true,
           "gridcolor": "white",
           "linecolor": "white",
           "ticks": "",
           "title": {
            "standoff": 15
           },
           "zerolinecolor": "white",
           "zerolinewidth": 2
          }
         }
        },
        "title": {
         "text": "Relationship between RECENCY VS FREQUENCY VS MONETARY based on DBSCAN customer clusters"
        }
       }
      }
     },
     "metadata": {},
     "output_type": "display_data"
    },
    {
     "data": {
      "text/html": [
       "<div>\n",
       "<style scoped>\n",
       "    .dataframe tbody tr th:only-of-type {\n",
       "        vertical-align: middle;\n",
       "    }\n",
       "\n",
       "    .dataframe tbody tr th {\n",
       "        vertical-align: top;\n",
       "    }\n",
       "\n",
       "    .dataframe thead th {\n",
       "        text-align: right;\n",
       "    }\n",
       "</style>\n",
       "<table border=\"1\" class=\"dataframe\">\n",
       "  <thead>\n",
       "    <tr style=\"text-align: right;\">\n",
       "      <th></th>\n",
       "      <th>RECENCY_days</th>\n",
       "      <th>FREQUENCY_last_year</th>\n",
       "      <th>MONETARY_last_year</th>\n",
       "      <th>CustomersCount</th>\n",
       "    </tr>\n",
       "    <tr>\n",
       "      <th>DBSCANLabel</th>\n",
       "      <th></th>\n",
       "      <th></th>\n",
       "      <th></th>\n",
       "      <th></th>\n",
       "    </tr>\n",
       "  </thead>\n",
       "  <tbody>\n",
       "    <tr>\n",
       "      <th>-1</th>\n",
       "      <td>48.0</td>\n",
       "      <td>3.0</td>\n",
       "      <td>100924.66</td>\n",
       "      <td>13</td>\n",
       "    </tr>\n",
       "    <tr>\n",
       "      <th>0</th>\n",
       "      <td>122.0</td>\n",
       "      <td>2.0</td>\n",
       "      <td>53300.20</td>\n",
       "      <td>26</td>\n",
       "    </tr>\n",
       "    <tr>\n",
       "      <th>1</th>\n",
       "      <td>194.0</td>\n",
       "      <td>1.0</td>\n",
       "      <td>34145.47</td>\n",
       "      <td>35</td>\n",
       "    </tr>\n",
       "    <tr>\n",
       "      <th>2</th>\n",
       "      <td>446.0</td>\n",
       "      <td>0.0</td>\n",
       "      <td>0.00</td>\n",
       "      <td>13</td>\n",
       "    </tr>\n",
       "    <tr>\n",
       "      <th>3</th>\n",
       "      <td>183.0</td>\n",
       "      <td>2.0</td>\n",
       "      <td>94117.26</td>\n",
       "      <td>5</td>\n",
       "    </tr>\n",
       "  </tbody>\n",
       "</table>\n",
       "</div>"
      ],
      "text/plain": [
       "             RECENCY_days  FREQUENCY_last_year  MONETARY_last_year   \n",
       "DBSCANLabel                                                          \n",
       "-1                   48.0                  3.0           100924.66  \\\n",
       " 0                  122.0                  2.0            53300.20   \n",
       " 1                  194.0                  1.0            34145.47   \n",
       " 2                  446.0                  0.0                0.00   \n",
       " 3                  183.0                  2.0            94117.26   \n",
       "\n",
       "             CustomersCount  \n",
       "DBSCANLabel                  \n",
       "-1                       13  \n",
       " 0                       26  \n",
       " 1                       35  \n",
       " 2                       13  \n",
       " 3                        5  "
      ]
     },
     "execution_count": 32,
     "metadata": {},
     "output_type": "execute_result"
    }
   ],
   "source": [
    "min_points = rfm_array_scaled.shape[1] + 1\n",
    "dbscan_clustering = DBSCAN(min_samples=min_points, eps=0.5).fit(rfm_array_scaled)\n",
    "customer_df = customer_df.assign(DBSCANLabel=dbscan_clustering.labels_)\n",
    "rfm_df_scaled = rfm_df_scaled.assign(DBSCANLabel=dbscan_clustering.labels_)\n",
    "rfm_df = rfm_df.assign(DBSCANLabel=dbscan_clustering.labels_)\n",
    "\n",
    "fig = px.scatter_3d(\n",
    "    data_frame=rfm_df,\n",
    "    x= \"RECENCY_days\",\n",
    "    y = \"FREQUENCY_last_year\",\n",
    "    z= \"MONETARY_last_year\",\n",
    "    title = \"Relationship between RECENCY VS FREQUENCY VS MONETARY based on DBSCAN customer clusters\",\n",
    "    color = \"DBSCANLabel\",\n",
    "    height=500\n",
    ")\n",
    "fig.update_traces(marker_size = 4)\n",
    "fig.show()\n",
    "\n",
    "customer_clusters_summarize = customer_df.groupby(\"DBSCANLabel\")[[\"RECENCY_days\", \"FREQUENCY_last_year\", \"MONETARY_last_year\"]].median()\n",
    "customer_clusters_summarize.assign(CustomersCount=np.unique(dbscan_clustering.labels_, return_counts=True)[1])\n",
    "# np.unique(dbscan_clustering.labels_, return_counts=True)[1]\n"
   ]
  },
  {
   "cell_type": "code",
   "execution_count": 33,
   "metadata": {},
   "outputs": [
    {
     "data": {
      "application/vnd.plotly.v1+json": {
       "config": {
        "plotlyServerURL": "https://plot.ly"
       },
       "data": [
        {
         "hovertemplate": "RECENCY_days=%{x}<br>FREQUENCY_last_year=%{y}<br>MONETARY_last_year=%{z}<br>OPTICSLabel=%{marker.color}<extra></extra>",
         "legendgroup": "",
         "marker": {
          "color": [
           -1,
           -1,
           0,
           2,
           -1,
           -1,
           0,
           -1,
           4,
           2,
           -1,
           1,
           -1,
           3,
           -1,
           5,
           -1,
           3,
           3,
           3,
           3,
           5,
           1,
           2,
           3,
           3,
           5,
           -1,
           -1,
           -1,
           5,
           -1,
           3,
           -1,
           -1,
           2,
           3,
           -1,
           -1,
           4,
           -1,
           -1,
           -1,
           1,
           -1,
           0,
           2,
           -1,
           0,
           5,
           3,
           -1,
           2,
           4,
           -1,
           -1,
           3,
           4,
           1,
           -1,
           4,
           -1,
           -1,
           -1,
           -1,
           2,
           -1,
           4,
           -1,
           -1,
           -1,
           5,
           -1,
           5,
           1,
           0,
           3,
           -1,
           -1,
           -1,
           -1,
           2,
           -1,
           4,
           2,
           -1,
           -1,
           -1,
           4,
           1,
           5,
           4
          ],
          "coloraxis": "coloraxis",
          "size": 4,
          "symbol": "circle"
         },
         "mode": "markers",
         "name": "",
         "scene": "scene",
         "showlegend": false,
         "type": "scatter3d",
         "x": [
          -0.11152606366477699,
          -1.1321123349539894,
          0.42603464411351044,
          -0.9840883719425769,
          -0.17385194282747699,
          0.9635953518917979,
          -0.20501488240882698,
          -0.7114126506057644,
          0.17673112746271047,
          -1.2100196839073645,
          -0.23617782199017698,
          -0.018037244920727006,
          0.37929023474148543,
          -0.018037244920727006,
          -0.7581570599777894,
          1.7816225159022352,
          1.3920857711353603,
          0.09103304361399799,
          0.15335892277669796,
          -0.142689003246127,
          0.37149949984614794,
          1.9530186835996604,
          -0.610133096966377,
          -0.8750180834078519,
          0.013125694660622989,
          -0.1037353287694395,
          1.9919723580763478,
          1.150572989379898,
          0.005334959765285491,
          1.4855745898794104,
          2.2256944049364726,
          -0.9295532276752144,
          -0.1660612079321395,
          -1.4125787911861394,
          -0.9373439625705519,
          -1.4281602609768143,
          -0.24396855688551447,
          0.41824390921817295,
          -1.3346714422327643,
          0.09103304361399799,
          0.47277905348553545,
          0.21568480193939796,
          -1.4671139354535019,
          -0.1348982683507895,
          -0.719203385501102,
          -0.095944593874102,
          -1.046414251105277,
          -0.501062808431652,
          0.16114965767203548,
          2.32697395857586,
          -0.002455775130052009,
          -0.9918791068379144,
          -1.264554828174727,
          0.14556818788136047,
          -0.5088535433269894,
          -1.0931586604773018,
          -0.1193167985601145,
          -0.11152606366477699,
          -0.220596352199502,
          0.574058607124923,
          -0.010246510025389509,
          0.41824390921817295,
          1.5868541435187977,
          -0.6958311808150894,
          0.8155713888803854,
          -1.3969973213954643,
          -1.1476938047446643,
          -0.0725723891880895,
          0.5818493420202604,
          -0.5322257480130019,
          -1.5216490797208644,
          1.9140650091229727,
          -0.9373439625705519,
          2.07767044192506,
          -0.20501488240882698,
          -0.34524811052490195,
          -0.23617782199017698,
          -0.501062808431652,
          1.4232487107167104,
          -0.49327207353631447,
          1.3141784221819854,
          -1.1632752745353394,
          -1.326880707337427,
          0.13777745298602298,
          -0.7659477948731269,
          2.73209217313341,
          -1.217810418802702,
          0.5039419930668855,
          -0.018037244920727006,
          -0.049200184502077006,
          2.17115926066911,
          0.013125694660622989
         ],
         "y": [
          0.2666429661229886,
          -0.3466358559598853,
          0.2666429661229886,
          0.2666429661229886,
          0.2666429661229886,
          -0.3466358559598853,
          0.2666429661229886,
          -0.3466358559598853,
          -0.3466358559598853,
          0.2666429661229886,
          0.2666429661229886,
          0.2666429661229886,
          -0.3466358559598853,
          -0.3466358559598853,
          -0.3466358559598853,
          -0.9599146780427592,
          -0.9599146780427592,
          -0.3466358559598853,
          -0.3466358559598853,
          -0.3466358559598853,
          -0.3466358559598853,
          -0.9599146780427592,
          0.2666429661229886,
          0.2666429661229886,
          -0.3466358559598853,
          -0.3466358559598853,
          -0.9599146780427592,
          -0.3466358559598853,
          0.8799217882058625,
          -0.9599146780427592,
          -0.9599146780427592,
          0.2666429661229886,
          -0.3466358559598853,
          5.786152364868854,
          0.2666429661229886,
          0.2666429661229886,
          -0.3466358559598853,
          0.2666429661229886,
          0.8799217882058625,
          -0.3466358559598853,
          -0.3466358559598853,
          -0.3466358559598853,
          0.2666429661229886,
          0.2666429661229886,
          0.8799217882058625,
          0.2666429661229886,
          0.2666429661229886,
          0.2666429661229886,
          0.2666429661229886,
          -0.9599146780427592,
          -0.3466358559598853,
          -0.3466358559598853,
          0.2666429661229886,
          -0.3466358559598853,
          -0.3466358559598853,
          5.786152364868854,
          -0.3466358559598853,
          -0.3466358559598853,
          0.2666429661229886,
          -0.3466358559598853,
          -0.3466358559598853,
          0.2666429661229886,
          -0.9599146780427592,
          -0.3466358559598853,
          -0.3466358559598853,
          0.2666429661229886,
          0.8799217882058625,
          -0.3466358559598853,
          -0.3466358559598853,
          0.2666429661229886,
          0.8799217882058625,
          -0.9599146780427592,
          0.2666429661229886,
          -0.9599146780427592,
          0.2666429661229886,
          0.2666429661229886,
          -0.3466358559598853,
          -0.3466358559598853,
          -0.9599146780427592,
          0.2666429661229886,
          -0.3466358559598853,
          0.2666429661229886,
          1.4932006102887365,
          -0.3466358559598853,
          0.2666429661229886,
          -0.9599146780427592,
          -0.3466358559598853,
          -0.3466358559598853,
          -0.3466358559598853,
          0.2666429661229886,
          -0.9599146780427592,
          -0.3466358559598853
         ],
         "z": [
          0.9005528176197602,
          -0.5639506288326531,
          0.698054679190413,
          0.23298342568707595,
          -0.6841053758736332,
          -0.6087610217500993,
          0.651790820759373,
          -0.45863334224294217,
          0.13810677049497938,
          -0.1347677973857786,
          -0.49903060735097426,
          0.15964078247919603,
          -0.24668735839178962,
          -0.658613642490924,
          -0.7421490801338434,
          -0.8058612359803797,
          -0.8058612359803797,
          -0.22139568424643954,
          -0.3673078983056949,
          -0.36271021105606505,
          -0.5027050180243569,
          -0.8058612359803797,
          -0.06146222585766502,
          0.06026774798993432,
          -0.2538351617508567,
          -0.5513329949991105,
          -0.8058612359803797,
          -0.7299689560382318,
          1.0472647892532827,
          -0.8058612359803797,
          -0.8058612359803797,
          -0.6891576705755689,
          -0.32355628534571024,
          5.529470880160214,
          0.5853181031040366,
          0.4050243029374379,
          -0.3369787900886604,
          -0.24830013625334435,
          0.6527038706653403,
          0.15726643726520184,
          -0.5443924415049435,
          -0.754394239460769,
          0.759004515519195,
          0.13669053645287518,
          1.3727424728051083,
          0.6790516083088581,
          0.040163392552565125,
          -0.44706010711177974,
          0.8412779181328308,
          -0.8058612359803797,
          -0.3033777865488087,
          -0.6656414422659203,
          -0.14916119663846875,
          -0.05686885298455964,
          -0.629749984166718,
          5.802252289466385,
          -0.3209138096203035,
          -0.02294411141364587,
          0.23212502455041964,
          -0.2602448871407848,
          0.08211095695840806,
          0.1081148228137499,
          -0.8058612359803797,
          -0.021996546495482803,
          -0.042688296307079224,
          0.1250453950463041,
          0.806831296794173,
          -0.13958264158714265,
          -0.11344614860160232,
          -0.3250217352385387,
          0.9705352006819314,
          -0.8058612359803797,
          0.5611315485158561,
          -0.8058612359803797,
          -0.024424421936725383,
          0.45972580351665343,
          -0.586309006316499,
          0.015044613051642439,
          -0.8058612359803797,
          -0.5430714433298247,
          -0.35865102191338455,
          0.05150029572521794,
          1.1206315610113553,
          0.2957972324661735,
          0.29936825789469046,
          -0.8058612359803797,
          -0.15386610413431895,
          0.26923361620470593,
          0.09493056752998737,
          -0.1707583263533216,
          -0.8058612359803797,
          0.014416152204570713
         ]
        }
       ],
       "layout": {
        "coloraxis": {
         "colorbar": {
          "title": {
           "text": "OPTICSLabel"
          }
         },
         "colorscale": [
          [
           0,
           "#0d0887"
          ],
          [
           0.1111111111111111,
           "#46039f"
          ],
          [
           0.2222222222222222,
           "#7201a8"
          ],
          [
           0.3333333333333333,
           "#9c179e"
          ],
          [
           0.4444444444444444,
           "#bd3786"
          ],
          [
           0.5555555555555556,
           "#d8576b"
          ],
          [
           0.6666666666666666,
           "#ed7953"
          ],
          [
           0.7777777777777778,
           "#fb9f3a"
          ],
          [
           0.8888888888888888,
           "#fdca26"
          ],
          [
           1,
           "#f0f921"
          ]
         ]
        },
        "height": 500,
        "legend": {
         "tracegroupgap": 0
        },
        "scene": {
         "domain": {
          "x": [
           0,
           1
          ],
          "y": [
           0,
           1
          ]
         },
         "xaxis": {
          "title": {
           "text": "RECENCY_days"
          }
         },
         "yaxis": {
          "title": {
           "text": "FREQUENCY_last_year"
          }
         },
         "zaxis": {
          "title": {
           "text": "MONETARY_last_year"
          }
         }
        },
        "template": {
         "data": {
          "bar": [
           {
            "error_x": {
             "color": "#2a3f5f"
            },
            "error_y": {
             "color": "#2a3f5f"
            },
            "marker": {
             "line": {
              "color": "#E5ECF6",
              "width": 0.5
             },
             "pattern": {
              "fillmode": "overlay",
              "size": 10,
              "solidity": 0.2
             }
            },
            "type": "bar"
           }
          ],
          "barpolar": [
           {
            "marker": {
             "line": {
              "color": "#E5ECF6",
              "width": 0.5
             },
             "pattern": {
              "fillmode": "overlay",
              "size": 10,
              "solidity": 0.2
             }
            },
            "type": "barpolar"
           }
          ],
          "carpet": [
           {
            "aaxis": {
             "endlinecolor": "#2a3f5f",
             "gridcolor": "white",
             "linecolor": "white",
             "minorgridcolor": "white",
             "startlinecolor": "#2a3f5f"
            },
            "baxis": {
             "endlinecolor": "#2a3f5f",
             "gridcolor": "white",
             "linecolor": "white",
             "minorgridcolor": "white",
             "startlinecolor": "#2a3f5f"
            },
            "type": "carpet"
           }
          ],
          "choropleth": [
           {
            "colorbar": {
             "outlinewidth": 0,
             "ticks": ""
            },
            "type": "choropleth"
           }
          ],
          "contour": [
           {
            "colorbar": {
             "outlinewidth": 0,
             "ticks": ""
            },
            "colorscale": [
             [
              0,
              "#0d0887"
             ],
             [
              0.1111111111111111,
              "#46039f"
             ],
             [
              0.2222222222222222,
              "#7201a8"
             ],
             [
              0.3333333333333333,
              "#9c179e"
             ],
             [
              0.4444444444444444,
              "#bd3786"
             ],
             [
              0.5555555555555556,
              "#d8576b"
             ],
             [
              0.6666666666666666,
              "#ed7953"
             ],
             [
              0.7777777777777778,
              "#fb9f3a"
             ],
             [
              0.8888888888888888,
              "#fdca26"
             ],
             [
              1,
              "#f0f921"
             ]
            ],
            "type": "contour"
           }
          ],
          "contourcarpet": [
           {
            "colorbar": {
             "outlinewidth": 0,
             "ticks": ""
            },
            "type": "contourcarpet"
           }
          ],
          "heatmap": [
           {
            "colorbar": {
             "outlinewidth": 0,
             "ticks": ""
            },
            "colorscale": [
             [
              0,
              "#0d0887"
             ],
             [
              0.1111111111111111,
              "#46039f"
             ],
             [
              0.2222222222222222,
              "#7201a8"
             ],
             [
              0.3333333333333333,
              "#9c179e"
             ],
             [
              0.4444444444444444,
              "#bd3786"
             ],
             [
              0.5555555555555556,
              "#d8576b"
             ],
             [
              0.6666666666666666,
              "#ed7953"
             ],
             [
              0.7777777777777778,
              "#fb9f3a"
             ],
             [
              0.8888888888888888,
              "#fdca26"
             ],
             [
              1,
              "#f0f921"
             ]
            ],
            "type": "heatmap"
           }
          ],
          "heatmapgl": [
           {
            "colorbar": {
             "outlinewidth": 0,
             "ticks": ""
            },
            "colorscale": [
             [
              0,
              "#0d0887"
             ],
             [
              0.1111111111111111,
              "#46039f"
             ],
             [
              0.2222222222222222,
              "#7201a8"
             ],
             [
              0.3333333333333333,
              "#9c179e"
             ],
             [
              0.4444444444444444,
              "#bd3786"
             ],
             [
              0.5555555555555556,
              "#d8576b"
             ],
             [
              0.6666666666666666,
              "#ed7953"
             ],
             [
              0.7777777777777778,
              "#fb9f3a"
             ],
             [
              0.8888888888888888,
              "#fdca26"
             ],
             [
              1,
              "#f0f921"
             ]
            ],
            "type": "heatmapgl"
           }
          ],
          "histogram": [
           {
            "marker": {
             "pattern": {
              "fillmode": "overlay",
              "size": 10,
              "solidity": 0.2
             }
            },
            "type": "histogram"
           }
          ],
          "histogram2d": [
           {
            "colorbar": {
             "outlinewidth": 0,
             "ticks": ""
            },
            "colorscale": [
             [
              0,
              "#0d0887"
             ],
             [
              0.1111111111111111,
              "#46039f"
             ],
             [
              0.2222222222222222,
              "#7201a8"
             ],
             [
              0.3333333333333333,
              "#9c179e"
             ],
             [
              0.4444444444444444,
              "#bd3786"
             ],
             [
              0.5555555555555556,
              "#d8576b"
             ],
             [
              0.6666666666666666,
              "#ed7953"
             ],
             [
              0.7777777777777778,
              "#fb9f3a"
             ],
             [
              0.8888888888888888,
              "#fdca26"
             ],
             [
              1,
              "#f0f921"
             ]
            ],
            "type": "histogram2d"
           }
          ],
          "histogram2dcontour": [
           {
            "colorbar": {
             "outlinewidth": 0,
             "ticks": ""
            },
            "colorscale": [
             [
              0,
              "#0d0887"
             ],
             [
              0.1111111111111111,
              "#46039f"
             ],
             [
              0.2222222222222222,
              "#7201a8"
             ],
             [
              0.3333333333333333,
              "#9c179e"
             ],
             [
              0.4444444444444444,
              "#bd3786"
             ],
             [
              0.5555555555555556,
              "#d8576b"
             ],
             [
              0.6666666666666666,
              "#ed7953"
             ],
             [
              0.7777777777777778,
              "#fb9f3a"
             ],
             [
              0.8888888888888888,
              "#fdca26"
             ],
             [
              1,
              "#f0f921"
             ]
            ],
            "type": "histogram2dcontour"
           }
          ],
          "mesh3d": [
           {
            "colorbar": {
             "outlinewidth": 0,
             "ticks": ""
            },
            "type": "mesh3d"
           }
          ],
          "parcoords": [
           {
            "line": {
             "colorbar": {
              "outlinewidth": 0,
              "ticks": ""
             }
            },
            "type": "parcoords"
           }
          ],
          "pie": [
           {
            "automargin": true,
            "type": "pie"
           }
          ],
          "scatter": [
           {
            "fillpattern": {
             "fillmode": "overlay",
             "size": 10,
             "solidity": 0.2
            },
            "type": "scatter"
           }
          ],
          "scatter3d": [
           {
            "line": {
             "colorbar": {
              "outlinewidth": 0,
              "ticks": ""
             }
            },
            "marker": {
             "colorbar": {
              "outlinewidth": 0,
              "ticks": ""
             }
            },
            "type": "scatter3d"
           }
          ],
          "scattercarpet": [
           {
            "marker": {
             "colorbar": {
              "outlinewidth": 0,
              "ticks": ""
             }
            },
            "type": "scattercarpet"
           }
          ],
          "scattergeo": [
           {
            "marker": {
             "colorbar": {
              "outlinewidth": 0,
              "ticks": ""
             }
            },
            "type": "scattergeo"
           }
          ],
          "scattergl": [
           {
            "marker": {
             "colorbar": {
              "outlinewidth": 0,
              "ticks": ""
             }
            },
            "type": "scattergl"
           }
          ],
          "scattermapbox": [
           {
            "marker": {
             "colorbar": {
              "outlinewidth": 0,
              "ticks": ""
             }
            },
            "type": "scattermapbox"
           }
          ],
          "scatterpolar": [
           {
            "marker": {
             "colorbar": {
              "outlinewidth": 0,
              "ticks": ""
             }
            },
            "type": "scatterpolar"
           }
          ],
          "scatterpolargl": [
           {
            "marker": {
             "colorbar": {
              "outlinewidth": 0,
              "ticks": ""
             }
            },
            "type": "scatterpolargl"
           }
          ],
          "scatterternary": [
           {
            "marker": {
             "colorbar": {
              "outlinewidth": 0,
              "ticks": ""
             }
            },
            "type": "scatterternary"
           }
          ],
          "surface": [
           {
            "colorbar": {
             "outlinewidth": 0,
             "ticks": ""
            },
            "colorscale": [
             [
              0,
              "#0d0887"
             ],
             [
              0.1111111111111111,
              "#46039f"
             ],
             [
              0.2222222222222222,
              "#7201a8"
             ],
             [
              0.3333333333333333,
              "#9c179e"
             ],
             [
              0.4444444444444444,
              "#bd3786"
             ],
             [
              0.5555555555555556,
              "#d8576b"
             ],
             [
              0.6666666666666666,
              "#ed7953"
             ],
             [
              0.7777777777777778,
              "#fb9f3a"
             ],
             [
              0.8888888888888888,
              "#fdca26"
             ],
             [
              1,
              "#f0f921"
             ]
            ],
            "type": "surface"
           }
          ],
          "table": [
           {
            "cells": {
             "fill": {
              "color": "#EBF0F8"
             },
             "line": {
              "color": "white"
             }
            },
            "header": {
             "fill": {
              "color": "#C8D4E3"
             },
             "line": {
              "color": "white"
             }
            },
            "type": "table"
           }
          ]
         },
         "layout": {
          "annotationdefaults": {
           "arrowcolor": "#2a3f5f",
           "arrowhead": 0,
           "arrowwidth": 1
          },
          "autotypenumbers": "strict",
          "coloraxis": {
           "colorbar": {
            "outlinewidth": 0,
            "ticks": ""
           }
          },
          "colorscale": {
           "diverging": [
            [
             0,
             "#8e0152"
            ],
            [
             0.1,
             "#c51b7d"
            ],
            [
             0.2,
             "#de77ae"
            ],
            [
             0.3,
             "#f1b6da"
            ],
            [
             0.4,
             "#fde0ef"
            ],
            [
             0.5,
             "#f7f7f7"
            ],
            [
             0.6,
             "#e6f5d0"
            ],
            [
             0.7,
             "#b8e186"
            ],
            [
             0.8,
             "#7fbc41"
            ],
            [
             0.9,
             "#4d9221"
            ],
            [
             1,
             "#276419"
            ]
           ],
           "sequential": [
            [
             0,
             "#0d0887"
            ],
            [
             0.1111111111111111,
             "#46039f"
            ],
            [
             0.2222222222222222,
             "#7201a8"
            ],
            [
             0.3333333333333333,
             "#9c179e"
            ],
            [
             0.4444444444444444,
             "#bd3786"
            ],
            [
             0.5555555555555556,
             "#d8576b"
            ],
            [
             0.6666666666666666,
             "#ed7953"
            ],
            [
             0.7777777777777778,
             "#fb9f3a"
            ],
            [
             0.8888888888888888,
             "#fdca26"
            ],
            [
             1,
             "#f0f921"
            ]
           ],
           "sequentialminus": [
            [
             0,
             "#0d0887"
            ],
            [
             0.1111111111111111,
             "#46039f"
            ],
            [
             0.2222222222222222,
             "#7201a8"
            ],
            [
             0.3333333333333333,
             "#9c179e"
            ],
            [
             0.4444444444444444,
             "#bd3786"
            ],
            [
             0.5555555555555556,
             "#d8576b"
            ],
            [
             0.6666666666666666,
             "#ed7953"
            ],
            [
             0.7777777777777778,
             "#fb9f3a"
            ],
            [
             0.8888888888888888,
             "#fdca26"
            ],
            [
             1,
             "#f0f921"
            ]
           ]
          },
          "colorway": [
           "#636efa",
           "#EF553B",
           "#00cc96",
           "#ab63fa",
           "#FFA15A",
           "#19d3f3",
           "#FF6692",
           "#B6E880",
           "#FF97FF",
           "#FECB52"
          ],
          "font": {
           "color": "#2a3f5f"
          },
          "geo": {
           "bgcolor": "white",
           "lakecolor": "white",
           "landcolor": "#E5ECF6",
           "showlakes": true,
           "showland": true,
           "subunitcolor": "white"
          },
          "hoverlabel": {
           "align": "left"
          },
          "hovermode": "closest",
          "mapbox": {
           "style": "light"
          },
          "paper_bgcolor": "white",
          "plot_bgcolor": "#E5ECF6",
          "polar": {
           "angularaxis": {
            "gridcolor": "white",
            "linecolor": "white",
            "ticks": ""
           },
           "bgcolor": "#E5ECF6",
           "radialaxis": {
            "gridcolor": "white",
            "linecolor": "white",
            "ticks": ""
           }
          },
          "scene": {
           "xaxis": {
            "backgroundcolor": "#E5ECF6",
            "gridcolor": "white",
            "gridwidth": 2,
            "linecolor": "white",
            "showbackground": true,
            "ticks": "",
            "zerolinecolor": "white"
           },
           "yaxis": {
            "backgroundcolor": "#E5ECF6",
            "gridcolor": "white",
            "gridwidth": 2,
            "linecolor": "white",
            "showbackground": true,
            "ticks": "",
            "zerolinecolor": "white"
           },
           "zaxis": {
            "backgroundcolor": "#E5ECF6",
            "gridcolor": "white",
            "gridwidth": 2,
            "linecolor": "white",
            "showbackground": true,
            "ticks": "",
            "zerolinecolor": "white"
           }
          },
          "shapedefaults": {
           "line": {
            "color": "#2a3f5f"
           }
          },
          "ternary": {
           "aaxis": {
            "gridcolor": "white",
            "linecolor": "white",
            "ticks": ""
           },
           "baxis": {
            "gridcolor": "white",
            "linecolor": "white",
            "ticks": ""
           },
           "bgcolor": "#E5ECF6",
           "caxis": {
            "gridcolor": "white",
            "linecolor": "white",
            "ticks": ""
           }
          },
          "title": {
           "x": 0.05
          },
          "xaxis": {
           "automargin": true,
           "gridcolor": "white",
           "linecolor": "white",
           "ticks": "",
           "title": {
            "standoff": 15
           },
           "zerolinecolor": "white",
           "zerolinewidth": 2
          },
          "yaxis": {
           "automargin": true,
           "gridcolor": "white",
           "linecolor": "white",
           "ticks": "",
           "title": {
            "standoff": 15
           },
           "zerolinecolor": "white",
           "zerolinewidth": 2
          }
         }
        },
        "title": {
         "text": "Relationship between RECENCY VS FREQUENCY VS MONETARY based on OPTICS customer cluster"
        }
       }
      }
     },
     "metadata": {},
     "output_type": "display_data"
    },
    {
     "data": {
      "text/html": [
       "<div>\n",
       "<style scoped>\n",
       "    .dataframe tbody tr th:only-of-type {\n",
       "        vertical-align: middle;\n",
       "    }\n",
       "\n",
       "    .dataframe tbody tr th {\n",
       "        vertical-align: top;\n",
       "    }\n",
       "\n",
       "    .dataframe thead th {\n",
       "        text-align: right;\n",
       "    }\n",
       "</style>\n",
       "<table border=\"1\" class=\"dataframe\">\n",
       "  <thead>\n",
       "    <tr style=\"text-align: right;\">\n",
       "      <th></th>\n",
       "      <th>RECENCY_days</th>\n",
       "      <th>FREQUENCY_last_year</th>\n",
       "      <th>MONETARY_last_year</th>\n",
       "      <th>CustomersCount</th>\n",
       "    </tr>\n",
       "    <tr>\n",
       "      <th>OPTICSLabel</th>\n",
       "      <th></th>\n",
       "      <th></th>\n",
       "      <th></th>\n",
       "      <th></th>\n",
       "    </tr>\n",
       "  </thead>\n",
       "  <tbody>\n",
       "    <tr>\n",
       "      <th>-1</th>\n",
       "      <td>132.0</td>\n",
       "      <td>1.0</td>\n",
       "      <td>34145.470</td>\n",
       "      <td>43</td>\n",
       "    </tr>\n",
       "    <tr>\n",
       "      <th>0</th>\n",
       "      <td>183.0</td>\n",
       "      <td>2.0</td>\n",
       "      <td>92928.020</td>\n",
       "      <td>5</td>\n",
       "    </tr>\n",
       "    <tr>\n",
       "      <th>1</th>\n",
       "      <td>173.5</td>\n",
       "      <td>2.0</td>\n",
       "      <td>53944.865</td>\n",
       "      <td>6</td>\n",
       "    </tr>\n",
       "    <tr>\n",
       "      <th>2</th>\n",
       "      <td>46.0</td>\n",
       "      <td>2.0</td>\n",
       "      <td>54203.620</td>\n",
       "      <td>9</td>\n",
       "    </tr>\n",
       "    <tr>\n",
       "      <th>3</th>\n",
       "      <td>187.5</td>\n",
       "      <td>1.0</td>\n",
       "      <td>28538.195</td>\n",
       "      <td>12</td>\n",
       "    </tr>\n",
       "    <tr>\n",
       "      <th>4</th>\n",
       "      <td>197.0</td>\n",
       "      <td>1.0</td>\n",
       "      <td>55570.600</td>\n",
       "      <td>9</td>\n",
       "    </tr>\n",
       "    <tr>\n",
       "      <th>5</th>\n",
       "      <td>456.5</td>\n",
       "      <td>0.0</td>\n",
       "      <td>0.000</td>\n",
       "      <td>8</td>\n",
       "    </tr>\n",
       "  </tbody>\n",
       "</table>\n",
       "</div>"
      ],
      "text/plain": [
       "             RECENCY_days  FREQUENCY_last_year  MONETARY_last_year   \n",
       "OPTICSLabel                                                          \n",
       "-1                  132.0                  1.0           34145.470  \\\n",
       " 0                  183.0                  2.0           92928.020   \n",
       " 1                  173.5                  2.0           53944.865   \n",
       " 2                   46.0                  2.0           54203.620   \n",
       " 3                  187.5                  1.0           28538.195   \n",
       " 4                  197.0                  1.0           55570.600   \n",
       " 5                  456.5                  0.0               0.000   \n",
       "\n",
       "             CustomersCount  \n",
       "OPTICSLabel                  \n",
       "-1                       43  \n",
       " 0                        5  \n",
       " 1                        6  \n",
       " 2                        9  \n",
       " 3                       12  \n",
       " 4                        9  \n",
       " 5                        8  "
      ]
     },
     "execution_count": 33,
     "metadata": {},
     "output_type": "execute_result"
    }
   ],
   "source": [
    "min_points = rfm_array_scaled.shape[1] + 1\n",
    "optics_clustering = OPTICS(min_samples=min_points).fit(rfm_array_scaled)\n",
    "customer_df = customer_df.assign(OPTICSLabel=optics_clustering.labels_)\n",
    "rfm_df_scaled = rfm_df_scaled.assign(OPTICSLabel=optics_clustering.labels_)\n",
    "\n",
    "fig = px.scatter_3d(\n",
    "    data_frame=rfm_df_scaled,\n",
    "    x= \"RECENCY_days\",\n",
    "    y = \"FREQUENCY_last_year\",\n",
    "    z= \"MONETARY_last_year\",\n",
    "    title = \"Relationship between RECENCY VS FREQUENCY VS MONETARY based on OPTICS customer cluster\",\n",
    "    color = \"OPTICSLabel\",\n",
    "    height=500\n",
    ")\n",
    "fig.update_traces(marker_size = 4)\n",
    "fig.show()\n",
    "\n",
    "customer_clusters_summarize = customer_df.groupby(\"OPTICSLabel\")[[\"RECENCY_days\", \"FREQUENCY_last_year\", \"MONETARY_last_year\"]].median()\n",
    "customer_clusters_summarize.assign(CustomersCount=np.unique(optics_clustering.labels_, return_counts=True)[1])\n",
    "# np.unique(dbscan_clustering.labels_, return_counts=True)[1]\n"
   ]
  }
 ],
 "metadata": {
  "kernelspec": {
   "display_name": "Python 3",
   "language": "python",
   "name": "python3"
  },
  "language_info": {
   "codemirror_mode": {
    "name": "ipython",
    "version": 3
   },
   "file_extension": ".py",
   "mimetype": "text/x-python",
   "name": "python",
   "nbconvert_exporter": "python",
   "pygments_lexer": "ipython3",
   "version": "3.10.4"
  },
  "orig_nbformat": 4
 },
 "nbformat": 4,
 "nbformat_minor": 2
}
