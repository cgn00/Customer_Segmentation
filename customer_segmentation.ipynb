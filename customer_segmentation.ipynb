{
 "cells": [
  {
   "cell_type": "markdown",
   "metadata": {},
   "source": [
    "## Importing Necessary packages"
   ]
  },
  {
   "cell_type": "code",
   "execution_count": 1,
   "metadata": {},
   "outputs": [],
   "source": [
    "import os\n",
    "import pandas as pd\n",
    "import seaborn as sns\n",
    "import matplotlib.pyplot as plt\n",
    "import plotly.express as px\n",
    "import plotly.graph_objects as go\n",
    "import datetime as dt\n",
    "import numpy as np\n",
    "\n",
    "from scipy.stats import iqr\n",
    "from sklearn.preprocessing import StandardScaler\n",
    "from sklearn.cluster import KMeans, OPTICS, DBSCAN\n",
    "from sklearn.neighbors import NearestNeighbors\n",
    "from plotly.offline import iplot\n"
   ]
  },
  {
   "cell_type": "markdown",
   "metadata": {},
   "source": [
    "## Loading the data"
   ]
  },
  {
   "cell_type": "code",
   "execution_count": 2,
   "metadata": {},
   "outputs": [
    {
     "data": {
      "text/html": [
       "<div>\n",
       "<style scoped>\n",
       "    .dataframe tbody tr th:only-of-type {\n",
       "        vertical-align: middle;\n",
       "    }\n",
       "\n",
       "    .dataframe tbody tr th {\n",
       "        vertical-align: top;\n",
       "    }\n",
       "\n",
       "    .dataframe thead th {\n",
       "        text-align: right;\n",
       "    }\n",
       "</style>\n",
       "<table border=\"1\" class=\"dataframe\">\n",
       "  <thead>\n",
       "    <tr style=\"text-align: right;\">\n",
       "      <th></th>\n",
       "      <th>ORDERNUMBER</th>\n",
       "      <th>QUANTITYORDERED</th>\n",
       "      <th>PRICEEACH</th>\n",
       "      <th>ORDERLINENUMBER</th>\n",
       "      <th>SALES</th>\n",
       "      <th>ORDERDATE</th>\n",
       "      <th>STATUS</th>\n",
       "      <th>QTR_ID</th>\n",
       "      <th>MONTH_ID</th>\n",
       "      <th>YEAR_ID</th>\n",
       "      <th>...</th>\n",
       "      <th>ADDRESSLINE1</th>\n",
       "      <th>ADDRESSLINE2</th>\n",
       "      <th>CITY</th>\n",
       "      <th>STATE</th>\n",
       "      <th>POSTALCODE</th>\n",
       "      <th>COUNTRY</th>\n",
       "      <th>TERRITORY</th>\n",
       "      <th>CONTACTLASTNAME</th>\n",
       "      <th>CONTACTFIRSTNAME</th>\n",
       "      <th>DEALSIZE</th>\n",
       "    </tr>\n",
       "  </thead>\n",
       "  <tbody>\n",
       "    <tr>\n",
       "      <th>0</th>\n",
       "      <td>10107</td>\n",
       "      <td>30</td>\n",
       "      <td>95.70</td>\n",
       "      <td>2</td>\n",
       "      <td>2871.00</td>\n",
       "      <td>2003-02-24</td>\n",
       "      <td>Shipped</td>\n",
       "      <td>1</td>\n",
       "      <td>2</td>\n",
       "      <td>2003</td>\n",
       "      <td>...</td>\n",
       "      <td>897 Long Airport Avenue</td>\n",
       "      <td>NaN</td>\n",
       "      <td>NYC</td>\n",
       "      <td>NY</td>\n",
       "      <td>10022</td>\n",
       "      <td>USA</td>\n",
       "      <td>NaN</td>\n",
       "      <td>Yu</td>\n",
       "      <td>Kwai</td>\n",
       "      <td>Small</td>\n",
       "    </tr>\n",
       "    <tr>\n",
       "      <th>1</th>\n",
       "      <td>10121</td>\n",
       "      <td>34</td>\n",
       "      <td>81.35</td>\n",
       "      <td>5</td>\n",
       "      <td>2765.90</td>\n",
       "      <td>2003-05-07</td>\n",
       "      <td>Shipped</td>\n",
       "      <td>2</td>\n",
       "      <td>5</td>\n",
       "      <td>2003</td>\n",
       "      <td>...</td>\n",
       "      <td>59 rue de l'Abbaye</td>\n",
       "      <td>NaN</td>\n",
       "      <td>Reims</td>\n",
       "      <td>NaN</td>\n",
       "      <td>51100</td>\n",
       "      <td>France</td>\n",
       "      <td>EMEA</td>\n",
       "      <td>Henriot</td>\n",
       "      <td>Paul</td>\n",
       "      <td>Small</td>\n",
       "    </tr>\n",
       "    <tr>\n",
       "      <th>2</th>\n",
       "      <td>10134</td>\n",
       "      <td>41</td>\n",
       "      <td>94.74</td>\n",
       "      <td>2</td>\n",
       "      <td>3884.34</td>\n",
       "      <td>2003-07-01</td>\n",
       "      <td>Shipped</td>\n",
       "      <td>3</td>\n",
       "      <td>7</td>\n",
       "      <td>2003</td>\n",
       "      <td>...</td>\n",
       "      <td>27 rue du Colonel Pierre Avia</td>\n",
       "      <td>NaN</td>\n",
       "      <td>Paris</td>\n",
       "      <td>NaN</td>\n",
       "      <td>75508</td>\n",
       "      <td>France</td>\n",
       "      <td>EMEA</td>\n",
       "      <td>Da Cunha</td>\n",
       "      <td>Daniel</td>\n",
       "      <td>Medium</td>\n",
       "    </tr>\n",
       "    <tr>\n",
       "      <th>3</th>\n",
       "      <td>10145</td>\n",
       "      <td>45</td>\n",
       "      <td>83.26</td>\n",
       "      <td>6</td>\n",
       "      <td>3746.70</td>\n",
       "      <td>2003-08-25</td>\n",
       "      <td>Shipped</td>\n",
       "      <td>3</td>\n",
       "      <td>8</td>\n",
       "      <td>2003</td>\n",
       "      <td>...</td>\n",
       "      <td>78934 Hillside Dr.</td>\n",
       "      <td>NaN</td>\n",
       "      <td>Pasadena</td>\n",
       "      <td>CA</td>\n",
       "      <td>90003</td>\n",
       "      <td>USA</td>\n",
       "      <td>NaN</td>\n",
       "      <td>Young</td>\n",
       "      <td>Julie</td>\n",
       "      <td>Medium</td>\n",
       "    </tr>\n",
       "    <tr>\n",
       "      <th>4</th>\n",
       "      <td>10159</td>\n",
       "      <td>49</td>\n",
       "      <td>100.00</td>\n",
       "      <td>14</td>\n",
       "      <td>5205.27</td>\n",
       "      <td>2003-10-10</td>\n",
       "      <td>Shipped</td>\n",
       "      <td>4</td>\n",
       "      <td>10</td>\n",
       "      <td>2003</td>\n",
       "      <td>...</td>\n",
       "      <td>7734 Strong St.</td>\n",
       "      <td>NaN</td>\n",
       "      <td>San Francisco</td>\n",
       "      <td>CA</td>\n",
       "      <td>NaN</td>\n",
       "      <td>USA</td>\n",
       "      <td>NaN</td>\n",
       "      <td>Brown</td>\n",
       "      <td>Julie</td>\n",
       "      <td>Medium</td>\n",
       "    </tr>\n",
       "  </tbody>\n",
       "</table>\n",
       "<p>5 rows × 25 columns</p>\n",
       "</div>"
      ],
      "text/plain": [
       "   ORDERNUMBER  QUANTITYORDERED  PRICEEACH  ORDERLINENUMBER    SALES   \n",
       "0        10107               30      95.70                2  2871.00  \\\n",
       "1        10121               34      81.35                5  2765.90   \n",
       "2        10134               41      94.74                2  3884.34   \n",
       "3        10145               45      83.26                6  3746.70   \n",
       "4        10159               49     100.00               14  5205.27   \n",
       "\n",
       "   ORDERDATE   STATUS  QTR_ID  MONTH_ID  YEAR_ID  ...   \n",
       "0 2003-02-24  Shipped       1         2     2003  ...  \\\n",
       "1 2003-05-07  Shipped       2         5     2003  ...   \n",
       "2 2003-07-01  Shipped       3         7     2003  ...   \n",
       "3 2003-08-25  Shipped       3         8     2003  ...   \n",
       "4 2003-10-10  Shipped       4        10     2003  ...   \n",
       "\n",
       "                    ADDRESSLINE1  ADDRESSLINE2           CITY STATE   \n",
       "0        897 Long Airport Avenue           NaN            NYC    NY  \\\n",
       "1             59 rue de l'Abbaye           NaN          Reims   NaN   \n",
       "2  27 rue du Colonel Pierre Avia           NaN          Paris   NaN   \n",
       "3             78934 Hillside Dr.           NaN       Pasadena    CA   \n",
       "4                7734 Strong St.           NaN  San Francisco    CA   \n",
       "\n",
       "  POSTALCODE COUNTRY TERRITORY CONTACTLASTNAME CONTACTFIRSTNAME DEALSIZE  \n",
       "0      10022     USA       NaN              Yu             Kwai    Small  \n",
       "1      51100  France      EMEA         Henriot             Paul    Small  \n",
       "2      75508  France      EMEA        Da Cunha           Daniel   Medium  \n",
       "3      90003     USA       NaN           Young            Julie   Medium  \n",
       "4        NaN     USA       NaN           Brown            Julie   Medium  \n",
       "\n",
       "[5 rows x 25 columns]"
      ]
     },
     "execution_count": 2,
     "metadata": {},
     "output_type": "execute_result"
    }
   ],
   "source": [
    "data_path = os.path.join(os.getcwd(), 'data\\sales_data_sample.csv')\n",
    "sales_data = pd.read_csv(data_path, encoding='iso-8859-1')\n",
    "sales_data['ORDERDATE'] = pd.to_datetime(sales_data['ORDERDATE'])\n",
    "sales_data.head()"
   ]
  },
  {
   "cell_type": "code",
   "execution_count": 3,
   "metadata": {},
   "outputs": [
    {
     "name": "stdout",
     "output_type": "stream",
     "text": [
      "<class 'pandas.core.frame.DataFrame'>\n",
      "RangeIndex: 2823 entries, 0 to 2822\n",
      "Data columns (total 25 columns):\n",
      " #   Column            Non-Null Count  Dtype         \n",
      "---  ------            --------------  -----         \n",
      " 0   ORDERNUMBER       2823 non-null   int64         \n",
      " 1   QUANTITYORDERED   2823 non-null   int64         \n",
      " 2   PRICEEACH         2823 non-null   float64       \n",
      " 3   ORDERLINENUMBER   2823 non-null   int64         \n",
      " 4   SALES             2823 non-null   float64       \n",
      " 5   ORDERDATE         2823 non-null   datetime64[ns]\n",
      " 6   STATUS            2823 non-null   object        \n",
      " 7   QTR_ID            2823 non-null   int64         \n",
      " 8   MONTH_ID          2823 non-null   int64         \n",
      " 9   YEAR_ID           2823 non-null   int64         \n",
      " 10  PRODUCTLINE       2823 non-null   object        \n",
      " 11  MSRP              2823 non-null   int64         \n",
      " 12  PRODUCTCODE       2823 non-null   object        \n",
      " 13  CUSTOMERNAME      2823 non-null   object        \n",
      " 14  PHONE             2823 non-null   object        \n",
      " 15  ADDRESSLINE1      2823 non-null   object        \n",
      " 16  ADDRESSLINE2      302 non-null    object        \n",
      " 17  CITY              2823 non-null   object        \n",
      " 18  STATE             1337 non-null   object        \n",
      " 19  POSTALCODE        2747 non-null   object        \n",
      " 20  COUNTRY           2823 non-null   object        \n",
      " 21  TERRITORY         1749 non-null   object        \n",
      " 22  CONTACTLASTNAME   2823 non-null   object        \n",
      " 23  CONTACTFIRSTNAME  2823 non-null   object        \n",
      " 24  DEALSIZE          2823 non-null   object        \n",
      "dtypes: datetime64[ns](1), float64(2), int64(7), object(15)\n",
      "memory usage: 551.5+ KB\n"
     ]
    }
   ],
   "source": [
    "sales_data.info()"
   ]
  },
  {
   "cell_type": "markdown",
   "metadata": {},
   "source": [
    "As can be seen in the above output the columns: ADDRESSLINE2, STATE, POSTALCODE and TERRITORY have null data, but these columns are not defining for the segmentation of the clusters"
   ]
  },
  {
   "cell_type": "markdown",
   "metadata": {},
   "source": [
    "# Cleanning\n"
   ]
  },
  {
   "cell_type": "markdown",
   "metadata": {},
   "source": [
    "Let's verify if there are duplicated data to remove from the dataset as can be seen in the following output there isn't any data duplicated."
   ]
  },
  {
   "cell_type": "code",
   "execution_count": 4,
   "metadata": {},
   "outputs": [
    {
     "data": {
      "text/plain": [
       "0"
      ]
     },
     "execution_count": 4,
     "metadata": {},
     "output_type": "execute_result"
    }
   ],
   "source": [
    "sales_data.duplicated().sum()"
   ]
  },
  {
   "cell_type": "markdown",
   "metadata": {},
   "source": [
    "As can be seen in the following output, there are 6 possibles states for an order, for the analysis the sales will be filtered to keep only the shipped orders, because  "
   ]
  },
  {
   "cell_type": "code",
   "execution_count": 50,
   "metadata": {},
   "outputs": [
    {
     "data": {
      "text/plain": [
       "array(['Shipped', 'Disputed', 'In Process', 'Cancelled', 'On Hold',\n",
       "       'Resolved'], dtype=object)"
      ]
     },
     "execution_count": 50,
     "metadata": {},
     "output_type": "execute_result"
    }
   ],
   "source": [
    "sales_data[\"STATUS\"].unique()"
   ]
  },
  {
   "cell_type": "markdown",
   "metadata": {},
   "source": [
    "# Exploratory Data Analysis (EDA)"
   ]
  },
  {
   "cell_type": "markdown",
   "metadata": {},
   "source": [
    "# Univariate analysis"
   ]
  },
  {
   "cell_type": "code",
   "execution_count": 5,
   "metadata": {},
   "outputs": [
    {
     "data": {
      "text/plain": [
       "Text(0.5, 1.0, 'Distribution of the price of each solded product')"
      ]
     },
     "execution_count": 5,
     "metadata": {},
     "output_type": "execute_result"
    },
    {
     "data": {
      "image/png": "[encoded data removed]",
      "text/plain": [
       "<Figure size 640x480 with 1 Axes>"
      ]
     },
     "metadata": {},
     "output_type": "display_data"
    }
   ],
   "source": [
    "sns.histplot(data=sales_data, x=\"PRICEEACH\", bins=list(range(10,110,10)))\n",
    "plt.title(\"Distribution of the price of each solded product\")"
   ]
  },
  {
   "cell_type": "code",
   "execution_count": 6,
   "metadata": {},
   "outputs": [
    {
     "data": {
      "image/png": "[encoded data removed]",
      "text/plain": [
       "<Figure size 640x480 with 1 Axes>"
      ]
     },
     "metadata": {},
     "output_type": "display_data"
    }
   ],
   "source": [
    "sns.histplot(data=sales_data, x=\"DEALSIZE\")\n",
    "plt.title(\"Distribution of the DEALSIZE\")\n",
    "plt.show()"
   ]
  },
  {
   "cell_type": "code",
   "execution_count": 7,
   "metadata": {},
   "outputs": [
    {
     "data": {
      "image/png": "[encoded data removed]",
      "text/plain": [
       "<Figure size 640x480 with 1 Axes>"
      ]
     },
     "metadata": {},
     "output_type": "display_data"
    }
   ],
   "source": [
    "sns.histplot(data=sales_data, x=\"PRODUCTLINE\")\n",
    "plt.title(\"Distribution of purchased products\")\n",
    "plt.xticks(rotation=45, fontsize=10)\n",
    "plt.show()"
   ]
  },
  {
   "cell_type": "code",
   "execution_count": 48,
   "metadata": {},
   "outputs": [
    {
     "data": {
      "application/vnd.plotly.v1+json": {
       "config": {
        "plotlyServerURL": "https://plot.ly"
       },
       "data": [
        {
         "coloraxis": "coloraxis",
         "geo": "geo",
         "hovertemplate": "<b>%{hovertext}</b><br><br>COUNTRY=%{location}<br>ORDERSCOUNTS=%{z}<extra></extra>",
         "hovertext": [
          "Australia",
          "Austria",
          "Belgium",
          "Canada",
          "Denmark",
          "Finland",
          "France",
          "Germany",
          "Ireland",
          "Italy",
          "Japan",
          "Norway",
          "Philippines",
          "Singapore",
          "Spain",
          "Sweden",
          "Switzerland",
          "UK",
          "USA"
         ],
         "locationmode": "country names",
         "locations": [
          "Australia",
          "Austria",
          "Belgium",
          "Canada",
          "Denmark",
          "Finland",
          "France",
          "Germany",
          "Ireland",
          "Italy",
          "Japan",
          "Norway",
          "Philippines",
          "Singapore",
          "Spain",
          "Sweden",
          "Switzerland",
          "UK",
          "USA"
         ],
         "name": "",
         "type": "choropleth",
         "z": [
          185,
          55,
          33,
          70,
          63,
          92,
          314,
          62,
          16,
          113,
          52,
          85,
          26,
          79,
          342,
          57,
          31,
          144,
          1004
         ]
        }
       ],
       "layout": {
        "coloraxis": {
         "colorbar": {
          "title": {
           "text": "ORDERSCOUNTS"
          }
         },
         "colorscale": [
          [
           0,
           "#0d0887"
          ],
          [
           0.1111111111111111,
           "#46039f"
          ],
          [
           0.2222222222222222,
           "#7201a8"
          ],
          [
           0.3333333333333333,
           "#9c179e"
          ],
          [
           0.4444444444444444,
           "#bd3786"
          ],
          [
           0.5555555555555556,
           "#d8576b"
          ],
          [
           0.6666666666666666,
           "#ed7953"
          ],
          [
           0.7777777777777778,
           "#fb9f3a"
          ],
          [
           0.8888888888888888,
           "#fdca26"
          ],
          [
           1,
           "#f0f921"
          ]
         ]
        },
        "geo": {
         "center": {},
         "domain": {
          "x": [
           0,
           1
          ],
          "y": [
           0,
           1
          ]
         },
         "projection": {
          "type": "natural earth"
         }
        },
        "legend": {
         "tracegroupgap": 0
        },
        "template": {
         "data": {
          "bar": [
           {
            "error_x": {
             "color": "#2a3f5f"
            },
            "error_y": {
             "color": "#2a3f5f"
            },
            "marker": {
             "line": {
              "color": "#E5ECF6",
              "width": 0.5
             },
             "pattern": {
              "fillmode": "overlay",
              "size": 10,
              "solidity": 0.2
             }
            },
            "type": "bar"
           }
          ],
          "barpolar": [
           {
            "marker": {
             "line": {
              "color": "#E5ECF6",
              "width": 0.5
             },
             "pattern": {
              "fillmode": "overlay",
              "size": 10,
              "solidity": 0.2
             }
            },
            "type": "barpolar"
           }
          ],
          "carpet": [
           {
            "aaxis": {
             "endlinecolor": "#2a3f5f",
             "gridcolor": "white",
             "linecolor": "white",
             "minorgridcolor": "white",
             "startlinecolor": "#2a3f5f"
            },
            "baxis": {
             "endlinecolor": "#2a3f5f",
             "gridcolor": "white",
             "linecolor": "white",
             "minorgridcolor": "white",
             "startlinecolor": "#2a3f5f"
            },
            "type": "carpet"
           }
          ],
          "choropleth": [
           {
            "colorbar": {
             "outlinewidth": 0,
             "ticks": ""
            },
            "type": "choropleth"
           }
          ],
          "contour": [
           {
            "colorbar": {
             "outlinewidth": 0,
             "ticks": ""
            },
            "colorscale": [
             [
              0,
              "#0d0887"
             ],
             [
              0.1111111111111111,
              "#46039f"
             ],
             [
              0.2222222222222222,
              "#7201a8"
             ],
             [
              0.3333333333333333,
              "#9c179e"
             ],
             [
              0.4444444444444444,
              "#bd3786"
             ],
             [
              0.5555555555555556,
              "#d8576b"
             ],
             [
              0.6666666666666666,
              "#ed7953"
             ],
             [
              0.7777777777777778,
              "#fb9f3a"
             ],
             [
              0.8888888888888888,
              "#fdca26"
             ],
             [
              1,
              "#f0f921"
             ]
            ],
            "type": "contour"
           }
          ],
          "contourcarpet": [
           {
            "colorbar": {
             "outlinewidth": 0,
             "ticks": ""
            },
            "type": "contourcarpet"
           }
          ],
          "heatmap": [
           {
            "colorbar": {
             "outlinewidth": 0,
             "ticks": ""
            },
            "colorscale": [
             [
              0,
              "#0d0887"
             ],
             [
              0.1111111111111111,
              "#46039f"
             ],
             [
              0.2222222222222222,
              "#7201a8"
             ],
             [
              0.3333333333333333,
              "#9c179e"
             ],
             [
              0.4444444444444444,
              "#bd3786"
             ],
             [
              0.5555555555555556,
              "#d8576b"
             ],
             [
              0.6666666666666666,
              "#ed7953"
             ],
             [
              0.7777777777777778,
              "#fb9f3a"
             ],
             [
              0.8888888888888888,
              "#fdca26"
             ],
             [
              1,
              "#f0f921"
             ]
            ],
            "type": "heatmap"
           }
          ],
          "heatmapgl": [
           {
            "colorbar": {
             "outlinewidth": 0,
             "ticks": ""
            },
            "colorscale": [
             [
              0,
              "#0d0887"
             ],
             [
              0.1111111111111111,
              "#46039f"
             ],
             [
              0.2222222222222222,
              "#7201a8"
             ],
             [
              0.3333333333333333,
              "#9c179e"
             ],
             [
              0.4444444444444444,
              "#bd3786"
             ],
             [
              0.5555555555555556,
              "#d8576b"
             ],
             [
              0.6666666666666666,
              "#ed7953"
             ],
             [
              0.7777777777777778,
              "#fb9f3a"
             ],
             [
              0.8888888888888888,
              "#fdca26"
             ],
             [
              1,
              "#f0f921"
             ]
            ],
            "type": "heatmapgl"
           }
          ],
          "histogram": [
           {
            "marker": {
             "pattern": {
              "fillmode": "overlay",
              "size": 10,
              "solidity": 0.2
             }
            },
            "type": "histogram"
           }
          ],
          "histogram2d": [
           {
            "colorbar": {
             "outlinewidth": 0,
             "ticks": ""
            },
            "colorscale": [
             [
              0,
              "#0d0887"
             ],
             [
              0.1111111111111111,
              "#46039f"
             ],
             [
              0.2222222222222222,
              "#7201a8"
             ],
             [
              0.3333333333333333,
              "#9c179e"
             ],
             [
              0.4444444444444444,
              "#bd3786"
             ],
             [
              0.5555555555555556,
              "#d8576b"
             ],
             [
              0.6666666666666666,
              "#ed7953"
             ],
             [
              0.7777777777777778,
              "#fb9f3a"
             ],
             [
              0.8888888888888888,
              "#fdca26"
             ],
             [
              1,
              "#f0f921"
             ]
            ],
            "type": "histogram2d"
           }
          ],
          "histogram2dcontour": [
           {
            "colorbar": {
             "outlinewidth": 0,
             "ticks": ""
            },
            "colorscale": [
             [
              0,
              "#0d0887"
             ],
             [
              0.1111111111111111,
              "#46039f"
             ],
             [
              0.2222222222222222,
              "#7201a8"
             ],
             [
              0.3333333333333333,
              "#9c179e"
             ],
             [
              0.4444444444444444,
              "#bd3786"
             ],
             [
              0.5555555555555556,
              "#d8576b"
             ],
             [
              0.6666666666666666,
              "#ed7953"
             ],
             [
              0.7777777777777778,
              "#fb9f3a"
             ],
             [
              0.8888888888888888,
              "#fdca26"
             ],
             [
              1,
              "#f0f921"
             ]
            ],
            "type": "histogram2dcontour"
           }
          ],
          "mesh3d": [
           {
            "colorbar": {
             "outlinewidth": 0,
             "ticks": ""
            },
            "type": "mesh3d"
           }
          ],
          "parcoords": [
           {
            "line": {
             "colorbar": {
              "outlinewidth": 0,
              "ticks": ""
             }
            },
            "type": "parcoords"
           }
          ],
          "pie": [
           {
            "automargin": true,
            "type": "pie"
           }
          ],
          "scatter": [
           {
            "fillpattern": {
             "fillmode": "overlay",
             "size": 10,
             "solidity": 0.2
            },
            "type": "scatter"
           }
          ],
          "scatter3d": [
           {
            "line": {
             "colorbar": {
              "outlinewidth": 0,
              "ticks": ""
             }
            },
            "marker": {
             "colorbar": {
              "outlinewidth": 0,
              "ticks": ""
             }
            },
            "type": "scatter3d"
           }
          ],
          "scattercarpet": [
           {
            "marker": {
             "colorbar": {
              "outlinewidth": 0,
              "ticks": ""
             }
            },
            "type": "scattercarpet"
           }
          ],
          "scattergeo": [
           {
            "marker": {
             "colorbar": {
              "outlinewidth": 0,
              "ticks": ""
             }
            },
            "type": "scattergeo"
           }
          ],
          "scattergl": [
           {
            "marker": {
             "colorbar": {
              "outlinewidth": 0,
              "ticks": ""
             }
            },
            "type": "scattergl"
           }
          ],
          "scattermapbox": [
           {
            "marker": {
             "colorbar": {
              "outlinewidth": 0,
              "ticks": ""
             }
            },
            "type": "scattermapbox"
           }
          ],
          "scatterpolar": [
           {
            "marker": {
             "colorbar": {
              "outlinewidth": 0,
              "ticks": ""
             }
            },
            "type": "scatterpolar"
           }
          ],
          "scatterpolargl": [
           {
            "marker": {
             "colorbar": {
              "outlinewidth": 0,
              "ticks": ""
             }
            },
            "type": "scatterpolargl"
           }
          ],
          "scatterternary": [
           {
            "marker": {
             "colorbar": {
              "outlinewidth": 0,
              "ticks": ""
             }
            },
            "type": "scatterternary"
           }
          ],
          "surface": [
           {
            "colorbar": {
             "outlinewidth": 0,
             "ticks": ""
            },
            "colorscale": [
             [
              0,
              "#0d0887"
             ],
             [
              0.1111111111111111,
              "#46039f"
             ],
             [
              0.2222222222222222,
              "#7201a8"
             ],
             [
              0.3333333333333333,
              "#9c179e"
             ],
             [
              0.4444444444444444,
              "#bd3786"
             ],
             [
              0.5555555555555556,
              "#d8576b"
             ],
             [
              0.6666666666666666,
              "#ed7953"
             ],
             [
              0.7777777777777778,
              "#fb9f3a"
             ],
             [
              0.8888888888888888,
              "#fdca26"
             ],
             [
              1,
              "#f0f921"
             ]
            ],
            "type": "surface"
           }
          ],
          "table": [
           {
            "cells": {
             "fill": {
              "color": "#EBF0F8"
             },
             "line": {
              "color": "white"
             }
            },
            "header": {
             "fill": {
              "color": "#C8D4E3"
             },
             "line": {
              "color": "white"
             }
            },
            "type": "table"
           }
          ]
         },
         "layout": {
          "annotationdefaults": {
           "arrowcolor": "#2a3f5f",
           "arrowhead": 0,
           "arrowwidth": 1
          },
          "autotypenumbers": "strict",
          "coloraxis": {
           "colorbar": {
            "outlinewidth": 0,
            "ticks": ""
           }
          },
          "colorscale": {
           "diverging": [
            [
             0,
             "#8e0152"
            ],
            [
             0.1,
             "#c51b7d"
            ],
            [
             0.2,
             "#de77ae"
            ],
            [
             0.3,
             "#f1b6da"
            ],
            [
             0.4,
             "#fde0ef"
            ],
            [
             0.5,
             "#f7f7f7"
            ],
            [
             0.6,
             "#e6f5d0"
            ],
            [
             0.7,
             "#b8e186"
            ],
            [
             0.8,
             "#7fbc41"
            ],
            [
             0.9,
             "#4d9221"
            ],
            [
             1,
             "#276419"
            ]
           ],
           "sequential": [
            [
             0,
             "#0d0887"
            ],
            [
             0.1111111111111111,
             "#46039f"
            ],
            [
             0.2222222222222222,
             "#7201a8"
            ],
            [
             0.3333333333333333,
             "#9c179e"
            ],
            [
             0.4444444444444444,
             "#bd3786"
            ],
            [
             0.5555555555555556,
             "#d8576b"
            ],
            [
             0.6666666666666666,
             "#ed7953"
            ],
            [
             0.7777777777777778,
             "#fb9f3a"
            ],
            [
             0.8888888888888888,
             "#fdca26"
            ],
            [
             1,
             "#f0f921"
            ]
           ],
           "sequentialminus": [
            [
             0,
             "#0d0887"
            ],
            [
             0.1111111111111111,
             "#46039f"
            ],
            [
             0.2222222222222222,
             "#7201a8"
            ],
            [
             0.3333333333333333,
             "#9c179e"
            ],
            [
             0.4444444444444444,
             "#bd3786"
            ],
            [
             0.5555555555555556,
             "#d8576b"
            ],
            [
             0.6666666666666666,
             "#ed7953"
            ],
            [
             0.7777777777777778,
             "#fb9f3a"
            ],
            [
             0.8888888888888888,
             "#fdca26"
            ],
            [
             1,
             "#f0f921"
            ]
           ]
          },
          "colorway": [
           "#636efa",
           "#EF553B",
           "#00cc96",
           "#ab63fa",
           "#FFA15A",
           "#19d3f3",
           "#FF6692",
           "#B6E880",
           "#FF97FF",
           "#FECB52"
          ],
          "font": {
           "color": "#2a3f5f"
          },
          "geo": {
           "bgcolor": "white",
           "lakecolor": "white",
           "landcolor": "#E5ECF6",
           "showlakes": true,
           "showland": true,
           "subunitcolor": "white"
          },
          "hoverlabel": {
           "align": "left"
          },
          "hovermode": "closest",
          "mapbox": {
           "style": "light"
          },
          "paper_bgcolor": "white",
          "plot_bgcolor": "#E5ECF6",
          "polar": {
           "angularaxis": {
            "gridcolor": "white",
            "linecolor": "white",
            "ticks": ""
           },
           "bgcolor": "#E5ECF6",
           "radialaxis": {
            "gridcolor": "white",
            "linecolor": "white",
            "ticks": ""
           }
          },
          "scene": {
           "xaxis": {
            "backgroundcolor": "#E5ECF6",
            "gridcolor": "white",
            "gridwidth": 2,
            "linecolor": "white",
            "showbackground": true,
            "ticks": "",
            "zerolinecolor": "white"
           },
           "yaxis": {
            "backgroundcolor": "#E5ECF6",
            "gridcolor": "white",
            "gridwidth": 2,
            "linecolor": "white",
            "showbackground": true,
            "ticks": "",
            "zerolinecolor": "white"
           },
           "zaxis": {
            "backgroundcolor": "#E5ECF6",
            "gridcolor": "white",
            "gridwidth": 2,
            "linecolor": "white",
            "showbackground": true,
            "ticks": "",
            "zerolinecolor": "white"
           }
          },
          "shapedefaults": {
           "line": {
            "color": "#2a3f5f"
           }
          },
          "ternary": {
           "aaxis": {
            "gridcolor": "white",
            "linecolor": "white",
            "ticks": ""
           },
           "baxis": {
            "gridcolor": "white",
            "linecolor": "white",
            "ticks": ""
           },
           "bgcolor": "#E5ECF6",
           "caxis": {
            "gridcolor": "white",
            "linecolor": "white",
            "ticks": ""
           }
          },
          "title": {
           "x": 0.05
          },
          "xaxis": {
           "automargin": true,
           "gridcolor": "white",
           "linecolor": "white",
           "ticks": "",
           "title": {
            "standoff": 15
           },
           "zerolinecolor": "white",
           "zerolinewidth": 2
          },
          "yaxis": {
           "automargin": true,
           "gridcolor": "white",
           "linecolor": "white",
           "ticks": "",
           "title": {
            "standoff": 15
           },
           "zerolinecolor": "white",
           "zerolinewidth": 2
          }
         }
        },
        "title": {
         "text": "Total Order Counts by Country"
        }
       }
      }
     },
     "metadata": {},
     "output_type": "display_data"
    }
   ],
   "source": [
    "# Create basic choropleth map\n",
    "# Aggregate the data by country\n",
    "grouped_data = sales_data[[\"ORDERNUMBER\", \"COUNTRY\"]].groupby('COUNTRY').count().reset_index()\n",
    "grouped_data.rename(columns={\"ORDERNUMBER\": \"ORDERSCOUNTS\"}, inplace=True)\n",
    "grouped_data\n",
    "# Create the choropleth map\n",
    "fig = px.choropleth(grouped_data, locations='COUNTRY', color='ORDERSCOUNTS',\n",
    "                    locationmode=\"country names\",\n",
    "                    hover_name='COUNTRY', projection='natural earth',\n",
    "                    title='Total Order Counts by Country')\n",
    "fig.show()\n"
   ]
  },
  {
   "cell_type": "code",
   "execution_count": 49,
   "metadata": {},
   "outputs": [
    {
     "data": {
      "image/png": "[encoded data removed]",
      "text/plain": [
       "<Figure size 640x480 with 1 Axes>"
      ]
     },
     "metadata": {},
     "output_type": "display_data"
    }
   ],
   "source": [
    "sns.histplot(data=sales_data, x=\"COUNTRY\")\n",
    "plt.title(\"Distribution of the country of each customer\")\n",
    "plt.xticks(rotation=90, fontsize=6)\n",
    "plt.show()"
   ]
  },
  {
   "cell_type": "code",
   "execution_count": 10,
   "metadata": {},
   "outputs": [
    {
     "data": {
      "image/png": "[encoded data removed]",
      "text/plain": [
       "<Figure size 640x480 with 1 Axes>"
      ]
     },
     "metadata": {},
     "output_type": "display_data"
    }
   ],
   "source": [
    "sns.histplot(data=sales_data, x=\"CITY\")\n",
    "plt.title(\"Distribution of the city of each customer\")\n",
    "plt.xticks(rotation=90, fontsize=6)\n",
    "plt.show()"
   ]
  },
  {
   "cell_type": "markdown",
   "metadata": {},
   "source": [
    "# Creating the Customer DataFrame \n",
    "The following code uses the `groupby()` method from the `pandas` library to group the `data` DataFrame by `CUSTOMERNAME`, and then applies an aggregation function to each group to create a new DataFrame called `customer_df`, this df contains information of interest of each customer\n",
    "\n",
    "The aggregation function uses a dictionary to specify the columns to include in `customer_df` and the corresponding function to apply to each column. In this case, the function used for each column is a lambda function that extracts the first value of the column (using the `to_list()` method) or the unique values of the `PRODUCTLINE` column (using the `unique()` method).\n",
    "\n",
    "Here's the resulting DataFrame:\n",
    "\n",
    "```python\n",
    "customer_df"
   ]
  },
  {
   "cell_type": "code",
   "execution_count": 11,
   "metadata": {},
   "outputs": [
    {
     "data": {
      "text/html": [
       "<div>\n",
       "<style scoped>\n",
       "    .dataframe tbody tr th:only-of-type {\n",
       "        vertical-align: middle;\n",
       "    }\n",
       "\n",
       "    .dataframe tbody tr th {\n",
       "        vertical-align: top;\n",
       "    }\n",
       "\n",
       "    .dataframe thead th {\n",
       "        text-align: right;\n",
       "    }\n",
       "</style>\n",
       "<table border=\"1\" class=\"dataframe\">\n",
       "  <thead>\n",
       "    <tr style=\"text-align: right;\">\n",
       "      <th></th>\n",
       "      <th>COUNTRY</th>\n",
       "      <th>CITY</th>\n",
       "      <th>PHONE</th>\n",
       "      <th>CONTACTLASTNAME</th>\n",
       "      <th>CONTACTFIRSTNAME</th>\n",
       "    </tr>\n",
       "    <tr>\n",
       "      <th>CUSTOMERNAME</th>\n",
       "      <th></th>\n",
       "      <th></th>\n",
       "      <th></th>\n",
       "      <th></th>\n",
       "      <th></th>\n",
       "    </tr>\n",
       "  </thead>\n",
       "  <tbody>\n",
       "    <tr>\n",
       "      <th>AV Stores, Co.</th>\n",
       "      <td>UK</td>\n",
       "      <td>Manchester</td>\n",
       "      <td>(171) 555-1555</td>\n",
       "      <td>Ashworth</td>\n",
       "      <td>Victoria</td>\n",
       "    </tr>\n",
       "    <tr>\n",
       "      <th>Alpha Cognac</th>\n",
       "      <td>France</td>\n",
       "      <td>Toulouse</td>\n",
       "      <td>61.77.6555</td>\n",
       "      <td>Roulet</td>\n",
       "      <td>Annette</td>\n",
       "    </tr>\n",
       "    <tr>\n",
       "      <th>Amica Models &amp; Co.</th>\n",
       "      <td>Italy</td>\n",
       "      <td>Torino</td>\n",
       "      <td>011-4988555</td>\n",
       "      <td>Accorti</td>\n",
       "      <td>Paolo</td>\n",
       "    </tr>\n",
       "    <tr>\n",
       "      <th>Anna's Decorations, Ltd</th>\n",
       "      <td>Australia</td>\n",
       "      <td>North Sydney</td>\n",
       "      <td>02 9936 8555</td>\n",
       "      <td>O'Hara</td>\n",
       "      <td>Anna</td>\n",
       "    </tr>\n",
       "    <tr>\n",
       "      <th>Atelier graphique</th>\n",
       "      <td>France</td>\n",
       "      <td>Nantes</td>\n",
       "      <td>40.32.2555</td>\n",
       "      <td>Schmitt</td>\n",
       "      <td>Carine</td>\n",
       "    </tr>\n",
       "    <tr>\n",
       "      <th>...</th>\n",
       "      <td>...</td>\n",
       "      <td>...</td>\n",
       "      <td>...</td>\n",
       "      <td>...</td>\n",
       "      <td>...</td>\n",
       "    </tr>\n",
       "    <tr>\n",
       "      <th>Vida Sport, Ltd</th>\n",
       "      <td>Switzerland</td>\n",
       "      <td>Gensve</td>\n",
       "      <td>0897-034555</td>\n",
       "      <td>Holz</td>\n",
       "      <td>Michael</td>\n",
       "    </tr>\n",
       "    <tr>\n",
       "      <th>Vitachrome Inc.</th>\n",
       "      <td>USA</td>\n",
       "      <td>NYC</td>\n",
       "      <td>2125551500</td>\n",
       "      <td>Frick</td>\n",
       "      <td>Michael</td>\n",
       "    </tr>\n",
       "    <tr>\n",
       "      <th>Volvo Model Replicas, Co</th>\n",
       "      <td>Sweden</td>\n",
       "      <td>Lule</td>\n",
       "      <td>0921-12 3555</td>\n",
       "      <td>Berglund</td>\n",
       "      <td>Christina</td>\n",
       "    </tr>\n",
       "    <tr>\n",
       "      <th>West Coast Collectables Co.</th>\n",
       "      <td>USA</td>\n",
       "      <td>Burbank</td>\n",
       "      <td>3105553722</td>\n",
       "      <td>Thompson</td>\n",
       "      <td>Steve</td>\n",
       "    </tr>\n",
       "    <tr>\n",
       "      <th>giftsbymail.co.uk</th>\n",
       "      <td>UK</td>\n",
       "      <td>Cowes</td>\n",
       "      <td>(198) 555-8888</td>\n",
       "      <td>Bennett</td>\n",
       "      <td>Helen</td>\n",
       "    </tr>\n",
       "  </tbody>\n",
       "</table>\n",
       "<p>92 rows × 5 columns</p>\n",
       "</div>"
      ],
      "text/plain": [
       "                                 COUNTRY          CITY           PHONE   \n",
       "CUSTOMERNAME                                                             \n",
       "AV Stores, Co.                        UK    Manchester  (171) 555-1555  \\\n",
       "Alpha Cognac                      France      Toulouse      61.77.6555   \n",
       "Amica Models & Co.                 Italy        Torino     011-4988555   \n",
       "Anna's Decorations, Ltd        Australia  North Sydney    02 9936 8555   \n",
       "Atelier graphique                 France        Nantes      40.32.2555   \n",
       "...                                  ...           ...             ...   \n",
       "Vida Sport, Ltd              Switzerland        Gensve     0897-034555   \n",
       "Vitachrome Inc.                      USA           NYC      2125551500   \n",
       "Volvo Model Replicas, Co          Sweden          Lule    0921-12 3555   \n",
       "West Coast Collectables Co.          USA       Burbank      3105553722   \n",
       "giftsbymail.co.uk                     UK         Cowes  (198) 555-8888   \n",
       "\n",
       "                            CONTACTLASTNAME CONTACTFIRSTNAME  \n",
       "CUSTOMERNAME                                                  \n",
       "AV Stores, Co.                     Ashworth         Victoria  \n",
       "Alpha Cognac                         Roulet          Annette  \n",
       "Amica Models & Co.                  Accorti            Paolo  \n",
       "Anna's Decorations, Ltd              O'Hara             Anna  \n",
       "Atelier graphique                   Schmitt           Carine  \n",
       "...                                     ...              ...  \n",
       "Vida Sport, Ltd                        Holz          Michael  \n",
       "Vitachrome Inc.                       Frick          Michael  \n",
       "Volvo Model Replicas, Co           Berglund        Christina  \n",
       "West Coast Collectables Co.        Thompson            Steve  \n",
       "giftsbymail.co.uk                   Bennett            Helen  \n",
       "\n",
       "[92 rows x 5 columns]"
      ]
     },
     "execution_count": 11,
     "metadata": {},
     "output_type": "execute_result"
    }
   ],
   "source": [
    "customer_df = sales_data.groupby(by='CUSTOMERNAME').agg({\"COUNTRY\": lambda var: var.to_list()[0],\n",
    "                                                   \"CITY\": lambda var: var.to_list()[0],\n",
    "                                                   \"PHONE\": lambda var: var.to_list()[0],\n",
    "                                                   \"CONTACTLASTNAME\": lambda var: var.to_list()[0],\n",
    "                                                   \"CONTACTFIRSTNAME\": lambda var: var.to_list()[0],\n",
    "                                                #    \"PRODUCTLINE\": lambda var: var.unique()\n",
    "                                                  })\n",
    "\n",
    "customer_df"
   ]
  },
  {
   "cell_type": "markdown",
   "metadata": {},
   "source": [
    "# Creating the Product Line DataFrame\n",
    "\n",
    "The Product Line DataFrame provides information on how many vehicles of each type each customer has purchased\n",
    "\n",
    "The following code creates a new DataFrame called `product_line_df` using the `pd.DataFrame()` constructor from the `pandas` library. The DataFrame has the same index as `customer_df` (i.e., the unique customer names) and the columns are the unique values of the `PRODUCTLINE` column in the `data` DataFrame. This df provides information on how many vehicles of each type each customer has purchased\n",
    "\n",
    "The code then groups the `data` DataFrame by `CUSTOMERNAME` using the `groupby()` method and iterates over each group. For each group, another for loop iterates over the columns of `product_line_df` and calculates the sum of the `QUANTITYORDERED` values for the corresponding product and customer. The result is stored in the corresponding cell of `product_line_df`.\n",
    "\n",
    "Finally, the resulting DataFrame provides information on how many vehicles of each type each customer has purchased"
   ]
  },
  {
   "cell_type": "code",
   "execution_count": 12,
   "metadata": {},
   "outputs": [
    {
     "data": {
      "text/html": [
       "<div>\n",
       "<style scoped>\n",
       "    .dataframe tbody tr th:only-of-type {\n",
       "        vertical-align: middle;\n",
       "    }\n",
       "\n",
       "    .dataframe tbody tr th {\n",
       "        vertical-align: top;\n",
       "    }\n",
       "\n",
       "    .dataframe thead th {\n",
       "        text-align: right;\n",
       "    }\n",
       "</style>\n",
       "<table border=\"1\" class=\"dataframe\">\n",
       "  <thead>\n",
       "    <tr style=\"text-align: right;\">\n",
       "      <th></th>\n",
       "      <th>Motorcycles</th>\n",
       "      <th>Classic Cars</th>\n",
       "      <th>Trucks and Buses</th>\n",
       "      <th>Vintage Cars</th>\n",
       "      <th>Planes</th>\n",
       "      <th>Ships</th>\n",
       "      <th>Trains</th>\n",
       "    </tr>\n",
       "    <tr>\n",
       "      <th>CUSTOMERNAME</th>\n",
       "      <th></th>\n",
       "      <th></th>\n",
       "      <th></th>\n",
       "      <th></th>\n",
       "      <th></th>\n",
       "      <th></th>\n",
       "      <th></th>\n",
       "    </tr>\n",
       "  </thead>\n",
       "  <tbody>\n",
       "    <tr>\n",
       "      <th>AV Stores, Co.</th>\n",
       "      <td>0</td>\n",
       "      <td>628</td>\n",
       "      <td>0</td>\n",
       "      <td>773</td>\n",
       "      <td>0</td>\n",
       "      <td>257</td>\n",
       "      <td>120</td>\n",
       "    </tr>\n",
       "    <tr>\n",
       "      <th>Alpha Cognac</th>\n",
       "      <td>0</td>\n",
       "      <td>126</td>\n",
       "      <td>0</td>\n",
       "      <td>96</td>\n",
       "      <td>218</td>\n",
       "      <td>247</td>\n",
       "      <td>0</td>\n",
       "    </tr>\n",
       "    <tr>\n",
       "      <th>Amica Models &amp; Co.</th>\n",
       "      <td>0</td>\n",
       "      <td>149</td>\n",
       "      <td>24</td>\n",
       "      <td>566</td>\n",
       "      <td>0</td>\n",
       "      <td>82</td>\n",
       "      <td>22</td>\n",
       "    </tr>\n",
       "    <tr>\n",
       "      <th>Anna's Decorations, Ltd</th>\n",
       "      <td>219</td>\n",
       "      <td>744</td>\n",
       "      <td>286</td>\n",
       "      <td>220</td>\n",
       "      <td>0</td>\n",
       "      <td>0</td>\n",
       "      <td>0</td>\n",
       "    </tr>\n",
       "    <tr>\n",
       "      <th>Atelier graphique</th>\n",
       "      <td>71</td>\n",
       "      <td>156</td>\n",
       "      <td>0</td>\n",
       "      <td>43</td>\n",
       "      <td>0</td>\n",
       "      <td>0</td>\n",
       "      <td>0</td>\n",
       "    </tr>\n",
       "    <tr>\n",
       "      <th>...</th>\n",
       "      <td>...</td>\n",
       "      <td>...</td>\n",
       "      <td>...</td>\n",
       "      <td>...</td>\n",
       "      <td>...</td>\n",
       "      <td>...</td>\n",
       "      <td>...</td>\n",
       "    </tr>\n",
       "    <tr>\n",
       "      <th>Vida Sport, Ltd</th>\n",
       "      <td>0</td>\n",
       "      <td>1078</td>\n",
       "      <td>0</td>\n",
       "      <td>0</td>\n",
       "      <td>0</td>\n",
       "      <td>0</td>\n",
       "      <td>0</td>\n",
       "    </tr>\n",
       "    <tr>\n",
       "      <th>Vitachrome Inc.</th>\n",
       "      <td>239</td>\n",
       "      <td>239</td>\n",
       "      <td>158</td>\n",
       "      <td>151</td>\n",
       "      <td>0</td>\n",
       "      <td>0</td>\n",
       "      <td>0</td>\n",
       "    </tr>\n",
       "    <tr>\n",
       "      <th>Volvo Model Replicas, Co</th>\n",
       "      <td>0</td>\n",
       "      <td>230</td>\n",
       "      <td>171</td>\n",
       "      <td>134</td>\n",
       "      <td>0</td>\n",
       "      <td>80</td>\n",
       "      <td>32</td>\n",
       "    </tr>\n",
       "    <tr>\n",
       "      <th>West Coast Collectables Co.</th>\n",
       "      <td>0</td>\n",
       "      <td>35</td>\n",
       "      <td>46</td>\n",
       "      <td>344</td>\n",
       "      <td>86</td>\n",
       "      <td>0</td>\n",
       "      <td>0</td>\n",
       "    </tr>\n",
       "    <tr>\n",
       "      <th>giftsbymail.co.uk</th>\n",
       "      <td>0</td>\n",
       "      <td>33</td>\n",
       "      <td>0</td>\n",
       "      <td>222</td>\n",
       "      <td>299</td>\n",
       "      <td>293</td>\n",
       "      <td>48</td>\n",
       "    </tr>\n",
       "  </tbody>\n",
       "</table>\n",
       "<p>92 rows × 7 columns</p>\n",
       "</div>"
      ],
      "text/plain": [
       "                            Motorcycles Classic Cars Trucks and Buses   \n",
       "CUSTOMERNAME                                                            \n",
       "AV Stores, Co.                        0          628                0  \\\n",
       "Alpha Cognac                          0          126                0   \n",
       "Amica Models & Co.                    0          149               24   \n",
       "Anna's Decorations, Ltd             219          744              286   \n",
       "Atelier graphique                    71          156                0   \n",
       "...                                 ...          ...              ...   \n",
       "Vida Sport, Ltd                       0         1078                0   \n",
       "Vitachrome Inc.                     239          239              158   \n",
       "Volvo Model Replicas, Co              0          230              171   \n",
       "West Coast Collectables Co.           0           35               46   \n",
       "giftsbymail.co.uk                     0           33                0   \n",
       "\n",
       "                            Vintage Cars Planes Ships Trains  \n",
       "CUSTOMERNAME                                                  \n",
       "AV Stores, Co.                       773      0   257    120  \n",
       "Alpha Cognac                          96    218   247      0  \n",
       "Amica Models & Co.                   566      0    82     22  \n",
       "Anna's Decorations, Ltd              220      0     0      0  \n",
       "Atelier graphique                     43      0     0      0  \n",
       "...                                  ...    ...   ...    ...  \n",
       "Vida Sport, Ltd                        0      0     0      0  \n",
       "Vitachrome Inc.                      151      0     0      0  \n",
       "Volvo Model Replicas, Co             134      0    80     32  \n",
       "West Coast Collectables Co.          344     86     0      0  \n",
       "giftsbymail.co.uk                    222    299   293     48  \n",
       "\n",
       "[92 rows x 7 columns]"
      ]
     },
     "execution_count": 12,
     "metadata": {},
     "output_type": "execute_result"
    }
   ],
   "source": [
    "product_line_df = pd.DataFrame(index=customer_df.index, columns=sales_data[\"PRODUCTLINE\"].unique())\n",
    "\n",
    "customer_group = sales_data.groupby(by='CUSTOMERNAME')\n",
    "\n",
    "for customer_name, columns in customer_group:\n",
    "    for product in product_line_df.columns.values:\n",
    "        product_line_df.loc[customer_name, product] = columns[columns[\"PRODUCTLINE\"] == product][\"QUANTITYORDERED\"].sum()\n",
    "        \n",
    "product_line_df\n"
   ]
  },
  {
   "cell_type": "markdown",
   "metadata": {},
   "source": [
    "# RFM Analysis"
   ]
  },
  {
   "cell_type": "markdown",
   "metadata": {},
   "source": [
    "As the data is very old, the RFM analysis will work under the assumption that the current date is the date on which the last sale was made, so the actual year is 2005 and the last year for the frequency and monetary characteristics is 2004.\n",
    "The following code is computing the recency, frequency, and monetary value for each customer using the following steps:\n",
    "\n",
    "1. The `last_order_date` variable is set to the maximum value of the `ORDERDATE` column in the `data` DataFrame, which represents the date of the last order in the dataset.\n",
    "\n",
    "2. The `current_date` variable is set to the same value as `last_order_date`, which assumes that the current date is the date on which the last sale was made.\n",
    "\n",
    "3. The `last_year` variable is calculated as one year ago from the `current_date`, which is used to filter the data for the last year of sales in the dataset.\n",
    "\n",
    "4. Three new columns are created in the `data` DataFrame: `RECENCY_days`, `FREQUENCY_last_year`, and `MONETARY_last_year`. These columns will be used to store the recency, frequency, and monetary value for each customer, respectively.\n",
    "\n",
    "5. The `recency_quantity` variable is created by grouping the `data` DataFrame by `CUSTOMERNAME` and applying a lambda function to the `ORDERDATE` column that calculates the number of days between the `current_date` and the maximum order date for each customer(this says how long it has been since the customer placed their last order). This results in a DataFrame that contains the recency value for each customer.\n",
    "\n",
    "6. The `frecuency_monetary_ordered_last_year` variable is created by filtering the `data` DataFrame to include only the rows where the `ORDERDATE` is greater than or equal to `last_year`, grouping the resulting DataFrame by `CUSTOMERNAME`, and applying a lambda function to three columns: `FREQUENCY_last_year`, `MONETARY_last_year`, and `QUANTITYORDERED`. The `FREQUENCY_last_year` column is used to calculate the frequency of orders (i.e., the number of unique order numbers), the `MONETARY_last_year` column is used to calculate the monetary value of orders (i.e., the sum of sales), and the `QUANTITYORDERED` column is used to calculate the total quantity ordered in the last year.\n",
    "\n",
    "7. The `recency_quantity` and `frecuency_monetary_ordered_last_year` DataFrames are concatenated along the column axis using `pd.concat()` to create a new DataFrame called `rfm_data`. This DataFrame contains the recency, frequency, monetary value, and quantity ordered data for each customer.\n",
    "\n",
    "8. Any missing values in `rfm_data` are filled with 0 using the `fillna()` method. The missing values ​​are the product of the fact that some clients have not placed orders in the last year.\n",
    "\n",
    "The result of this cell is a DataFrame containning the RFM analysis of the data plus the `QUANTITYORDERED` characteristic that gives the meassurement of the total quantity ordered in the last year by each customer"
   ]
  },
  {
   "cell_type": "code",
   "execution_count": 13,
   "metadata": {},
   "outputs": [
    {
     "data": {
      "text/html": [
       "<div>\n",
       "<style scoped>\n",
       "    .dataframe tbody tr th:only-of-type {\n",
       "        vertical-align: middle;\n",
       "    }\n",
       "\n",
       "    .dataframe tbody tr th {\n",
       "        vertical-align: top;\n",
       "    }\n",
       "\n",
       "    .dataframe thead th {\n",
       "        text-align: right;\n",
       "    }\n",
       "</style>\n",
       "<table border=\"1\" class=\"dataframe\">\n",
       "  <thead>\n",
       "    <tr style=\"text-align: right;\">\n",
       "      <th></th>\n",
       "      <th>RECENCY_days</th>\n",
       "      <th>FREQUENCY_last_year</th>\n",
       "      <th>MONETARY_last_year</th>\n",
       "      <th>QUANTITYORDERED_last_year</th>\n",
       "    </tr>\n",
       "    <tr>\n",
       "      <th>CUSTOMERNAME</th>\n",
       "      <th></th>\n",
       "      <th></th>\n",
       "      <th></th>\n",
       "      <th></th>\n",
       "    </tr>\n",
       "  </thead>\n",
       "  <tbody>\n",
       "    <tr>\n",
       "      <th>AV Stores, Co.</th>\n",
       "      <td>195</td>\n",
       "      <td>2.0</td>\n",
       "      <td>106789.89</td>\n",
       "      <td>1208.0</td>\n",
       "    </tr>\n",
       "    <tr>\n",
       "      <th>Alpha Cognac</th>\n",
       "      <td>64</td>\n",
       "      <td>1.0</td>\n",
       "      <td>15139.12</td>\n",
       "      <td>172.0</td>\n",
       "    </tr>\n",
       "    <tr>\n",
       "      <th>Amica Models &amp; Co.</th>\n",
       "      <td>264</td>\n",
       "      <td>2.0</td>\n",
       "      <td>94117.26</td>\n",
       "      <td>843.0</td>\n",
       "    </tr>\n",
       "    <tr>\n",
       "      <th>Anna's Decorations, Ltd</th>\n",
       "      <td>83</td>\n",
       "      <td>2.0</td>\n",
       "      <td>65012.42</td>\n",
       "      <td>595.0</td>\n",
       "    </tr>\n",
       "    <tr>\n",
       "      <th>Atelier graphique</th>\n",
       "      <td>187</td>\n",
       "      <td>2.0</td>\n",
       "      <td>7619.66</td>\n",
       "      <td>114.0</td>\n",
       "    </tr>\n",
       "    <tr>\n",
       "      <th>...</th>\n",
       "      <td>...</td>\n",
       "      <td>...</td>\n",
       "      <td>...</td>\n",
       "      <td>...</td>\n",
       "    </tr>\n",
       "    <tr>\n",
       "      <th>Vida Sport, Ltd</th>\n",
       "      <td>274</td>\n",
       "      <td>1.0</td>\n",
       "      <td>67281.01</td>\n",
       "      <td>595.0</td>\n",
       "    </tr>\n",
       "    <tr>\n",
       "      <th>Vitachrome Inc.</th>\n",
       "      <td>207</td>\n",
       "      <td>1.0</td>\n",
       "      <td>56372.87</td>\n",
       "      <td>468.0</td>\n",
       "    </tr>\n",
       "    <tr>\n",
       "      <th>Volvo Model Replicas, Co</th>\n",
       "      <td>193</td>\n",
       "      <td>3.0</td>\n",
       "      <td>66005.88</td>\n",
       "      <td>595.0</td>\n",
       "    </tr>\n",
       "    <tr>\n",
       "      <th>West Coast Collectables Co.</th>\n",
       "      <td>488</td>\n",
       "      <td>0.0</td>\n",
       "      <td>0.00</td>\n",
       "      <td>0.0</td>\n",
       "    </tr>\n",
       "    <tr>\n",
       "      <th>giftsbymail.co.uk</th>\n",
       "      <td>211</td>\n",
       "      <td>1.0</td>\n",
       "      <td>51334.16</td>\n",
       "      <td>623.0</td>\n",
       "    </tr>\n",
       "  </tbody>\n",
       "</table>\n",
       "<p>92 rows × 4 columns</p>\n",
       "</div>"
      ],
      "text/plain": [
       "                             RECENCY_days  FREQUENCY_last_year   \n",
       "CUSTOMERNAME                                                     \n",
       "AV Stores, Co.                        195                  2.0  \\\n",
       "Alpha Cognac                           64                  1.0   \n",
       "Amica Models & Co.                    264                  2.0   \n",
       "Anna's Decorations, Ltd                83                  2.0   \n",
       "Atelier graphique                     187                  2.0   \n",
       "...                                   ...                  ...   \n",
       "Vida Sport, Ltd                       274                  1.0   \n",
       "Vitachrome Inc.                       207                  1.0   \n",
       "Volvo Model Replicas, Co              193                  3.0   \n",
       "West Coast Collectables Co.           488                  0.0   \n",
       "giftsbymail.co.uk                     211                  1.0   \n",
       "\n",
       "                             MONETARY_last_year  QUANTITYORDERED_last_year  \n",
       "CUSTOMERNAME                                                                \n",
       "AV Stores, Co.                        106789.89                     1208.0  \n",
       "Alpha Cognac                           15139.12                      172.0  \n",
       "Amica Models & Co.                     94117.26                      843.0  \n",
       "Anna's Decorations, Ltd                65012.42                      595.0  \n",
       "Atelier graphique                       7619.66                      114.0  \n",
       "...                                         ...                        ...  \n",
       "Vida Sport, Ltd                        67281.01                      595.0  \n",
       "Vitachrome Inc.                        56372.87                      468.0  \n",
       "Volvo Model Replicas, Co               66005.88                      595.0  \n",
       "West Coast Collectables Co.                0.00                        0.0  \n",
       "giftsbymail.co.uk                      51334.16                      623.0  \n",
       "\n",
       "[92 rows x 4 columns]"
      ]
     },
     "execution_count": 13,
     "metadata": {},
     "output_type": "execute_result"
    }
   ],
   "source": [
    "# Getting the last order date from the 'data' DataFrame\n",
    "last_order_date: dt.datetime = max(sales_data[\"ORDERDATE\"])\n",
    "\n",
    "# Assuming that the current date is the date on which the last sale was made\n",
    "current_date: dt.datetime = last_order_date\n",
    "\n",
    "# Calculating the date that was one year ago from the current date, this date will be used to filter the data from the current date to the last year to analyze the RFM\n",
    "last_year = current_date - dt.timedelta(days=365)\n",
    "\n",
    "# Creating new columns in the 'data' DataFrame for the RFM analysis\n",
    "sales_data[\"RECENCY_days\"] = sales_data[\"ORDERDATE\"].copy() \n",
    "sales_data[\"FREQUENCY_last_year\"] = sales_data[\"ORDERNUMBER\"].copy()\n",
    "sales_data[\"MONETARY_last_year\"] = sales_data[\"SALES\"].copy()\n",
    "\n",
    "# Calculating the recency for each customer\n",
    "recency_quantity = sales_data.groupby(by='CUSTOMERNAME').agg({\"RECENCY_days\": lambda order_dates: (current_date - order_dates.max()).days})\n",
    "\n",
    "# Calculating the frequency, monetary value, and quantity ordered in the last year for each customer\n",
    "frecuency_monetary_ordered_last_year = sales_data[sales_data[\"ORDERDATE\"] >= last_year].groupby('CUSTOMERNAME').agg({\"FREQUENCY_last_year\": lambda order_number: len(order_number.unique()),\n",
    "                                                                                                         \"MONETARY_last_year\": lambda sales: sales.sum(),\n",
    "                                                                                                         \"QUANTITYORDERED\": lambda quantity: int(quantity.sum())})\n",
    "\n",
    "# Renaming the 'QUANTITYORDERED' column to 'QUANTITYORDERED_last_year'\n",
    "frecuency_monetary_ordered_last_year.rename(columns={\"QUANTITYORDERED\": \"QUANTITYORDERED_last_year\"}, inplace=True)\n",
    "\n",
    "# Concatenating the recency, frequency, monetary, and quantity data into a single DataFrame for the RFM analysis\n",
    "rfm_df = pd.concat([recency_quantity, frecuency_monetary_ordered_last_year], axis=1)\n",
    "\n",
    "# Filling any missing values with 0\n",
    "rfm_df.fillna(0, inplace=True)\n",
    "rfm_df"
   ]
  },
  {
   "cell_type": "markdown",
   "metadata": {},
   "source": [
    "# Adding the RFM Analysis to the Customer DataFrame"
   ]
  },
  {
   "cell_type": "code",
   "execution_count": 14,
   "metadata": {},
   "outputs": [
    {
     "data": {
      "text/html": [
       "<div>\n",
       "<style scoped>\n",
       "    .dataframe tbody tr th:only-of-type {\n",
       "        vertical-align: middle;\n",
       "    }\n",
       "\n",
       "    .dataframe tbody tr th {\n",
       "        vertical-align: top;\n",
       "    }\n",
       "\n",
       "    .dataframe thead th {\n",
       "        text-align: right;\n",
       "    }\n",
       "</style>\n",
       "<table border=\"1\" class=\"dataframe\">\n",
       "  <thead>\n",
       "    <tr style=\"text-align: right;\">\n",
       "      <th></th>\n",
       "      <th>RECENCY_days</th>\n",
       "      <th>FREQUENCY_last_year</th>\n",
       "      <th>MONETARY_last_year</th>\n",
       "      <th>QUANTITYORDERED_last_year</th>\n",
       "      <th>COUNTRY</th>\n",
       "      <th>CITY</th>\n",
       "      <th>PHONE</th>\n",
       "      <th>CONTACTLASTNAME</th>\n",
       "      <th>CONTACTFIRSTNAME</th>\n",
       "    </tr>\n",
       "    <tr>\n",
       "      <th>CUSTOMERNAME</th>\n",
       "      <th></th>\n",
       "      <th></th>\n",
       "      <th></th>\n",
       "      <th></th>\n",
       "      <th></th>\n",
       "      <th></th>\n",
       "      <th></th>\n",
       "      <th></th>\n",
       "      <th></th>\n",
       "    </tr>\n",
       "  </thead>\n",
       "  <tbody>\n",
       "    <tr>\n",
       "      <th>AV Stores, Co.</th>\n",
       "      <td>195</td>\n",
       "      <td>2.0</td>\n",
       "      <td>106789.89</td>\n",
       "      <td>1208.0</td>\n",
       "      <td>UK</td>\n",
       "      <td>Manchester</td>\n",
       "      <td>(171) 555-1555</td>\n",
       "      <td>Ashworth</td>\n",
       "      <td>Victoria</td>\n",
       "    </tr>\n",
       "    <tr>\n",
       "      <th>Alpha Cognac</th>\n",
       "      <td>64</td>\n",
       "      <td>1.0</td>\n",
       "      <td>15139.12</td>\n",
       "      <td>172.0</td>\n",
       "      <td>France</td>\n",
       "      <td>Toulouse</td>\n",
       "      <td>61.77.6555</td>\n",
       "      <td>Roulet</td>\n",
       "      <td>Annette</td>\n",
       "    </tr>\n",
       "    <tr>\n",
       "      <th>Amica Models &amp; Co.</th>\n",
       "      <td>264</td>\n",
       "      <td>2.0</td>\n",
       "      <td>94117.26</td>\n",
       "      <td>843.0</td>\n",
       "      <td>Italy</td>\n",
       "      <td>Torino</td>\n",
       "      <td>011-4988555</td>\n",
       "      <td>Accorti</td>\n",
       "      <td>Paolo</td>\n",
       "    </tr>\n",
       "    <tr>\n",
       "      <th>Anna's Decorations, Ltd</th>\n",
       "      <td>83</td>\n",
       "      <td>2.0</td>\n",
       "      <td>65012.42</td>\n",
       "      <td>595.0</td>\n",
       "      <td>Australia</td>\n",
       "      <td>North Sydney</td>\n",
       "      <td>02 9936 8555</td>\n",
       "      <td>O'Hara</td>\n",
       "      <td>Anna</td>\n",
       "    </tr>\n",
       "    <tr>\n",
       "      <th>Atelier graphique</th>\n",
       "      <td>187</td>\n",
       "      <td>2.0</td>\n",
       "      <td>7619.66</td>\n",
       "      <td>114.0</td>\n",
       "      <td>France</td>\n",
       "      <td>Nantes</td>\n",
       "      <td>40.32.2555</td>\n",
       "      <td>Schmitt</td>\n",
       "      <td>Carine</td>\n",
       "    </tr>\n",
       "    <tr>\n",
       "      <th>...</th>\n",
       "      <td>...</td>\n",
       "      <td>...</td>\n",
       "      <td>...</td>\n",
       "      <td>...</td>\n",
       "      <td>...</td>\n",
       "      <td>...</td>\n",
       "      <td>...</td>\n",
       "      <td>...</td>\n",
       "      <td>...</td>\n",
       "    </tr>\n",
       "    <tr>\n",
       "      <th>Vida Sport, Ltd</th>\n",
       "      <td>274</td>\n",
       "      <td>1.0</td>\n",
       "      <td>67281.01</td>\n",
       "      <td>595.0</td>\n",
       "      <td>Switzerland</td>\n",
       "      <td>Gensve</td>\n",
       "      <td>0897-034555</td>\n",
       "      <td>Holz</td>\n",
       "      <td>Michael</td>\n",
       "    </tr>\n",
       "    <tr>\n",
       "      <th>Vitachrome Inc.</th>\n",
       "      <td>207</td>\n",
       "      <td>1.0</td>\n",
       "      <td>56372.87</td>\n",
       "      <td>468.0</td>\n",
       "      <td>USA</td>\n",
       "      <td>NYC</td>\n",
       "      <td>2125551500</td>\n",
       "      <td>Frick</td>\n",
       "      <td>Michael</td>\n",
       "    </tr>\n",
       "    <tr>\n",
       "      <th>Volvo Model Replicas, Co</th>\n",
       "      <td>193</td>\n",
       "      <td>3.0</td>\n",
       "      <td>66005.88</td>\n",
       "      <td>595.0</td>\n",
       "      <td>Sweden</td>\n",
       "      <td>Lule</td>\n",
       "      <td>0921-12 3555</td>\n",
       "      <td>Berglund</td>\n",
       "      <td>Christina</td>\n",
       "    </tr>\n",
       "    <tr>\n",
       "      <th>West Coast Collectables Co.</th>\n",
       "      <td>488</td>\n",
       "      <td>0.0</td>\n",
       "      <td>0.00</td>\n",
       "      <td>0.0</td>\n",
       "      <td>USA</td>\n",
       "      <td>Burbank</td>\n",
       "      <td>3105553722</td>\n",
       "      <td>Thompson</td>\n",
       "      <td>Steve</td>\n",
       "    </tr>\n",
       "    <tr>\n",
       "      <th>giftsbymail.co.uk</th>\n",
       "      <td>211</td>\n",
       "      <td>1.0</td>\n",
       "      <td>51334.16</td>\n",
       "      <td>623.0</td>\n",
       "      <td>UK</td>\n",
       "      <td>Cowes</td>\n",
       "      <td>(198) 555-8888</td>\n",
       "      <td>Bennett</td>\n",
       "      <td>Helen</td>\n",
       "    </tr>\n",
       "  </tbody>\n",
       "</table>\n",
       "<p>92 rows × 9 columns</p>\n",
       "</div>"
      ],
      "text/plain": [
       "                             RECENCY_days  FREQUENCY_last_year   \n",
       "CUSTOMERNAME                                                     \n",
       "AV Stores, Co.                        195                  2.0  \\\n",
       "Alpha Cognac                           64                  1.0   \n",
       "Amica Models & Co.                    264                  2.0   \n",
       "Anna's Decorations, Ltd                83                  2.0   \n",
       "Atelier graphique                     187                  2.0   \n",
       "...                                   ...                  ...   \n",
       "Vida Sport, Ltd                       274                  1.0   \n",
       "Vitachrome Inc.                       207                  1.0   \n",
       "Volvo Model Replicas, Co              193                  3.0   \n",
       "West Coast Collectables Co.           488                  0.0   \n",
       "giftsbymail.co.uk                     211                  1.0   \n",
       "\n",
       "                             MONETARY_last_year  QUANTITYORDERED_last_year   \n",
       "CUSTOMERNAME                                                                 \n",
       "AV Stores, Co.                        106789.89                     1208.0  \\\n",
       "Alpha Cognac                           15139.12                      172.0   \n",
       "Amica Models & Co.                     94117.26                      843.0   \n",
       "Anna's Decorations, Ltd                65012.42                      595.0   \n",
       "Atelier graphique                       7619.66                      114.0   \n",
       "...                                         ...                        ...   \n",
       "Vida Sport, Ltd                        67281.01                      595.0   \n",
       "Vitachrome Inc.                        56372.87                      468.0   \n",
       "Volvo Model Replicas, Co               66005.88                      595.0   \n",
       "West Coast Collectables Co.                0.00                        0.0   \n",
       "giftsbymail.co.uk                      51334.16                      623.0   \n",
       "\n",
       "                                 COUNTRY          CITY           PHONE   \n",
       "CUSTOMERNAME                                                             \n",
       "AV Stores, Co.                        UK    Manchester  (171) 555-1555  \\\n",
       "Alpha Cognac                      France      Toulouse      61.77.6555   \n",
       "Amica Models & Co.                 Italy        Torino     011-4988555   \n",
       "Anna's Decorations, Ltd        Australia  North Sydney    02 9936 8555   \n",
       "Atelier graphique                 France        Nantes      40.32.2555   \n",
       "...                                  ...           ...             ...   \n",
       "Vida Sport, Ltd              Switzerland        Gensve     0897-034555   \n",
       "Vitachrome Inc.                      USA           NYC      2125551500   \n",
       "Volvo Model Replicas, Co          Sweden          Lule    0921-12 3555   \n",
       "West Coast Collectables Co.          USA       Burbank      3105553722   \n",
       "giftsbymail.co.uk                     UK         Cowes  (198) 555-8888   \n",
       "\n",
       "                            CONTACTLASTNAME CONTACTFIRSTNAME  \n",
       "CUSTOMERNAME                                                  \n",
       "AV Stores, Co.                     Ashworth         Victoria  \n",
       "Alpha Cognac                         Roulet          Annette  \n",
       "Amica Models & Co.                  Accorti            Paolo  \n",
       "Anna's Decorations, Ltd              O'Hara             Anna  \n",
       "Atelier graphique                   Schmitt           Carine  \n",
       "...                                     ...              ...  \n",
       "Vida Sport, Ltd                        Holz          Michael  \n",
       "Vitachrome Inc.                       Frick          Michael  \n",
       "Volvo Model Replicas, Co           Berglund        Christina  \n",
       "West Coast Collectables Co.        Thompson            Steve  \n",
       "giftsbymail.co.uk                   Bennett            Helen  \n",
       "\n",
       "[92 rows x 9 columns]"
      ]
     },
     "execution_count": 14,
     "metadata": {},
     "output_type": "execute_result"
    }
   ],
   "source": [
    "customer_df = pd.concat([rfm_df, customer_df], axis=1)\n",
    "customer_df"
   ]
  },
  {
   "cell_type": "markdown",
   "metadata": {},
   "source": [
    "# Bivariate Analysis"
   ]
  },
  {
   "cell_type": "markdown",
   "metadata": {},
   "source": [
    "Bivariate analysis entails determining the correlation between two features.\n",
    "Let's check the relationship between the Recency and the Frequency"
   ]
  },
  {
   "cell_type": "code",
   "execution_count": 15,
   "metadata": {},
   "outputs": [
    {
     "data": {
      "application/vnd.plotly.v1+json": {
       "config": {
        "plotlyServerURL": "https://plot.ly"
       },
       "data": [
        {
         "hovertemplate": "RECENCY_days=%{x}<br>FREQUENCY_last_year=%{y}<extra></extra>",
         "legendgroup": "",
         "marker": {
          "color": "#636efa",
          "symbol": "circle"
         },
         "mode": "markers",
         "name": "",
         "orientation": "v",
         "showlegend": false,
         "type": "scatter",
         "x": [
          195,
          64,
          264,
          83,
          187,
          22,
          183,
          118,
          232,
          54,
          179,
          207,
          258,
          207,
          112,
          438,
          388,
          221,
          229,
          191,
          257,
          460,
          131,
          97,
          211,
          196,
          465,
          46,
          1,
          400,
          495,
          90,
          188,
          0,
          89,
          26,
          178,
          25,
          38,
          221,
          270,
          237,
          21,
          192,
          0,
          197,
          75,
          145,
          230,
          508,
          209,
          82,
          47,
          228,
          144,
          2,
          194,
          195,
          181,
          283,
          208,
          263,
          413,
          120,
          1,
          30,
          62,
          200,
          284,
          141,
          14,
          455,
          89,
          476,
          183,
          2,
          179,
          145,
          392,
          146,
          58,
          39,
          39,
          227,
          111,
          139,
          53,
          274,
          207,
          193,
          488,
          211
         ],
         "xaxis": "x",
         "y": [
          2,
          1,
          2,
          2,
          2,
          2,
          2,
          1,
          1,
          1,
          2,
          2,
          1,
          1,
          1,
          0,
          0,
          1,
          1,
          1,
          1,
          0,
          2,
          2,
          1,
          1,
          0,
          3,
          4,
          0,
          0,
          2,
          1,
          15,
          2,
          2,
          1,
          3,
          3,
          1,
          1,
          1,
          2,
          2,
          4,
          2,
          2,
          2,
          2,
          0,
          1,
          1,
          2,
          1,
          1,
          12,
          1,
          1,
          2,
          1,
          1,
          2,
          0,
          1,
          2,
          2,
          3,
          1,
          1,
          2,
          3,
          0,
          2,
          0,
          2,
          3,
          1,
          1,
          0,
          2,
          1,
          3,
          4,
          1,
          2,
          1,
          2,
          1,
          1,
          3,
          0,
          1
         ],
         "yaxis": "y"
        }
       ],
       "layout": {
        "height": 500,
        "legend": {
         "tracegroupgap": 0
        },
        "template": {
         "data": {
          "bar": [
           {
            "error_x": {
             "color": "#2a3f5f"
            },
            "error_y": {
             "color": "#2a3f5f"
            },
            "marker": {
             "line": {
              "color": "#E5ECF6",
              "width": 0.5
             },
             "pattern": {
              "fillmode": "overlay",
              "size": 10,
              "solidity": 0.2
             }
            },
            "type": "bar"
           }
          ],
          "barpolar": [
           {
            "marker": {
             "line": {
              "color": "#E5ECF6",
              "width": 0.5
             },
             "pattern": {
              "fillmode": "overlay",
              "size": 10,
              "solidity": 0.2
             }
            },
            "type": "barpolar"
           }
          ],
          "carpet": [
           {
            "aaxis": {
             "endlinecolor": "#2a3f5f",
             "gridcolor": "white",
             "linecolor": "white",
             "minorgridcolor": "white",
             "startlinecolor": "#2a3f5f"
            },
            "baxis": {
             "endlinecolor": "#2a3f5f",
             "gridcolor": "white",
             "linecolor": "white",
             "minorgridcolor": "white",
             "startlinecolor": "#2a3f5f"
            },
            "type": "carpet"
           }
          ],
          "choropleth": [
           {
            "colorbar": {
             "outlinewidth": 0,
             "ticks": ""
            },
            "type": "choropleth"
           }
          ],
          "contour": [
           {
            "colorbar": {
             "outlinewidth": 0,
             "ticks": ""
            },
            "colorscale": [
             [
              0,
              "#0d0887"
             ],
             [
              0.1111111111111111,
              "#46039f"
             ],
             [
              0.2222222222222222,
              "#7201a8"
             ],
             [
              0.3333333333333333,
              "#9c179e"
             ],
             [
              0.4444444444444444,
              "#bd3786"
             ],
             [
              0.5555555555555556,
              "#d8576b"
             ],
             [
              0.6666666666666666,
              "#ed7953"
             ],
             [
              0.7777777777777778,
              "#fb9f3a"
             ],
             [
              0.8888888888888888,
              "#fdca26"
             ],
             [
              1,
              "#f0f921"
             ]
            ],
            "type": "contour"
           }
          ],
          "contourcarpet": [
           {
            "colorbar": {
             "outlinewidth": 0,
             "ticks": ""
            },
            "type": "contourcarpet"
           }
          ],
          "heatmap": [
           {
            "colorbar": {
             "outlinewidth": 0,
             "ticks": ""
            },
            "colorscale": [
             [
              0,
              "#0d0887"
             ],
             [
              0.1111111111111111,
              "#46039f"
             ],
             [
              0.2222222222222222,
              "#7201a8"
             ],
             [
              0.3333333333333333,
              "#9c179e"
             ],
             [
              0.4444444444444444,
              "#bd3786"
             ],
             [
              0.5555555555555556,
              "#d8576b"
             ],
             [
              0.6666666666666666,
              "#ed7953"
             ],
             [
              0.7777777777777778,
              "#fb9f3a"
             ],
             [
              0.8888888888888888,
              "#fdca26"
             ],
             [
              1,
              "#f0f921"
             ]
            ],
            "type": "heatmap"
           }
          ],
          "heatmapgl": [
           {
            "colorbar": {
             "outlinewidth": 0,
             "ticks": ""
            },
            "colorscale": [
             [
              0,
              "#0d0887"
             ],
             [
              0.1111111111111111,
              "#46039f"
             ],
             [
              0.2222222222222222,
              "#7201a8"
             ],
             [
              0.3333333333333333,
              "#9c179e"
             ],
             [
              0.4444444444444444,
              "#bd3786"
             ],
             [
              0.5555555555555556,
              "#d8576b"
             ],
             [
              0.6666666666666666,
              "#ed7953"
             ],
             [
              0.7777777777777778,
              "#fb9f3a"
             ],
             [
              0.8888888888888888,
              "#fdca26"
             ],
             [
              1,
              "#f0f921"
             ]
            ],
            "type": "heatmapgl"
           }
          ],
          "histogram": [
           {
            "marker": {
             "pattern": {
              "fillmode": "overlay",
              "size": 10,
              "solidity": 0.2
             }
            },
            "type": "histogram"
           }
          ],
          "histogram2d": [
           {
            "colorbar": {
             "outlinewidth": 0,
             "ticks": ""
            },
            "colorscale": [
             [
              0,
              "#0d0887"
             ],
             [
              0.1111111111111111,
              "#46039f"
             ],
             [
              0.2222222222222222,
              "#7201a8"
             ],
             [
              0.3333333333333333,
              "#9c179e"
             ],
             [
              0.4444444444444444,
              "#bd3786"
             ],
             [
              0.5555555555555556,
              "#d8576b"
             ],
             [
              0.6666666666666666,
              "#ed7953"
             ],
             [
              0.7777777777777778,
              "#fb9f3a"
             ],
             [
              0.8888888888888888,
              "#fdca26"
             ],
             [
              1,
              "#f0f921"
             ]
            ],
            "type": "histogram2d"
           }
          ],
          "histogram2dcontour": [
           {
            "colorbar": {
             "outlinewidth": 0,
             "ticks": ""
            },
            "colorscale": [
             [
              0,
              "#0d0887"
             ],
             [
              0.1111111111111111,
              "#46039f"
             ],
             [
              0.2222222222222222,
              "#7201a8"
             ],
             [
              0.3333333333333333,
              "#9c179e"
             ],
             [
              0.4444444444444444,
              "#bd3786"
             ],
             [
              0.5555555555555556,
              "#d8576b"
             ],
             [
              0.6666666666666666,
              "#ed7953"
             ],
             [
              0.7777777777777778,
              "#fb9f3a"
             ],
             [
              0.8888888888888888,
              "#fdca26"
             ],
             [
              1,
              "#f0f921"
             ]
            ],
            "type": "histogram2dcontour"
           }
          ],
          "mesh3d": [
           {
            "colorbar": {
             "outlinewidth": 0,
             "ticks": ""
            },
            "type": "mesh3d"
           }
          ],
          "parcoords": [
           {
            "line": {
             "colorbar": {
              "outlinewidth": 0,
              "ticks": ""
             }
            },
            "type": "parcoords"
           }
          ],
          "pie": [
           {
            "automargin": true,
            "type": "pie"
           }
          ],
          "scatter": [
           {
            "fillpattern": {
             "fillmode": "overlay",
             "size": 10,
             "solidity": 0.2
            },
            "type": "scatter"
           }
          ],
          "scatter3d": [
           {
            "line": {
             "colorbar": {
              "outlinewidth": 0,
              "ticks": ""
             }
            },
            "marker": {
             "colorbar": {
              "outlinewidth": 0,
              "ticks": ""
             }
            },
            "type": "scatter3d"
           }
          ],
          "scattercarpet": [
           {
            "marker": {
             "colorbar": {
              "outlinewidth": 0,
              "ticks": ""
             }
            },
            "type": "scattercarpet"
           }
          ],
          "scattergeo": [
           {
            "marker": {
             "colorbar": {
              "outlinewidth": 0,
              "ticks": ""
             }
            },
            "type": "scattergeo"
           }
          ],
          "scattergl": [
           {
            "marker": {
             "colorbar": {
              "outlinewidth": 0,
              "ticks": ""
             }
            },
            "type": "scattergl"
           }
          ],
          "scattermapbox": [
           {
            "marker": {
             "colorbar": {
              "outlinewidth": 0,
              "ticks": ""
             }
            },
            "type": "scattermapbox"
           }
          ],
          "scatterpolar": [
           {
            "marker": {
             "colorbar": {
              "outlinewidth": 0,
              "ticks": ""
             }
            },
            "type": "scatterpolar"
           }
          ],
          "scatterpolargl": [
           {
            "marker": {
             "colorbar": {
              "outlinewidth": 0,
              "ticks": ""
             }
            },
            "type": "scatterpolargl"
           }
          ],
          "scatterternary": [
           {
            "marker": {
             "colorbar": {
              "outlinewidth": 0,
              "ticks": ""
             }
            },
            "type": "scatterternary"
           }
          ],
          "surface": [
           {
            "colorbar": {
             "outlinewidth": 0,
             "ticks": ""
            },
            "colorscale": [
             [
              0,
              "#0d0887"
             ],
             [
              0.1111111111111111,
              "#46039f"
             ],
             [
              0.2222222222222222,
              "#7201a8"
             ],
             [
              0.3333333333333333,
              "#9c179e"
             ],
             [
              0.4444444444444444,
              "#bd3786"
             ],
             [
              0.5555555555555556,
              "#d8576b"
             ],
             [
              0.6666666666666666,
              "#ed7953"
             ],
             [
              0.7777777777777778,
              "#fb9f3a"
             ],
             [
              0.8888888888888888,
              "#fdca26"
             ],
             [
              1,
              "#f0f921"
             ]
            ],
            "type": "surface"
           }
          ],
          "table": [
           {
            "cells": {
             "fill": {
              "color": "#EBF0F8"
             },
             "line": {
              "color": "white"
             }
            },
            "header": {
             "fill": {
              "color": "#C8D4E3"
             },
             "line": {
              "color": "white"
             }
            },
            "type": "table"
           }
          ]
         },
         "layout": {
          "annotationdefaults": {
           "arrowcolor": "#2a3f5f",
           "arrowhead": 0,
           "arrowwidth": 1
          },
          "autotypenumbers": "strict",
          "coloraxis": {
           "colorbar": {
            "outlinewidth": 0,
            "ticks": ""
           }
          },
          "colorscale": {
           "diverging": [
            [
             0,
             "#8e0152"
            ],
            [
             0.1,
             "#c51b7d"
            ],
            [
             0.2,
             "#de77ae"
            ],
            [
             0.3,
             "#f1b6da"
            ],
            [
             0.4,
             "#fde0ef"
            ],
            [
             0.5,
             "#f7f7f7"
            ],
            [
             0.6,
             "#e6f5d0"
            ],
            [
             0.7,
             "#b8e186"
            ],
            [
             0.8,
             "#7fbc41"
            ],
            [
             0.9,
             "#4d9221"
            ],
            [
             1,
             "#276419"
            ]
           ],
           "sequential": [
            [
             0,
             "#0d0887"
            ],
            [
             0.1111111111111111,
             "#46039f"
            ],
            [
             0.2222222222222222,
             "#7201a8"
            ],
            [
             0.3333333333333333,
             "#9c179e"
            ],
            [
             0.4444444444444444,
             "#bd3786"
            ],
            [
             0.5555555555555556,
             "#d8576b"
            ],
            [
             0.6666666666666666,
             "#ed7953"
            ],
            [
             0.7777777777777778,
             "#fb9f3a"
            ],
            [
             0.8888888888888888,
             "#fdca26"
            ],
            [
             1,
             "#f0f921"
            ]
           ],
           "sequentialminus": [
            [
             0,
             "#0d0887"
            ],
            [
             0.1111111111111111,
             "#46039f"
            ],
            [
             0.2222222222222222,
             "#7201a8"
            ],
            [
             0.3333333333333333,
             "#9c179e"
            ],
            [
             0.4444444444444444,
             "#bd3786"
            ],
            [
             0.5555555555555556,
             "#d8576b"
            ],
            [
             0.6666666666666666,
             "#ed7953"
            ],
            [
             0.7777777777777778,
             "#fb9f3a"
            ],
            [
             0.8888888888888888,
             "#fdca26"
            ],
            [
             1,
             "#f0f921"
            ]
           ]
          },
          "colorway": [
           "#636efa",
           "#EF553B",
           "#00cc96",
           "#ab63fa",
           "#FFA15A",
           "#19d3f3",
           "#FF6692",
           "#B6E880",
           "#FF97FF",
           "#FECB52"
          ],
          "font": {
           "color": "#2a3f5f"
          },
          "geo": {
           "bgcolor": "white",
           "lakecolor": "white",
           "landcolor": "#E5ECF6",
           "showlakes": true,
           "showland": true,
           "subunitcolor": "white"
          },
          "hoverlabel": {
           "align": "left"
          },
          "hovermode": "closest",
          "mapbox": {
           "style": "light"
          },
          "paper_bgcolor": "white",
          "plot_bgcolor": "#E5ECF6",
          "polar": {
           "angularaxis": {
            "gridcolor": "white",
            "linecolor": "white",
            "ticks": ""
           },
           "bgcolor": "#E5ECF6",
           "radialaxis": {
            "gridcolor": "white",
            "linecolor": "white",
            "ticks": ""
           }
          },
          "scene": {
           "xaxis": {
            "backgroundcolor": "#E5ECF6",
            "gridcolor": "white",
            "gridwidth": 2,
            "linecolor": "white",
            "showbackground": true,
            "ticks": "",
            "zerolinecolor": "white"
           },
           "yaxis": {
            "backgroundcolor": "#E5ECF6",
            "gridcolor": "white",
            "gridwidth": 2,
            "linecolor": "white",
            "showbackground": true,
            "ticks": "",
            "zerolinecolor": "white"
           },
           "zaxis": {
            "backgroundcolor": "#E5ECF6",
            "gridcolor": "white",
            "gridwidth": 2,
            "linecolor": "white",
            "showbackground": true,
            "ticks": "",
            "zerolinecolor": "white"
           }
          },
          "shapedefaults": {
           "line": {
            "color": "#2a3f5f"
           }
          },
          "ternary": {
           "aaxis": {
            "gridcolor": "white",
            "linecolor": "white",
            "ticks": ""
           },
           "baxis": {
            "gridcolor": "white",
            "linecolor": "white",
            "ticks": ""
           },
           "bgcolor": "#E5ECF6",
           "caxis": {
            "gridcolor": "white",
            "linecolor": "white",
            "ticks": ""
           }
          },
          "title": {
           "x": 0.05
          },
          "xaxis": {
           "automargin": true,
           "gridcolor": "white",
           "linecolor": "white",
           "ticks": "",
           "title": {
            "standoff": 15
           },
           "zerolinecolor": "white",
           "zerolinewidth": 2
          },
          "yaxis": {
           "automargin": true,
           "gridcolor": "white",
           "linecolor": "white",
           "ticks": "",
           "title": {
            "standoff": 15
           },
           "zerolinecolor": "white",
           "zerolinewidth": 2
          }
         }
        },
        "title": {
         "text": "Relationship between RECENCY VS FREQUENCY"
        },
        "xaxis": {
         "anchor": "y",
         "domain": [
          0,
          1
         ],
         "title": {
          "text": "RECENCY_days"
         }
        },
        "yaxis": {
         "anchor": "x",
         "domain": [
          0,
          1
         ],
         "title": {
          "text": "FREQUENCY_last_year"
         }
        }
       }
      }
     },
     "metadata": {},
     "output_type": "display_data"
    }
   ],
   "source": [
    "fig = px.scatter(\n",
    "    data_frame=customer_df,\n",
    "    x = \"RECENCY_days\",\n",
    "    y= \"FREQUENCY_last_year\",\n",
    "    title = \"Relationship between RECENCY VS FREQUENCY\",\n",
    "    # color = \"COUNTRY\",\n",
    "    height=500\n",
    ")\n",
    "fig.show()"
   ]
  },
  {
   "cell_type": "markdown",
   "metadata": {},
   "source": [
    "In the above picture we can see that customers that have less Frequency (amount of orders in the last year) have a higher value of Recency (time since the last purchased)"
   ]
  },
  {
   "cell_type": "markdown",
   "metadata": {},
   "source": [
    "Let's check the relationship between the Recency and Monetary"
   ]
  },
  {
   "cell_type": "code",
   "execution_count": 16,
   "metadata": {},
   "outputs": [
    {
     "data": {
      "application/vnd.plotly.v1+json": {
       "config": {
        "plotlyServerURL": "https://plot.ly"
       },
       "data": [
        {
         "hovertemplate": "COUNTRY=UK<br>RECENCY_days=%{x}<br>MONETARY_last_year=%{y}<extra></extra>",
         "legendgroup": "UK",
         "marker": {
          "color": "#636efa",
          "symbol": "circle"
         },
         "mode": "markers",
         "name": "UK",
         "orientation": "v",
         "showlegend": true,
         "type": "scatter",
         "x": [
          195,
          495,
          179,
          53,
          211
         ],
         "xaxis": "x",
         "y": [
          106789.89000000001,
          0,
          13739.900000000001,
          91211.05999999998,
          51334.16
         ],
         "yaxis": "y"
        },
        {
         "hovertemplate": "COUNTRY=France<br>RECENCY_days=%{x}<br>MONETARY_last_year=%{y}<extra></extra>",
         "legendgroup": "France",
         "marker": {
          "color": "#EF553B",
          "symbol": "circle"
         },
         "mode": "markers",
         "name": "France",
         "orientation": "v",
         "showlegend": true,
         "type": "scatter",
         "x": [
          64,
          187,
          232,
          54,
          465,
          192,
          0,
          75,
          145,
          47,
          62,
          455
         ],
         "xaxis": "x",
         "y": [
          15139.119999999999,
          7619.66,
          59074.899999999994,
          14066.8,
          0,
          58986.270000000004,
          180124.9,
          52945.45999999999,
          22454.3,
          41097.25,
          100924.66,
          0
         ],
         "yaxis": "y"
        },
        {
         "hovertemplate": "COUNTRY=Italy<br>RECENCY_days=%{x}<br>MONETARY_last_year=%{y}<extra></extra>",
         "legendgroup": "Italy",
         "marker": {
          "color": "#00cc96",
          "symbol": "circle"
         },
         "mode": "markers",
         "name": "Italy",
         "orientation": "v",
         "showlegend": true,
         "type": "scatter",
         "x": [
          264,
          21,
          200
         ],
         "xaxis": "x",
         "y": [
          94117.26,
          97931.59000000001,
          41696.689999999995
         ],
         "yaxis": "y"
        },
        {
         "hovertemplate": "COUNTRY=Australia<br>RECENCY_days=%{x}<br>MONETARY_last_year=%{y}<extra></extra>",
         "legendgroup": "Australia",
         "marker": {
          "color": "#ab63fa",
          "symbol": "circle"
         },
         "mode": "markers",
         "name": "Australia",
         "orientation": "v",
         "showlegend": true,
         "type": "scatter",
         "x": [
          83,
          22,
          183,
          118,
          2
         ],
         "xaxis": "x",
         "y": [
          65012.420000000006,
          26712.91,
          91222,
          21730.03,
          123173.72000000002
         ],
         "yaxis": "y"
        },
        {
         "hovertemplate": "COUNTRY=USA<br>RECENCY_days=%{x}<br>MONETARY_last_year=%{y}<extra></extra>",
         "legendgroup": "USA",
         "marker": {
          "color": "#FFA15A",
          "symbol": "circle"
         },
         "mode": "markers",
         "name": "USA",
         "orientation": "v",
         "showlegend": true,
         "type": "scatter",
         "x": [
          179,
          112,
          388,
          229,
          191,
          460,
          131,
          97,
          1,
          400,
          89,
          26,
          178,
          25,
          197,
          230,
          508,
          209,
          228,
          144,
          2,
          194,
          195,
          181,
          208,
          263,
          476,
          183,
          392,
          146,
          58,
          39,
          139,
          207,
          488
         ],
         "xaxis": "x",
         "y": [
          19201.91,
          3987.2,
          0,
          27445.309999999998,
          27733.04,
          0,
          46585.579999999994,
          54203.619999999995,
          122138.14000000001,
          0,
          87062.04000000001,
          75778.99,
          29343.35,
          83209.88,
          92928.01999999999,
          103080.38000000002,
          0,
          31446.149999999998,
          46873.04,
          11021.3,
          420807.17000000004,
          30348.72,
          48996.1,
          64958.700000000004,
          55570.6,
          57197.95999999999,
          0,
          48903.46000000001,
          0,
          16445.77,
          46519,
          111538.02999999998,
          44273.35999999999,
          56372.87,
          0
         ],
         "yaxis": "y"
        },
        {
         "hovertemplate": "COUNTRY=Norway<br>RECENCY_days=%{x}<br>MONETARY_last_year=%{y}<extra></extra>",
         "legendgroup": "Norway",
         "marker": {
          "color": "#19d3f3",
          "symbol": "circle"
         },
         "mode": "markers",
         "name": "Norway",
         "orientation": "v",
         "showlegend": true,
         "type": "scatter",
         "x": [
          207,
          270,
          283
         ],
         "xaxis": "x",
         "y": [
          60422.530000000006,
          16363.1,
          34145.47
         ],
         "yaxis": "y"
        },
        {
         "hovertemplate": "COUNTRY=Germany<br>RECENCY_days=%{x}<br>MONETARY_last_year=%{y}<extra></extra>",
         "legendgroup": "Germany",
         "marker": {
          "color": "#FF6692",
          "symbol": "circle"
         },
         "mode": "markers",
         "name": "Germany",
         "orientation": "v",
         "showlegend": true,
         "type": "scatter",
         "x": [
          258,
          207,
          227
         ],
         "xaxis": "x",
         "y": [
          34993.92,
          9214.970000000001,
          68943.40000000001
         ],
         "yaxis": "y"
        },
        {
         "hovertemplate": "COUNTRY=Spain<br>RECENCY_days=%{x}<br>MONETARY_last_year=%{y}<extra></extra>",
         "legendgroup": "Spain",
         "marker": {
          "color": "#B6E880",
          "symbol": "circle"
         },
         "mode": "markers",
         "name": "Spain",
         "orientation": "v",
         "showlegend": true,
         "type": "scatter",
         "x": [
          438,
          211,
          188,
          0,
          237
         ],
         "xaxis": "x",
         "y": [
          0,
          34546.600000000006,
          30183.350000000002,
          567255.97,
          3220.88
         ],
         "yaxis": "y"
        },
        {
         "hovertemplate": "COUNTRY=Canada<br>RECENCY_days=%{x}<br>MONETARY_last_year=%{y}<extra></extra>",
         "legendgroup": "Canada",
         "marker": {
          "color": "#FF97FF",
          "symbol": "circle"
         },
         "mode": "markers",
         "name": "Canada",
         "orientation": "v",
         "showlegend": true,
         "type": "scatter",
         "x": [
          221,
          30,
          284
         ],
         "xaxis": "x",
         "y": [
          36576.71000000001,
          58257.50000000001,
          43332.350000000006
         ],
         "yaxis": "y"
        },
        {
         "hovertemplate": "COUNTRY=Ireland<br>RECENCY_days=%{x}<br>MONETARY_last_year=%{y}<extra></extra>",
         "legendgroup": "Ireland",
         "marker": {
          "color": "#FECB52",
          "symbol": "circle"
         },
         "mode": "markers",
         "name": "Ireland",
         "orientation": "v",
         "showlegend": true,
         "type": "scatter",
         "x": [
          257
         ],
         "xaxis": "x",
         "y": [
          18971.96
         ],
         "yaxis": "y"
        },
        {
         "hovertemplate": "COUNTRY=Philippines<br>RECENCY_days=%{x}<br>MONETARY_last_year=%{y}<extra></extra>",
         "legendgroup": "Philippines",
         "marker": {
          "color": "#636efa",
          "symbol": "circle"
         },
         "mode": "markers",
         "name": "Philippines",
         "orientation": "v",
         "showlegend": true,
         "type": "scatter",
         "x": [
          196
         ],
         "xaxis": "x",
         "y": [
          15928.75
         ],
         "yaxis": "y"
        },
        {
         "hovertemplate": "COUNTRY=Denmark<br>RECENCY_days=%{x}<br>MONETARY_last_year=%{y}<extra></extra>",
         "legendgroup": "Denmark",
         "marker": {
          "color": "#EF553B",
          "symbol": "circle"
         },
         "mode": "markers",
         "name": "Denmark",
         "orientation": "v",
         "showlegend": true,
         "type": "scatter",
         "x": [
          46,
          221
         ],
         "xaxis": "x",
         "y": [
          54840.92999999999,
          60273.939999999995
         ],
         "yaxis": "y"
        },
        {
         "hovertemplate": "COUNTRY=Singapore<br>RECENCY_days=%{x}<br>MONETARY_last_year=%{y}<extra></extra>",
         "legendgroup": "Singapore",
         "marker": {
          "color": "#00cc96",
          "symbol": "circle"
         },
         "mode": "markers",
         "name": "Singapore",
         "orientation": "v",
         "showlegend": true,
         "type": "scatter",
         "x": [
          90,
          38
         ],
         "xaxis": "x",
         "y": [
          7303.4800000000005,
          91279.14000000003
         ],
         "yaxis": "y"
        },
        {
         "hovertemplate": "COUNTRY=Austria<br>RECENCY_days=%{x}<br>MONETARY_last_year=%{y}<extra></extra>",
         "legendgroup": "Austria",
         "marker": {
          "color": "#ab63fa",
          "symbol": "circle"
         },
         "mode": "markers",
         "name": "Austria",
         "orientation": "v",
         "showlegend": true,
         "type": "scatter",
         "x": [
          82,
          14
         ],
         "xaxis": "x",
         "y": [
          8775.16,
          111169.48999999999
         ],
         "yaxis": "y"
        },
        {
         "hovertemplate": "COUNTRY=Japan<br>RECENCY_days=%{x}<br>MONETARY_last_year=%{y}<extra></extra>",
         "legendgroup": "Japan",
         "marker": {
          "color": "#FFA15A",
          "symbol": "circle"
         },
         "mode": "markers",
         "name": "Japan",
         "orientation": "v",
         "showlegend": true,
         "type": "scatter",
         "x": [
          413,
          39
         ],
         "xaxis": "x",
         "y": [
          0,
          120562.74
         ],
         "yaxis": "y"
        },
        {
         "hovertemplate": "COUNTRY=Finland<br>RECENCY_days=%{x}<br>MONETARY_last_year=%{y}<extra></extra>",
         "legendgroup": "Finland",
         "marker": {
          "color": "#19d3f3",
          "symbol": "circle"
         },
         "mode": "markers",
         "name": "Finland",
         "orientation": "v",
         "showlegend": true,
         "type": "scatter",
         "x": [
          120,
          145,
          111
         ],
         "xaxis": "x",
         "y": [
          49055.4,
          51373.490000000005,
          69166.87999999999
         ],
         "yaxis": "y"
        },
        {
         "hovertemplate": "COUNTRY=Belgium<br>RECENCY_days=%{x}<br>MONETARY_last_year=%{y}<extra></extra>",
         "legendgroup": "Belgium",
         "marker": {
          "color": "#FF6692",
          "symbol": "circle"
         },
         "mode": "markers",
         "name": "Belgium",
         "orientation": "v",
         "showlegend": true,
         "type": "scatter",
         "x": [
          1,
          141
         ],
         "xaxis": "x",
         "y": [
          56172.43,
          30091.640000000003
         ],
         "yaxis": "y"
        },
        {
         "hovertemplate": "COUNTRY=Sweden<br>RECENCY_days=%{x}<br>MONETARY_last_year=%{y}<extra></extra>",
         "legendgroup": "Sweden",
         "marker": {
          "color": "#B6E880",
          "symbol": "circle"
         },
         "mode": "markers",
         "name": "Sweden",
         "orientation": "v",
         "showlegend": true,
         "type": "scatter",
         "x": [
          89,
          193
         ],
         "xaxis": "x",
         "y": [
          85548.41,
          66005.88
         ],
         "yaxis": "y"
        },
        {
         "hovertemplate": "COUNTRY=Switzerland<br>RECENCY_days=%{x}<br>MONETARY_last_year=%{y}<extra></extra>",
         "legendgroup": "Switzerland",
         "marker": {
          "color": "#FF97FF",
          "symbol": "circle"
         },
         "mode": "markers",
         "name": "Switzerland",
         "orientation": "v",
         "showlegend": true,
         "type": "scatter",
         "x": [
          274
         ],
         "xaxis": "x",
         "y": [
          67281.01000000001
         ],
         "yaxis": "y"
        }
       ],
       "layout": {
        "height": 500,
        "legend": {
         "title": {
          "text": "COUNTRY"
         },
         "tracegroupgap": 0
        },
        "template": {
         "data": {
          "bar": [
           {
            "error_x": {
             "color": "#2a3f5f"
            },
            "error_y": {
             "color": "#2a3f5f"
            },
            "marker": {
             "line": {
              "color": "#E5ECF6",
              "width": 0.5
             },
             "pattern": {
              "fillmode": "overlay",
              "size": 10,
              "solidity": 0.2
             }
            },
            "type": "bar"
           }
          ],
          "barpolar": [
           {
            "marker": {
             "line": {
              "color": "#E5ECF6",
              "width": 0.5
             },
             "pattern": {
              "fillmode": "overlay",
              "size": 10,
              "solidity": 0.2
             }
            },
            "type": "barpolar"
           }
          ],
          "carpet": [
           {
            "aaxis": {
             "endlinecolor": "#2a3f5f",
             "gridcolor": "white",
             "linecolor": "white",
             "minorgridcolor": "white",
             "startlinecolor": "#2a3f5f"
            },
            "baxis": {
             "endlinecolor": "#2a3f5f",
             "gridcolor": "white",
             "linecolor": "white",
             "minorgridcolor": "white",
             "startlinecolor": "#2a3f5f"
            },
            "type": "carpet"
           }
          ],
          "choropleth": [
           {
            "colorbar": {
             "outlinewidth": 0,
             "ticks": ""
            },
            "type": "choropleth"
           }
          ],
          "contour": [
           {
            "colorbar": {
             "outlinewidth": 0,
             "ticks": ""
            },
            "colorscale": [
             [
              0,
              "#0d0887"
             ],
             [
              0.1111111111111111,
              "#46039f"
             ],
             [
              0.2222222222222222,
              "#7201a8"
             ],
             [
              0.3333333333333333,
              "#9c179e"
             ],
             [
              0.4444444444444444,
              "#bd3786"
             ],
             [
              0.5555555555555556,
              "#d8576b"
             ],
             [
              0.6666666666666666,
              "#ed7953"
             ],
             [
              0.7777777777777778,
              "#fb9f3a"
             ],
             [
              0.8888888888888888,
              "#fdca26"
             ],
             [
              1,
              "#f0f921"
             ]
            ],
            "type": "contour"
           }
          ],
          "contourcarpet": [
           {
            "colorbar": {
             "outlinewidth": 0,
             "ticks": ""
            },
            "type": "contourcarpet"
           }
          ],
          "heatmap": [
           {
            "colorbar": {
             "outlinewidth": 0,
             "ticks": ""
            },
            "colorscale": [
             [
              0,
              "#0d0887"
             ],
             [
              0.1111111111111111,
              "#46039f"
             ],
             [
              0.2222222222222222,
              "#7201a8"
             ],
             [
              0.3333333333333333,
              "#9c179e"
             ],
             [
              0.4444444444444444,
              "#bd3786"
             ],
             [
              0.5555555555555556,
              "#d8576b"
             ],
             [
              0.6666666666666666,
              "#ed7953"
             ],
             [
              0.7777777777777778,
              "#fb9f3a"
             ],
             [
              0.8888888888888888,
              "#fdca26"
             ],
             [
              1,
              "#f0f921"
             ]
            ],
            "type": "heatmap"
           }
          ],
          "heatmapgl": [
           {
            "colorbar": {
             "outlinewidth": 0,
             "ticks": ""
            },
            "colorscale": [
             [
              0,
              "#0d0887"
             ],
             [
              0.1111111111111111,
              "#46039f"
             ],
             [
              0.2222222222222222,
              "#7201a8"
             ],
             [
              0.3333333333333333,
              "#9c179e"
             ],
             [
              0.4444444444444444,
              "#bd3786"
             ],
             [
              0.5555555555555556,
              "#d8576b"
             ],
             [
              0.6666666666666666,
              "#ed7953"
             ],
             [
              0.7777777777777778,
              "#fb9f3a"
             ],
             [
              0.8888888888888888,
              "#fdca26"
             ],
             [
              1,
              "#f0f921"
             ]
            ],
            "type": "heatmapgl"
           }
          ],
          "histogram": [
           {
            "marker": {
             "pattern": {
              "fillmode": "overlay",
              "size": 10,
              "solidity": 0.2
             }
            },
            "type": "histogram"
           }
          ],
          "histogram2d": [
           {
            "colorbar": {
             "outlinewidth": 0,
             "ticks": ""
            },
            "colorscale": [
             [
              0,
              "#0d0887"
             ],
             [
              0.1111111111111111,
              "#46039f"
             ],
             [
              0.2222222222222222,
              "#7201a8"
             ],
             [
              0.3333333333333333,
              "#9c179e"
             ],
             [
              0.4444444444444444,
              "#bd3786"
             ],
             [
              0.5555555555555556,
              "#d8576b"
             ],
             [
              0.6666666666666666,
              "#ed7953"
             ],
             [
              0.7777777777777778,
              "#fb9f3a"
             ],
             [
              0.8888888888888888,
              "#fdca26"
             ],
             [
              1,
              "#f0f921"
             ]
            ],
            "type": "histogram2d"
           }
          ],
          "histogram2dcontour": [
           {
            "colorbar": {
             "outlinewidth": 0,
             "ticks": ""
            },
            "colorscale": [
             [
              0,
              "#0d0887"
             ],
             [
              0.1111111111111111,
              "#46039f"
             ],
             [
              0.2222222222222222,
              "#7201a8"
             ],
             [
              0.3333333333333333,
              "#9c179e"
             ],
             [
              0.4444444444444444,
              "#bd3786"
             ],
             [
              0.5555555555555556,
              "#d8576b"
             ],
             [
              0.6666666666666666,
              "#ed7953"
             ],
             [
              0.7777777777777778,
              "#fb9f3a"
             ],
             [
              0.8888888888888888,
              "#fdca26"
             ],
             [
              1,
              "#f0f921"
             ]
            ],
            "type": "histogram2dcontour"
           }
          ],
          "mesh3d": [
           {
            "colorbar": {
             "outlinewidth": 0,
             "ticks": ""
            },
            "type": "mesh3d"
           }
          ],
          "parcoords": [
           {
            "line": {
             "colorbar": {
              "outlinewidth": 0,
              "ticks": ""
             }
            },
            "type": "parcoords"
           }
          ],
          "pie": [
           {
            "automargin": true,
            "type": "pie"
           }
          ],
          "scatter": [
           {
            "fillpattern": {
             "fillmode": "overlay",
             "size": 10,
             "solidity": 0.2
            },
            "type": "scatter"
           }
          ],
          "scatter3d": [
           {
            "line": {
             "colorbar": {
              "outlinewidth": 0,
              "ticks": ""
             }
            },
            "marker": {
             "colorbar": {
              "outlinewidth": 0,
              "ticks": ""
             }
            },
            "type": "scatter3d"
           }
          ],
          "scattercarpet": [
           {
            "marker": {
             "colorbar": {
              "outlinewidth": 0,
              "ticks": ""
             }
            },
            "type": "scattercarpet"
           }
          ],
          "scattergeo": [
           {
            "marker": {
             "colorbar": {
              "outlinewidth": 0,
              "ticks": ""
             }
            },
            "type": "scattergeo"
           }
          ],
          "scattergl": [
           {
            "marker": {
             "colorbar": {
              "outlinewidth": 0,
              "ticks": ""
             }
            },
            "type": "scattergl"
           }
          ],
          "scattermapbox": [
           {
            "marker": {
             "colorbar": {
              "outlinewidth": 0,
              "ticks": ""
             }
            },
            "type": "scattermapbox"
           }
          ],
          "scatterpolar": [
           {
            "marker": {
             "colorbar": {
              "outlinewidth": 0,
              "ticks": ""
             }
            },
            "type": "scatterpolar"
           }
          ],
          "scatterpolargl": [
           {
            "marker": {
             "colorbar": {
              "outlinewidth": 0,
              "ticks": ""
             }
            },
            "type": "scatterpolargl"
           }
          ],
          "scatterternary": [
           {
            "marker": {
             "colorbar": {
              "outlinewidth": 0,
              "ticks": ""
             }
            },
            "type": "scatterternary"
           }
          ],
          "surface": [
           {
            "colorbar": {
             "outlinewidth": 0,
             "ticks": ""
            },
            "colorscale": [
             [
              0,
              "#0d0887"
             ],
             [
              0.1111111111111111,
              "#46039f"
             ],
             [
              0.2222222222222222,
              "#7201a8"
             ],
             [
              0.3333333333333333,
              "#9c179e"
             ],
             [
              0.4444444444444444,
              "#bd3786"
             ],
             [
              0.5555555555555556,
              "#d8576b"
             ],
             [
              0.6666666666666666,
              "#ed7953"
             ],
             [
              0.7777777777777778,
              "#fb9f3a"
             ],
             [
              0.8888888888888888,
              "#fdca26"
             ],
             [
              1,
              "#f0f921"
             ]
            ],
            "type": "surface"
           }
          ],
          "table": [
           {
            "cells": {
             "fill": {
              "color": "#EBF0F8"
             },
             "line": {
              "color": "white"
             }
            },
            "header": {
             "fill": {
              "color": "#C8D4E3"
             },
             "line": {
              "color": "white"
             }
            },
            "type": "table"
           }
          ]
         },
         "layout": {
          "annotationdefaults": {
           "arrowcolor": "#2a3f5f",
           "arrowhead": 0,
           "arrowwidth": 1
          },
          "autotypenumbers": "strict",
          "coloraxis": {
           "colorbar": {
            "outlinewidth": 0,
            "ticks": ""
           }
          },
          "colorscale": {
           "diverging": [
            [
             0,
             "#8e0152"
            ],
            [
             0.1,
             "#c51b7d"
            ],
            [
             0.2,
             "#de77ae"
            ],
            [
             0.3,
             "#f1b6da"
            ],
            [
             0.4,
             "#fde0ef"
            ],
            [
             0.5,
             "#f7f7f7"
            ],
            [
             0.6,
             "#e6f5d0"
            ],
            [
             0.7,
             "#b8e186"
            ],
            [
             0.8,
             "#7fbc41"
            ],
            [
             0.9,
             "#4d9221"
            ],
            [
             1,
             "#276419"
            ]
           ],
           "sequential": [
            [
             0,
             "#0d0887"
            ],
            [
             0.1111111111111111,
             "#46039f"
            ],
            [
             0.2222222222222222,
             "#7201a8"
            ],
            [
             0.3333333333333333,
             "#9c179e"
            ],
            [
             0.4444444444444444,
             "#bd3786"
            ],
            [
             0.5555555555555556,
             "#d8576b"
            ],
            [
             0.6666666666666666,
             "#ed7953"
            ],
            [
             0.7777777777777778,
             "#fb9f3a"
            ],
            [
             0.8888888888888888,
             "#fdca26"
            ],
            [
             1,
             "#f0f921"
            ]
           ],
           "sequentialminus": [
            [
             0,
             "#0d0887"
            ],
            [
             0.1111111111111111,
             "#46039f"
            ],
            [
             0.2222222222222222,
             "#7201a8"
            ],
            [
             0.3333333333333333,
             "#9c179e"
            ],
            [
             0.4444444444444444,
             "#bd3786"
            ],
            [
             0.5555555555555556,
             "#d8576b"
            ],
            [
             0.6666666666666666,
             "#ed7953"
            ],
            [
             0.7777777777777778,
             "#fb9f3a"
            ],
            [
             0.8888888888888888,
             "#fdca26"
            ],
            [
             1,
             "#f0f921"
            ]
           ]
          },
          "colorway": [
           "#636efa",
           "#EF553B",
           "#00cc96",
           "#ab63fa",
           "#FFA15A",
           "#19d3f3",
           "#FF6692",
           "#B6E880",
           "#FF97FF",
           "#FECB52"
          ],
          "font": {
           "color": "#2a3f5f"
          },
          "geo": {
           "bgcolor": "white",
           "lakecolor": "white",
           "landcolor": "#E5ECF6",
           "showlakes": true,
           "showland": true,
           "subunitcolor": "white"
          },
          "hoverlabel": {
           "align": "left"
          },
          "hovermode": "closest",
          "mapbox": {
           "style": "light"
          },
          "paper_bgcolor": "white",
          "plot_bgcolor": "#E5ECF6",
          "polar": {
           "angularaxis": {
            "gridcolor": "white",
            "linecolor": "white",
            "ticks": ""
           },
           "bgcolor": "#E5ECF6",
           "radialaxis": {
            "gridcolor": "white",
            "linecolor": "white",
            "ticks": ""
           }
          },
          "scene": {
           "xaxis": {
            "backgroundcolor": "#E5ECF6",
            "gridcolor": "white",
            "gridwidth": 2,
            "linecolor": "white",
            "showbackground": true,
            "ticks": "",
            "zerolinecolor": "white"
           },
           "yaxis": {
            "backgroundcolor": "#E5ECF6",
            "gridcolor": "white",
            "gridwidth": 2,
            "linecolor": "white",
            "showbackground": true,
            "ticks": "",
            "zerolinecolor": "white"
           },
           "zaxis": {
            "backgroundcolor": "#E5ECF6",
            "gridcolor": "white",
            "gridwidth": 2,
            "linecolor": "white",
            "showbackground": true,
            "ticks": "",
            "zerolinecolor": "white"
           }
          },
          "shapedefaults": {
           "line": {
            "color": "#2a3f5f"
           }
          },
          "ternary": {
           "aaxis": {
            "gridcolor": "white",
            "linecolor": "white",
            "ticks": ""
           },
           "baxis": {
            "gridcolor": "white",
            "linecolor": "white",
            "ticks": ""
           },
           "bgcolor": "#E5ECF6",
           "caxis": {
            "gridcolor": "white",
            "linecolor": "white",
            "ticks": ""
           }
          },
          "title": {
           "x": 0.05
          },
          "xaxis": {
           "automargin": true,
           "gridcolor": "white",
           "linecolor": "white",
           "ticks": "",
           "title": {
            "standoff": 15
           },
           "zerolinecolor": "white",
           "zerolinewidth": 2
          },
          "yaxis": {
           "automargin": true,
           "gridcolor": "white",
           "linecolor": "white",
           "ticks": "",
           "title": {
            "standoff": 15
           },
           "zerolinecolor": "white",
           "zerolinewidth": 2
          }
         }
        },
        "title": {
         "text": "Relationship between RECENCY VS MONETARY"
        },
        "xaxis": {
         "anchor": "y",
         "domain": [
          0,
          1
         ],
         "title": {
          "text": "RECENCY_days"
         }
        },
        "yaxis": {
         "anchor": "x",
         "domain": [
          0,
          1
         ],
         "title": {
          "text": "MONETARY_last_year"
         }
        }
       }
      }
     },
     "metadata": {},
     "output_type": "display_data"
    }
   ],
   "source": [
    "fig = px.scatter(\n",
    "    data_frame=customer_df,\n",
    "    x = \"RECENCY_days\",\n",
    "    y= \"MONETARY_last_year\",\n",
    "    title = \"Relationship between RECENCY VS MONETARY\",\n",
    "    color = \"COUNTRY\",\n",
    "    height=500\n",
    ")\n",
    "fig.show()"
   ]
  },
  {
   "cell_type": "code",
   "execution_count": 17,
   "metadata": {},
   "outputs": [
    {
     "data": {
      "application/vnd.plotly.v1+json": {
       "config": {
        "plotlyServerURL": "https://plot.ly"
       },
       "data": [
        {
         "hovertemplate": "QUANTITYORDERED_last_year=%{x}<br>MONETARY_last_year=%{y}<extra></extra>",
         "legendgroup": "",
         "marker": {
          "color": "#636efa",
          "symbol": "circle"
         },
         "mode": "markers",
         "name": "",
         "orientation": "v",
         "showlegend": false,
         "type": "scatter",
         "x": [
          1208,
          172,
          843,
          595,
          114,
          258,
          838,
          209,
          594,
          159,
          214,
          519,
          401,
          80,
          35,
          0,
          0,
          348,
          277,
          285,
          201,
          0,
          454,
          471,
          305,
          158,
          0,
          490,
          1111,
          0,
          0,
          72,
          343,
          5862,
          805,
          640,
          346,
          933,
          996,
          524,
          150,
          70,
          955,
          485,
          1832,
          948,
          457,
          259,
          976,
          0,
          335,
          102,
          397,
          544,
          96,
          3992,
          261,
          437,
          616,
          418,
          512,
          572,
          0,
          605,
          629,
          572,
          1110,
          495,
          483,
          231,
          1000,
          0,
          809,
          0,
          481,
          1335,
          156,
          508,
          0,
          152,
          585,
          1135,
          1150,
          619,
          597,
          469,
          800,
          595,
          468,
          595,
          0,
          623
         ],
         "xaxis": "x",
         "y": [
          106789.89000000001,
          15139.119999999999,
          94117.26,
          65012.420000000006,
          7619.66,
          26712.91,
          91222,
          21730.03,
          59074.899999999994,
          14066.8,
          19201.91,
          60422.530000000006,
          34993.92,
          9214.970000000001,
          3987.2,
          0,
          0,
          36576.71000000001,
          27445.309999999998,
          27733.04,
          18971.96,
          0,
          46585.579999999994,
          54203.619999999995,
          34546.600000000006,
          15928.75,
          0,
          54840.92999999999,
          122138.14000000001,
          0,
          0,
          7303.4800000000005,
          30183.350000000002,
          567255.97,
          87062.04000000001,
          75778.99,
          29343.35,
          83209.88,
          91279.14000000003,
          60273.939999999995,
          16363.1,
          3220.88,
          97931.59000000001,
          58986.270000000004,
          180124.9,
          92928.01999999999,
          52945.45999999999,
          22454.3,
          103080.38000000002,
          0,
          31446.149999999998,
          8775.16,
          41097.25,
          46873.04,
          11021.3,
          420807.17000000004,
          30348.72,
          48996.1,
          64958.700000000004,
          34145.47,
          55570.6,
          57197.95999999999,
          0,
          49055.4,
          56172.43,
          58257.50000000001,
          100924.66,
          41696.689999999995,
          43332.350000000006,
          30091.640000000003,
          111169.48999999999,
          0,
          85548.41,
          0,
          48903.46000000001,
          123173.72000000002,
          13739.900000000001,
          51373.490000000005,
          0,
          16445.77,
          46519,
          111538.02999999998,
          120562.74,
          68943.40000000001,
          69166.87999999999,
          44273.35999999999,
          91211.05999999998,
          67281.01000000001,
          56372.87,
          66005.88,
          0,
          51334.16
         ],
         "yaxis": "y"
        }
       ],
       "layout": {
        "height": 500,
        "legend": {
         "tracegroupgap": 0
        },
        "template": {
         "data": {
          "bar": [
           {
            "error_x": {
             "color": "#2a3f5f"
            },
            "error_y": {
             "color": "#2a3f5f"
            },
            "marker": {
             "line": {
              "color": "#E5ECF6",
              "width": 0.5
             },
             "pattern": {
              "fillmode": "overlay",
              "size": 10,
              "solidity": 0.2
             }
            },
            "type": "bar"
           }
          ],
          "barpolar": [
           {
            "marker": {
             "line": {
              "color": "#E5ECF6",
              "width": 0.5
             },
             "pattern": {
              "fillmode": "overlay",
              "size": 10,
              "solidity": 0.2
             }
            },
            "type": "barpolar"
           }
          ],
          "carpet": [
           {
            "aaxis": {
             "endlinecolor": "#2a3f5f",
             "gridcolor": "white",
             "linecolor": "white",
             "minorgridcolor": "white",
             "startlinecolor": "#2a3f5f"
            },
            "baxis": {
             "endlinecolor": "#2a3f5f",
             "gridcolor": "white",
             "linecolor": "white",
             "minorgridcolor": "white",
             "startlinecolor": "#2a3f5f"
            },
            "type": "carpet"
           }
          ],
          "choropleth": [
           {
            "colorbar": {
             "outlinewidth": 0,
             "ticks": ""
            },
            "type": "choropleth"
           }
          ],
          "contour": [
           {
            "colorbar": {
             "outlinewidth": 0,
             "ticks": ""
            },
            "colorscale": [
             [
              0,
              "#0d0887"
             ],
             [
              0.1111111111111111,
              "#46039f"
             ],
             [
              0.2222222222222222,
              "#7201a8"
             ],
             [
              0.3333333333333333,
              "#9c179e"
             ],
             [
              0.4444444444444444,
              "#bd3786"
             ],
             [
              0.5555555555555556,
              "#d8576b"
             ],
             [
              0.6666666666666666,
              "#ed7953"
             ],
             [
              0.7777777777777778,
              "#fb9f3a"
             ],
             [
              0.8888888888888888,
              "#fdca26"
             ],
             [
              1,
              "#f0f921"
             ]
            ],
            "type": "contour"
           }
          ],
          "contourcarpet": [
           {
            "colorbar": {
             "outlinewidth": 0,
             "ticks": ""
            },
            "type": "contourcarpet"
           }
          ],
          "heatmap": [
           {
            "colorbar": {
             "outlinewidth": 0,
             "ticks": ""
            },
            "colorscale": [
             [
              0,
              "#0d0887"
             ],
             [
              0.1111111111111111,
              "#46039f"
             ],
             [
              0.2222222222222222,
              "#7201a8"
             ],
             [
              0.3333333333333333,
              "#9c179e"
             ],
             [
              0.4444444444444444,
              "#bd3786"
             ],
             [
              0.5555555555555556,
              "#d8576b"
             ],
             [
              0.6666666666666666,
              "#ed7953"
             ],
             [
              0.7777777777777778,
              "#fb9f3a"
             ],
             [
              0.8888888888888888,
              "#fdca26"
             ],
             [
              1,
              "#f0f921"
             ]
            ],
            "type": "heatmap"
           }
          ],
          "heatmapgl": [
           {
            "colorbar": {
             "outlinewidth": 0,
             "ticks": ""
            },
            "colorscale": [
             [
              0,
              "#0d0887"
             ],
             [
              0.1111111111111111,
              "#46039f"
             ],
             [
              0.2222222222222222,
              "#7201a8"
             ],
             [
              0.3333333333333333,
              "#9c179e"
             ],
             [
              0.4444444444444444,
              "#bd3786"
             ],
             [
              0.5555555555555556,
              "#d8576b"
             ],
             [
              0.6666666666666666,
              "#ed7953"
             ],
             [
              0.7777777777777778,
              "#fb9f3a"
             ],
             [
              0.8888888888888888,
              "#fdca26"
             ],
             [
              1,
              "#f0f921"
             ]
            ],
            "type": "heatmapgl"
           }
          ],
          "histogram": [
           {
            "marker": {
             "pattern": {
              "fillmode": "overlay",
              "size": 10,
              "solidity": 0.2
             }
            },
            "type": "histogram"
           }
          ],
          "histogram2d": [
           {
            "colorbar": {
             "outlinewidth": 0,
             "ticks": ""
            },
            "colorscale": [
             [
              0,
              "#0d0887"
             ],
             [
              0.1111111111111111,
              "#46039f"
             ],
             [
              0.2222222222222222,
              "#7201a8"
             ],
             [
              0.3333333333333333,
              "#9c179e"
             ],
             [
              0.4444444444444444,
              "#bd3786"
             ],
             [
              0.5555555555555556,
              "#d8576b"
             ],
             [
              0.6666666666666666,
              "#ed7953"
             ],
             [
              0.7777777777777778,
              "#fb9f3a"
             ],
             [
              0.8888888888888888,
              "#fdca26"
             ],
             [
              1,
              "#f0f921"
             ]
            ],
            "type": "histogram2d"
           }
          ],
          "histogram2dcontour": [
           {
            "colorbar": {
             "outlinewidth": 0,
             "ticks": ""
            },
            "colorscale": [
             [
              0,
              "#0d0887"
             ],
             [
              0.1111111111111111,
              "#46039f"
             ],
             [
              0.2222222222222222,
              "#7201a8"
             ],
             [
              0.3333333333333333,
              "#9c179e"
             ],
             [
              0.4444444444444444,
              "#bd3786"
             ],
             [
              0.5555555555555556,
              "#d8576b"
             ],
             [
              0.6666666666666666,
              "#ed7953"
             ],
             [
              0.7777777777777778,
              "#fb9f3a"
             ],
             [
              0.8888888888888888,
              "#fdca26"
             ],
             [
              1,
              "#f0f921"
             ]
            ],
            "type": "histogram2dcontour"
           }
          ],
          "mesh3d": [
           {
            "colorbar": {
             "outlinewidth": 0,
             "ticks": ""
            },
            "type": "mesh3d"
           }
          ],
          "parcoords": [
           {
            "line": {
             "colorbar": {
              "outlinewidth": 0,
              "ticks": ""
             }
            },
            "type": "parcoords"
           }
          ],
          "pie": [
           {
            "automargin": true,
            "type": "pie"
           }
          ],
          "scatter": [
           {
            "fillpattern": {
             "fillmode": "overlay",
             "size": 10,
             "solidity": 0.2
            },
            "type": "scatter"
           }
          ],
          "scatter3d": [
           {
            "line": {
             "colorbar": {
              "outlinewidth": 0,
              "ticks": ""
             }
            },
            "marker": {
             "colorbar": {
              "outlinewidth": 0,
              "ticks": ""
             }
            },
            "type": "scatter3d"
           }
          ],
          "scattercarpet": [
           {
            "marker": {
             "colorbar": {
              "outlinewidth": 0,
              "ticks": ""
             }
            },
            "type": "scattercarpet"
           }
          ],
          "scattergeo": [
           {
            "marker": {
             "colorbar": {
              "outlinewidth": 0,
              "ticks": ""
             }
            },
            "type": "scattergeo"
           }
          ],
          "scattergl": [
           {
            "marker": {
             "colorbar": {
              "outlinewidth": 0,
              "ticks": ""
             }
            },
            "type": "scattergl"
           }
          ],
          "scattermapbox": [
           {
            "marker": {
             "colorbar": {
              "outlinewidth": 0,
              "ticks": ""
             }
            },
            "type": "scattermapbox"
           }
          ],
          "scatterpolar": [
           {
            "marker": {
             "colorbar": {
              "outlinewidth": 0,
              "ticks": ""
             }
            },
            "type": "scatterpolar"
           }
          ],
          "scatterpolargl": [
           {
            "marker": {
             "colorbar": {
              "outlinewidth": 0,
              "ticks": ""
             }
            },
            "type": "scatterpolargl"
           }
          ],
          "scatterternary": [
           {
            "marker": {
             "colorbar": {
              "outlinewidth": 0,
              "ticks": ""
             }
            },
            "type": "scatterternary"
           }
          ],
          "surface": [
           {
            "colorbar": {
             "outlinewidth": 0,
             "ticks": ""
            },
            "colorscale": [
             [
              0,
              "#0d0887"
             ],
             [
              0.1111111111111111,
              "#46039f"
             ],
             [
              0.2222222222222222,
              "#7201a8"
             ],
             [
              0.3333333333333333,
              "#9c179e"
             ],
             [
              0.4444444444444444,
              "#bd3786"
             ],
             [
              0.5555555555555556,
              "#d8576b"
             ],
             [
              0.6666666666666666,
              "#ed7953"
             ],
             [
              0.7777777777777778,
              "#fb9f3a"
             ],
             [
              0.8888888888888888,
              "#fdca26"
             ],
             [
              1,
              "#f0f921"
             ]
            ],
            "type": "surface"
           }
          ],
          "table": [
           {
            "cells": {
             "fill": {
              "color": "#EBF0F8"
             },
             "line": {
              "color": "white"
             }
            },
            "header": {
             "fill": {
              "color": "#C8D4E3"
             },
             "line": {
              "color": "white"
             }
            },
            "type": "table"
           }
          ]
         },
         "layout": {
          "annotationdefaults": {
           "arrowcolor": "#2a3f5f",
           "arrowhead": 0,
           "arrowwidth": 1
          },
          "autotypenumbers": "strict",
          "coloraxis": {
           "colorbar": {
            "outlinewidth": 0,
            "ticks": ""
           }
          },
          "colorscale": {
           "diverging": [
            [
             0,
             "#8e0152"
            ],
            [
             0.1,
             "#c51b7d"
            ],
            [
             0.2,
             "#de77ae"
            ],
            [
             0.3,
             "#f1b6da"
            ],
            [
             0.4,
             "#fde0ef"
            ],
            [
             0.5,
             "#f7f7f7"
            ],
            [
             0.6,
             "#e6f5d0"
            ],
            [
             0.7,
             "#b8e186"
            ],
            [
             0.8,
             "#7fbc41"
            ],
            [
             0.9,
             "#4d9221"
            ],
            [
             1,
             "#276419"
            ]
           ],
           "sequential": [
            [
             0,
             "#0d0887"
            ],
            [
             0.1111111111111111,
             "#46039f"
            ],
            [
             0.2222222222222222,
             "#7201a8"
            ],
            [
             0.3333333333333333,
             "#9c179e"
            ],
            [
             0.4444444444444444,
             "#bd3786"
            ],
            [
             0.5555555555555556,
             "#d8576b"
            ],
            [
             0.6666666666666666,
             "#ed7953"
            ],
            [
             0.7777777777777778,
             "#fb9f3a"
            ],
            [
             0.8888888888888888,
             "#fdca26"
            ],
            [
             1,
             "#f0f921"
            ]
           ],
           "sequentialminus": [
            [
             0,
             "#0d0887"
            ],
            [
             0.1111111111111111,
             "#46039f"
            ],
            [
             0.2222222222222222,
             "#7201a8"
            ],
            [
             0.3333333333333333,
             "#9c179e"
            ],
            [
             0.4444444444444444,
             "#bd3786"
            ],
            [
             0.5555555555555556,
             "#d8576b"
            ],
            [
             0.6666666666666666,
             "#ed7953"
            ],
            [
             0.7777777777777778,
             "#fb9f3a"
            ],
            [
             0.8888888888888888,
             "#fdca26"
            ],
            [
             1,
             "#f0f921"
            ]
           ]
          },
          "colorway": [
           "#636efa",
           "#EF553B",
           "#00cc96",
           "#ab63fa",
           "#FFA15A",
           "#19d3f3",
           "#FF6692",
           "#B6E880",
           "#FF97FF",
           "#FECB52"
          ],
          "font": {
           "color": "#2a3f5f"
          },
          "geo": {
           "bgcolor": "white",
           "lakecolor": "white",
           "landcolor": "#E5ECF6",
           "showlakes": true,
           "showland": true,
           "subunitcolor": "white"
          },
          "hoverlabel": {
           "align": "left"
          },
          "hovermode": "closest",
          "mapbox": {
           "style": "light"
          },
          "paper_bgcolor": "white",
          "plot_bgcolor": "#E5ECF6",
          "polar": {
           "angularaxis": {
            "gridcolor": "white",
            "linecolor": "white",
            "ticks": ""
           },
           "bgcolor": "#E5ECF6",
           "radialaxis": {
            "gridcolor": "white",
            "linecolor": "white",
            "ticks": ""
           }
          },
          "scene": {
           "xaxis": {
            "backgroundcolor": "#E5ECF6",
            "gridcolor": "white",
            "gridwidth": 2,
            "linecolor": "white",
            "showbackground": true,
            "ticks": "",
            "zerolinecolor": "white"
           },
           "yaxis": {
            "backgroundcolor": "#E5ECF6",
            "gridcolor": "white",
            "gridwidth": 2,
            "linecolor": "white",
            "showbackground": true,
            "ticks": "",
            "zerolinecolor": "white"
           },
           "zaxis": {
            "backgroundcolor": "#E5ECF6",
            "gridcolor": "white",
            "gridwidth": 2,
            "linecolor": "white",
            "showbackground": true,
            "ticks": "",
            "zerolinecolor": "white"
           }
          },
          "shapedefaults": {
           "line": {
            "color": "#2a3f5f"
           }
          },
          "ternary": {
           "aaxis": {
            "gridcolor": "white",
            "linecolor": "white",
            "ticks": ""
           },
           "baxis": {
            "gridcolor": "white",
            "linecolor": "white",
            "ticks": ""
           },
           "bgcolor": "#E5ECF6",
           "caxis": {
            "gridcolor": "white",
            "linecolor": "white",
            "ticks": ""
           }
          },
          "title": {
           "x": 0.05
          },
          "xaxis": {
           "automargin": true,
           "gridcolor": "white",
           "linecolor": "white",
           "ticks": "",
           "title": {
            "standoff": 15
           },
           "zerolinecolor": "white",
           "zerolinewidth": 2
          },
          "yaxis": {
           "automargin": true,
           "gridcolor": "white",
           "linecolor": "white",
           "ticks": "",
           "title": {
            "standoff": 15
           },
           "zerolinecolor": "white",
           "zerolinewidth": 2
          }
         }
        },
        "title": {
         "text": "Relationship between QUANTITYORDERED VS MONETARY"
        },
        "xaxis": {
         "anchor": "y",
         "domain": [
          0,
          1
         ],
         "title": {
          "text": "QUANTITYORDERED_last_year"
         }
        },
        "yaxis": {
         "anchor": "x",
         "domain": [
          0,
          1
         ],
         "title": {
          "text": "MONETARY_last_year"
         }
        }
       }
      }
     },
     "metadata": {},
     "output_type": "display_data"
    }
   ],
   "source": [
    "fig = px.scatter(\n",
    "    data_frame=customer_df,\n",
    "    x = \"QUANTITYORDERED_last_year\",\n",
    "    y= \"MONETARY_last_year\",\n",
    "    title = \"Relationship between QUANTITYORDERED VS MONETARY\",\n",
    "    # color = \"COUNTRY\",\n",
    "    height=500\n",
    ")\n",
    "fig.show()"
   ]
  },
  {
   "cell_type": "markdown",
   "metadata": {},
   "source": [
    "As can be seen in the above picture the features `QUANTITYORDERED_last_year` and `MONETARY_last_year` have a linear relationship so then one of both can be removed from the cluster analysis in order to reduce the dimmnencionality and simplify the analysis of the clusters. In this case `QUANTITYORDERED_last_year` feature will be removed.\n"
   ]
  },
  {
   "cell_type": "code",
   "execution_count": 18,
   "metadata": {},
   "outputs": [
    {
     "data": {
      "application/vnd.plotly.v1+json": {
       "config": {
        "plotlyServerURL": "https://plot.ly"
       },
       "data": [
        {
         "hovertemplate": "COUNTRY=UK<br>FREQUENCY_last_year=%{x}<br>MONETARY_last_year=%{y}<extra></extra>",
         "legendgroup": "UK",
         "marker": {
          "color": "#636efa",
          "symbol": "circle"
         },
         "mode": "markers",
         "name": "UK",
         "orientation": "v",
         "showlegend": true,
         "type": "scatter",
         "x": [
          2,
          0,
          1,
          2,
          1
         ],
         "xaxis": "x",
         "y": [
          106789.89000000001,
          0,
          13739.900000000001,
          91211.05999999998,
          51334.16
         ],
         "yaxis": "y"
        },
        {
         "hovertemplate": "COUNTRY=France<br>FREQUENCY_last_year=%{x}<br>MONETARY_last_year=%{y}<extra></extra>",
         "legendgroup": "France",
         "marker": {
          "color": "#EF553B",
          "symbol": "circle"
         },
         "mode": "markers",
         "name": "France",
         "orientation": "v",
         "showlegend": true,
         "type": "scatter",
         "x": [
          1,
          2,
          1,
          1,
          0,
          2,
          4,
          2,
          2,
          2,
          3,
          0
         ],
         "xaxis": "x",
         "y": [
          15139.119999999999,
          7619.66,
          59074.899999999994,
          14066.8,
          0,
          58986.270000000004,
          180124.9,
          52945.45999999999,
          22454.3,
          41097.25,
          100924.66,
          0
         ],
         "yaxis": "y"
        },
        {
         "hovertemplate": "COUNTRY=Italy<br>FREQUENCY_last_year=%{x}<br>MONETARY_last_year=%{y}<extra></extra>",
         "legendgroup": "Italy",
         "marker": {
          "color": "#00cc96",
          "symbol": "circle"
         },
         "mode": "markers",
         "name": "Italy",
         "orientation": "v",
         "showlegend": true,
         "type": "scatter",
         "x": [
          2,
          2,
          1
         ],
         "xaxis": "x",
         "y": [
          94117.26,
          97931.59000000001,
          41696.689999999995
         ],
         "yaxis": "y"
        },
        {
         "hovertemplate": "COUNTRY=Australia<br>FREQUENCY_last_year=%{x}<br>MONETARY_last_year=%{y}<extra></extra>",
         "legendgroup": "Australia",
         "marker": {
          "color": "#ab63fa",
          "symbol": "circle"
         },
         "mode": "markers",
         "name": "Australia",
         "orientation": "v",
         "showlegend": true,
         "type": "scatter",
         "x": [
          2,
          2,
          2,
          1,
          3
         ],
         "xaxis": "x",
         "y": [
          65012.420000000006,
          26712.91,
          91222,
          21730.03,
          123173.72000000002
         ],
         "yaxis": "y"
        },
        {
         "hovertemplate": "COUNTRY=USA<br>FREQUENCY_last_year=%{x}<br>MONETARY_last_year=%{y}<extra></extra>",
         "legendgroup": "USA",
         "marker": {
          "color": "#FFA15A",
          "symbol": "circle"
         },
         "mode": "markers",
         "name": "USA",
         "orientation": "v",
         "showlegend": true,
         "type": "scatter",
         "x": [
          2,
          1,
          0,
          1,
          1,
          0,
          2,
          2,
          4,
          0,
          2,
          2,
          1,
          3,
          2,
          2,
          0,
          1,
          1,
          1,
          12,
          1,
          1,
          2,
          1,
          2,
          0,
          2,
          0,
          2,
          1,
          3,
          1,
          1,
          0
         ],
         "xaxis": "x",
         "y": [
          19201.91,
          3987.2,
          0,
          27445.309999999998,
          27733.04,
          0,
          46585.579999999994,
          54203.619999999995,
          122138.14000000001,
          0,
          87062.04000000001,
          75778.99,
          29343.35,
          83209.88,
          92928.01999999999,
          103080.38000000002,
          0,
          31446.149999999998,
          46873.04,
          11021.3,
          420807.17000000004,
          30348.72,
          48996.1,
          64958.700000000004,
          55570.6,
          57197.95999999999,
          0,
          48903.46000000001,
          0,
          16445.77,
          46519,
          111538.02999999998,
          44273.35999999999,
          56372.87,
          0
         ],
         "yaxis": "y"
        },
        {
         "hovertemplate": "COUNTRY=Norway<br>FREQUENCY_last_year=%{x}<br>MONETARY_last_year=%{y}<extra></extra>",
         "legendgroup": "Norway",
         "marker": {
          "color": "#19d3f3",
          "symbol": "circle"
         },
         "mode": "markers",
         "name": "Norway",
         "orientation": "v",
         "showlegend": true,
         "type": "scatter",
         "x": [
          2,
          1,
          1
         ],
         "xaxis": "x",
         "y": [
          60422.530000000006,
          16363.1,
          34145.47
         ],
         "yaxis": "y"
        },
        {
         "hovertemplate": "COUNTRY=Germany<br>FREQUENCY_last_year=%{x}<br>MONETARY_last_year=%{y}<extra></extra>",
         "legendgroup": "Germany",
         "marker": {
          "color": "#FF6692",
          "symbol": "circle"
         },
         "mode": "markers",
         "name": "Germany",
         "orientation": "v",
         "showlegend": true,
         "type": "scatter",
         "x": [
          1,
          1,
          1
         ],
         "xaxis": "x",
         "y": [
          34993.92,
          9214.970000000001,
          68943.40000000001
         ],
         "yaxis": "y"
        },
        {
         "hovertemplate": "COUNTRY=Spain<br>FREQUENCY_last_year=%{x}<br>MONETARY_last_year=%{y}<extra></extra>",
         "legendgroup": "Spain",
         "marker": {
          "color": "#B6E880",
          "symbol": "circle"
         },
         "mode": "markers",
         "name": "Spain",
         "orientation": "v",
         "showlegend": true,
         "type": "scatter",
         "x": [
          0,
          1,
          1,
          15,
          1
         ],
         "xaxis": "x",
         "y": [
          0,
          34546.600000000006,
          30183.350000000002,
          567255.97,
          3220.88
         ],
         "yaxis": "y"
        },
        {
         "hovertemplate": "COUNTRY=Canada<br>FREQUENCY_last_year=%{x}<br>MONETARY_last_year=%{y}<extra></extra>",
         "legendgroup": "Canada",
         "marker": {
          "color": "#FF97FF",
          "symbol": "circle"
         },
         "mode": "markers",
         "name": "Canada",
         "orientation": "v",
         "showlegend": true,
         "type": "scatter",
         "x": [
          1,
          2,
          1
         ],
         "xaxis": "x",
         "y": [
          36576.71000000001,
          58257.50000000001,
          43332.350000000006
         ],
         "yaxis": "y"
        },
        {
         "hovertemplate": "COUNTRY=Ireland<br>FREQUENCY_last_year=%{x}<br>MONETARY_last_year=%{y}<extra></extra>",
         "legendgroup": "Ireland",
         "marker": {
          "color": "#FECB52",
          "symbol": "circle"
         },
         "mode": "markers",
         "name": "Ireland",
         "orientation": "v",
         "showlegend": true,
         "type": "scatter",
         "x": [
          1
         ],
         "xaxis": "x",
         "y": [
          18971.96
         ],
         "yaxis": "y"
        },
        {
         "hovertemplate": "COUNTRY=Philippines<br>FREQUENCY_last_year=%{x}<br>MONETARY_last_year=%{y}<extra></extra>",
         "legendgroup": "Philippines",
         "marker": {
          "color": "#636efa",
          "symbol": "circle"
         },
         "mode": "markers",
         "name": "Philippines",
         "orientation": "v",
         "showlegend": true,
         "type": "scatter",
         "x": [
          1
         ],
         "xaxis": "x",
         "y": [
          15928.75
         ],
         "yaxis": "y"
        },
        {
         "hovertemplate": "COUNTRY=Denmark<br>FREQUENCY_last_year=%{x}<br>MONETARY_last_year=%{y}<extra></extra>",
         "legendgroup": "Denmark",
         "marker": {
          "color": "#EF553B",
          "symbol": "circle"
         },
         "mode": "markers",
         "name": "Denmark",
         "orientation": "v",
         "showlegend": true,
         "type": "scatter",
         "x": [
          3,
          1
         ],
         "xaxis": "x",
         "y": [
          54840.92999999999,
          60273.939999999995
         ],
         "yaxis": "y"
        },
        {
         "hovertemplate": "COUNTRY=Singapore<br>FREQUENCY_last_year=%{x}<br>MONETARY_last_year=%{y}<extra></extra>",
         "legendgroup": "Singapore",
         "marker": {
          "color": "#00cc96",
          "symbol": "circle"
         },
         "mode": "markers",
         "name": "Singapore",
         "orientation": "v",
         "showlegend": true,
         "type": "scatter",
         "x": [
          2,
          3
         ],
         "xaxis": "x",
         "y": [
          7303.4800000000005,
          91279.14000000003
         ],
         "yaxis": "y"
        },
        {
         "hovertemplate": "COUNTRY=Austria<br>FREQUENCY_last_year=%{x}<br>MONETARY_last_year=%{y}<extra></extra>",
         "legendgroup": "Austria",
         "marker": {
          "color": "#ab63fa",
          "symbol": "circle"
         },
         "mode": "markers",
         "name": "Austria",
         "orientation": "v",
         "showlegend": true,
         "type": "scatter",
         "x": [
          1,
          3
         ],
         "xaxis": "x",
         "y": [
          8775.16,
          111169.48999999999
         ],
         "yaxis": "y"
        },
        {
         "hovertemplate": "COUNTRY=Japan<br>FREQUENCY_last_year=%{x}<br>MONETARY_last_year=%{y}<extra></extra>",
         "legendgroup": "Japan",
         "marker": {
          "color": "#FFA15A",
          "symbol": "circle"
         },
         "mode": "markers",
         "name": "Japan",
         "orientation": "v",
         "showlegend": true,
         "type": "scatter",
         "x": [
          0,
          4
         ],
         "xaxis": "x",
         "y": [
          0,
          120562.74
         ],
         "yaxis": "y"
        },
        {
         "hovertemplate": "COUNTRY=Finland<br>FREQUENCY_last_year=%{x}<br>MONETARY_last_year=%{y}<extra></extra>",
         "legendgroup": "Finland",
         "marker": {
          "color": "#19d3f3",
          "symbol": "circle"
         },
         "mode": "markers",
         "name": "Finland",
         "orientation": "v",
         "showlegend": true,
         "type": "scatter",
         "x": [
          1,
          1,
          2
         ],
         "xaxis": "x",
         "y": [
          49055.4,
          51373.490000000005,
          69166.87999999999
         ],
         "yaxis": "y"
        },
        {
         "hovertemplate": "COUNTRY=Belgium<br>FREQUENCY_last_year=%{x}<br>MONETARY_last_year=%{y}<extra></extra>",
         "legendgroup": "Belgium",
         "marker": {
          "color": "#FF6692",
          "symbol": "circle"
         },
         "mode": "markers",
         "name": "Belgium",
         "orientation": "v",
         "showlegend": true,
         "type": "scatter",
         "x": [
          2,
          2
         ],
         "xaxis": "x",
         "y": [
          56172.43,
          30091.640000000003
         ],
         "yaxis": "y"
        },
        {
         "hovertemplate": "COUNTRY=Sweden<br>FREQUENCY_last_year=%{x}<br>MONETARY_last_year=%{y}<extra></extra>",
         "legendgroup": "Sweden",
         "marker": {
          "color": "#B6E880",
          "symbol": "circle"
         },
         "mode": "markers",
         "name": "Sweden",
         "orientation": "v",
         "showlegend": true,
         "type": "scatter",
         "x": [
          2,
          3
         ],
         "xaxis": "x",
         "y": [
          85548.41,
          66005.88
         ],
         "yaxis": "y"
        },
        {
         "hovertemplate": "COUNTRY=Switzerland<br>FREQUENCY_last_year=%{x}<br>MONETARY_last_year=%{y}<extra></extra>",
         "legendgroup": "Switzerland",
         "marker": {
          "color": "#FF97FF",
          "symbol": "circle"
         },
         "mode": "markers",
         "name": "Switzerland",
         "orientation": "v",
         "showlegend": true,
         "type": "scatter",
         "x": [
          1
         ],
         "xaxis": "x",
         "y": [
          67281.01000000001
         ],
         "yaxis": "y"
        }
       ],
       "layout": {
        "height": 500,
        "legend": {
         "title": {
          "text": "COUNTRY"
         },
         "tracegroupgap": 0
        },
        "template": {
         "data": {
          "bar": [
           {
            "error_x": {
             "color": "#2a3f5f"
            },
            "error_y": {
             "color": "#2a3f5f"
            },
            "marker": {
             "line": {
              "color": "#E5ECF6",
              "width": 0.5
             },
             "pattern": {
              "fillmode": "overlay",
              "size": 10,
              "solidity": 0.2
             }
            },
            "type": "bar"
           }
          ],
          "barpolar": [
           {
            "marker": {
             "line": {
              "color": "#E5ECF6",
              "width": 0.5
             },
             "pattern": {
              "fillmode": "overlay",
              "size": 10,
              "solidity": 0.2
             }
            },
            "type": "barpolar"
           }
          ],
          "carpet": [
           {
            "aaxis": {
             "endlinecolor": "#2a3f5f",
             "gridcolor": "white",
             "linecolor": "white",
             "minorgridcolor": "white",
             "startlinecolor": "#2a3f5f"
            },
            "baxis": {
             "endlinecolor": "#2a3f5f",
             "gridcolor": "white",
             "linecolor": "white",
             "minorgridcolor": "white",
             "startlinecolor": "#2a3f5f"
            },
            "type": "carpet"
           }
          ],
          "choropleth": [
           {
            "colorbar": {
             "outlinewidth": 0,
             "ticks": ""
            },
            "type": "choropleth"
           }
          ],
          "contour": [
           {
            "colorbar": {
             "outlinewidth": 0,
             "ticks": ""
            },
            "colorscale": [
             [
              0,
              "#0d0887"
             ],
             [
              0.1111111111111111,
              "#46039f"
             ],
             [
              0.2222222222222222,
              "#7201a8"
             ],
             [
              0.3333333333333333,
              "#9c179e"
             ],
             [
              0.4444444444444444,
              "#bd3786"
             ],
             [
              0.5555555555555556,
              "#d8576b"
             ],
             [
              0.6666666666666666,
              "#ed7953"
             ],
             [
              0.7777777777777778,
              "#fb9f3a"
             ],
             [
              0.8888888888888888,
              "#fdca26"
             ],
             [
              1,
              "#f0f921"
             ]
            ],
            "type": "contour"
           }
          ],
          "contourcarpet": [
           {
            "colorbar": {
             "outlinewidth": 0,
             "ticks": ""
            },
            "type": "contourcarpet"
           }
          ],
          "heatmap": [
           {
            "colorbar": {
             "outlinewidth": 0,
             "ticks": ""
            },
            "colorscale": [
             [
              0,
              "#0d0887"
             ],
             [
              0.1111111111111111,
              "#46039f"
             ],
             [
              0.2222222222222222,
              "#7201a8"
             ],
             [
              0.3333333333333333,
              "#9c179e"
             ],
             [
              0.4444444444444444,
              "#bd3786"
             ],
             [
              0.5555555555555556,
              "#d8576b"
             ],
             [
              0.6666666666666666,
              "#ed7953"
             ],
             [
              0.7777777777777778,
              "#fb9f3a"
             ],
             [
              0.8888888888888888,
              "#fdca26"
             ],
             [
              1,
              "#f0f921"
             ]
            ],
            "type": "heatmap"
           }
          ],
          "heatmapgl": [
           {
            "colorbar": {
             "outlinewidth": 0,
             "ticks": ""
            },
            "colorscale": [
             [
              0,
              "#0d0887"
             ],
             [
              0.1111111111111111,
              "#46039f"
             ],
             [
              0.2222222222222222,
              "#7201a8"
             ],
             [
              0.3333333333333333,
              "#9c179e"
             ],
             [
              0.4444444444444444,
              "#bd3786"
             ],
             [
              0.5555555555555556,
              "#d8576b"
             ],
             [
              0.6666666666666666,
              "#ed7953"
             ],
             [
              0.7777777777777778,
              "#fb9f3a"
             ],
             [
              0.8888888888888888,
              "#fdca26"
             ],
             [
              1,
              "#f0f921"
             ]
            ],
            "type": "heatmapgl"
           }
          ],
          "histogram": [
           {
            "marker": {
             "pattern": {
              "fillmode": "overlay",
              "size": 10,
              "solidity": 0.2
             }
            },
            "type": "histogram"
           }
          ],
          "histogram2d": [
           {
            "colorbar": {
             "outlinewidth": 0,
             "ticks": ""
            },
            "colorscale": [
             [
              0,
              "#0d0887"
             ],
             [
              0.1111111111111111,
              "#46039f"
             ],
             [
              0.2222222222222222,
              "#7201a8"
             ],
             [
              0.3333333333333333,
              "#9c179e"
             ],
             [
              0.4444444444444444,
              "#bd3786"
             ],
             [
              0.5555555555555556,
              "#d8576b"
             ],
             [
              0.6666666666666666,
              "#ed7953"
             ],
             [
              0.7777777777777778,
              "#fb9f3a"
             ],
             [
              0.8888888888888888,
              "#fdca26"
             ],
             [
              1,
              "#f0f921"
             ]
            ],
            "type": "histogram2d"
           }
          ],
          "histogram2dcontour": [
           {
            "colorbar": {
             "outlinewidth": 0,
             "ticks": ""
            },
            "colorscale": [
             [
              0,
              "#0d0887"
             ],
             [
              0.1111111111111111,
              "#46039f"
             ],
             [
              0.2222222222222222,
              "#7201a8"
             ],
             [
              0.3333333333333333,
              "#9c179e"
             ],
             [
              0.4444444444444444,
              "#bd3786"
             ],
             [
              0.5555555555555556,
              "#d8576b"
             ],
             [
              0.6666666666666666,
              "#ed7953"
             ],
             [
              0.7777777777777778,
              "#fb9f3a"
             ],
             [
              0.8888888888888888,
              "#fdca26"
             ],
             [
              1,
              "#f0f921"
             ]
            ],
            "type": "histogram2dcontour"
           }
          ],
          "mesh3d": [
           {
            "colorbar": {
             "outlinewidth": 0,
             "ticks": ""
            },
            "type": "mesh3d"
           }
          ],
          "parcoords": [
           {
            "line": {
             "colorbar": {
              "outlinewidth": 0,
              "ticks": ""
             }
            },
            "type": "parcoords"
           }
          ],
          "pie": [
           {
            "automargin": true,
            "type": "pie"
           }
          ],
          "scatter": [
           {
            "fillpattern": {
             "fillmode": "overlay",
             "size": 10,
             "solidity": 0.2
            },
            "type": "scatter"
           }
          ],
          "scatter3d": [
           {
            "line": {
             "colorbar": {
              "outlinewidth": 0,
              "ticks": ""
             }
            },
            "marker": {
             "colorbar": {
              "outlinewidth": 0,
              "ticks": ""
             }
            },
            "type": "scatter3d"
           }
          ],
          "scattercarpet": [
           {
            "marker": {
             "colorbar": {
              "outlinewidth": 0,
              "ticks": ""
             }
            },
            "type": "scattercarpet"
           }
          ],
          "scattergeo": [
           {
            "marker": {
             "colorbar": {
              "outlinewidth": 0,
              "ticks": ""
             }
            },
            "type": "scattergeo"
           }
          ],
          "scattergl": [
           {
            "marker": {
             "colorbar": {
              "outlinewidth": 0,
              "ticks": ""
             }
            },
            "type": "scattergl"
           }
          ],
          "scattermapbox": [
           {
            "marker": {
             "colorbar": {
              "outlinewidth": 0,
              "ticks": ""
             }
            },
            "type": "scattermapbox"
           }
          ],
          "scatterpolar": [
           {
            "marker": {
             "colorbar": {
              "outlinewidth": 0,
              "ticks": ""
             }
            },
            "type": "scatterpolar"
           }
          ],
          "scatterpolargl": [
           {
            "marker": {
             "colorbar": {
              "outlinewidth": 0,
              "ticks": ""
             }
            },
            "type": "scatterpolargl"
           }
          ],
          "scatterternary": [
           {
            "marker": {
             "colorbar": {
              "outlinewidth": 0,
              "ticks": ""
             }
            },
            "type": "scatterternary"
           }
          ],
          "surface": [
           {
            "colorbar": {
             "outlinewidth": 0,
             "ticks": ""
            },
            "colorscale": [
             [
              0,
              "#0d0887"
             ],
             [
              0.1111111111111111,
              "#46039f"
             ],
             [
              0.2222222222222222,
              "#7201a8"
             ],
             [
              0.3333333333333333,
              "#9c179e"
             ],
             [
              0.4444444444444444,
              "#bd3786"
             ],
             [
              0.5555555555555556,
              "#d8576b"
             ],
             [
              0.6666666666666666,
              "#ed7953"
             ],
             [
              0.7777777777777778,
              "#fb9f3a"
             ],
             [
              0.8888888888888888,
              "#fdca26"
             ],
             [
              1,
              "#f0f921"
             ]
            ],
            "type": "surface"
           }
          ],
          "table": [
           {
            "cells": {
             "fill": {
              "color": "#EBF0F8"
             },
             "line": {
              "color": "white"
             }
            },
            "header": {
             "fill": {
              "color": "#C8D4E3"
             },
             "line": {
              "color": "white"
             }
            },
            "type": "table"
           }
          ]
         },
         "layout": {
          "annotationdefaults": {
           "arrowcolor": "#2a3f5f",
           "arrowhead": 0,
           "arrowwidth": 1
          },
          "autotypenumbers": "strict",
          "coloraxis": {
           "colorbar": {
            "outlinewidth": 0,
            "ticks": ""
           }
          },
          "colorscale": {
           "diverging": [
            [
             0,
             "#8e0152"
            ],
            [
             0.1,
             "#c51b7d"
            ],
            [
             0.2,
             "#de77ae"
            ],
            [
             0.3,
             "#f1b6da"
            ],
            [
             0.4,
             "#fde0ef"
            ],
            [
             0.5,
             "#f7f7f7"
            ],
            [
             0.6,
             "#e6f5d0"
            ],
            [
             0.7,
             "#b8e186"
            ],
            [
             0.8,
             "#7fbc41"
            ],
            [
             0.9,
             "#4d9221"
            ],
            [
             1,
             "#276419"
            ]
           ],
           "sequential": [
            [
             0,
             "#0d0887"
            ],
            [
             0.1111111111111111,
             "#46039f"
            ],
            [
             0.2222222222222222,
             "#7201a8"
            ],
            [
             0.3333333333333333,
             "#9c179e"
            ],
            [
             0.4444444444444444,
             "#bd3786"
            ],
            [
             0.5555555555555556,
             "#d8576b"
            ],
            [
             0.6666666666666666,
             "#ed7953"
            ],
            [
             0.7777777777777778,
             "#fb9f3a"
            ],
            [
             0.8888888888888888,
             "#fdca26"
            ],
            [
             1,
             "#f0f921"
            ]
           ],
           "sequentialminus": [
            [
             0,
             "#0d0887"
            ],
            [
             0.1111111111111111,
             "#46039f"
            ],
            [
             0.2222222222222222,
             "#7201a8"
            ],
            [
             0.3333333333333333,
             "#9c179e"
            ],
            [
             0.4444444444444444,
             "#bd3786"
            ],
            [
             0.5555555555555556,
             "#d8576b"
            ],
            [
             0.6666666666666666,
             "#ed7953"
            ],
            [
             0.7777777777777778,
             "#fb9f3a"
            ],
            [
             0.8888888888888888,
             "#fdca26"
            ],
            [
             1,
             "#f0f921"
            ]
           ]
          },
          "colorway": [
           "#636efa",
           "#EF553B",
           "#00cc96",
           "#ab63fa",
           "#FFA15A",
           "#19d3f3",
           "#FF6692",
           "#B6E880",
           "#FF97FF",
           "#FECB52"
          ],
          "font": {
           "color": "#2a3f5f"
          },
          "geo": {
           "bgcolor": "white",
           "lakecolor": "white",
           "landcolor": "#E5ECF6",
           "showlakes": true,
           "showland": true,
           "subunitcolor": "white"
          },
          "hoverlabel": {
           "align": "left"
          },
          "hovermode": "closest",
          "mapbox": {
           "style": "light"
          },
          "paper_bgcolor": "white",
          "plot_bgcolor": "#E5ECF6",
          "polar": {
           "angularaxis": {
            "gridcolor": "white",
            "linecolor": "white",
            "ticks": ""
           },
           "bgcolor": "#E5ECF6",
           "radialaxis": {
            "gridcolor": "white",
            "linecolor": "white",
            "ticks": ""
           }
          },
          "scene": {
           "xaxis": {
            "backgroundcolor": "#E5ECF6",
            "gridcolor": "white",
            "gridwidth": 2,
            "linecolor": "white",
            "showbackground": true,
            "ticks": "",
            "zerolinecolor": "white"
           },
           "yaxis": {
            "backgroundcolor": "#E5ECF6",
            "gridcolor": "white",
            "gridwidth": 2,
            "linecolor": "white",
            "showbackground": true,
            "ticks": "",
            "zerolinecolor": "white"
           },
           "zaxis": {
            "backgroundcolor": "#E5ECF6",
            "gridcolor": "white",
            "gridwidth": 2,
            "linecolor": "white",
            "showbackground": true,
            "ticks": "",
            "zerolinecolor": "white"
           }
          },
          "shapedefaults": {
           "line": {
            "color": "#2a3f5f"
           }
          },
          "ternary": {
           "aaxis": {
            "gridcolor": "white",
            "linecolor": "white",
            "ticks": ""
           },
           "baxis": {
            "gridcolor": "white",
            "linecolor": "white",
            "ticks": ""
           },
           "bgcolor": "#E5ECF6",
           "caxis": {
            "gridcolor": "white",
            "linecolor": "white",
            "ticks": ""
           }
          },
          "title": {
           "x": 0.05
          },
          "xaxis": {
           "automargin": true,
           "gridcolor": "white",
           "linecolor": "white",
           "ticks": "",
           "title": {
            "standoff": 15
           },
           "zerolinecolor": "white",
           "zerolinewidth": 2
          },
          "yaxis": {
           "automargin": true,
           "gridcolor": "white",
           "linecolor": "white",
           "ticks": "",
           "title": {
            "standoff": 15
           },
           "zerolinecolor": "white",
           "zerolinewidth": 2
          }
         }
        },
        "title": {
         "text": "Relationship between QUANTITYORDERED VS MONETARY"
        },
        "xaxis": {
         "anchor": "y",
         "domain": [
          0,
          1
         ],
         "title": {
          "text": "FREQUENCY_last_year"
         }
        },
        "yaxis": {
         "anchor": "x",
         "domain": [
          0,
          1
         ],
         "title": {
          "text": "MONETARY_last_year"
         }
        }
       }
      }
     },
     "metadata": {},
     "output_type": "display_data"
    }
   ],
   "source": [
    "fig = px.scatter(\n",
    "    data_frame=customer_df,\n",
    "    x = \"FREQUENCY_last_year\",\n",
    "    y= \"MONETARY_last_year\",\n",
    "    title = \"Relationship between QUANTITYORDERED VS MONETARY\",\n",
    "    color = \"COUNTRY\",\n",
    "    height=500\n",
    ")\n",
    "fig.show()"
   ]
  },
  {
   "cell_type": "markdown",
   "metadata": {},
   "source": [
    " # The Segmentation Model"
   ]
  },
  {
   "cell_type": "code",
   "execution_count": 19,
   "metadata": {},
   "outputs": [],
   "source": [
    "std_scaler = StandardScaler()\n",
    "rfm_array_scaled = std_scaler.fit_transform(rfm_df.iloc[:,0:3]) \n",
    "rfm_df_scaled = pd.DataFrame(rfm_array_scaled, columns=rfm_df.columns[0:3])\n"
   ]
  },
  {
   "cell_type": "code",
   "execution_count": 20,
   "metadata": {},
   "outputs": [
    {
     "data": {
      "image/png": "[encoded data removed]",
      "text/plain": [
       "<Figure size 640x480 with 1 Axes>"
      ]
     },
     "metadata": {},
     "output_type": "display_data"
    }
   ],
   "source": [
    "errors = []\n",
    "for k in range(1, 11):\n",
    "    kmeans_clustering = KMeans(n_clusters=k, random_state=42)\n",
    "    kmeans_clustering.fit(rfm_array_scaled)\n",
    "    errors.append(kmeans_clustering.inertia_)\n",
    "    \n",
    " \n",
    "plt.title('The Elbow Method')\n",
    "plt.xlabel('k'); plt.ylabel('Error of Cluster')\n",
    "sns.pointplot(x=np.arange(start=1, stop=11), y=errors)\n",
    "plt.show()"
   ]
  },
  {
   "cell_type": "code",
   "execution_count": 21,
   "metadata": {},
   "outputs": [
    {
     "data": {
      "text/html": [
       "<div>\n",
       "<style scoped>\n",
       "    .dataframe tbody tr th:only-of-type {\n",
       "        vertical-align: middle;\n",
       "    }\n",
       "\n",
       "    .dataframe tbody tr th {\n",
       "        vertical-align: top;\n",
       "    }\n",
       "\n",
       "    .dataframe thead th {\n",
       "        text-align: right;\n",
       "    }\n",
       "</style>\n",
       "<table border=\"1\" class=\"dataframe\">\n",
       "  <thead>\n",
       "    <tr style=\"text-align: right;\">\n",
       "      <th></th>\n",
       "      <th>RECENCY_days</th>\n",
       "      <th>FREQUENCY_last_year</th>\n",
       "      <th>MONETARY_last_year</th>\n",
       "      <th>QUANTITYORDERED_last_year</th>\n",
       "      <th>COUNTRY</th>\n",
       "      <th>CITY</th>\n",
       "      <th>PHONE</th>\n",
       "      <th>CONTACTLASTNAME</th>\n",
       "      <th>CONTACTFIRSTNAME</th>\n",
       "      <th>KMeansLabel</th>\n",
       "    </tr>\n",
       "    <tr>\n",
       "      <th>CUSTOMERNAME</th>\n",
       "      <th></th>\n",
       "      <th></th>\n",
       "      <th></th>\n",
       "      <th></th>\n",
       "      <th></th>\n",
       "      <th></th>\n",
       "      <th></th>\n",
       "      <th></th>\n",
       "      <th></th>\n",
       "      <th></th>\n",
       "    </tr>\n",
       "  </thead>\n",
       "  <tbody>\n",
       "    <tr>\n",
       "      <th>AV Stores, Co.</th>\n",
       "      <td>195</td>\n",
       "      <td>2.0</td>\n",
       "      <td>106789.89</td>\n",
       "      <td>1208.0</td>\n",
       "      <td>UK</td>\n",
       "      <td>Manchester</td>\n",
       "      <td>(171) 555-1555</td>\n",
       "      <td>Ashworth</td>\n",
       "      <td>Victoria</td>\n",
       "      <td>2</td>\n",
       "    </tr>\n",
       "    <tr>\n",
       "      <th>Alpha Cognac</th>\n",
       "      <td>64</td>\n",
       "      <td>1.0</td>\n",
       "      <td>15139.12</td>\n",
       "      <td>172.0</td>\n",
       "      <td>France</td>\n",
       "      <td>Toulouse</td>\n",
       "      <td>61.77.6555</td>\n",
       "      <td>Roulet</td>\n",
       "      <td>Annette</td>\n",
       "      <td>0</td>\n",
       "    </tr>\n",
       "    <tr>\n",
       "      <th>Amica Models &amp; Co.</th>\n",
       "      <td>264</td>\n",
       "      <td>2.0</td>\n",
       "      <td>94117.26</td>\n",
       "      <td>843.0</td>\n",
       "      <td>Italy</td>\n",
       "      <td>Torino</td>\n",
       "      <td>011-4988555</td>\n",
       "      <td>Accorti</td>\n",
       "      <td>Paolo</td>\n",
       "      <td>2</td>\n",
       "    </tr>\n",
       "    <tr>\n",
       "      <th>Anna's Decorations, Ltd</th>\n",
       "      <td>83</td>\n",
       "      <td>2.0</td>\n",
       "      <td>65012.42</td>\n",
       "      <td>595.0</td>\n",
       "      <td>Australia</td>\n",
       "      <td>North Sydney</td>\n",
       "      <td>02 9936 8555</td>\n",
       "      <td>O'Hara</td>\n",
       "      <td>Anna</td>\n",
       "      <td>0</td>\n",
       "    </tr>\n",
       "    <tr>\n",
       "      <th>Atelier graphique</th>\n",
       "      <td>187</td>\n",
       "      <td>2.0</td>\n",
       "      <td>7619.66</td>\n",
       "      <td>114.0</td>\n",
       "      <td>France</td>\n",
       "      <td>Nantes</td>\n",
       "      <td>40.32.2555</td>\n",
       "      <td>Schmitt</td>\n",
       "      <td>Carine</td>\n",
       "      <td>2</td>\n",
       "    </tr>\n",
       "    <tr>\n",
       "      <th>...</th>\n",
       "      <td>...</td>\n",
       "      <td>...</td>\n",
       "      <td>...</td>\n",
       "      <td>...</td>\n",
       "      <td>...</td>\n",
       "      <td>...</td>\n",
       "      <td>...</td>\n",
       "      <td>...</td>\n",
       "      <td>...</td>\n",
       "      <td>...</td>\n",
       "    </tr>\n",
       "    <tr>\n",
       "      <th>Vida Sport, Ltd</th>\n",
       "      <td>274</td>\n",
       "      <td>1.0</td>\n",
       "      <td>67281.01</td>\n",
       "      <td>595.0</td>\n",
       "      <td>Switzerland</td>\n",
       "      <td>Gensve</td>\n",
       "      <td>0897-034555</td>\n",
       "      <td>Holz</td>\n",
       "      <td>Michael</td>\n",
       "      <td>2</td>\n",
       "    </tr>\n",
       "    <tr>\n",
       "      <th>Vitachrome Inc.</th>\n",
       "      <td>207</td>\n",
       "      <td>1.0</td>\n",
       "      <td>56372.87</td>\n",
       "      <td>468.0</td>\n",
       "      <td>USA</td>\n",
       "      <td>NYC</td>\n",
       "      <td>2125551500</td>\n",
       "      <td>Frick</td>\n",
       "      <td>Michael</td>\n",
       "      <td>2</td>\n",
       "    </tr>\n",
       "    <tr>\n",
       "      <th>Volvo Model Replicas, Co</th>\n",
       "      <td>193</td>\n",
       "      <td>3.0</td>\n",
       "      <td>66005.88</td>\n",
       "      <td>595.0</td>\n",
       "      <td>Sweden</td>\n",
       "      <td>Lule</td>\n",
       "      <td>0921-12 3555</td>\n",
       "      <td>Berglund</td>\n",
       "      <td>Christina</td>\n",
       "      <td>2</td>\n",
       "    </tr>\n",
       "    <tr>\n",
       "      <th>West Coast Collectables Co.</th>\n",
       "      <td>488</td>\n",
       "      <td>0.0</td>\n",
       "      <td>0.00</td>\n",
       "      <td>0.0</td>\n",
       "      <td>USA</td>\n",
       "      <td>Burbank</td>\n",
       "      <td>3105553722</td>\n",
       "      <td>Thompson</td>\n",
       "      <td>Steve</td>\n",
       "      <td>3</td>\n",
       "    </tr>\n",
       "    <tr>\n",
       "      <th>giftsbymail.co.uk</th>\n",
       "      <td>211</td>\n",
       "      <td>1.0</td>\n",
       "      <td>51334.16</td>\n",
       "      <td>623.0</td>\n",
       "      <td>UK</td>\n",
       "      <td>Cowes</td>\n",
       "      <td>(198) 555-8888</td>\n",
       "      <td>Bennett</td>\n",
       "      <td>Helen</td>\n",
       "      <td>2</td>\n",
       "    </tr>\n",
       "  </tbody>\n",
       "</table>\n",
       "<p>92 rows × 10 columns</p>\n",
       "</div>"
      ],
      "text/plain": [
       "                             RECENCY_days  FREQUENCY_last_year   \n",
       "CUSTOMERNAME                                                     \n",
       "AV Stores, Co.                        195                  2.0  \\\n",
       "Alpha Cognac                           64                  1.0   \n",
       "Amica Models & Co.                    264                  2.0   \n",
       "Anna's Decorations, Ltd                83                  2.0   \n",
       "Atelier graphique                     187                  2.0   \n",
       "...                                   ...                  ...   \n",
       "Vida Sport, Ltd                       274                  1.0   \n",
       "Vitachrome Inc.                       207                  1.0   \n",
       "Volvo Model Replicas, Co              193                  3.0   \n",
       "West Coast Collectables Co.           488                  0.0   \n",
       "giftsbymail.co.uk                     211                  1.0   \n",
       "\n",
       "                             MONETARY_last_year  QUANTITYORDERED_last_year   \n",
       "CUSTOMERNAME                                                                 \n",
       "AV Stores, Co.                        106789.89                     1208.0  \\\n",
       "Alpha Cognac                           15139.12                      172.0   \n",
       "Amica Models & Co.                     94117.26                      843.0   \n",
       "Anna's Decorations, Ltd                65012.42                      595.0   \n",
       "Atelier graphique                       7619.66                      114.0   \n",
       "...                                         ...                        ...   \n",
       "Vida Sport, Ltd                        67281.01                      595.0   \n",
       "Vitachrome Inc.                        56372.87                      468.0   \n",
       "Volvo Model Replicas, Co               66005.88                      595.0   \n",
       "West Coast Collectables Co.                0.00                        0.0   \n",
       "giftsbymail.co.uk                      51334.16                      623.0   \n",
       "\n",
       "                                 COUNTRY          CITY           PHONE   \n",
       "CUSTOMERNAME                                                             \n",
       "AV Stores, Co.                        UK    Manchester  (171) 555-1555  \\\n",
       "Alpha Cognac                      France      Toulouse      61.77.6555   \n",
       "Amica Models & Co.                 Italy        Torino     011-4988555   \n",
       "Anna's Decorations, Ltd        Australia  North Sydney    02 9936 8555   \n",
       "Atelier graphique                 France        Nantes      40.32.2555   \n",
       "...                                  ...           ...             ...   \n",
       "Vida Sport, Ltd              Switzerland        Gensve     0897-034555   \n",
       "Vitachrome Inc.                      USA           NYC      2125551500   \n",
       "Volvo Model Replicas, Co          Sweden          Lule    0921-12 3555   \n",
       "West Coast Collectables Co.          USA       Burbank      3105553722   \n",
       "giftsbymail.co.uk                     UK         Cowes  (198) 555-8888   \n",
       "\n",
       "                            CONTACTLASTNAME CONTACTFIRSTNAME  KMeansLabel  \n",
       "CUSTOMERNAME                                                               \n",
       "AV Stores, Co.                     Ashworth         Victoria            2  \n",
       "Alpha Cognac                         Roulet          Annette            0  \n",
       "Amica Models & Co.                  Accorti            Paolo            2  \n",
       "Anna's Decorations, Ltd              O'Hara             Anna            0  \n",
       "Atelier graphique                   Schmitt           Carine            2  \n",
       "...                                     ...              ...          ...  \n",
       "Vida Sport, Ltd                        Holz          Michael            2  \n",
       "Vitachrome Inc.                       Frick          Michael            2  \n",
       "Volvo Model Replicas, Co           Berglund        Christina            2  \n",
       "West Coast Collectables Co.        Thompson            Steve            3  \n",
       "giftsbymail.co.uk                   Bennett            Helen            2  \n",
       "\n",
       "[92 rows x 10 columns]"
      ]
     },
     "execution_count": 21,
     "metadata": {},
     "output_type": "execute_result"
    }
   ],
   "source": [
    "kmeans_clustering = KMeans(n_clusters=5, random_state=42)\n",
    "kmeans_clustering.fit(rfm_array_scaled)\n",
    "\n",
    "customer_df = customer_df.assign(KMeansLabel=kmeans_clustering.labels_)\n",
    "customer_df"
   ]
  },
  {
   "cell_type": "code",
   "execution_count": 22,
   "metadata": {},
   "outputs": [
    {
     "data": {
      "application/vnd.plotly.v1+json": {
       "config": {
        "plotlyServerURL": "https://plot.ly"
       },
       "data": [
        {
         "hovertemplate": "RECENCY_days=%{x}<br>FREQUENCY_last_year=%{y}<br>MONETARY_last_year=%{z}<br>KMeansLabel=%{marker.color}<extra></extra>",
         "legendgroup": "",
         "marker": {
          "color": [
           2,
           0,
           2,
           0,
           2,
           0,
           2,
           0,
           2,
           0,
           2,
           2,
           2,
           2,
           0,
           3,
           3,
           2,
           2,
           2,
           2,
           3,
           0,
           0,
           2,
           2,
           3,
           4,
           4,
           3,
           3,
           0,
           2,
           1,
           4,
           4,
           2,
           4,
           4,
           2,
           2,
           2,
           4,
           2,
           4,
           2,
           0,
           0,
           2,
           3,
           2,
           0,
           0,
           2,
           0,
           1,
           2,
           2,
           2,
           2,
           2,
           2,
           3,
           0,
           4,
           4,
           4,
           2,
           2,
           0,
           4,
           3,
           4,
           3,
           2,
           4,
           2,
           0,
           3,
           0,
           0,
           4,
           4,
           2,
           0,
           0,
           4,
           2,
           2,
           2,
           3,
           2
          ],
          "coloraxis": "coloraxis",
          "size": 4,
          "symbol": "circle"
         },
         "mode": "markers",
         "name": "",
         "scene": "scene",
         "showlegend": false,
         "type": "scatter3d",
         "x": [
          195,
          64,
          264,
          83,
          187,
          22,
          183,
          118,
          232,
          54,
          179,
          207,
          258,
          207,
          112,
          438,
          388,
          221,
          229,
          191,
          257,
          460,
          131,
          97,
          211,
          196,
          465,
          46,
          1,
          400,
          495,
          90,
          188,
          0,
          89,
          26,
          178,
          25,
          38,
          221,
          270,
          237,
          21,
          192,
          0,
          197,
          75,
          145,
          230,
          508,
          209,
          82,
          47,
          228,
          144,
          2,
          194,
          195,
          181,
          283,
          208,
          263,
          413,
          120,
          1,
          30,
          62,
          200,
          284,
          141,
          14,
          455,
          89,
          476,
          183,
          2,
          179,
          145,
          392,
          146,
          58,
          39,
          39,
          227,
          111,
          139,
          53,
          274,
          207,
          193,
          488,
          211
         ],
         "y": [
          2,
          1,
          2,
          2,
          2,
          2,
          2,
          1,
          1,
          1,
          2,
          2,
          1,
          1,
          1,
          0,
          0,
          1,
          1,
          1,
          1,
          0,
          2,
          2,
          1,
          1,
          0,
          3,
          4,
          0,
          0,
          2,
          1,
          15,
          2,
          2,
          1,
          3,
          3,
          1,
          1,
          1,
          2,
          2,
          4,
          2,
          2,
          2,
          2,
          0,
          1,
          1,
          2,
          1,
          1,
          12,
          1,
          1,
          2,
          1,
          1,
          2,
          0,
          1,
          2,
          2,
          3,
          1,
          1,
          2,
          3,
          0,
          2,
          0,
          2,
          3,
          1,
          1,
          0,
          2,
          1,
          3,
          4,
          1,
          2,
          1,
          2,
          1,
          1,
          3,
          0,
          1
         ],
         "z": [
          106789.89000000001,
          15139.119999999999,
          94117.26,
          65012.420000000006,
          7619.66,
          26712.91,
          91222,
          21730.03,
          59074.899999999994,
          14066.8,
          19201.91,
          60422.530000000006,
          34993.92,
          9214.970000000001,
          3987.2,
          0,
          0,
          36576.71000000001,
          27445.309999999998,
          27733.04,
          18971.96,
          0,
          46585.579999999994,
          54203.619999999995,
          34546.600000000006,
          15928.75,
          0,
          54840.92999999999,
          122138.14000000001,
          0,
          0,
          7303.4800000000005,
          30183.350000000002,
          567255.97,
          87062.04000000001,
          75778.99,
          29343.35,
          83209.88,
          91279.14000000003,
          60273.939999999995,
          16363.1,
          3220.88,
          97931.59000000001,
          58986.270000000004,
          180124.9,
          92928.01999999999,
          52945.45999999999,
          22454.3,
          103080.38000000002,
          0,
          31446.149999999998,
          8775.16,
          41097.25,
          46873.04,
          11021.3,
          420807.17000000004,
          30348.72,
          48996.1,
          64958.700000000004,
          34145.47,
          55570.6,
          57197.95999999999,
          0,
          49055.4,
          56172.43,
          58257.50000000001,
          100924.66,
          41696.689999999995,
          43332.350000000006,
          30091.640000000003,
          111169.48999999999,
          0,
          85548.41,
          0,
          48903.46000000001,
          123173.72000000002,
          13739.900000000001,
          51373.490000000005,
          0,
          16445.77,
          46519,
          111538.02999999998,
          120562.74,
          68943.40000000001,
          69166.87999999999,
          44273.35999999999,
          91211.05999999998,
          67281.01000000001,
          56372.87,
          66005.88,
          0,
          51334.16
         ]
        }
       ],
       "layout": {
        "coloraxis": {
         "colorbar": {
          "title": {
           "text": "KMeansLabel"
          }
         },
         "colorscale": [
          [
           0,
           "#0d0887"
          ],
          [
           0.1111111111111111,
           "#46039f"
          ],
          [
           0.2222222222222222,
           "#7201a8"
          ],
          [
           0.3333333333333333,
           "#9c179e"
          ],
          [
           0.4444444444444444,
           "#bd3786"
          ],
          [
           0.5555555555555556,
           "#d8576b"
          ],
          [
           0.6666666666666666,
           "#ed7953"
          ],
          [
           0.7777777777777778,
           "#fb9f3a"
          ],
          [
           0.8888888888888888,
           "#fdca26"
          ],
          [
           1,
           "#f0f921"
          ]
         ]
        },
        "height": 500,
        "legend": {
         "tracegroupgap": 0
        },
        "scene": {
         "domain": {
          "x": [
           0,
           1
          ],
          "y": [
           0,
           1
          ]
         },
         "xaxis": {
          "title": {
           "text": "RECENCY_days"
          }
         },
         "yaxis": {
          "title": {
           "text": "FREQUENCY_last_year"
          }
         },
         "zaxis": {
          "title": {
           "text": "MONETARY_last_year"
          }
         }
        },
        "template": {
         "data": {
          "bar": [
           {
            "error_x": {
             "color": "#2a3f5f"
            },
            "error_y": {
             "color": "#2a3f5f"
            },
            "marker": {
             "line": {
              "color": "#E5ECF6",
              "width": 0.5
             },
             "pattern": {
              "fillmode": "overlay",
              "size": 10,
              "solidity": 0.2
             }
            },
            "type": "bar"
           }
          ],
          "barpolar": [
           {
            "marker": {
             "line": {
              "color": "#E5ECF6",
              "width": 0.5
             },
             "pattern": {
              "fillmode": "overlay",
              "size": 10,
              "solidity": 0.2
             }
            },
            "type": "barpolar"
           }
          ],
          "carpet": [
           {
            "aaxis": {
             "endlinecolor": "#2a3f5f",
             "gridcolor": "white",
             "linecolor": "white",
             "minorgridcolor": "white",
             "startlinecolor": "#2a3f5f"
            },
            "baxis": {
             "endlinecolor": "#2a3f5f",
             "gridcolor": "white",
             "linecolor": "white",
             "minorgridcolor": "white",
             "startlinecolor": "#2a3f5f"
            },
            "type": "carpet"
           }
          ],
          "choropleth": [
           {
            "colorbar": {
             "outlinewidth": 0,
             "ticks": ""
            },
            "type": "choropleth"
           }
          ],
          "contour": [
           {
            "colorbar": {
             "outlinewidth": 0,
             "ticks": ""
            },
            "colorscale": [
             [
              0,
              "#0d0887"
             ],
             [
              0.1111111111111111,
              "#46039f"
             ],
             [
              0.2222222222222222,
              "#7201a8"
             ],
             [
              0.3333333333333333,
              "#9c179e"
             ],
             [
              0.4444444444444444,
              "#bd3786"
             ],
             [
              0.5555555555555556,
              "#d8576b"
             ],
             [
              0.6666666666666666,
              "#ed7953"
             ],
             [
              0.7777777777777778,
              "#fb9f3a"
             ],
             [
              0.8888888888888888,
              "#fdca26"
             ],
             [
              1,
              "#f0f921"
             ]
            ],
            "type": "contour"
           }
          ],
          "contourcarpet": [
           {
            "colorbar": {
             "outlinewidth": 0,
             "ticks": ""
            },
            "type": "contourcarpet"
           }
          ],
          "heatmap": [
           {
            "colorbar": {
             "outlinewidth": 0,
             "ticks": ""
            },
            "colorscale": [
             [
              0,
              "#0d0887"
             ],
             [
              0.1111111111111111,
              "#46039f"
             ],
             [
              0.2222222222222222,
              "#7201a8"
             ],
             [
              0.3333333333333333,
              "#9c179e"
             ],
             [
              0.4444444444444444,
              "#bd3786"
             ],
             [
              0.5555555555555556,
              "#d8576b"
             ],
             [
              0.6666666666666666,
              "#ed7953"
             ],
             [
              0.7777777777777778,
              "#fb9f3a"
             ],
             [
              0.8888888888888888,
              "#fdca26"
             ],
             [
              1,
              "#f0f921"
             ]
            ],
            "type": "heatmap"
           }
          ],
          "heatmapgl": [
           {
            "colorbar": {
             "outlinewidth": 0,
             "ticks": ""
            },
            "colorscale": [
             [
              0,
              "#0d0887"
             ],
             [
              0.1111111111111111,
              "#46039f"
             ],
             [
              0.2222222222222222,
              "#7201a8"
             ],
             [
              0.3333333333333333,
              "#9c179e"
             ],
             [
              0.4444444444444444,
              "#bd3786"
             ],
             [
              0.5555555555555556,
              "#d8576b"
             ],
             [
              0.6666666666666666,
              "#ed7953"
             ],
             [
              0.7777777777777778,
              "#fb9f3a"
             ],
             [
              0.8888888888888888,
              "#fdca26"
             ],
             [
              1,
              "#f0f921"
             ]
            ],
            "type": "heatmapgl"
           }
          ],
          "histogram": [
           {
            "marker": {
             "pattern": {
              "fillmode": "overlay",
              "size": 10,
              "solidity": 0.2
             }
            },
            "type": "histogram"
           }
          ],
          "histogram2d": [
           {
            "colorbar": {
             "outlinewidth": 0,
             "ticks": ""
            },
            "colorscale": [
             [
              0,
              "#0d0887"
             ],
             [
              0.1111111111111111,
              "#46039f"
             ],
             [
              0.2222222222222222,
              "#7201a8"
             ],
             [
              0.3333333333333333,
              "#9c179e"
             ],
             [
              0.4444444444444444,
              "#bd3786"
             ],
             [
              0.5555555555555556,
              "#d8576b"
             ],
             [
              0.6666666666666666,
              "#ed7953"
             ],
             [
              0.7777777777777778,
              "#fb9f3a"
             ],
             [
              0.8888888888888888,
              "#fdca26"
             ],
             [
              1,
              "#f0f921"
             ]
            ],
            "type": "histogram2d"
           }
          ],
          "histogram2dcontour": [
           {
            "colorbar": {
             "outlinewidth": 0,
             "ticks": ""
            },
            "colorscale": [
             [
              0,
              "#0d0887"
             ],
             [
              0.1111111111111111,
              "#46039f"
             ],
             [
              0.2222222222222222,
              "#7201a8"
             ],
             [
              0.3333333333333333,
              "#9c179e"
             ],
             [
              0.4444444444444444,
              "#bd3786"
             ],
             [
              0.5555555555555556,
              "#d8576b"
             ],
             [
              0.6666666666666666,
              "#ed7953"
             ],
             [
              0.7777777777777778,
              "#fb9f3a"
             ],
             [
              0.8888888888888888,
              "#fdca26"
             ],
             [
              1,
              "#f0f921"
             ]
            ],
            "type": "histogram2dcontour"
           }
          ],
          "mesh3d": [
           {
            "colorbar": {
             "outlinewidth": 0,
             "ticks": ""
            },
            "type": "mesh3d"
           }
          ],
          "parcoords": [
           {
            "line": {
             "colorbar": {
              "outlinewidth": 0,
              "ticks": ""
             }
            },
            "type": "parcoords"
           }
          ],
          "pie": [
           {
            "automargin": true,
            "type": "pie"
           }
          ],
          "scatter": [
           {
            "fillpattern": {
             "fillmode": "overlay",
             "size": 10,
             "solidity": 0.2
            },
            "type": "scatter"
           }
          ],
          "scatter3d": [
           {
            "line": {
             "colorbar": {
              "outlinewidth": 0,
              "ticks": ""
             }
            },
            "marker": {
             "colorbar": {
              "outlinewidth": 0,
              "ticks": ""
             }
            },
            "type": "scatter3d"
           }
          ],
          "scattercarpet": [
           {
            "marker": {
             "colorbar": {
              "outlinewidth": 0,
              "ticks": ""
             }
            },
            "type": "scattercarpet"
           }
          ],
          "scattergeo": [
           {
            "marker": {
             "colorbar": {
              "outlinewidth": 0,
              "ticks": ""
             }
            },
            "type": "scattergeo"
           }
          ],
          "scattergl": [
           {
            "marker": {
             "colorbar": {
              "outlinewidth": 0,
              "ticks": ""
             }
            },
            "type": "scattergl"
           }
          ],
          "scattermapbox": [
           {
            "marker": {
             "colorbar": {
              "outlinewidth": 0,
              "ticks": ""
             }
            },
            "type": "scattermapbox"
           }
          ],
          "scatterpolar": [
           {
            "marker": {
             "colorbar": {
              "outlinewidth": 0,
              "ticks": ""
             }
            },
            "type": "scatterpolar"
           }
          ],
          "scatterpolargl": [
           {
            "marker": {
             "colorbar": {
              "outlinewidth": 0,
              "ticks": ""
             }
            },
            "type": "scatterpolargl"
           }
          ],
          "scatterternary": [
           {
            "marker": {
             "colorbar": {
              "outlinewidth": 0,
              "ticks": ""
             }
            },
            "type": "scatterternary"
           }
          ],
          "surface": [
           {
            "colorbar": {
             "outlinewidth": 0,
             "ticks": ""
            },
            "colorscale": [
             [
              0,
              "#0d0887"
             ],
             [
              0.1111111111111111,
              "#46039f"
             ],
             [
              0.2222222222222222,
              "#7201a8"
             ],
             [
              0.3333333333333333,
              "#9c179e"
             ],
             [
              0.4444444444444444,
              "#bd3786"
             ],
             [
              0.5555555555555556,
              "#d8576b"
             ],
             [
              0.6666666666666666,
              "#ed7953"
             ],
             [
              0.7777777777777778,
              "#fb9f3a"
             ],
             [
              0.8888888888888888,
              "#fdca26"
             ],
             [
              1,
              "#f0f921"
             ]
            ],
            "type": "surface"
           }
          ],
          "table": [
           {
            "cells": {
             "fill": {
              "color": "#EBF0F8"
             },
             "line": {
              "color": "white"
             }
            },
            "header": {
             "fill": {
              "color": "#C8D4E3"
             },
             "line": {
              "color": "white"
             }
            },
            "type": "table"
           }
          ]
         },
         "layout": {
          "annotationdefaults": {
           "arrowcolor": "#2a3f5f",
           "arrowhead": 0,
           "arrowwidth": 1
          },
          "autotypenumbers": "strict",
          "coloraxis": {
           "colorbar": {
            "outlinewidth": 0,
            "ticks": ""
           }
          },
          "colorscale": {
           "diverging": [
            [
             0,
             "#8e0152"
            ],
            [
             0.1,
             "#c51b7d"
            ],
            [
             0.2,
             "#de77ae"
            ],
            [
             0.3,
             "#f1b6da"
            ],
            [
             0.4,
             "#fde0ef"
            ],
            [
             0.5,
             "#f7f7f7"
            ],
            [
             0.6,
             "#e6f5d0"
            ],
            [
             0.7,
             "#b8e186"
            ],
            [
             0.8,
             "#7fbc41"
            ],
            [
             0.9,
             "#4d9221"
            ],
            [
             1,
             "#276419"
            ]
           ],
           "sequential": [
            [
             0,
             "#0d0887"
            ],
            [
             0.1111111111111111,
             "#46039f"
            ],
            [
             0.2222222222222222,
             "#7201a8"
            ],
            [
             0.3333333333333333,
             "#9c179e"
            ],
            [
             0.4444444444444444,
             "#bd3786"
            ],
            [
             0.5555555555555556,
             "#d8576b"
            ],
            [
             0.6666666666666666,
             "#ed7953"
            ],
            [
             0.7777777777777778,
             "#fb9f3a"
            ],
            [
             0.8888888888888888,
             "#fdca26"
            ],
            [
             1,
             "#f0f921"
            ]
           ],
           "sequentialminus": [
            [
             0,
             "#0d0887"
            ],
            [
             0.1111111111111111,
             "#46039f"
            ],
            [
             0.2222222222222222,
             "#7201a8"
            ],
            [
             0.3333333333333333,
             "#9c179e"
            ],
            [
             0.4444444444444444,
             "#bd3786"
            ],
            [
             0.5555555555555556,
             "#d8576b"
            ],
            [
             0.6666666666666666,
             "#ed7953"
            ],
            [
             0.7777777777777778,
             "#fb9f3a"
            ],
            [
             0.8888888888888888,
             "#fdca26"
            ],
            [
             1,
             "#f0f921"
            ]
           ]
          },
          "colorway": [
           "#636efa",
           "#EF553B",
           "#00cc96",
           "#ab63fa",
           "#FFA15A",
           "#19d3f3",
           "#FF6692",
           "#B6E880",
           "#FF97FF",
           "#FECB52"
          ],
          "font": {
           "color": "#2a3f5f"
          },
          "geo": {
           "bgcolor": "white",
           "lakecolor": "white",
           "landcolor": "#E5ECF6",
           "showlakes": true,
           "showland": true,
           "subunitcolor": "white"
          },
          "hoverlabel": {
           "align": "left"
          },
          "hovermode": "closest",
          "mapbox": {
           "style": "light"
          },
          "paper_bgcolor": "white",
          "plot_bgcolor": "#E5ECF6",
          "polar": {
           "angularaxis": {
            "gridcolor": "white",
            "linecolor": "white",
            "ticks": ""
           },
           "bgcolor": "#E5ECF6",
           "radialaxis": {
            "gridcolor": "white",
            "linecolor": "white",
            "ticks": ""
           }
          },
          "scene": {
           "xaxis": {
            "backgroundcolor": "#E5ECF6",
            "gridcolor": "white",
            "gridwidth": 2,
            "linecolor": "white",
            "showbackground": true,
            "ticks": "",
            "zerolinecolor": "white"
           },
           "yaxis": {
            "backgroundcolor": "#E5ECF6",
            "gridcolor": "white",
            "gridwidth": 2,
            "linecolor": "white",
            "showbackground": true,
            "ticks": "",
            "zerolinecolor": "white"
           },
           "zaxis": {
            "backgroundcolor": "#E5ECF6",
            "gridcolor": "white",
            "gridwidth": 2,
            "linecolor": "white",
            "showbackground": true,
            "ticks": "",
            "zerolinecolor": "white"
           }
          },
          "shapedefaults": {
           "line": {
            "color": "#2a3f5f"
           }
          },
          "ternary": {
           "aaxis": {
            "gridcolor": "white",
            "linecolor": "white",
            "ticks": ""
           },
           "baxis": {
            "gridcolor": "white",
            "linecolor": "white",
            "ticks": ""
           },
           "bgcolor": "#E5ECF6",
           "caxis": {
            "gridcolor": "white",
            "linecolor": "white",
            "ticks": ""
           }
          },
          "title": {
           "x": 0.05
          },
          "xaxis": {
           "automargin": true,
           "gridcolor": "white",
           "linecolor": "white",
           "ticks": "",
           "title": {
            "standoff": 15
           },
           "zerolinecolor": "white",
           "zerolinewidth": 2
          },
          "yaxis": {
           "automargin": true,
           "gridcolor": "white",
           "linecolor": "white",
           "ticks": "",
           "title": {
            "standoff": 15
           },
           "zerolinecolor": "white",
           "zerolinewidth": 2
          }
         }
        },
        "title": {
         "text": "Relationship between RECENCY VS FREQUENCY VS MONETARY based on the customer cluster"
        }
       }
      }
     },
     "metadata": {},
     "output_type": "display_data"
    },
    {
     "data": {
      "text/html": [
       "<div>\n",
       "<style scoped>\n",
       "    .dataframe tbody tr th:only-of-type {\n",
       "        vertical-align: middle;\n",
       "    }\n",
       "\n",
       "    .dataframe tbody tr th {\n",
       "        vertical-align: top;\n",
       "    }\n",
       "\n",
       "    .dataframe thead th {\n",
       "        text-align: right;\n",
       "    }\n",
       "</style>\n",
       "<table border=\"1\" class=\"dataframe\">\n",
       "  <thead>\n",
       "    <tr style=\"text-align: right;\">\n",
       "      <th></th>\n",
       "      <th>RECENCY_days</th>\n",
       "      <th>FREQUENCY_last_year</th>\n",
       "      <th>MONETARY_last_year</th>\n",
       "      <th>CustomersCount</th>\n",
       "    </tr>\n",
       "    <tr>\n",
       "      <th>KMeansLabel</th>\n",
       "      <th></th>\n",
       "      <th></th>\n",
       "      <th></th>\n",
       "      <th></th>\n",
       "    </tr>\n",
       "  </thead>\n",
       "  <tbody>\n",
       "    <tr>\n",
       "      <th>0</th>\n",
       "      <td>111.0</td>\n",
       "      <td>2.0</td>\n",
       "      <td>30091.640</td>\n",
       "      <td>21</td>\n",
       "    </tr>\n",
       "    <tr>\n",
       "      <th>1</th>\n",
       "      <td>1.0</td>\n",
       "      <td>13.5</td>\n",
       "      <td>494031.570</td>\n",
       "      <td>2</td>\n",
       "    </tr>\n",
       "    <tr>\n",
       "      <th>2</th>\n",
       "      <td>207.5</td>\n",
       "      <td>1.0</td>\n",
       "      <td>45102.695</td>\n",
       "      <td>40</td>\n",
       "    </tr>\n",
       "    <tr>\n",
       "      <th>3</th>\n",
       "      <td>457.5</td>\n",
       "      <td>0.0</td>\n",
       "      <td>0.000</td>\n",
       "      <td>12</td>\n",
       "    </tr>\n",
       "    <tr>\n",
       "      <th>4</th>\n",
       "      <td>30.0</td>\n",
       "      <td>3.0</td>\n",
       "      <td>91279.140</td>\n",
       "      <td>17</td>\n",
       "    </tr>\n",
       "  </tbody>\n",
       "</table>\n",
       "</div>"
      ],
      "text/plain": [
       "             RECENCY_days  FREQUENCY_last_year  MONETARY_last_year   \n",
       "KMeansLabel                                                          \n",
       "0                   111.0                  2.0           30091.640  \\\n",
       "1                     1.0                 13.5          494031.570   \n",
       "2                   207.5                  1.0           45102.695   \n",
       "3                   457.5                  0.0               0.000   \n",
       "4                    30.0                  3.0           91279.140   \n",
       "\n",
       "             CustomersCount  \n",
       "KMeansLabel                  \n",
       "0                        21  \n",
       "1                         2  \n",
       "2                        40  \n",
       "3                        12  \n",
       "4                        17  "
      ]
     },
     "execution_count": 22,
     "metadata": {},
     "output_type": "execute_result"
    }
   ],
   "source": [
    "rfm_df_scaled = rfm_df_scaled.assign(KMeansLabel=kmeans_clustering.labels_)\n",
    "rfm_df = rfm_df.assign(KMeansLabel=kmeans_clustering.labels_)\n",
    "\n",
    "fig = px.scatter_3d(\n",
    "    data_frame=rfm_df,\n",
    "    x= \"RECENCY_days\",\n",
    "    y = \"FREQUENCY_last_year\",\n",
    "    z= \"MONETARY_last_year\",\n",
    "    title = \"Relationship between RECENCY VS FREQUENCY VS MONETARY based on the customer cluster\",\n",
    "    color = \"KMeansLabel\",\n",
    "    height=500\n",
    ")\n",
    "fig.update_traces(marker_size = 4)\n",
    "fig.show()\n",
    "customer_clusters_summarize = customer_df.groupby(\"KMeansLabel\")[[\"RECENCY_days\", \"FREQUENCY_last_year\", \"MONETARY_last_year\"]].median()\n",
    "customer_clusters_summarize.assign(CustomersCount=np.bincount(kmeans_clustering.labels_))"
   ]
  },
  {
   "cell_type": "code",
   "execution_count": 23,
   "metadata": {},
   "outputs": [
    {
     "data": {
      "image/png": "[encoded data removed]",
      "text/plain": [
       "<Figure size 2000x1000 with 1 Axes>"
      ]
     },
     "metadata": {},
     "output_type": "display_data"
    }
   ],
   "source": [
    "neigh = NearestNeighbors(n_neighbors=2).fit(rfm_df_scaled)\n",
    "distances, indices = neigh.kneighbors(rfm_df_scaled)\n",
    "\n",
    "# Plotting K-distance Graph\n",
    "distances = np.sort(distances, axis=0)\n",
    "distances = distances[:,1]\n",
    "plt.figure(figsize=(20,10))\n",
    "plt.plot(distances)\n",
    "plt.title('K-distance Graph',fontsize=20)\n",
    "plt.xlabel('Data Points sorted by distance',fontsize=14)\n",
    "plt.ylabel('Epsilon',fontsize=14)\n",
    "plt.show()"
   ]
  },
  {
   "cell_type": "code",
   "execution_count": 24,
   "metadata": {},
   "outputs": [
    {
     "data": {
      "application/vnd.plotly.v1+json": {
       "config": {
        "plotlyServerURL": "https://plot.ly"
       },
       "data": [
        {
         "hovertemplate": "RECENCY_days=%{x}<br>FREQUENCY_last_year=%{y}<br>MONETARY_last_year=%{z}<br>DBSCANLabel=%{marker.color}<extra></extra>",
         "legendgroup": "",
         "marker": {
          "color": [
           0,
           1,
           0,
           0,
           0,
           0,
           0,
           1,
           1,
           1,
           0,
           0,
           1,
           1,
           1,
           2,
           2,
           1,
           1,
           1,
           1,
           2,
           0,
           0,
           1,
           1,
           2,
           3,
           -1,
           2,
           2,
           0,
           1,
           -1,
           0,
           0,
           1,
           3,
           3,
           1,
           1,
           1,
           0,
           0,
           -1,
           0,
           0,
           0,
           0,
           2,
           1,
           1,
           0,
           1,
           1,
           -1,
           1,
           1,
           0,
           1,
           1,
           0,
           2,
           1,
           0,
           0,
           3,
           1,
           1,
           0,
           3,
           2,
           0,
           2,
           0,
           3,
           1,
           1,
           2,
           0,
           1,
           3,
           -1,
           1,
           0,
           1,
           0,
           1,
           1,
           -1,
           2,
           1
          ],
          "coloraxis": "coloraxis",
          "size": 4,
          "symbol": "circle"
         },
         "mode": "markers",
         "name": "",
         "scene": "scene",
         "showlegend": false,
         "type": "scatter3d",
         "x": [
          195,
          64,
          264,
          83,
          187,
          22,
          183,
          118,
          232,
          54,
          179,
          207,
          258,
          207,
          112,
          438,
          388,
          221,
          229,
          191,
          257,
          460,
          131,
          97,
          211,
          196,
          465,
          46,
          1,
          400,
          495,
          90,
          188,
          0,
          89,
          26,
          178,
          25,
          38,
          221,
          270,
          237,
          21,
          192,
          0,
          197,
          75,
          145,
          230,
          508,
          209,
          82,
          47,
          228,
          144,
          2,
          194,
          195,
          181,
          283,
          208,
          263,
          413,
          120,
          1,
          30,
          62,
          200,
          284,
          141,
          14,
          455,
          89,
          476,
          183,
          2,
          179,
          145,
          392,
          146,
          58,
          39,
          39,
          227,
          111,
          139,
          53,
          274,
          207,
          193,
          488,
          211
         ],
         "y": [
          2,
          1,
          2,
          2,
          2,
          2,
          2,
          1,
          1,
          1,
          2,
          2,
          1,
          1,
          1,
          0,
          0,
          1,
          1,
          1,
          1,
          0,
          2,
          2,
          1,
          1,
          0,
          3,
          4,
          0,
          0,
          2,
          1,
          15,
          2,
          2,
          1,
          3,
          3,
          1,
          1,
          1,
          2,
          2,
          4,
          2,
          2,
          2,
          2,
          0,
          1,
          1,
          2,
          1,
          1,
          12,
          1,
          1,
          2,
          1,
          1,
          2,
          0,
          1,
          2,
          2,
          3,
          1,
          1,
          2,
          3,
          0,
          2,
          0,
          2,
          3,
          1,
          1,
          0,
          2,
          1,
          3,
          4,
          1,
          2,
          1,
          2,
          1,
          1,
          3,
          0,
          1
         ],
         "z": [
          106789.89000000001,
          15139.119999999999,
          94117.26,
          65012.420000000006,
          7619.66,
          26712.91,
          91222,
          21730.03,
          59074.899999999994,
          14066.8,
          19201.91,
          60422.530000000006,
          34993.92,
          9214.970000000001,
          3987.2,
          0,
          0,
          36576.71000000001,
          27445.309999999998,
          27733.04,
          18971.96,
          0,
          46585.579999999994,
          54203.619999999995,
          34546.600000000006,
          15928.75,
          0,
          54840.92999999999,
          122138.14000000001,
          0,
          0,
          7303.4800000000005,
          30183.350000000002,
          567255.97,
          87062.04000000001,
          75778.99,
          29343.35,
          83209.88,
          91279.14000000003,
          60273.939999999995,
          16363.1,
          3220.88,
          97931.59000000001,
          58986.270000000004,
          180124.9,
          92928.01999999999,
          52945.45999999999,
          22454.3,
          103080.38000000002,
          0,
          31446.149999999998,
          8775.16,
          41097.25,
          46873.04,
          11021.3,
          420807.17000000004,
          30348.72,
          48996.1,
          64958.700000000004,
          34145.47,
          55570.6,
          57197.95999999999,
          0,
          49055.4,
          56172.43,
          58257.50000000001,
          100924.66,
          41696.689999999995,
          43332.350000000006,
          30091.640000000003,
          111169.48999999999,
          0,
          85548.41,
          0,
          48903.46000000001,
          123173.72000000002,
          13739.900000000001,
          51373.490000000005,
          0,
          16445.77,
          46519,
          111538.02999999998,
          120562.74,
          68943.40000000001,
          69166.87999999999,
          44273.35999999999,
          91211.05999999998,
          67281.01000000001,
          56372.87,
          66005.88,
          0,
          51334.16
         ]
        }
       ],
       "layout": {
        "coloraxis": {
         "colorbar": {
          "title": {
           "text": "DBSCANLabel"
          }
         },
         "colorscale": [
          [
           0,
           "#0d0887"
          ],
          [
           0.1111111111111111,
           "#46039f"
          ],
          [
           0.2222222222222222,
           "#7201a8"
          ],
          [
           0.3333333333333333,
           "#9c179e"
          ],
          [
           0.4444444444444444,
           "#bd3786"
          ],
          [
           0.5555555555555556,
           "#d8576b"
          ],
          [
           0.6666666666666666,
           "#ed7953"
          ],
          [
           0.7777777777777778,
           "#fb9f3a"
          ],
          [
           0.8888888888888888,
           "#fdca26"
          ],
          [
           1,
           "#f0f921"
          ]
         ]
        },
        "height": 500,
        "legend": {
         "tracegroupgap": 0
        },
        "scene": {
         "domain": {
          "x": [
           0,
           1
          ],
          "y": [
           0,
           1
          ]
         },
         "xaxis": {
          "title": {
           "text": "RECENCY_days"
          }
         },
         "yaxis": {
          "title": {
           "text": "FREQUENCY_last_year"
          }
         },
         "zaxis": {
          "title": {
           "text": "MONETARY_last_year"
          }
         }
        },
        "template": {
         "data": {
          "bar": [
           {
            "error_x": {
             "color": "#2a3f5f"
            },
            "error_y": {
             "color": "#2a3f5f"
            },
            "marker": {
             "line": {
              "color": "#E5ECF6",
              "width": 0.5
             },
             "pattern": {
              "fillmode": "overlay",
              "size": 10,
              "solidity": 0.2
             }
            },
            "type": "bar"
           }
          ],
          "barpolar": [
           {
            "marker": {
             "line": {
              "color": "#E5ECF6",
              "width": 0.5
             },
             "pattern": {
              "fillmode": "overlay",
              "size": 10,
              "solidity": 0.2
             }
            },
            "type": "barpolar"
           }
          ],
          "carpet": [
           {
            "aaxis": {
             "endlinecolor": "#2a3f5f",
             "gridcolor": "white",
             "linecolor": "white",
             "minorgridcolor": "white",
             "startlinecolor": "#2a3f5f"
            },
            "baxis": {
             "endlinecolor": "#2a3f5f",
             "gridcolor": "white",
             "linecolor": "white",
             "minorgridcolor": "white",
             "startlinecolor": "#2a3f5f"
            },
            "type": "carpet"
           }
          ],
          "choropleth": [
           {
            "colorbar": {
             "outlinewidth": 0,
             "ticks": ""
            },
            "type": "choropleth"
           }
          ],
          "contour": [
           {
            "colorbar": {
             "outlinewidth": 0,
             "ticks": ""
            },
            "colorscale": [
             [
              0,
              "#0d0887"
             ],
             [
              0.1111111111111111,
              "#46039f"
             ],
             [
              0.2222222222222222,
              "#7201a8"
             ],
             [
              0.3333333333333333,
              "#9c179e"
             ],
             [
              0.4444444444444444,
              "#bd3786"
             ],
             [
              0.5555555555555556,
              "#d8576b"
             ],
             [
              0.6666666666666666,
              "#ed7953"
             ],
             [
              0.7777777777777778,
              "#fb9f3a"
             ],
             [
              0.8888888888888888,
              "#fdca26"
             ],
             [
              1,
              "#f0f921"
             ]
            ],
            "type": "contour"
           }
          ],
          "contourcarpet": [
           {
            "colorbar": {
             "outlinewidth": 0,
             "ticks": ""
            },
            "type": "contourcarpet"
           }
          ],
          "heatmap": [
           {
            "colorbar": {
             "outlinewidth": 0,
             "ticks": ""
            },
            "colorscale": [
             [
              0,
              "#0d0887"
             ],
             [
              0.1111111111111111,
              "#46039f"
             ],
             [
              0.2222222222222222,
              "#7201a8"
             ],
             [
              0.3333333333333333,
              "#9c179e"
             ],
             [
              0.4444444444444444,
              "#bd3786"
             ],
             [
              0.5555555555555556,
              "#d8576b"
             ],
             [
              0.6666666666666666,
              "#ed7953"
             ],
             [
              0.7777777777777778,
              "#fb9f3a"
             ],
             [
              0.8888888888888888,
              "#fdca26"
             ],
             [
              1,
              "#f0f921"
             ]
            ],
            "type": "heatmap"
           }
          ],
          "heatmapgl": [
           {
            "colorbar": {
             "outlinewidth": 0,
             "ticks": ""
            },
            "colorscale": [
             [
              0,
              "#0d0887"
             ],
             [
              0.1111111111111111,
              "#46039f"
             ],
             [
              0.2222222222222222,
              "#7201a8"
             ],
             [
              0.3333333333333333,
              "#9c179e"
             ],
             [
              0.4444444444444444,
              "#bd3786"
             ],
             [
              0.5555555555555556,
              "#d8576b"
             ],
             [
              0.6666666666666666,
              "#ed7953"
             ],
             [
              0.7777777777777778,
              "#fb9f3a"
             ],
             [
              0.8888888888888888,
              "#fdca26"
             ],
             [
              1,
              "#f0f921"
             ]
            ],
            "type": "heatmapgl"
           }
          ],
          "histogram": [
           {
            "marker": {
             "pattern": {
              "fillmode": "overlay",
              "size": 10,
              "solidity": 0.2
             }
            },
            "type": "histogram"
           }
          ],
          "histogram2d": [
           {
            "colorbar": {
             "outlinewidth": 0,
             "ticks": ""
            },
            "colorscale": [
             [
              0,
              "#0d0887"
             ],
             [
              0.1111111111111111,
              "#46039f"
             ],
             [
              0.2222222222222222,
              "#7201a8"
             ],
             [
              0.3333333333333333,
              "#9c179e"
             ],
             [
              0.4444444444444444,
              "#bd3786"
             ],
             [
              0.5555555555555556,
              "#d8576b"
             ],
             [
              0.6666666666666666,
              "#ed7953"
             ],
             [
              0.7777777777777778,
              "#fb9f3a"
             ],
             [
              0.8888888888888888,
              "#fdca26"
             ],
             [
              1,
              "#f0f921"
             ]
            ],
            "type": "histogram2d"
           }
          ],
          "histogram2dcontour": [
           {
            "colorbar": {
             "outlinewidth": 0,
             "ticks": ""
            },
            "colorscale": [
             [
              0,
              "#0d0887"
             ],
             [
              0.1111111111111111,
              "#46039f"
             ],
             [
              0.2222222222222222,
              "#7201a8"
             ],
             [
              0.3333333333333333,
              "#9c179e"
             ],
             [
              0.4444444444444444,
              "#bd3786"
             ],
             [
              0.5555555555555556,
              "#d8576b"
             ],
             [
              0.6666666666666666,
              "#ed7953"
             ],
             [
              0.7777777777777778,
              "#fb9f3a"
             ],
             [
              0.8888888888888888,
              "#fdca26"
             ],
             [
              1,
              "#f0f921"
             ]
            ],
            "type": "histogram2dcontour"
           }
          ],
          "mesh3d": [
           {
            "colorbar": {
             "outlinewidth": 0,
             "ticks": ""
            },
            "type": "mesh3d"
           }
          ],
          "parcoords": [
           {
            "line": {
             "colorbar": {
              "outlinewidth": 0,
              "ticks": ""
             }
            },
            "type": "parcoords"
           }
          ],
          "pie": [
           {
            "automargin": true,
            "type": "pie"
           }
          ],
          "scatter": [
           {
            "fillpattern": {
             "fillmode": "overlay",
             "size": 10,
             "solidity": 0.2
            },
            "type": "scatter"
           }
          ],
          "scatter3d": [
           {
            "line": {
             "colorbar": {
              "outlinewidth": 0,
              "ticks": ""
             }
            },
            "marker": {
             "colorbar": {
              "outlinewidth": 0,
              "ticks": ""
             }
            },
            "type": "scatter3d"
           }
          ],
          "scattercarpet": [
           {
            "marker": {
             "colorbar": {
              "outlinewidth": 0,
              "ticks": ""
             }
            },
            "type": "scattercarpet"
           }
          ],
          "scattergeo": [
           {
            "marker": {
             "colorbar": {
              "outlinewidth": 0,
              "ticks": ""
             }
            },
            "type": "scattergeo"
           }
          ],
          "scattergl": [
           {
            "marker": {
             "colorbar": {
              "outlinewidth": 0,
              "ticks": ""
             }
            },
            "type": "scattergl"
           }
          ],
          "scattermapbox": [
           {
            "marker": {
             "colorbar": {
              "outlinewidth": 0,
              "ticks": ""
             }
            },
            "type": "scattermapbox"
           }
          ],
          "scatterpolar": [
           {
            "marker": {
             "colorbar": {
              "outlinewidth": 0,
              "ticks": ""
             }
            },
            "type": "scatterpolar"
           }
          ],
          "scatterpolargl": [
           {
            "marker": {
             "colorbar": {
              "outlinewidth": 0,
              "ticks": ""
             }
            },
            "type": "scatterpolargl"
           }
          ],
          "scatterternary": [
           {
            "marker": {
             "colorbar": {
              "outlinewidth": 0,
              "ticks": ""
             }
            },
            "type": "scatterternary"
           }
          ],
          "surface": [
           {
            "colorbar": {
             "outlinewidth": 0,
             "ticks": ""
            },
            "colorscale": [
             [
              0,
              "#0d0887"
             ],
             [
              0.1111111111111111,
              "#46039f"
             ],
             [
              0.2222222222222222,
              "#7201a8"
             ],
             [
              0.3333333333333333,
              "#9c179e"
             ],
             [
              0.4444444444444444,
              "#bd3786"
             ],
             [
              0.5555555555555556,
              "#d8576b"
             ],
             [
              0.6666666666666666,
              "#ed7953"
             ],
             [
              0.7777777777777778,
              "#fb9f3a"
             ],
             [
              0.8888888888888888,
              "#fdca26"
             ],
             [
              1,
              "#f0f921"
             ]
            ],
            "type": "surface"
           }
          ],
          "table": [
           {
            "cells": {
             "fill": {
              "color": "#EBF0F8"
             },
             "line": {
              "color": "white"
             }
            },
            "header": {
             "fill": {
              "color": "#C8D4E3"
             },
             "line": {
              "color": "white"
             }
            },
            "type": "table"
           }
          ]
         },
         "layout": {
          "annotationdefaults": {
           "arrowcolor": "#2a3f5f",
           "arrowhead": 0,
           "arrowwidth": 1
          },
          "autotypenumbers": "strict",
          "coloraxis": {
           "colorbar": {
            "outlinewidth": 0,
            "ticks": ""
           }
          },
          "colorscale": {
           "diverging": [
            [
             0,
             "#8e0152"
            ],
            [
             0.1,
             "#c51b7d"
            ],
            [
             0.2,
             "#de77ae"
            ],
            [
             0.3,
             "#f1b6da"
            ],
            [
             0.4,
             "#fde0ef"
            ],
            [
             0.5,
             "#f7f7f7"
            ],
            [
             0.6,
             "#e6f5d0"
            ],
            [
             0.7,
             "#b8e186"
            ],
            [
             0.8,
             "#7fbc41"
            ],
            [
             0.9,
             "#4d9221"
            ],
            [
             1,
             "#276419"
            ]
           ],
           "sequential": [
            [
             0,
             "#0d0887"
            ],
            [
             0.1111111111111111,
             "#46039f"
            ],
            [
             0.2222222222222222,
             "#7201a8"
            ],
            [
             0.3333333333333333,
             "#9c179e"
            ],
            [
             0.4444444444444444,
             "#bd3786"
            ],
            [
             0.5555555555555556,
             "#d8576b"
            ],
            [
             0.6666666666666666,
             "#ed7953"
            ],
            [
             0.7777777777777778,
             "#fb9f3a"
            ],
            [
             0.8888888888888888,
             "#fdca26"
            ],
            [
             1,
             "#f0f921"
            ]
           ],
           "sequentialminus": [
            [
             0,
             "#0d0887"
            ],
            [
             0.1111111111111111,
             "#46039f"
            ],
            [
             0.2222222222222222,
             "#7201a8"
            ],
            [
             0.3333333333333333,
             "#9c179e"
            ],
            [
             0.4444444444444444,
             "#bd3786"
            ],
            [
             0.5555555555555556,
             "#d8576b"
            ],
            [
             0.6666666666666666,
             "#ed7953"
            ],
            [
             0.7777777777777778,
             "#fb9f3a"
            ],
            [
             0.8888888888888888,
             "#fdca26"
            ],
            [
             1,
             "#f0f921"
            ]
           ]
          },
          "colorway": [
           "#636efa",
           "#EF553B",
           "#00cc96",
           "#ab63fa",
           "#FFA15A",
           "#19d3f3",
           "#FF6692",
           "#B6E880",
           "#FF97FF",
           "#FECB52"
          ],
          "font": {
           "color": "#2a3f5f"
          },
          "geo": {
           "bgcolor": "white",
           "lakecolor": "white",
           "landcolor": "#E5ECF6",
           "showlakes": true,
           "showland": true,
           "subunitcolor": "white"
          },
          "hoverlabel": {
           "align": "left"
          },
          "hovermode": "closest",
          "mapbox": {
           "style": "light"
          },
          "paper_bgcolor": "white",
          "plot_bgcolor": "#E5ECF6",
          "polar": {
           "angularaxis": {
            "gridcolor": "white",
            "linecolor": "white",
            "ticks": ""
           },
           "bgcolor": "#E5ECF6",
           "radialaxis": {
            "gridcolor": "white",
            "linecolor": "white",
            "ticks": ""
           }
          },
          "scene": {
           "xaxis": {
            "backgroundcolor": "#E5ECF6",
            "gridcolor": "white",
            "gridwidth": 2,
            "linecolor": "white",
            "showbackground": true,
            "ticks": "",
            "zerolinecolor": "white"
           },
           "yaxis": {
            "backgroundcolor": "#E5ECF6",
            "gridcolor": "white",
            "gridwidth": 2,
            "linecolor": "white",
            "showbackground": true,
            "ticks": "",
            "zerolinecolor": "white"
           },
           "zaxis": {
            "backgroundcolor": "#E5ECF6",
            "gridcolor": "white",
            "gridwidth": 2,
            "linecolor": "white",
            "showbackground": true,
            "ticks": "",
            "zerolinecolor": "white"
           }
          },
          "shapedefaults": {
           "line": {
            "color": "#2a3f5f"
           }
          },
          "ternary": {
           "aaxis": {
            "gridcolor": "white",
            "linecolor": "white",
            "ticks": ""
           },
           "baxis": {
            "gridcolor": "white",
            "linecolor": "white",
            "ticks": ""
           },
           "bgcolor": "#E5ECF6",
           "caxis": {
            "gridcolor": "white",
            "linecolor": "white",
            "ticks": ""
           }
          },
          "title": {
           "x": 0.05
          },
          "xaxis": {
           "automargin": true,
           "gridcolor": "white",
           "linecolor": "white",
           "ticks": "",
           "title": {
            "standoff": 15
           },
           "zerolinecolor": "white",
           "zerolinewidth": 2
          },
          "yaxis": {
           "automargin": true,
           "gridcolor": "white",
           "linecolor": "white",
           "ticks": "",
           "title": {
            "standoff": 15
           },
           "zerolinecolor": "white",
           "zerolinewidth": 2
          }
         }
        },
        "title": {
         "text": "Relationship between RECENCY VS FREQUENCY VS MONETARY based on customer cluster"
        }
       }
      }
     },
     "metadata": {},
     "output_type": "display_data"
    },
    {
     "data": {
      "text/html": [
       "<div>\n",
       "<style scoped>\n",
       "    .dataframe tbody tr th:only-of-type {\n",
       "        vertical-align: middle;\n",
       "    }\n",
       "\n",
       "    .dataframe tbody tr th {\n",
       "        vertical-align: top;\n",
       "    }\n",
       "\n",
       "    .dataframe thead th {\n",
       "        text-align: right;\n",
       "    }\n",
       "</style>\n",
       "<table border=\"1\" class=\"dataframe\">\n",
       "  <thead>\n",
       "    <tr style=\"text-align: right;\">\n",
       "      <th></th>\n",
       "      <th>RECENCY_days</th>\n",
       "      <th>FREQUENCY_last_year</th>\n",
       "      <th>MONETARY_last_year</th>\n",
       "      <th>CustomersCount</th>\n",
       "    </tr>\n",
       "    <tr>\n",
       "      <th>DBSCANLabel</th>\n",
       "      <th></th>\n",
       "      <th></th>\n",
       "      <th></th>\n",
       "      <th></th>\n",
       "    </tr>\n",
       "  </thead>\n",
       "  <tbody>\n",
       "    <tr>\n",
       "      <th>-1</th>\n",
       "      <td>1.5</td>\n",
       "      <td>4.0</td>\n",
       "      <td>151131.520</td>\n",
       "      <td>6</td>\n",
       "    </tr>\n",
       "    <tr>\n",
       "      <th>0</th>\n",
       "      <td>136.0</td>\n",
       "      <td>2.0</td>\n",
       "      <td>58621.885</td>\n",
       "      <td>30</td>\n",
       "    </tr>\n",
       "    <tr>\n",
       "      <th>1</th>\n",
       "      <td>207.0</td>\n",
       "      <td>1.0</td>\n",
       "      <td>34145.470</td>\n",
       "      <td>37</td>\n",
       "    </tr>\n",
       "    <tr>\n",
       "      <th>2</th>\n",
       "      <td>457.5</td>\n",
       "      <td>0.0</td>\n",
       "      <td>0.000</td>\n",
       "      <td>12</td>\n",
       "    </tr>\n",
       "    <tr>\n",
       "      <th>3</th>\n",
       "      <td>38.0</td>\n",
       "      <td>3.0</td>\n",
       "      <td>100924.660</td>\n",
       "      <td>7</td>\n",
       "    </tr>\n",
       "  </tbody>\n",
       "</table>\n",
       "</div>"
      ],
      "text/plain": [
       "             RECENCY_days  FREQUENCY_last_year  MONETARY_last_year   \n",
       "DBSCANLabel                                                          \n",
       "-1                    1.5                  4.0          151131.520  \\\n",
       " 0                  136.0                  2.0           58621.885   \n",
       " 1                  207.0                  1.0           34145.470   \n",
       " 2                  457.5                  0.0               0.000   \n",
       " 3                   38.0                  3.0          100924.660   \n",
       "\n",
       "             CustomersCount  \n",
       "DBSCANLabel                  \n",
       "-1                        6  \n",
       " 0                       30  \n",
       " 1                       37  \n",
       " 2                       12  \n",
       " 3                        7  "
      ]
     },
     "execution_count": 24,
     "metadata": {},
     "output_type": "execute_result"
    }
   ],
   "source": [
    "min_points = rfm_array_scaled.shape[1] + 1\n",
    "dbscan_clustering = DBSCAN(min_samples=min_points, eps=0.5).fit(rfm_array_scaled)\n",
    "customer_df = customer_df.assign(DBSCANLabel=dbscan_clustering.labels_)\n",
    "rfm_df_scaled = rfm_df_scaled.assign(DBSCANLabel=dbscan_clustering.labels_)\n",
    "rfm_df = rfm_df.assign(DBSCANLabel=dbscan_clustering.labels_)\n",
    "\n",
    "fig = px.scatter_3d(\n",
    "    data_frame=rfm_df,\n",
    "    x= \"RECENCY_days\",\n",
    "    y = \"FREQUENCY_last_year\",\n",
    "    z= \"MONETARY_last_year\",\n",
    "    title = \"Relationship between RECENCY VS FREQUENCY VS MONETARY based on customer cluster\",\n",
    "    color = \"DBSCANLabel\",\n",
    "    height=500\n",
    ")\n",
    "fig.update_traces(marker_size = 4)\n",
    "fig.show()\n",
    "\n",
    "customer_clusters_summarize = customer_df.groupby(\"DBSCANLabel\")[[\"RECENCY_days\", \"FREQUENCY_last_year\", \"MONETARY_last_year\"]].median()\n",
    "customer_clusters_summarize.assign(CustomersCount=np.unique(dbscan_clustering.labels_, return_counts=True)[1])\n",
    "# np.unique(dbscan_clustering.labels_, return_counts=True)[1]\n"
   ]
  },
  {
   "cell_type": "code",
   "execution_count": 25,
   "metadata": {},
   "outputs": [
    {
     "data": {
      "application/vnd.plotly.v1+json": {
       "config": {
        "plotlyServerURL": "https://plot.ly"
       },
       "data": [
        {
         "hovertemplate": "RECENCY_days=%{x}<br>FREQUENCY_last_year=%{y}<br>MONETARY_last_year=%{z}<br>DBSCANLabel=%{marker.color}<extra></extra>",
         "legendgroup": "",
         "marker": {
          "color": [
           -1,
           -1,
           -1,
           1,
           -1,
           -1,
           0,
           -1,
           2,
           -1,
           -1,
           0,
           -1,
           -1,
           -1,
           5,
           -1,
           3,
           3,
           3,
           -1,
           5,
           -1,
           1,
           3,
           -1,
           5,
           4,
           4,
           -1,
           5,
           -1,
           3,
           -1,
           1,
           1,
           3,
           4,
           4,
           2,
           -1,
           -1,
           1,
           0,
           -1,
           0,
           1,
           -1,
           0,
           5,
           3,
           -1,
           -1,
           2,
           -1,
           -1,
           3,
           2,
           0,
           -1,
           2,
           -1,
           -1,
           -1,
           1,
           1,
           4,
           2,
           -1,
           -1,
           4,
           5,
           1,
           5,
           0,
           4,
           -1,
           -1,
           -1,
           -1,
           -1,
           4,
           -1,
           2,
           1,
           -1,
           1,
           -1,
           2,
           -1,
           5,
           2
          ],
          "coloraxis": "coloraxis",
          "size": 4,
          "symbol": "circle"
         },
         "mode": "markers",
         "name": "",
         "scene": "scene",
         "showlegend": false,
         "type": "scatter3d",
         "x": [
          0.10079171076578285,
          -0.9014704164200388,
          0.6287007701232004,
          -0.7561041536984311,
          0.03958486330405329,
          -1.222806365594119,
          0.008981439573188503,
          -0.4883241960533642,
          0.3838733802762821,
          -0.9779789757472007,
          -0.021621984157676282,
          0.1926019819583772,
          0.5827956345269032,
          0.1926019819583772,
          -0.5342293316496614,
          1.9599497024158183,
          1.5774069057800086,
          0.29971396501640396,
          0.3609208124781335,
          0.07018828703491807,
          0.575144778594187,
          2.1282685329355746,
          -0.38886306892805367,
          -0.6489921706404044,
          0.223205405689242,
          0.10844256669849904,
          2.1665228125991556,
          -1.0391858232089304,
          -1.3834743401811591,
          1.669217176972603,
          2.3960484905806414,
          -0.7025481621694177,
          0.04723571923676948,
          -1.3911251961138753,
          -0.7101990181021339,
          -1.1922029418632543,
          -0.029272840090392476,
          -1.1998537977959705,
          -1.10039267067066,
          0.29971396501640396,
          0.6746059057194975,
          0.42212765993986306,
          -1.2304572215268352,
          0.07783914296763426,
          -1.3911251961138753,
          0.11609342263121523,
          -0.8173110011601606,
          -0.28175108587002695,
          0.3685716684108497,
          2.495509617705952,
          0.20790369382380958,
          -0.7637550096311473,
          -1.0315349672762142,
          0.3532699565454173,
          -0.28940194180274315,
          -1.375823484248443,
          0.09314085483306665,
          0.10079171076578285,
          -0.00632027229224389,
          0.774067032844808,
          0.20025283789109338,
          0.6210499141904842,
          1.7686783040979135,
          -0.4730224841879318,
          -1.3834743401811591,
          -1.1615995181323895,
          -0.9167721282854712,
          0.13904599042936383,
          0.7817178887775242,
          -0.3123545096008917,
          -1.2840132130558486,
          2.0900142532719936,
          -0.7101990181021339,
          2.2506822278590337,
          0.008981439573188503,
          -1.375823484248443,
          -0.021621984157676282,
          -0.28175108587002695,
          1.6080103295108734,
          -0.27410022993731076,
          -0.9473755520163359,
          -1.0927418147379437,
          -1.0927418147379437,
          0.3456191006127011,
          -0.5418801875823775,
          -0.3276562214663241,
          -0.9856298316799169,
          0.7052093294503623,
          0.1926019819583772,
          0.08548999890035046,
          2.342492499051628,
          0.223205405689242
         ],
         "y": [
          0.13048103881297804,
          -0.36969627663677107,
          0.13048103881297804,
          0.13048103881297804,
          0.13048103881297804,
          0.13048103881297804,
          0.13048103881297804,
          -0.36969627663677107,
          -0.36969627663677107,
          -0.36969627663677107,
          0.13048103881297804,
          0.13048103881297804,
          -0.36969627663677107,
          -0.36969627663677107,
          -0.36969627663677107,
          -0.8698735920865202,
          -0.8698735920865202,
          -0.36969627663677107,
          -0.36969627663677107,
          -0.36969627663677107,
          -0.36969627663677107,
          -0.8698735920865202,
          0.13048103881297804,
          0.13048103881297804,
          -0.36969627663677107,
          -0.36969627663677107,
          -0.8698735920865202,
          0.6306583542627272,
          1.1308356697124764,
          -0.8698735920865202,
          -0.8698735920865202,
          0.13048103881297804,
          -0.36969627663677107,
          6.632786139659716,
          0.13048103881297804,
          0.13048103881297804,
          -0.36969627663677107,
          0.6306583542627272,
          0.6306583542627272,
          -0.36969627663677107,
          -0.36969627663677107,
          -0.36969627663677107,
          0.13048103881297804,
          0.13048103881297804,
          1.1308356697124764,
          0.13048103881297804,
          0.13048103881297804,
          0.13048103881297804,
          0.13048103881297804,
          -0.8698735920865202,
          -0.36969627663677107,
          -0.36969627663677107,
          0.13048103881297804,
          -0.36969627663677107,
          -0.36969627663677107,
          5.132254193310469,
          -0.36969627663677107,
          -0.36969627663677107,
          0.13048103881297804,
          -0.36969627663677107,
          -0.36969627663677107,
          0.13048103881297804,
          -0.8698735920865202,
          -0.36969627663677107,
          0.13048103881297804,
          0.13048103881297804,
          0.6306583542627272,
          -0.36969627663677107,
          -0.36969627663677107,
          0.13048103881297804,
          0.6306583542627272,
          -0.8698735920865202,
          0.13048103881297804,
          -0.8698735920865202,
          0.13048103881297804,
          0.6306583542627272,
          -0.36969627663677107,
          -0.36969627663677107,
          -0.8698735920865202,
          0.13048103881297804,
          -0.36969627663677107,
          0.6306583542627272,
          1.1308356697124764,
          -0.36969627663677107,
          0.13048103881297804,
          -0.36969627663677107,
          0.13048103881297804,
          -0.36969627663677107,
          -0.36969627663677107,
          0.6306583542627272,
          -0.8698735920865202,
          -0.36969627663677107
         ],
         "z": [
          0.6645373002906256,
          -0.5476832200057644,
          0.49692253685630133,
          0.11196685903773894,
          -0.6471394898608666,
          -0.3946022831451013,
          0.4586283295780284,
          -0.4605084330462367,
          0.03343414639746069,
          -0.561866279333299,
          -0.49394665666150706,
          0.05125859827895648,
          -0.28507335882968526,
          -0.626039094106046,
          -0.695184285896468,
          -0.7479210567771247,
          -0.7479210567771247,
          -0.2641385590749213,
          -0.3849151816721397,
          -0.38110951576987956,
          -0.4969880943782022,
          -0.7479210567771247,
          -0.13175606409993182,
          -0.030995924142147396,
          -0.2909898446719643,
          -0.5372391649319048,
          -0.7479210567771247,
          -0.02256653222552641,
          0.8675411986827402,
          -0.7479210567771247,
          -0.7479210567771247,
          -0.6513214501881753,
          -0.34870044748722956,
          6.7549000007506335,
          0.40360654552087144,
          0.25437108638037337,
          -0.3598107222514129,
          0.3526558835737329,
          0.45938409279234477,
          0.04929327003227777,
          -0.5314942270225917,
          -0.7053200308456214,
          0.5473728396435245,
          0.03226188014466372,
          1.6345040990217319,
          0.481193033093733,
          -0.04763699949608179,
          -0.4509288631611712,
          0.6154734010757619,
          -0.7479210567771247,
          -0.3319980010917407,
          -0.6318562488013263,
          -0.20434755731006282,
          -0.1279539693574173,
          -0.6021476386122517,
          4.817892373506674,
          -0.34651317827561884,
          -0.09987327895164712,
          0.11125633051353424,
          -0.2962953976673892,
          -0.01291553914554821,
          0.008608766497596138,
          -0.7479210567771247,
          -0.09908894645936604,
          -0.004955424072538148,
          0.022622790930504403,
          0.586960732605946,
          -0.19641905361406048,
          -0.1747849678750317,
          -0.34991345141416197,
          0.7224641566682648,
          -0.7479210567771247,
          0.3835864917216919,
          -0.7479210567771247,
          -0.10109858353992551,
          0.8812383157545176,
          -0.566190027929027,
          -0.06842868833066879,
          -0.7479210567771247,
          -0.53040079081455,
          -0.13263668564016903,
          0.7273386574558743,
          0.8467041428928659,
          0.16396003510024998,
          0.16691589724822556,
          -0.16233868257045553,
          0.4584836314757423,
          0.14197240454640397,
          -0.0023043008895227606,
          0.12510687518919789,
          -0.7479210567771247,
          -0.06894888726694895
         ]
        }
       ],
       "layout": {
        "coloraxis": {
         "colorbar": {
          "title": {
           "text": "DBSCANLabel"
          }
         },
         "colorscale": [
          [
           0,
           "#0d0887"
          ],
          [
           0.1111111111111111,
           "#46039f"
          ],
          [
           0.2222222222222222,
           "#7201a8"
          ],
          [
           0.3333333333333333,
           "#9c179e"
          ],
          [
           0.4444444444444444,
           "#bd3786"
          ],
          [
           0.5555555555555556,
           "#d8576b"
          ],
          [
           0.6666666666666666,
           "#ed7953"
          ],
          [
           0.7777777777777778,
           "#fb9f3a"
          ],
          [
           0.8888888888888888,
           "#fdca26"
          ],
          [
           1,
           "#f0f921"
          ]
         ]
        },
        "height": 500,
        "legend": {
         "tracegroupgap": 0
        },
        "scene": {
         "domain": {
          "x": [
           0,
           1
          ],
          "y": [
           0,
           1
          ]
         },
         "xaxis": {
          "title": {
           "text": "RECENCY_days"
          }
         },
         "yaxis": {
          "title": {
           "text": "FREQUENCY_last_year"
          }
         },
         "zaxis": {
          "title": {
           "text": "MONETARY_last_year"
          }
         }
        },
        "template": {
         "data": {
          "bar": [
           {
            "error_x": {
             "color": "#2a3f5f"
            },
            "error_y": {
             "color": "#2a3f5f"
            },
            "marker": {
             "line": {
              "color": "#E5ECF6",
              "width": 0.5
             },
             "pattern": {
              "fillmode": "overlay",
              "size": 10,
              "solidity": 0.2
             }
            },
            "type": "bar"
           }
          ],
          "barpolar": [
           {
            "marker": {
             "line": {
              "color": "#E5ECF6",
              "width": 0.5
             },
             "pattern": {
              "fillmode": "overlay",
              "size": 10,
              "solidity": 0.2
             }
            },
            "type": "barpolar"
           }
          ],
          "carpet": [
           {
            "aaxis": {
             "endlinecolor": "#2a3f5f",
             "gridcolor": "white",
             "linecolor": "white",
             "minorgridcolor": "white",
             "startlinecolor": "#2a3f5f"
            },
            "baxis": {
             "endlinecolor": "#2a3f5f",
             "gridcolor": "white",
             "linecolor": "white",
             "minorgridcolor": "white",
             "startlinecolor": "#2a3f5f"
            },
            "type": "carpet"
           }
          ],
          "choropleth": [
           {
            "colorbar": {
             "outlinewidth": 0,
             "ticks": ""
            },
            "type": "choropleth"
           }
          ],
          "contour": [
           {
            "colorbar": {
             "outlinewidth": 0,
             "ticks": ""
            },
            "colorscale": [
             [
              0,
              "#0d0887"
             ],
             [
              0.1111111111111111,
              "#46039f"
             ],
             [
              0.2222222222222222,
              "#7201a8"
             ],
             [
              0.3333333333333333,
              "#9c179e"
             ],
             [
              0.4444444444444444,
              "#bd3786"
             ],
             [
              0.5555555555555556,
              "#d8576b"
             ],
             [
              0.6666666666666666,
              "#ed7953"
             ],
             [
              0.7777777777777778,
              "#fb9f3a"
             ],
             [
              0.8888888888888888,
              "#fdca26"
             ],
             [
              1,
              "#f0f921"
             ]
            ],
            "type": "contour"
           }
          ],
          "contourcarpet": [
           {
            "colorbar": {
             "outlinewidth": 0,
             "ticks": ""
            },
            "type": "contourcarpet"
           }
          ],
          "heatmap": [
           {
            "colorbar": {
             "outlinewidth": 0,
             "ticks": ""
            },
            "colorscale": [
             [
              0,
              "#0d0887"
             ],
             [
              0.1111111111111111,
              "#46039f"
             ],
             [
              0.2222222222222222,
              "#7201a8"
             ],
             [
              0.3333333333333333,
              "#9c179e"
             ],
             [
              0.4444444444444444,
              "#bd3786"
             ],
             [
              0.5555555555555556,
              "#d8576b"
             ],
             [
              0.6666666666666666,
              "#ed7953"
             ],
             [
              0.7777777777777778,
              "#fb9f3a"
             ],
             [
              0.8888888888888888,
              "#fdca26"
             ],
             [
              1,
              "#f0f921"
             ]
            ],
            "type": "heatmap"
           }
          ],
          "heatmapgl": [
           {
            "colorbar": {
             "outlinewidth": 0,
             "ticks": ""
            },
            "colorscale": [
             [
              0,
              "#0d0887"
             ],
             [
              0.1111111111111111,
              "#46039f"
             ],
             [
              0.2222222222222222,
              "#7201a8"
             ],
             [
              0.3333333333333333,
              "#9c179e"
             ],
             [
              0.4444444444444444,
              "#bd3786"
             ],
             [
              0.5555555555555556,
              "#d8576b"
             ],
             [
              0.6666666666666666,
              "#ed7953"
             ],
             [
              0.7777777777777778,
              "#fb9f3a"
             ],
             [
              0.8888888888888888,
              "#fdca26"
             ],
             [
              1,
              "#f0f921"
             ]
            ],
            "type": "heatmapgl"
           }
          ],
          "histogram": [
           {
            "marker": {
             "pattern": {
              "fillmode": "overlay",
              "size": 10,
              "solidity": 0.2
             }
            },
            "type": "histogram"
           }
          ],
          "histogram2d": [
           {
            "colorbar": {
             "outlinewidth": 0,
             "ticks": ""
            },
            "colorscale": [
             [
              0,
              "#0d0887"
             ],
             [
              0.1111111111111111,
              "#46039f"
             ],
             [
              0.2222222222222222,
              "#7201a8"
             ],
             [
              0.3333333333333333,
              "#9c179e"
             ],
             [
              0.4444444444444444,
              "#bd3786"
             ],
             [
              0.5555555555555556,
              "#d8576b"
             ],
             [
              0.6666666666666666,
              "#ed7953"
             ],
             [
              0.7777777777777778,
              "#fb9f3a"
             ],
             [
              0.8888888888888888,
              "#fdca26"
             ],
             [
              1,
              "#f0f921"
             ]
            ],
            "type": "histogram2d"
           }
          ],
          "histogram2dcontour": [
           {
            "colorbar": {
             "outlinewidth": 0,
             "ticks": ""
            },
            "colorscale": [
             [
              0,
              "#0d0887"
             ],
             [
              0.1111111111111111,
              "#46039f"
             ],
             [
              0.2222222222222222,
              "#7201a8"
             ],
             [
              0.3333333333333333,
              "#9c179e"
             ],
             [
              0.4444444444444444,
              "#bd3786"
             ],
             [
              0.5555555555555556,
              "#d8576b"
             ],
             [
              0.6666666666666666,
              "#ed7953"
             ],
             [
              0.7777777777777778,
              "#fb9f3a"
             ],
             [
              0.8888888888888888,
              "#fdca26"
             ],
             [
              1,
              "#f0f921"
             ]
            ],
            "type": "histogram2dcontour"
           }
          ],
          "mesh3d": [
           {
            "colorbar": {
             "outlinewidth": 0,
             "ticks": ""
            },
            "type": "mesh3d"
           }
          ],
          "parcoords": [
           {
            "line": {
             "colorbar": {
              "outlinewidth": 0,
              "ticks": ""
             }
            },
            "type": "parcoords"
           }
          ],
          "pie": [
           {
            "automargin": true,
            "type": "pie"
           }
          ],
          "scatter": [
           {
            "fillpattern": {
             "fillmode": "overlay",
             "size": 10,
             "solidity": 0.2
            },
            "type": "scatter"
           }
          ],
          "scatter3d": [
           {
            "line": {
             "colorbar": {
              "outlinewidth": 0,
              "ticks": ""
             }
            },
            "marker": {
             "colorbar": {
              "outlinewidth": 0,
              "ticks": ""
             }
            },
            "type": "scatter3d"
           }
          ],
          "scattercarpet": [
           {
            "marker": {
             "colorbar": {
              "outlinewidth": 0,
              "ticks": ""
             }
            },
            "type": "scattercarpet"
           }
          ],
          "scattergeo": [
           {
            "marker": {
             "colorbar": {
              "outlinewidth": 0,
              "ticks": ""
             }
            },
            "type": "scattergeo"
           }
          ],
          "scattergl": [
           {
            "marker": {
             "colorbar": {
              "outlinewidth": 0,
              "ticks": ""
             }
            },
            "type": "scattergl"
           }
          ],
          "scattermapbox": [
           {
            "marker": {
             "colorbar": {
              "outlinewidth": 0,
              "ticks": ""
             }
            },
            "type": "scattermapbox"
           }
          ],
          "scatterpolar": [
           {
            "marker": {
             "colorbar": {
              "outlinewidth": 0,
              "ticks": ""
             }
            },
            "type": "scatterpolar"
           }
          ],
          "scatterpolargl": [
           {
            "marker": {
             "colorbar": {
              "outlinewidth": 0,
              "ticks": ""
             }
            },
            "type": "scatterpolargl"
           }
          ],
          "scatterternary": [
           {
            "marker": {
             "colorbar": {
              "outlinewidth": 0,
              "ticks": ""
             }
            },
            "type": "scatterternary"
           }
          ],
          "surface": [
           {
            "colorbar": {
             "outlinewidth": 0,
             "ticks": ""
            },
            "colorscale": [
             [
              0,
              "#0d0887"
             ],
             [
              0.1111111111111111,
              "#46039f"
             ],
             [
              0.2222222222222222,
              "#7201a8"
             ],
             [
              0.3333333333333333,
              "#9c179e"
             ],
             [
              0.4444444444444444,
              "#bd3786"
             ],
             [
              0.5555555555555556,
              "#d8576b"
             ],
             [
              0.6666666666666666,
              "#ed7953"
             ],
             [
              0.7777777777777778,
              "#fb9f3a"
             ],
             [
              0.8888888888888888,
              "#fdca26"
             ],
             [
              1,
              "#f0f921"
             ]
            ],
            "type": "surface"
           }
          ],
          "table": [
           {
            "cells": {
             "fill": {
              "color": "#EBF0F8"
             },
             "line": {
              "color": "white"
             }
            },
            "header": {
             "fill": {
              "color": "#C8D4E3"
             },
             "line": {
              "color": "white"
             }
            },
            "type": "table"
           }
          ]
         },
         "layout": {
          "annotationdefaults": {
           "arrowcolor": "#2a3f5f",
           "arrowhead": 0,
           "arrowwidth": 1
          },
          "autotypenumbers": "strict",
          "coloraxis": {
           "colorbar": {
            "outlinewidth": 0,
            "ticks": ""
           }
          },
          "colorscale": {
           "diverging": [
            [
             0,
             "#8e0152"
            ],
            [
             0.1,
             "#c51b7d"
            ],
            [
             0.2,
             "#de77ae"
            ],
            [
             0.3,
             "#f1b6da"
            ],
            [
             0.4,
             "#fde0ef"
            ],
            [
             0.5,
             "#f7f7f7"
            ],
            [
             0.6,
             "#e6f5d0"
            ],
            [
             0.7,
             "#b8e186"
            ],
            [
             0.8,
             "#7fbc41"
            ],
            [
             0.9,
             "#4d9221"
            ],
            [
             1,
             "#276419"
            ]
           ],
           "sequential": [
            [
             0,
             "#0d0887"
            ],
            [
             0.1111111111111111,
             "#46039f"
            ],
            [
             0.2222222222222222,
             "#7201a8"
            ],
            [
             0.3333333333333333,
             "#9c179e"
            ],
            [
             0.4444444444444444,
             "#bd3786"
            ],
            [
             0.5555555555555556,
             "#d8576b"
            ],
            [
             0.6666666666666666,
             "#ed7953"
            ],
            [
             0.7777777777777778,
             "#fb9f3a"
            ],
            [
             0.8888888888888888,
             "#fdca26"
            ],
            [
             1,
             "#f0f921"
            ]
           ],
           "sequentialminus": [
            [
             0,
             "#0d0887"
            ],
            [
             0.1111111111111111,
             "#46039f"
            ],
            [
             0.2222222222222222,
             "#7201a8"
            ],
            [
             0.3333333333333333,
             "#9c179e"
            ],
            [
             0.4444444444444444,
             "#bd3786"
            ],
            [
             0.5555555555555556,
             "#d8576b"
            ],
            [
             0.6666666666666666,
             "#ed7953"
            ],
            [
             0.7777777777777778,
             "#fb9f3a"
            ],
            [
             0.8888888888888888,
             "#fdca26"
            ],
            [
             1,
             "#f0f921"
            ]
           ]
          },
          "colorway": [
           "#636efa",
           "#EF553B",
           "#00cc96",
           "#ab63fa",
           "#FFA15A",
           "#19d3f3",
           "#FF6692",
           "#B6E880",
           "#FF97FF",
           "#FECB52"
          ],
          "font": {
           "color": "#2a3f5f"
          },
          "geo": {
           "bgcolor": "white",
           "lakecolor": "white",
           "landcolor": "#E5ECF6",
           "showlakes": true,
           "showland": true,
           "subunitcolor": "white"
          },
          "hoverlabel": {
           "align": "left"
          },
          "hovermode": "closest",
          "mapbox": {
           "style": "light"
          },
          "paper_bgcolor": "white",
          "plot_bgcolor": "#E5ECF6",
          "polar": {
           "angularaxis": {
            "gridcolor": "white",
            "linecolor": "white",
            "ticks": ""
           },
           "bgcolor": "#E5ECF6",
           "radialaxis": {
            "gridcolor": "white",
            "linecolor": "white",
            "ticks": ""
           }
          },
          "scene": {
           "xaxis": {
            "backgroundcolor": "#E5ECF6",
            "gridcolor": "white",
            "gridwidth": 2,
            "linecolor": "white",
            "showbackground": true,
            "ticks": "",
            "zerolinecolor": "white"
           },
           "yaxis": {
            "backgroundcolor": "#E5ECF6",
            "gridcolor": "white",
            "gridwidth": 2,
            "linecolor": "white",
            "showbackground": true,
            "ticks": "",
            "zerolinecolor": "white"
           },
           "zaxis": {
            "backgroundcolor": "#E5ECF6",
            "gridcolor": "white",
            "gridwidth": 2,
            "linecolor": "white",
            "showbackground": true,
            "ticks": "",
            "zerolinecolor": "white"
           }
          },
          "shapedefaults": {
           "line": {
            "color": "#2a3f5f"
           }
          },
          "ternary": {
           "aaxis": {
            "gridcolor": "white",
            "linecolor": "white",
            "ticks": ""
           },
           "baxis": {
            "gridcolor": "white",
            "linecolor": "white",
            "ticks": ""
           },
           "bgcolor": "#E5ECF6",
           "caxis": {
            "gridcolor": "white",
            "linecolor": "white",
            "ticks": ""
           }
          },
          "title": {
           "x": 0.05
          },
          "xaxis": {
           "automargin": true,
           "gridcolor": "white",
           "linecolor": "white",
           "ticks": "",
           "title": {
            "standoff": 15
           },
           "zerolinecolor": "white",
           "zerolinewidth": 2
          },
          "yaxis": {
           "automargin": true,
           "gridcolor": "white",
           "linecolor": "white",
           "ticks": "",
           "title": {
            "standoff": 15
           },
           "zerolinecolor": "white",
           "zerolinewidth": 2
          }
         }
        },
        "title": {
         "text": "Relationship between RECENCY VS FREQUENCY VS MONETARY based on customer cluster"
        }
       }
      }
     },
     "metadata": {},
     "output_type": "display_data"
    },
    {
     "data": {
      "text/html": [
       "<div>\n",
       "<style scoped>\n",
       "    .dataframe tbody tr th:only-of-type {\n",
       "        vertical-align: middle;\n",
       "    }\n",
       "\n",
       "    .dataframe tbody tr th {\n",
       "        vertical-align: top;\n",
       "    }\n",
       "\n",
       "    .dataframe thead th {\n",
       "        text-align: right;\n",
       "    }\n",
       "</style>\n",
       "<table border=\"1\" class=\"dataframe\">\n",
       "  <thead>\n",
       "    <tr style=\"text-align: right;\">\n",
       "      <th></th>\n",
       "      <th>RECENCY_days</th>\n",
       "      <th>FREQUENCY_last_year</th>\n",
       "      <th>MONETARY_last_year</th>\n",
       "      <th>CustomersCount</th>\n",
       "    </tr>\n",
       "    <tr>\n",
       "      <th>DBSCANLabel</th>\n",
       "      <th></th>\n",
       "      <th></th>\n",
       "      <th></th>\n",
       "      <th></th>\n",
       "    </tr>\n",
       "  </thead>\n",
       "  <tbody>\n",
       "    <tr>\n",
       "      <th>-1</th>\n",
       "      <td>146.0</td>\n",
       "      <td>1.0</td>\n",
       "      <td>22454.300</td>\n",
       "      <td>41</td>\n",
       "    </tr>\n",
       "    <tr>\n",
       "      <th>0</th>\n",
       "      <td>192.0</td>\n",
       "      <td>2.0</td>\n",
       "      <td>64958.700</td>\n",
       "      <td>7</td>\n",
       "    </tr>\n",
       "    <tr>\n",
       "      <th>1</th>\n",
       "      <td>75.0</td>\n",
       "      <td>2.0</td>\n",
       "      <td>69166.880</td>\n",
       "      <td>11</td>\n",
       "    </tr>\n",
       "    <tr>\n",
       "      <th>2</th>\n",
       "      <td>211.0</td>\n",
       "      <td>1.0</td>\n",
       "      <td>55570.600</td>\n",
       "      <td>9</td>\n",
       "    </tr>\n",
       "    <tr>\n",
       "      <th>3</th>\n",
       "      <td>201.5</td>\n",
       "      <td>1.0</td>\n",
       "      <td>30266.035</td>\n",
       "      <td>8</td>\n",
       "    </tr>\n",
       "    <tr>\n",
       "      <th>4</th>\n",
       "      <td>31.5</td>\n",
       "      <td>3.0</td>\n",
       "      <td>106047.075</td>\n",
       "      <td>8</td>\n",
       "    </tr>\n",
       "    <tr>\n",
       "      <th>5</th>\n",
       "      <td>470.5</td>\n",
       "      <td>0.0</td>\n",
       "      <td>0.000</td>\n",
       "      <td>8</td>\n",
       "    </tr>\n",
       "  </tbody>\n",
       "</table>\n",
       "</div>"
      ],
      "text/plain": [
       "             RECENCY_days  FREQUENCY_last_year  MONETARY_last_year   \n",
       "DBSCANLabel                                                          \n",
       "-1                  146.0                  1.0           22454.300  \\\n",
       " 0                  192.0                  2.0           64958.700   \n",
       " 1                   75.0                  2.0           69166.880   \n",
       " 2                  211.0                  1.0           55570.600   \n",
       " 3                  201.5                  1.0           30266.035   \n",
       " 4                   31.5                  3.0          106047.075   \n",
       " 5                  470.5                  0.0               0.000   \n",
       "\n",
       "             CustomersCount  \n",
       "DBSCANLabel                  \n",
       "-1                       41  \n",
       " 0                        7  \n",
       " 1                       11  \n",
       " 2                        9  \n",
       " 3                        8  \n",
       " 4                        8  \n",
       " 5                        8  "
      ]
     },
     "execution_count": 25,
     "metadata": {},
     "output_type": "execute_result"
    }
   ],
   "source": [
    "min_points = rfm_array_scaled.shape[1] + 1\n",
    "optics_clustering = OPTICS(min_samples=5).fit(rfm_array_scaled)\n",
    "customer_df = customer_df.assign(DBSCANLabel=optics_clustering.labels_)\n",
    "rfm_df_scaled = rfm_df_scaled.assign(DBSCANLabel=optics_clustering.labels_)\n",
    "\n",
    "fig = px.scatter_3d(\n",
    "    data_frame=rfm_df_scaled,\n",
    "    x= \"RECENCY_days\",\n",
    "    y = \"FREQUENCY_last_year\",\n",
    "    z= \"MONETARY_last_year\",\n",
    "    title = \"Relationship between RECENCY VS FREQUENCY VS MONETARY based on customer cluster\",\n",
    "    color = \"DBSCANLabel\",\n",
    "    height=500\n",
    ")\n",
    "fig.update_traces(marker_size = 4)\n",
    "fig.show()\n",
    "\n",
    "customer_clusters_summarize = customer_df.groupby(\"DBSCANLabel\")[[\"RECENCY_days\", \"FREQUENCY_last_year\", \"MONETARY_last_year\"]].median()\n",
    "customer_clusters_summarize.assign(CustomersCount=np.unique(optics_clustering.labels_, return_counts=True)[1])\n",
    "# np.unique(dbscan_clustering.labels_, return_counts=True)[1]\n"
   ]
  }
 ],
 "metadata": {
  "kernelspec": {
   "display_name": "Python 3",
   "language": "python",
   "name": "python3"
  },
  "language_info": {
   "codemirror_mode": {
    "name": "ipython",
    "version": 3
   },
   "file_extension": ".py",
   "mimetype": "text/x-python",
   "name": "python",
   "nbconvert_exporter": "python",
   "pygments_lexer": "ipython3",
   "version": "3.10.4"
  },
  "orig_nbformat": 4
 },
 "nbformat": 4,
 "nbformat_minor": 2
}
